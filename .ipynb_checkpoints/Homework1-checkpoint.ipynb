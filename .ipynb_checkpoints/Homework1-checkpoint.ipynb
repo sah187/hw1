{
 "cells": [
  {
   "cell_type": "markdown",
   "metadata": {
    "id": "v1jmdmhAjkHq"
   },
   "source": [
    "\n",
    "\n",
    "# Developing Fair Classifiers: A case study using COMPAS data"
   ]
  },
  {
   "cell_type": "markdown",
   "metadata": {
    "id": "l1fhIA_YjkHw"
   },
   "source": [
    "## Introduction"
   ]
  },
  {
   "cell_type": "markdown",
   "metadata": {
    "id": "8RKUzjX6jkHw"
   },
   "source": [
    "##### There are many different ways to measure fairness in AI. As such, there are many ways to adjust your AI models so that they better fit these fairness metrics. Here, you will examine this firsthand with the COMPAS dataset, which is a dataset that has been widely used to predict inmates' likelihood of recidivism (reoffense). First, you will run a simple classifier on this dataset and examine the results. Then, you will be asked how this classifier could be made more fair and, for extra credit, you can try implementing these changes yourself.\n"
   ]
  },
  {
   "cell_type": "markdown",
   "metadata": {
    "id": "VUSqhNCvjkHw"
   },
   "source": [
    "## Dataset exploration"
   ]
  },
  {
   "cell_type": "markdown",
   "metadata": {
    "id": "043ta_lx65N7"
   },
   "source": [
    "##### First, you will run the cells and answer the questions below in order to explore the contents of the dataset"
   ]
  },
  {
   "cell_type": "markdown",
   "metadata": {
    "id": "1_BVlQfdjkHw"
   },
   "source": [
    "### Imports"
   ]
  },
  {
   "cell_type": "code",
   "execution_count": 1,
   "metadata": {
    "id": "57JEWrz1jkHx"
   },
   "outputs": [
    {
     "name": "stdout",
     "output_type": "stream",
     "text": [
      "Requirement already satisfied: plotly in /Users/sajjadhussain/opt/anaconda3/lib/python3.8/site-packages (4.14.3)\n",
      "Requirement already satisfied: retrying>=1.3.3 in /Users/sajjadhussain/opt/anaconda3/lib/python3.8/site-packages (from plotly) (1.3.3)\n",
      "Requirement already satisfied: six in /Users/sajjadhussain/.local/lib/python3.8/site-packages (from plotly) (1.15.0)\n",
      "Requirement already satisfied: aif360==0.3.0 in /Users/sajjadhussain/opt/anaconda3/lib/python3.8/site-packages (0.3.0)\n",
      "Requirement already satisfied: scikit-learn>=0.21 in /Users/sajjadhussain/opt/anaconda3/lib/python3.8/site-packages (from aif360==0.3.0) (0.23.1)\n",
      "Requirement already satisfied: scipy>=1.2.0 in /Users/sajjadhussain/opt/anaconda3/lib/python3.8/site-packages (from aif360==0.3.0) (1.5.0)\n",
      "Requirement already satisfied: numpy>=1.16 in /Users/sajjadhussain/.local/lib/python3.8/site-packages (from aif360==0.3.0) (1.19.5)\n",
      "Requirement already satisfied: pandas>=0.24.0 in /Users/sajjadhussain/opt/anaconda3/lib/python3.8/site-packages (from aif360==0.3.0) (0.25.3)\n",
      "Requirement already satisfied: matplotlib in /Users/sajjadhussain/opt/anaconda3/lib/python3.8/site-packages (from aif360==0.3.0) (3.2.2)\n",
      "Requirement already satisfied: pytz>=2017.2 in /Users/sajjadhussain/opt/anaconda3/lib/python3.8/site-packages (from pandas>=0.24.0->aif360==0.3.0) (2019.3)\n",
      "Requirement already satisfied: python-dateutil>=2.6.1 in /Users/sajjadhussain/opt/anaconda3/lib/python3.8/site-packages (from pandas>=0.24.0->aif360==0.3.0) (2.8.1)\n",
      "Requirement already satisfied: six>=1.5 in /Users/sajjadhussain/.local/lib/python3.8/site-packages (from python-dateutil>=2.6.1->pandas>=0.24.0->aif360==0.3.0) (1.15.0)\n",
      "Requirement already satisfied: joblib>=0.11 in /Users/sajjadhussain/opt/anaconda3/lib/python3.8/site-packages (from scikit-learn>=0.21->aif360==0.3.0) (0.16.0)\n",
      "Requirement already satisfied: threadpoolctl>=2.0.0 in /Users/sajjadhussain/opt/anaconda3/lib/python3.8/site-packages (from scikit-learn>=0.21->aif360==0.3.0) (2.1.0)\n",
      "Requirement already satisfied: pyparsing!=2.0.4,!=2.1.2,!=2.1.6,>=2.0.1 in /Users/sajjadhussain/opt/anaconda3/lib/python3.8/site-packages (from matplotlib->aif360==0.3.0) (2.4.7)\n",
      "Requirement already satisfied: kiwisolver>=1.0.1 in /Users/sajjadhussain/opt/anaconda3/lib/python3.8/site-packages (from matplotlib->aif360==0.3.0) (1.2.0)\n",
      "Requirement already satisfied: cycler>=0.10 in /Users/sajjadhussain/opt/anaconda3/lib/python3.8/site-packages (from matplotlib->aif360==0.3.0) (0.10.0)\n"
     ]
    }
   ],
   "source": [
    "#uncomment these lines if you need to install either of these two packages\n",
    "\n",
    "!pip install plotly\n",
    "!pip install aif360==0.3.0"
   ]
  },
  {
   "cell_type": "code",
   "execution_count": 2,
   "metadata": {
    "id": "JbNBFnJvjkHy"
   },
   "outputs": [
    {
     "name": "stderr",
     "output_type": "stream",
     "text": [
      "WARNING:root:No module named 'numba.decorators': LFR will be unavailable. To install, run:\n",
      "pip install 'aif360[LFR]'\n"
     ]
    }
   ],
   "source": [
    "import urllib\n",
    "import urllib.request\n",
    "import os,sys\n",
    "import numpy as np\n",
    "import pandas as pd\n",
    "from functools import reduce\n",
    "pd.set_option('display.max_columns',None)\n",
    "from pprint import pprint\n",
    "import matplotlib.pyplot as plt\n",
    "import sklearn.metrics as performance\n",
    "from sklearn.preprocessing import scale\n",
    "from random import seed, shuffle\n",
    "from IPython.display import Markdown, display\n",
    "\n",
    "%matplotlib inline\n",
    "\n",
    "try:\n",
    "    import plotly.express as px\n",
    "    import plotly.figure_factory as ff\n",
    "    import plotly.io as pio\n",
    "    import plotly.graph_objects as go\n",
    "    pio.renderers.default = \"notebook_connected\" #change to \"colab\" if using Google Colab, or \"notebook\" if offline\n",
    "except ImportError as e:\n",
    "#     !conda install --yes --prefix {sys.prefix} -c plotly plotly-orca==1.2.1 psutil requests\n",
    "    print(\"plotly is not installed !! please install the package to be able to render plotly visualizations\")\n",
    "\n",
    "\n",
    "try:\n",
    "    from aif360.metrics import BinaryLabelDatasetMetric\n",
    "    from aif360.metrics import ClassificationMetric\n",
    "    from aif360.metrics.utils import compute_boolean_conditioning_vector\n",
    "    from aif360.algorithms.postprocessing.calibrated_eq_odds_postprocessing import CalibratedEqOddsPostprocessing\n",
    "\n",
    "    from aif360.algorithms.preprocessing.optim_preproc_helpers.data_preproc_functions\\\n",
    "                    import load_preproc_data_compas\n",
    "    \n",
    "except ImportError as e:\n",
    "    print('please install aif360 package to proceed with the fairness section')\n",
    "    \n"
   ]
  },
  {
   "cell_type": "markdown",
   "metadata": {
    "id": "vM-K4B-FjkHy"
   },
   "source": [
    "### Setting up visualization properties"
   ]
  },
  {
   "cell_type": "code",
   "execution_count": 3,
   "metadata": {
    "id": "G1DOUO0gjkHy",
    "scrolled": true
   },
   "outputs": [
    {
     "data": {
      "text/plain": [
       "<Figure size 720x432 with 0 Axes>"
      ]
     },
     "metadata": {},
     "output_type": "display_data"
    }
   ],
   "source": [
    "SMALL_SIZE = 8\n",
    "MEDIUM_SIZE = 10\n",
    "BIGGER_SIZE = 12\n",
    "fig=plt.figure(figsize=(10,6))\n",
    "plt.rc('font', size=SMALL_SIZE)          # controls default text sizes\n",
    "plt.rc('axes', titlesize=MEDIUM_SIZE)     # fontsize of the axes title\n",
    "plt.rc('axes', labelsize=14)    # fontsize of the x and y labels\n",
    "plt.rc('xtick', labelsize=SMALL_SIZE)    # fontsize of the tick labels\n",
    "plt.rc('ytick', labelsize=SMALL_SIZE)    # fontsize of the tick labels\n",
    "plt.rc('legend', fontsize=SMALL_SIZE)    # legend fontsize\n",
    "plt.rc('figure', titlesize=BIGGER_SIZE)  # fontsize of the figure title\n",
    "\n"
   ]
  },
  {
   "cell_type": "markdown",
   "metadata": {
    "id": "dfjK9V_tjkH1"
   },
   "source": [
    "### UTILS"
   ]
  },
  {
   "cell_type": "code",
   "execution_count": 4,
   "metadata": {
    "id": "3nX5ZHNHjkH2"
   },
   "outputs": [],
   "source": [
    "def hist(column_name, x):\n",
    "    '''\n",
    "    helper function to plot historgram for a dataframe \n",
    "    '''\n",
    "    return px.histogram(column_name, x = x,\n",
    "                       title = x,\n",
    "                       opacity = 0.8,\n",
    "                       color_discrete_sequence = ['indianred'])\n",
    "def plot_roc(fpr,tpr,thresholds=None,label=None):\n",
    "    '''\n",
    "    plot roc curve for multiple instances.\n",
    "    '''\n",
    "    \n",
    "    colors = ['red','blue','aqua', 'darkorange', 'cornflowerblue', 'burlywood', 'lightsalmon', 'olive']\n",
    "\n",
    "    plt.figure(figsize=(12,8))\n",
    "    lw = 2\n",
    "    for i in range(len(fpr)):\n",
    "        plt.plot(fpr[i], tpr[i], color=colors[i],label=label[i],\n",
    "             lw=lw)\n",
    "        \n",
    "     \n",
    "    plt.plot([0, 1], [0, 1], color='black', lw=lw, linestyle='--')\n",
    "      \n",
    "    plt.xlabel('False Positive Rate')\n",
    "    plt.ylabel('True Positive Rate')\n",
    "    plt.title('ROC Curves of attributes ')\n",
    "    plt.xlim([0.0, 1.0])\n",
    "    plt.ylim([0.0, 1.05])\n",
    "    plt.legend(loc=\"lower right\")\n",
    "    plt.show()\n",
    "\n",
    "\n",
    "#for each race/decile pair, calculate stats for recidivism\n",
    "def recid_count_fn(df_recid_column):\n",
    "    \"\"\" Computes the total number of examples in which recidivism occurred.\n",
    "        Parameters:\n",
    "            df_recid_column: DataFrame column where each row takes value 1 if\n",
    "            recidivism occured, and 0 if recidivism did not occur.\n",
    "        Returns:\n",
    "            The total number of examples in which recidivism occurred.\n",
    "    \"\"\"\n",
    "    recid_count = df_recid_column.sum()\n",
    "    return recid_count\n",
    "\n",
    "def non_recid_count_fn(df_recid_column):\n",
    "    \"\"\"Computes the total number of examples in which recidivism did not occur.\n",
    "    Parameters:\n",
    "        df_recid_column: dataframe column where each row takes value 1 if\n",
    "        recidivism occured, and 0 if recidivism did not occur.\n",
    "    Returns:\n",
    "        The total number of examples in which recidivism did not occur.\n",
    "    \"\"\"\n",
    "    non_recid_count = sum(df_recid_column == 0) \n",
    "    return non_recid_count\n",
    "\n",
    "def total_count_fn(df_recid_column):\n",
    "    \"\"\"Computes the total number of examples in the dataset.\n",
    "    Parameters:\n",
    "        df_recid_column: dataframe column where each row takes value 1 if\n",
    "        recidivism occured, and 0 if recidivism did not occur.\n",
    "    Returns:\n",
    "        The total number of examples in the dataset.\n",
    "    \"\"\"\n",
    "    total_count = df_recid_column.count()\n",
    "    return total_count\n",
    "\n",
    "\n",
    "#compute the classifier outcomes for different decision thresholds (using summary DataFrame above)\n",
    "#often in statistics, we can express the probabilities in the introduction in terms of true positive rate, \n",
    "#true negative rate, false positive rate, and false negative rate\n",
    "def TP(compas_stats_df):\n",
    "    \"\"\"\n",
    "        Args:\n",
    "            compas_stats_df: DataFrame found above\n",
    "        Returns:\n",
    "            An array of the number of true positives for each decile_score. We classify an example as 1 if \n",
    "            that example's score is equal to or above the decision threshold. Take recid_count. \n",
    "    \"\"\"\n",
    "    TPs = []\n",
    "    for threshold in compas_stats_df['decile_score']:\n",
    "        x = compas_stats_df[compas_stats_df['decile_score'] >= threshold]['recid_count'].sum()\n",
    "        true_positives = x\n",
    "        TPs.append(true_positives)\n",
    "    return np.array(TPs, dtype=np.int32)\n",
    "\n",
    "def FP(compas_stats_df):\n",
    "    \"\"\"\n",
    "        Args:\n",
    "            compas_stats_df: DataFrame found above\n",
    "        Returns:\n",
    "            An array of the number of false positives for each decile_score. We classify an example as 1 if \n",
    "            that example's score is equal to or above the decision threshold. Take non_recid_count. \n",
    "    \"\"\"\n",
    "    FPs = []\n",
    "    for threshold in compas_stats_df['decile_score']:\n",
    "        x = compas_stats_df[compas_stats_df['decile_score'] >= threshold]['non_recid_count'].sum()\n",
    "        false_positives = x\n",
    "        FPs.append(false_positives)\n",
    "    return np.array(FPs, dtype=np.int32)\n",
    "\n",
    "def TN(compas_stats_df):\n",
    "    \"\"\"\n",
    "        Args:\n",
    "            compas_stats_df: DataFrame found above\n",
    "        Returns:\n",
    "            An array of the number of true negatives for each decile_score. We classify an example as 1 if \n",
    "            that example's score less than the decision threshold. Take non_recid_count. \n",
    "    \"\"\"\n",
    "    TNs = []\n",
    "    for threshold in compas_stats_df['decile_score']:\n",
    "        x = compas_stats_df[compas_stats_df['decile_score'] < threshold]['non_recid_count'].sum()\n",
    "        true_negatives = x\n",
    "        TNs.append(true_negatives)\n",
    "    return np.array(TNs, dtype=np.int32)\n",
    "\n",
    "def FN(compas_stats_df):\n",
    "    \"\"\"\n",
    "        Args:\n",
    "            compas_stats_df: DataFrame found above\n",
    "        Returns:\n",
    "            An array of the number of true positives for each decile_score. We classify an example as 1 if \n",
    "            that example's score is equal to or above the decision threshold. Take recid_count. \n",
    "    \"\"\"\n",
    "    FNs = []\n",
    "    for threshold in compas_stats_df['decile_score']:\n",
    "        x = compas_stats_df[compas_stats_df['decile_score'] < threshold]['recid_count'].sum()\n",
    "        false_negatives = x\n",
    "        FNs.append(false_negatives)\n",
    "    return np.array(FNs, dtype=np.int32)\n",
    "\n"
   ]
  },
  {
   "cell_type": "markdown",
   "metadata": {
    "id": "r3wdcXNYjkH2"
   },
   "source": [
    "### Download data file and dependency files"
   ]
  },
  {
   "cell_type": "code",
   "execution_count": 5,
   "metadata": {
    "id": "0iONiuLnjkH2"
   },
   "outputs": [
    {
     "name": "stdout",
     "output_type": "stream",
     "text": [
      "Looking for file compas-scores-two-years.csv in the current directory...\n",
      "File found in current directory..\n"
     ]
    }
   ],
   "source": [
    "SEED = 1234\n",
    "seed(SEED)\n",
    "np.random.seed(SEED)\n",
    "\n",
    "def check_data_file(fname):\n",
    "    files = os.listdir(\".\") # get the current directory listing\n",
    "    print(\"Looking for file %s in the current directory...\" % (fname))\n",
    "\n",
    "    if fname not in files:\n",
    "        print(\" %s not found! Downloading from GitHub...\" % fname)\n",
    "        addr = \"https://raw.githubusercontent.com/propublica/compas-analysis/master/compas-scores-two-years.csv\"\n",
    "        response = urllib.request.urlopen(addr)\n",
    "        data = response.read()\n",
    "        fileOut = open(fname, \"wb\")\n",
    "        fileOut.write(data)\n",
    "        fileOut.close()\n",
    "        print(\"%s download and saved locally..\" % fname)\n",
    "    else:\n",
    "        print(\"File found in current directory..\")\n",
    "    \n",
    "COMPAS_INPUT_FILE = \"compas-scores-two-years.csv\"\n",
    "check_data_file(COMPAS_INPUT_FILE)  "
   ]
  },
  {
   "cell_type": "markdown",
   "metadata": {
    "heading_collapsed": true,
    "id": "J1AOWe3EjkH3"
   },
   "source": [
    "### Load and clean data"
   ]
  },
  {
   "cell_type": "code",
   "execution_count": 6,
   "metadata": {
    "hidden": true,
    "id": "DwTsFy-DjkH3"
   },
   "outputs": [],
   "source": [
    "dataset = pd.read_csv(COMPAS_INPUT_FILE)\n",
    "\n",
    "dataset = dataset.dropna(subset=[\"days_b_screening_arrest\"]) # dropping missing vals\n",
    "\n",
    "dataset = dataset[ (dataset.days_b_screening_arrest <= 30) &\n",
    "(dataset.days_b_screening_arrest >= -30) &\n",
    "(dataset.is_recid != -1) & (dataset.c_charge_degree != 'O') & (dataset.score_text != 'N/A') ]\n",
    "\n",
    "dataset.reset_index(inplace=True, drop=True) # renumber the rows from 0 again"
   ]
  },
  {
   "cell_type": "code",
   "execution_count": 7,
   "metadata": {
    "hidden": true,
    "id": "GRkkfYKAjkH3",
    "scrolled": false
   },
   "outputs": [
    {
     "data": {
      "text/html": [
       "<div>\n",
       "<style scoped>\n",
       "    .dataframe tbody tr th:only-of-type {\n",
       "        vertical-align: middle;\n",
       "    }\n",
       "\n",
       "    .dataframe tbody tr th {\n",
       "        vertical-align: top;\n",
       "    }\n",
       "\n",
       "    .dataframe thead th {\n",
       "        text-align: right;\n",
       "    }\n",
       "</style>\n",
       "<table border=\"1\" class=\"dataframe\">\n",
       "  <thead>\n",
       "    <tr style=\"text-align: right;\">\n",
       "      <th></th>\n",
       "      <th>id</th>\n",
       "      <th>name</th>\n",
       "      <th>first</th>\n",
       "      <th>last</th>\n",
       "      <th>compas_screening_date</th>\n",
       "      <th>sex</th>\n",
       "      <th>dob</th>\n",
       "      <th>age</th>\n",
       "      <th>age_cat</th>\n",
       "      <th>race</th>\n",
       "      <th>juv_fel_count</th>\n",
       "      <th>decile_score</th>\n",
       "      <th>juv_misd_count</th>\n",
       "      <th>juv_other_count</th>\n",
       "      <th>priors_count</th>\n",
       "      <th>days_b_screening_arrest</th>\n",
       "      <th>c_jail_in</th>\n",
       "      <th>c_jail_out</th>\n",
       "      <th>c_case_number</th>\n",
       "      <th>c_offense_date</th>\n",
       "      <th>c_arrest_date</th>\n",
       "      <th>c_days_from_compas</th>\n",
       "      <th>c_charge_degree</th>\n",
       "      <th>c_charge_desc</th>\n",
       "      <th>is_recid</th>\n",
       "      <th>r_case_number</th>\n",
       "      <th>r_charge_degree</th>\n",
       "      <th>r_days_from_arrest</th>\n",
       "      <th>r_offense_date</th>\n",
       "      <th>r_charge_desc</th>\n",
       "      <th>r_jail_in</th>\n",
       "      <th>r_jail_out</th>\n",
       "      <th>violent_recid</th>\n",
       "      <th>is_violent_recid</th>\n",
       "      <th>vr_case_number</th>\n",
       "      <th>vr_charge_degree</th>\n",
       "      <th>vr_offense_date</th>\n",
       "      <th>vr_charge_desc</th>\n",
       "      <th>type_of_assessment</th>\n",
       "      <th>decile_score.1</th>\n",
       "      <th>score_text</th>\n",
       "      <th>screening_date</th>\n",
       "      <th>v_type_of_assessment</th>\n",
       "      <th>v_decile_score</th>\n",
       "      <th>v_score_text</th>\n",
       "      <th>v_screening_date</th>\n",
       "      <th>in_custody</th>\n",
       "      <th>out_custody</th>\n",
       "      <th>priors_count.1</th>\n",
       "      <th>start</th>\n",
       "      <th>end</th>\n",
       "      <th>event</th>\n",
       "      <th>two_year_recid</th>\n",
       "    </tr>\n",
       "  </thead>\n",
       "  <tbody>\n",
       "    <tr>\n",
       "      <th>0</th>\n",
       "      <td>1</td>\n",
       "      <td>miguel hernandez</td>\n",
       "      <td>miguel</td>\n",
       "      <td>hernandez</td>\n",
       "      <td>2013-08-14</td>\n",
       "      <td>Male</td>\n",
       "      <td>1947-04-18</td>\n",
       "      <td>69</td>\n",
       "      <td>Greater than 45</td>\n",
       "      <td>Other</td>\n",
       "      <td>0</td>\n",
       "      <td>1</td>\n",
       "      <td>0</td>\n",
       "      <td>0</td>\n",
       "      <td>0</td>\n",
       "      <td>-1.0</td>\n",
       "      <td>2013-08-13 06:03:42</td>\n",
       "      <td>2013-08-14 05:41:20</td>\n",
       "      <td>13011352CF10A</td>\n",
       "      <td>2013-08-13</td>\n",
       "      <td>NaN</td>\n",
       "      <td>1.0</td>\n",
       "      <td>F</td>\n",
       "      <td>Aggravated Assault w/Firearm</td>\n",
       "      <td>0</td>\n",
       "      <td>NaN</td>\n",
       "      <td>NaN</td>\n",
       "      <td>NaN</td>\n",
       "      <td>NaN</td>\n",
       "      <td>NaN</td>\n",
       "      <td>NaN</td>\n",
       "      <td>NaN</td>\n",
       "      <td>NaN</td>\n",
       "      <td>0</td>\n",
       "      <td>NaN</td>\n",
       "      <td>NaN</td>\n",
       "      <td>NaN</td>\n",
       "      <td>NaN</td>\n",
       "      <td>Risk of Recidivism</td>\n",
       "      <td>1</td>\n",
       "      <td>Low</td>\n",
       "      <td>2013-08-14</td>\n",
       "      <td>Risk of Violence</td>\n",
       "      <td>1</td>\n",
       "      <td>Low</td>\n",
       "      <td>2013-08-14</td>\n",
       "      <td>2014-07-07</td>\n",
       "      <td>2014-07-14</td>\n",
       "      <td>0</td>\n",
       "      <td>0</td>\n",
       "      <td>327</td>\n",
       "      <td>0</td>\n",
       "      <td>0</td>\n",
       "    </tr>\n",
       "    <tr>\n",
       "      <th>1</th>\n",
       "      <td>3</td>\n",
       "      <td>kevon dixon</td>\n",
       "      <td>kevon</td>\n",
       "      <td>dixon</td>\n",
       "      <td>2013-01-27</td>\n",
       "      <td>Male</td>\n",
       "      <td>1982-01-22</td>\n",
       "      <td>34</td>\n",
       "      <td>25 - 45</td>\n",
       "      <td>African-American</td>\n",
       "      <td>0</td>\n",
       "      <td>3</td>\n",
       "      <td>0</td>\n",
       "      <td>0</td>\n",
       "      <td>0</td>\n",
       "      <td>-1.0</td>\n",
       "      <td>2013-01-26 03:45:27</td>\n",
       "      <td>2013-02-05 05:36:53</td>\n",
       "      <td>13001275CF10A</td>\n",
       "      <td>2013-01-26</td>\n",
       "      <td>NaN</td>\n",
       "      <td>1.0</td>\n",
       "      <td>F</td>\n",
       "      <td>Felony Battery w/Prior Convict</td>\n",
       "      <td>1</td>\n",
       "      <td>13009779CF10A</td>\n",
       "      <td>(F3)</td>\n",
       "      <td>NaN</td>\n",
       "      <td>2013-07-05</td>\n",
       "      <td>Felony Battery (Dom Strang)</td>\n",
       "      <td>NaN</td>\n",
       "      <td>NaN</td>\n",
       "      <td>NaN</td>\n",
       "      <td>1</td>\n",
       "      <td>13009779CF10A</td>\n",
       "      <td>(F3)</td>\n",
       "      <td>2013-07-05</td>\n",
       "      <td>Felony Battery (Dom Strang)</td>\n",
       "      <td>Risk of Recidivism</td>\n",
       "      <td>3</td>\n",
       "      <td>Low</td>\n",
       "      <td>2013-01-27</td>\n",
       "      <td>Risk of Violence</td>\n",
       "      <td>1</td>\n",
       "      <td>Low</td>\n",
       "      <td>2013-01-27</td>\n",
       "      <td>2013-01-26</td>\n",
       "      <td>2013-02-05</td>\n",
       "      <td>0</td>\n",
       "      <td>9</td>\n",
       "      <td>159</td>\n",
       "      <td>1</td>\n",
       "      <td>1</td>\n",
       "    </tr>\n",
       "    <tr>\n",
       "      <th>2</th>\n",
       "      <td>4</td>\n",
       "      <td>ed philo</td>\n",
       "      <td>ed</td>\n",
       "      <td>philo</td>\n",
       "      <td>2013-04-14</td>\n",
       "      <td>Male</td>\n",
       "      <td>1991-05-14</td>\n",
       "      <td>24</td>\n",
       "      <td>Less than 25</td>\n",
       "      <td>African-American</td>\n",
       "      <td>0</td>\n",
       "      <td>4</td>\n",
       "      <td>0</td>\n",
       "      <td>1</td>\n",
       "      <td>4</td>\n",
       "      <td>-1.0</td>\n",
       "      <td>2013-04-13 04:58:34</td>\n",
       "      <td>2013-04-14 07:02:04</td>\n",
       "      <td>13005330CF10A</td>\n",
       "      <td>2013-04-13</td>\n",
       "      <td>NaN</td>\n",
       "      <td>1.0</td>\n",
       "      <td>F</td>\n",
       "      <td>Possession of Cocaine</td>\n",
       "      <td>1</td>\n",
       "      <td>13011511MM10A</td>\n",
       "      <td>(M1)</td>\n",
       "      <td>0.0</td>\n",
       "      <td>2013-06-16</td>\n",
       "      <td>Driving Under The Influence</td>\n",
       "      <td>2013-06-16</td>\n",
       "      <td>2013-06-16</td>\n",
       "      <td>NaN</td>\n",
       "      <td>0</td>\n",
       "      <td>NaN</td>\n",
       "      <td>NaN</td>\n",
       "      <td>NaN</td>\n",
       "      <td>NaN</td>\n",
       "      <td>Risk of Recidivism</td>\n",
       "      <td>4</td>\n",
       "      <td>Low</td>\n",
       "      <td>2013-04-14</td>\n",
       "      <td>Risk of Violence</td>\n",
       "      <td>3</td>\n",
       "      <td>Low</td>\n",
       "      <td>2013-04-14</td>\n",
       "      <td>2013-06-16</td>\n",
       "      <td>2013-06-16</td>\n",
       "      <td>4</td>\n",
       "      <td>0</td>\n",
       "      <td>63</td>\n",
       "      <td>0</td>\n",
       "      <td>1</td>\n",
       "    </tr>\n",
       "    <tr>\n",
       "      <th>3</th>\n",
       "      <td>7</td>\n",
       "      <td>marsha miles</td>\n",
       "      <td>marsha</td>\n",
       "      <td>miles</td>\n",
       "      <td>2013-11-30</td>\n",
       "      <td>Male</td>\n",
       "      <td>1971-08-22</td>\n",
       "      <td>44</td>\n",
       "      <td>25 - 45</td>\n",
       "      <td>Other</td>\n",
       "      <td>0</td>\n",
       "      <td>1</td>\n",
       "      <td>0</td>\n",
       "      <td>0</td>\n",
       "      <td>0</td>\n",
       "      <td>0.0</td>\n",
       "      <td>2013-11-30 04:50:18</td>\n",
       "      <td>2013-12-01 12:28:56</td>\n",
       "      <td>13022355MM10A</td>\n",
       "      <td>2013-11-30</td>\n",
       "      <td>NaN</td>\n",
       "      <td>0.0</td>\n",
       "      <td>M</td>\n",
       "      <td>Battery</td>\n",
       "      <td>0</td>\n",
       "      <td>NaN</td>\n",
       "      <td>NaN</td>\n",
       "      <td>NaN</td>\n",
       "      <td>NaN</td>\n",
       "      <td>NaN</td>\n",
       "      <td>NaN</td>\n",
       "      <td>NaN</td>\n",
       "      <td>NaN</td>\n",
       "      <td>0</td>\n",
       "      <td>NaN</td>\n",
       "      <td>NaN</td>\n",
       "      <td>NaN</td>\n",
       "      <td>NaN</td>\n",
       "      <td>Risk of Recidivism</td>\n",
       "      <td>1</td>\n",
       "      <td>Low</td>\n",
       "      <td>2013-11-30</td>\n",
       "      <td>Risk of Violence</td>\n",
       "      <td>1</td>\n",
       "      <td>Low</td>\n",
       "      <td>2013-11-30</td>\n",
       "      <td>2013-11-30</td>\n",
       "      <td>2013-12-01</td>\n",
       "      <td>0</td>\n",
       "      <td>1</td>\n",
       "      <td>853</td>\n",
       "      <td>0</td>\n",
       "      <td>0</td>\n",
       "    </tr>\n",
       "    <tr>\n",
       "      <th>4</th>\n",
       "      <td>8</td>\n",
       "      <td>edward riddle</td>\n",
       "      <td>edward</td>\n",
       "      <td>riddle</td>\n",
       "      <td>2014-02-19</td>\n",
       "      <td>Male</td>\n",
       "      <td>1974-07-23</td>\n",
       "      <td>41</td>\n",
       "      <td>25 - 45</td>\n",
       "      <td>Caucasian</td>\n",
       "      <td>0</td>\n",
       "      <td>6</td>\n",
       "      <td>0</td>\n",
       "      <td>0</td>\n",
       "      <td>14</td>\n",
       "      <td>-1.0</td>\n",
       "      <td>2014-02-18 05:08:24</td>\n",
       "      <td>2014-02-24 12:18:30</td>\n",
       "      <td>14002304CF10A</td>\n",
       "      <td>2014-02-18</td>\n",
       "      <td>NaN</td>\n",
       "      <td>1.0</td>\n",
       "      <td>F</td>\n",
       "      <td>Possession Burglary Tools</td>\n",
       "      <td>1</td>\n",
       "      <td>14004485CF10A</td>\n",
       "      <td>(F2)</td>\n",
       "      <td>0.0</td>\n",
       "      <td>2014-03-31</td>\n",
       "      <td>Poss of Firearm by Convic Felo</td>\n",
       "      <td>2014-03-31</td>\n",
       "      <td>2014-04-18</td>\n",
       "      <td>NaN</td>\n",
       "      <td>0</td>\n",
       "      <td>NaN</td>\n",
       "      <td>NaN</td>\n",
       "      <td>NaN</td>\n",
       "      <td>NaN</td>\n",
       "      <td>Risk of Recidivism</td>\n",
       "      <td>6</td>\n",
       "      <td>Medium</td>\n",
       "      <td>2014-02-19</td>\n",
       "      <td>Risk of Violence</td>\n",
       "      <td>2</td>\n",
       "      <td>Low</td>\n",
       "      <td>2014-02-19</td>\n",
       "      <td>2014-03-31</td>\n",
       "      <td>2014-04-18</td>\n",
       "      <td>14</td>\n",
       "      <td>5</td>\n",
       "      <td>40</td>\n",
       "      <td>1</td>\n",
       "      <td>1</td>\n",
       "    </tr>\n",
       "    <tr>\n",
       "      <th>5</th>\n",
       "      <td>9</td>\n",
       "      <td>steven stewart</td>\n",
       "      <td>steven</td>\n",
       "      <td>stewart</td>\n",
       "      <td>2013-08-30</td>\n",
       "      <td>Male</td>\n",
       "      <td>1973-02-25</td>\n",
       "      <td>43</td>\n",
       "      <td>25 - 45</td>\n",
       "      <td>Other</td>\n",
       "      <td>0</td>\n",
       "      <td>4</td>\n",
       "      <td>0</td>\n",
       "      <td>0</td>\n",
       "      <td>3</td>\n",
       "      <td>-1.0</td>\n",
       "      <td>2013-08-29 08:55:23</td>\n",
       "      <td>2013-08-30 08:42:13</td>\n",
       "      <td>13012216CF10A</td>\n",
       "      <td>NaN</td>\n",
       "      <td>2013-08-29</td>\n",
       "      <td>1.0</td>\n",
       "      <td>F</td>\n",
       "      <td>arrest case no charge</td>\n",
       "      <td>0</td>\n",
       "      <td>NaN</td>\n",
       "      <td>NaN</td>\n",
       "      <td>NaN</td>\n",
       "      <td>NaN</td>\n",
       "      <td>NaN</td>\n",
       "      <td>NaN</td>\n",
       "      <td>NaN</td>\n",
       "      <td>NaN</td>\n",
       "      <td>0</td>\n",
       "      <td>NaN</td>\n",
       "      <td>NaN</td>\n",
       "      <td>NaN</td>\n",
       "      <td>NaN</td>\n",
       "      <td>Risk of Recidivism</td>\n",
       "      <td>4</td>\n",
       "      <td>Low</td>\n",
       "      <td>2013-08-30</td>\n",
       "      <td>Risk of Violence</td>\n",
       "      <td>3</td>\n",
       "      <td>Low</td>\n",
       "      <td>2013-08-30</td>\n",
       "      <td>2014-05-22</td>\n",
       "      <td>2014-06-03</td>\n",
       "      <td>3</td>\n",
       "      <td>0</td>\n",
       "      <td>265</td>\n",
       "      <td>0</td>\n",
       "      <td>0</td>\n",
       "    </tr>\n",
       "    <tr>\n",
       "      <th>6</th>\n",
       "      <td>10</td>\n",
       "      <td>elizabeth thieme</td>\n",
       "      <td>elizabeth</td>\n",
       "      <td>thieme</td>\n",
       "      <td>2014-03-16</td>\n",
       "      <td>Female</td>\n",
       "      <td>1976-06-03</td>\n",
       "      <td>39</td>\n",
       "      <td>25 - 45</td>\n",
       "      <td>Caucasian</td>\n",
       "      <td>0</td>\n",
       "      <td>1</td>\n",
       "      <td>0</td>\n",
       "      <td>0</td>\n",
       "      <td>0</td>\n",
       "      <td>-1.0</td>\n",
       "      <td>2014-03-15 05:35:34</td>\n",
       "      <td>2014-03-18 04:28:46</td>\n",
       "      <td>14004524MM10A</td>\n",
       "      <td>2014-03-15</td>\n",
       "      <td>NaN</td>\n",
       "      <td>1.0</td>\n",
       "      <td>M</td>\n",
       "      <td>Battery</td>\n",
       "      <td>0</td>\n",
       "      <td>NaN</td>\n",
       "      <td>NaN</td>\n",
       "      <td>NaN</td>\n",
       "      <td>NaN</td>\n",
       "      <td>NaN</td>\n",
       "      <td>NaN</td>\n",
       "      <td>NaN</td>\n",
       "      <td>NaN</td>\n",
       "      <td>0</td>\n",
       "      <td>NaN</td>\n",
       "      <td>NaN</td>\n",
       "      <td>NaN</td>\n",
       "      <td>NaN</td>\n",
       "      <td>Risk of Recidivism</td>\n",
       "      <td>1</td>\n",
       "      <td>Low</td>\n",
       "      <td>2014-03-16</td>\n",
       "      <td>Risk of Violence</td>\n",
       "      <td>1</td>\n",
       "      <td>Low</td>\n",
       "      <td>2014-03-16</td>\n",
       "      <td>2014-03-15</td>\n",
       "      <td>2014-03-18</td>\n",
       "      <td>0</td>\n",
       "      <td>2</td>\n",
       "      <td>747</td>\n",
       "      <td>0</td>\n",
       "      <td>0</td>\n",
       "    </tr>\n",
       "    <tr>\n",
       "      <th>7</th>\n",
       "      <td>14</td>\n",
       "      <td>benjamin franc</td>\n",
       "      <td>benjamin</td>\n",
       "      <td>franc</td>\n",
       "      <td>2013-11-26</td>\n",
       "      <td>Male</td>\n",
       "      <td>1988-06-01</td>\n",
       "      <td>27</td>\n",
       "      <td>25 - 45</td>\n",
       "      <td>Caucasian</td>\n",
       "      <td>0</td>\n",
       "      <td>4</td>\n",
       "      <td>0</td>\n",
       "      <td>0</td>\n",
       "      <td>0</td>\n",
       "      <td>-1.0</td>\n",
       "      <td>2013-11-25 06:31:06</td>\n",
       "      <td>2013-11-26 08:26:57</td>\n",
       "      <td>13016402CF10A</td>\n",
       "      <td>2013-11-25</td>\n",
       "      <td>NaN</td>\n",
       "      <td>1.0</td>\n",
       "      <td>F</td>\n",
       "      <td>Poss 3,4 MDMA (Ecstasy)</td>\n",
       "      <td>0</td>\n",
       "      <td>NaN</td>\n",
       "      <td>NaN</td>\n",
       "      <td>NaN</td>\n",
       "      <td>NaN</td>\n",
       "      <td>NaN</td>\n",
       "      <td>NaN</td>\n",
       "      <td>NaN</td>\n",
       "      <td>NaN</td>\n",
       "      <td>0</td>\n",
       "      <td>NaN</td>\n",
       "      <td>NaN</td>\n",
       "      <td>NaN</td>\n",
       "      <td>NaN</td>\n",
       "      <td>Risk of Recidivism</td>\n",
       "      <td>4</td>\n",
       "      <td>Low</td>\n",
       "      <td>2013-11-26</td>\n",
       "      <td>Risk of Violence</td>\n",
       "      <td>4</td>\n",
       "      <td>Low</td>\n",
       "      <td>2013-11-26</td>\n",
       "      <td>2013-11-25</td>\n",
       "      <td>2013-11-26</td>\n",
       "      <td>0</td>\n",
       "      <td>0</td>\n",
       "      <td>857</td>\n",
       "      <td>0</td>\n",
       "      <td>0</td>\n",
       "    </tr>\n",
       "    <tr>\n",
       "      <th>8</th>\n",
       "      <td>15</td>\n",
       "      <td>ellyaher lanza</td>\n",
       "      <td>ellyaher</td>\n",
       "      <td>lanza</td>\n",
       "      <td>2013-10-03</td>\n",
       "      <td>Male</td>\n",
       "      <td>1992-08-18</td>\n",
       "      <td>23</td>\n",
       "      <td>Less than 25</td>\n",
       "      <td>African-American</td>\n",
       "      <td>0</td>\n",
       "      <td>6</td>\n",
       "      <td>0</td>\n",
       "      <td>0</td>\n",
       "      <td>3</td>\n",
       "      <td>0.0</td>\n",
       "      <td>2013-10-03 04:07:35</td>\n",
       "      <td>2013-10-07 08:17:30</td>\n",
       "      <td>13018837MM10A</td>\n",
       "      <td>2013-10-03</td>\n",
       "      <td>NaN</td>\n",
       "      <td>0.0</td>\n",
       "      <td>M</td>\n",
       "      <td>Battery</td>\n",
       "      <td>1</td>\n",
       "      <td>14010414TC40A</td>\n",
       "      <td>(M2)</td>\n",
       "      <td>NaN</td>\n",
       "      <td>2014-02-08</td>\n",
       "      <td>Driving License Suspended</td>\n",
       "      <td>NaN</td>\n",
       "      <td>NaN</td>\n",
       "      <td>NaN</td>\n",
       "      <td>0</td>\n",
       "      <td>NaN</td>\n",
       "      <td>NaN</td>\n",
       "      <td>NaN</td>\n",
       "      <td>NaN</td>\n",
       "      <td>Risk of Recidivism</td>\n",
       "      <td>6</td>\n",
       "      <td>Medium</td>\n",
       "      <td>2013-10-03</td>\n",
       "      <td>Risk of Violence</td>\n",
       "      <td>4</td>\n",
       "      <td>Low</td>\n",
       "      <td>2013-10-03</td>\n",
       "      <td>2013-10-03</td>\n",
       "      <td>2013-10-07</td>\n",
       "      <td>3</td>\n",
       "      <td>4</td>\n",
       "      <td>128</td>\n",
       "      <td>1</td>\n",
       "      <td>1</td>\n",
       "    </tr>\n",
       "    <tr>\n",
       "      <th>9</th>\n",
       "      <td>16</td>\n",
       "      <td>kortney coleman</td>\n",
       "      <td>kortney</td>\n",
       "      <td>coleman</td>\n",
       "      <td>2013-01-01</td>\n",
       "      <td>Female</td>\n",
       "      <td>1978-08-22</td>\n",
       "      <td>37</td>\n",
       "      <td>25 - 45</td>\n",
       "      <td>Caucasian</td>\n",
       "      <td>0</td>\n",
       "      <td>1</td>\n",
       "      <td>0</td>\n",
       "      <td>0</td>\n",
       "      <td>0</td>\n",
       "      <td>0.0</td>\n",
       "      <td>2013-01-01 03:28:03</td>\n",
       "      <td>2013-01-02 01:12:19</td>\n",
       "      <td>13000053MM10A</td>\n",
       "      <td>2013-01-01</td>\n",
       "      <td>NaN</td>\n",
       "      <td>0.0</td>\n",
       "      <td>M</td>\n",
       "      <td>Battery</td>\n",
       "      <td>0</td>\n",
       "      <td>NaN</td>\n",
       "      <td>NaN</td>\n",
       "      <td>NaN</td>\n",
       "      <td>NaN</td>\n",
       "      <td>NaN</td>\n",
       "      <td>NaN</td>\n",
       "      <td>NaN</td>\n",
       "      <td>NaN</td>\n",
       "      <td>0</td>\n",
       "      <td>NaN</td>\n",
       "      <td>NaN</td>\n",
       "      <td>NaN</td>\n",
       "      <td>NaN</td>\n",
       "      <td>Risk of Recidivism</td>\n",
       "      <td>1</td>\n",
       "      <td>Low</td>\n",
       "      <td>2013-01-01</td>\n",
       "      <td>Risk of Violence</td>\n",
       "      <td>1</td>\n",
       "      <td>Low</td>\n",
       "      <td>2013-01-01</td>\n",
       "      <td>2013-01-01</td>\n",
       "      <td>2013-01-02</td>\n",
       "      <td>0</td>\n",
       "      <td>1</td>\n",
       "      <td>1186</td>\n",
       "      <td>0</td>\n",
       "      <td>0</td>\n",
       "    </tr>\n",
       "  </tbody>\n",
       "</table>\n",
       "</div>"
      ],
      "text/plain": [
       "   id              name      first       last compas_screening_date     sex  \\\n",
       "0   1  miguel hernandez     miguel  hernandez            2013-08-14    Male   \n",
       "1   3       kevon dixon      kevon      dixon            2013-01-27    Male   \n",
       "2   4          ed philo         ed      philo            2013-04-14    Male   \n",
       "3   7      marsha miles     marsha      miles            2013-11-30    Male   \n",
       "4   8     edward riddle     edward     riddle            2014-02-19    Male   \n",
       "5   9    steven stewart     steven    stewart            2013-08-30    Male   \n",
       "6  10  elizabeth thieme  elizabeth     thieme            2014-03-16  Female   \n",
       "7  14    benjamin franc   benjamin      franc            2013-11-26    Male   \n",
       "8  15    ellyaher lanza   ellyaher      lanza            2013-10-03    Male   \n",
       "9  16   kortney coleman    kortney    coleman            2013-01-01  Female   \n",
       "\n",
       "          dob  age          age_cat              race  juv_fel_count  \\\n",
       "0  1947-04-18   69  Greater than 45             Other              0   \n",
       "1  1982-01-22   34          25 - 45  African-American              0   \n",
       "2  1991-05-14   24     Less than 25  African-American              0   \n",
       "3  1971-08-22   44          25 - 45             Other              0   \n",
       "4  1974-07-23   41          25 - 45         Caucasian              0   \n",
       "5  1973-02-25   43          25 - 45             Other              0   \n",
       "6  1976-06-03   39          25 - 45         Caucasian              0   \n",
       "7  1988-06-01   27          25 - 45         Caucasian              0   \n",
       "8  1992-08-18   23     Less than 25  African-American              0   \n",
       "9  1978-08-22   37          25 - 45         Caucasian              0   \n",
       "\n",
       "   decile_score  juv_misd_count  juv_other_count  priors_count  \\\n",
       "0             1               0                0             0   \n",
       "1             3               0                0             0   \n",
       "2             4               0                1             4   \n",
       "3             1               0                0             0   \n",
       "4             6               0                0            14   \n",
       "5             4               0                0             3   \n",
       "6             1               0                0             0   \n",
       "7             4               0                0             0   \n",
       "8             6               0                0             3   \n",
       "9             1               0                0             0   \n",
       "\n",
       "   days_b_screening_arrest            c_jail_in           c_jail_out  \\\n",
       "0                     -1.0  2013-08-13 06:03:42  2013-08-14 05:41:20   \n",
       "1                     -1.0  2013-01-26 03:45:27  2013-02-05 05:36:53   \n",
       "2                     -1.0  2013-04-13 04:58:34  2013-04-14 07:02:04   \n",
       "3                      0.0  2013-11-30 04:50:18  2013-12-01 12:28:56   \n",
       "4                     -1.0  2014-02-18 05:08:24  2014-02-24 12:18:30   \n",
       "5                     -1.0  2013-08-29 08:55:23  2013-08-30 08:42:13   \n",
       "6                     -1.0  2014-03-15 05:35:34  2014-03-18 04:28:46   \n",
       "7                     -1.0  2013-11-25 06:31:06  2013-11-26 08:26:57   \n",
       "8                      0.0  2013-10-03 04:07:35  2013-10-07 08:17:30   \n",
       "9                      0.0  2013-01-01 03:28:03  2013-01-02 01:12:19   \n",
       "\n",
       "   c_case_number c_offense_date c_arrest_date  c_days_from_compas  \\\n",
       "0  13011352CF10A     2013-08-13           NaN                 1.0   \n",
       "1  13001275CF10A     2013-01-26           NaN                 1.0   \n",
       "2  13005330CF10A     2013-04-13           NaN                 1.0   \n",
       "3  13022355MM10A     2013-11-30           NaN                 0.0   \n",
       "4  14002304CF10A     2014-02-18           NaN                 1.0   \n",
       "5  13012216CF10A            NaN    2013-08-29                 1.0   \n",
       "6  14004524MM10A     2014-03-15           NaN                 1.0   \n",
       "7  13016402CF10A     2013-11-25           NaN                 1.0   \n",
       "8  13018837MM10A     2013-10-03           NaN                 0.0   \n",
       "9  13000053MM10A     2013-01-01           NaN                 0.0   \n",
       "\n",
       "  c_charge_degree                   c_charge_desc  is_recid  r_case_number  \\\n",
       "0               F    Aggravated Assault w/Firearm         0            NaN   \n",
       "1               F  Felony Battery w/Prior Convict         1  13009779CF10A   \n",
       "2               F           Possession of Cocaine         1  13011511MM10A   \n",
       "3               M                         Battery         0            NaN   \n",
       "4               F       Possession Burglary Tools         1  14004485CF10A   \n",
       "5               F           arrest case no charge         0            NaN   \n",
       "6               M                         Battery         0            NaN   \n",
       "7               F         Poss 3,4 MDMA (Ecstasy)         0            NaN   \n",
       "8               M                         Battery         1  14010414TC40A   \n",
       "9               M                         Battery         0            NaN   \n",
       "\n",
       "  r_charge_degree  r_days_from_arrest r_offense_date  \\\n",
       "0             NaN                 NaN            NaN   \n",
       "1            (F3)                 NaN     2013-07-05   \n",
       "2            (M1)                 0.0     2013-06-16   \n",
       "3             NaN                 NaN            NaN   \n",
       "4            (F2)                 0.0     2014-03-31   \n",
       "5             NaN                 NaN            NaN   \n",
       "6             NaN                 NaN            NaN   \n",
       "7             NaN                 NaN            NaN   \n",
       "8            (M2)                 NaN     2014-02-08   \n",
       "9             NaN                 NaN            NaN   \n",
       "\n",
       "                    r_charge_desc   r_jail_in  r_jail_out  violent_recid  \\\n",
       "0                             NaN         NaN         NaN            NaN   \n",
       "1     Felony Battery (Dom Strang)         NaN         NaN            NaN   \n",
       "2     Driving Under The Influence  2013-06-16  2013-06-16            NaN   \n",
       "3                             NaN         NaN         NaN            NaN   \n",
       "4  Poss of Firearm by Convic Felo  2014-03-31  2014-04-18            NaN   \n",
       "5                             NaN         NaN         NaN            NaN   \n",
       "6                             NaN         NaN         NaN            NaN   \n",
       "7                             NaN         NaN         NaN            NaN   \n",
       "8       Driving License Suspended         NaN         NaN            NaN   \n",
       "9                             NaN         NaN         NaN            NaN   \n",
       "\n",
       "   is_violent_recid vr_case_number vr_charge_degree vr_offense_date  \\\n",
       "0                 0            NaN              NaN             NaN   \n",
       "1                 1  13009779CF10A             (F3)      2013-07-05   \n",
       "2                 0            NaN              NaN             NaN   \n",
       "3                 0            NaN              NaN             NaN   \n",
       "4                 0            NaN              NaN             NaN   \n",
       "5                 0            NaN              NaN             NaN   \n",
       "6                 0            NaN              NaN             NaN   \n",
       "7                 0            NaN              NaN             NaN   \n",
       "8                 0            NaN              NaN             NaN   \n",
       "9                 0            NaN              NaN             NaN   \n",
       "\n",
       "                vr_charge_desc  type_of_assessment  decile_score.1 score_text  \\\n",
       "0                          NaN  Risk of Recidivism               1        Low   \n",
       "1  Felony Battery (Dom Strang)  Risk of Recidivism               3        Low   \n",
       "2                          NaN  Risk of Recidivism               4        Low   \n",
       "3                          NaN  Risk of Recidivism               1        Low   \n",
       "4                          NaN  Risk of Recidivism               6     Medium   \n",
       "5                          NaN  Risk of Recidivism               4        Low   \n",
       "6                          NaN  Risk of Recidivism               1        Low   \n",
       "7                          NaN  Risk of Recidivism               4        Low   \n",
       "8                          NaN  Risk of Recidivism               6     Medium   \n",
       "9                          NaN  Risk of Recidivism               1        Low   \n",
       "\n",
       "  screening_date v_type_of_assessment  v_decile_score v_score_text  \\\n",
       "0     2013-08-14     Risk of Violence               1          Low   \n",
       "1     2013-01-27     Risk of Violence               1          Low   \n",
       "2     2013-04-14     Risk of Violence               3          Low   \n",
       "3     2013-11-30     Risk of Violence               1          Low   \n",
       "4     2014-02-19     Risk of Violence               2          Low   \n",
       "5     2013-08-30     Risk of Violence               3          Low   \n",
       "6     2014-03-16     Risk of Violence               1          Low   \n",
       "7     2013-11-26     Risk of Violence               4          Low   \n",
       "8     2013-10-03     Risk of Violence               4          Low   \n",
       "9     2013-01-01     Risk of Violence               1          Low   \n",
       "\n",
       "  v_screening_date  in_custody out_custody  priors_count.1  start   end  \\\n",
       "0       2013-08-14  2014-07-07  2014-07-14               0      0   327   \n",
       "1       2013-01-27  2013-01-26  2013-02-05               0      9   159   \n",
       "2       2013-04-14  2013-06-16  2013-06-16               4      0    63   \n",
       "3       2013-11-30  2013-11-30  2013-12-01               0      1   853   \n",
       "4       2014-02-19  2014-03-31  2014-04-18              14      5    40   \n",
       "5       2013-08-30  2014-05-22  2014-06-03               3      0   265   \n",
       "6       2014-03-16  2014-03-15  2014-03-18               0      2   747   \n",
       "7       2013-11-26  2013-11-25  2013-11-26               0      0   857   \n",
       "8       2013-10-03  2013-10-03  2013-10-07               3      4   128   \n",
       "9       2013-01-01  2013-01-01  2013-01-02               0      1  1186   \n",
       "\n",
       "   event  two_year_recid  \n",
       "0      0               0  \n",
       "1      1               1  \n",
       "2      0               1  \n",
       "3      0               0  \n",
       "4      1               1  \n",
       "5      0               0  \n",
       "6      0               0  \n",
       "7      0               0  \n",
       "8      1               1  \n",
       "9      0               0  "
      ]
     },
     "execution_count": 7,
     "metadata": {},
     "output_type": "execute_result"
    }
   ],
   "source": [
    "dataset.head(10)"
   ]
  },
  {
   "cell_type": "markdown",
   "metadata": {
    "id": "kG49svx1jkH4"
   },
   "source": [
    "### Basic analysis of demographics\n",
    "A series of plots is given below which look at the distribution of the data, the decile scores (the scores in the COMPAS dataset that measure likelihood of reoffense), and the risk category, which is based on the decile score and is determined in the following manner:\n",
    "\n",
    " 1 – 4: scale score is low relative to other offenders in norm group.\n",
    "\n",
    " 5 – 7: scale score is medium relative to other offenders in norm group.\n",
    "\n",
    " 8 – 10: scale score is high relative to other offenders in norm group.\n",
    "\n",
    "\n",
    "After looking at the plots, you will be asked to describe the imbalances of the dataset"
   ]
  },
  {
   "cell_type": "code",
   "execution_count": 8,
   "metadata": {
    "id": "X7Q-o2A8jkH4",
    "scrolled": false
   },
   "outputs": [],
   "source": [
    "def get_basic_stats(column_name,check_values=None,\n",
    "                    check_NaN=False,group_count=True,plot_hist = False):\n",
    "    '''\n",
    "    basic stats on a given column of the dataset\n",
    "    @param column_name: column name to compute stats on\n",
    "    '''\n",
    "    \n",
    "    result = {}\n",
    "    \n",
    "    if column_name not in dataset.columns:\n",
    "        raise ValueError(\"column_name must be set to a value from the the available values\")\n",
    "        \n",
    "    #values in the column\n",
    "    column_values = np.unique(dataset[column_name].values)\n",
    "    \n",
    "    if check_values:\n",
    "        print('-',column_name,\"in dataset:\")\n",
    "        [print(value) for value in column_values]\n",
    "\n",
    "    if check_NaN:\n",
    "        print(\"-NaN  present in the column?\",dataset[column_name].isnull().any())\n",
    "    \n",
    "    if group_count:\n",
    "        values_count = dataset[column_name].value_counts()   \n",
    "        result.update(values_count=values_count)\n",
    "        \n",
    "    #histogram of values\n",
    "    if plot_hist:\n",
    "        fig = hist(dataset[column_name], column_name) \n",
    "        fig.show()        \n",
    "    \n",
    "    return result"
   ]
  },
  {
   "cell_type": "code",
   "execution_count": 9,
   "metadata": {
    "id": "6J1JjYj9jkH4"
   },
   "outputs": [
    {
     "data": {
      "text/html": [
       "        <script type=\"text/javascript\">\n",
       "        window.PlotlyConfig = {MathJaxConfig: 'local'};\n",
       "        if (window.MathJax) {MathJax.Hub.Config({SVG: {font: \"STIX-Web\"}});}\n",
       "        if (typeof require !== 'undefined') {\n",
       "        require.undef(\"plotly\");\n",
       "        requirejs.config({\n",
       "            paths: {\n",
       "                'plotly': ['https://cdn.plot.ly/plotly-latest.min']\n",
       "            }\n",
       "        });\n",
       "        require(['plotly'], function(Plotly) {\n",
       "            window._Plotly = Plotly;\n",
       "        });\n",
       "        }\n",
       "        </script>\n",
       "        "
      ]
     },
     "metadata": {},
     "output_type": "display_data"
    },
    {
     "data": {
      "text/html": [
       "<div>                            <div id=\"a9e8fcec-26a5-4a7d-b766-fa040e1e8828\" class=\"plotly-graph-div\" style=\"height:525px; width:100%;\"></div>            <script type=\"text/javascript\">                require([\"plotly\"], function(Plotly) {                    window.PLOTLYENV=window.PLOTLYENV || {};                                    if (document.getElementById(\"a9e8fcec-26a5-4a7d-b766-fa040e1e8828\")) {                    Plotly.newPlot(                        \"a9e8fcec-26a5-4a7d-b766-fa040e1e8828\",                        [{\"alignmentgroup\": \"True\", \"bingroup\": \"x\", \"hovertemplate\": \"race=%{x}<br>count=%{y}<extra></extra>\", \"legendgroup\": \"\", \"marker\": {\"color\": \"indianred\", \"opacity\": 0.8}, \"name\": \"\", \"offsetgroup\": \"\", \"orientation\": \"v\", \"showlegend\": false, \"type\": \"histogram\", \"x\": [\"Other\", \"African-American\", \"African-American\", \"Other\", \"Caucasian\", \"Other\", \"Caucasian\", \"Caucasian\", \"African-American\", \"Caucasian\", \"African-American\", \"Caucasian\", \"African-American\", \"Hispanic\", \"African-American\", \"Caucasian\", \"Caucasian\", \"African-American\", \"African-American\", \"Caucasian\", \"Caucasian\", \"Hispanic\", \"Caucasian\", \"Other\", \"African-American\", \"African-American\", \"African-American\", \"Caucasian\", \"African-American\", \"Caucasian\", \"Other\", \"Caucasian\", \"Caucasian\", \"African-American\", \"Caucasian\", \"African-American\", \"African-American\", \"Caucasian\", \"African-American\", \"African-American\", \"Caucasian\", \"African-American\", \"Caucasian\", \"African-American\", \"Caucasian\", \"Other\", \"African-American\", \"African-American\", \"Hispanic\", \"African-American\", \"Caucasian\", \"African-American\", \"African-American\", \"Caucasian\", \"African-American\", \"African-American\", \"Hispanic\", \"African-American\", \"Other\", \"African-American\", \"Hispanic\", \"Hispanic\", \"African-American\", \"African-American\", \"Caucasian\", \"African-American\", \"African-American\", \"Caucasian\", \"African-American\", \"African-American\", \"African-American\", \"African-American\", \"Other\", \"African-American\", \"Other\", \"African-American\", \"African-American\", \"African-American\", \"Caucasian\", \"Other\", \"Caucasian\", \"Caucasian\", \"Caucasian\", \"Caucasian\", \"Hispanic\", \"African-American\", \"African-American\", \"Caucasian\", \"Caucasian\", \"Caucasian\", \"Caucasian\", \"Caucasian\", \"Caucasian\", \"African-American\", \"Caucasian\", \"Caucasian\", \"African-American\", \"African-American\", \"Caucasian\", \"African-American\", \"African-American\", \"African-American\", \"African-American\", \"Other\", \"Caucasian\", \"African-American\", \"Caucasian\", \"African-American\", \"Caucasian\", \"Caucasian\", \"Caucasian\", \"Other\", \"Caucasian\", \"African-American\", \"Caucasian\", \"Caucasian\", \"African-American\", \"Caucasian\", \"African-American\", \"Caucasian\", \"African-American\", \"Caucasian\", \"African-American\", \"African-American\", \"African-American\", \"African-American\", \"African-American\", \"African-American\", \"African-American\", \"Caucasian\", \"African-American\", \"Other\", \"Hispanic\", \"African-American\", \"Hispanic\", \"African-American\", \"Caucasian\", \"Caucasian\", \"African-American\", \"Caucasian\", \"African-American\", \"Caucasian\", \"Caucasian\", \"African-American\", \"Hispanic\", \"African-American\", \"Hispanic\", \"African-American\", \"Hispanic\", \"African-American\", \"Hispanic\", \"Hispanic\", \"Caucasian\", \"Caucasian\", \"Other\", \"African-American\", \"African-American\", \"African-American\", \"Hispanic\", \"African-American\", \"Caucasian\", \"African-American\", \"Caucasian\", \"African-American\", \"Caucasian\", \"African-American\", \"African-American\", \"African-American\", \"Other\", \"Caucasian\", \"Caucasian\", \"Caucasian\", \"African-American\", \"Other\", \"African-American\", \"African-American\", \"African-American\", \"Caucasian\", \"African-American\", \"African-American\", \"Caucasian\", \"African-American\", \"African-American\", \"Caucasian\", \"Caucasian\", \"Other\", \"African-American\", \"Caucasian\", \"African-American\", \"African-American\", \"African-American\", \"African-American\", \"Other\", \"African-American\", \"African-American\", \"African-American\", \"Caucasian\", \"Caucasian\", \"African-American\", \"Caucasian\", \"African-American\", \"Caucasian\", \"African-American\", \"African-American\", \"Hispanic\", \"Caucasian\", \"Caucasian\", \"African-American\", \"Caucasian\", \"African-American\", \"Caucasian\", \"African-American\", \"Caucasian\", \"Other\", \"Other\", \"Hispanic\", \"Hispanic\", \"Caucasian\", \"Hispanic\", \"African-American\", \"African-American\", \"African-American\", \"Other\", \"African-American\", \"African-American\", \"African-American\", \"Hispanic\", \"African-American\", \"African-American\", \"African-American\", \"Caucasian\", \"Caucasian\", \"African-American\", \"African-American\", \"Caucasian\", \"African-American\", \"Other\", \"African-American\", \"African-American\", \"Caucasian\", \"Caucasian\", \"Caucasian\", \"African-American\", \"African-American\", \"Hispanic\", \"Caucasian\", \"African-American\", \"Caucasian\", \"African-American\", \"African-American\", \"Other\", \"Caucasian\", \"African-American\", \"African-American\", \"Caucasian\", \"Caucasian\", \"Other\", \"African-American\", \"Hispanic\", \"African-American\", \"Caucasian\", \"Caucasian\", \"Caucasian\", \"Other\", \"African-American\", \"African-American\", \"Caucasian\", \"Caucasian\", \"African-American\", \"African-American\", \"Caucasian\", \"African-American\", \"Caucasian\", \"Caucasian\", \"Hispanic\", \"African-American\", \"Caucasian\", \"Hispanic\", \"Caucasian\", \"African-American\", \"Caucasian\", \"African-American\", \"Other\", \"African-American\", \"Caucasian\", \"Hispanic\", \"African-American\", \"African-American\", \"African-American\", \"Caucasian\", \"African-American\", \"Hispanic\", \"Other\", \"Caucasian\", \"Caucasian\", \"Caucasian\", \"African-American\", \"Caucasian\", \"African-American\", \"African-American\", \"African-American\", \"Caucasian\", \"African-American\", \"Other\", \"Hispanic\", \"Caucasian\", \"African-American\", \"Caucasian\", \"African-American\", \"African-American\", \"Caucasian\", \"Caucasian\", \"Caucasian\", \"African-American\", \"Caucasian\", \"African-American\", \"African-American\", \"African-American\", \"African-American\", \"African-American\", \"Caucasian\", \"African-American\", \"African-American\", \"African-American\", \"African-American\", \"Caucasian\", \"Caucasian\", \"African-American\", \"African-American\", \"Caucasian\", \"Hispanic\", \"African-American\", \"African-American\", \"African-American\", \"Caucasian\", \"African-American\", \"African-American\", \"Caucasian\", \"African-American\", \"Other\", \"Hispanic\", \"Caucasian\", \"Caucasian\", \"African-American\", \"African-American\", \"Caucasian\", \"Hispanic\", \"Caucasian\", \"Caucasian\", \"African-American\", \"Caucasian\", \"African-American\", \"Other\", \"African-American\", \"Caucasian\", \"African-American\", \"African-American\", \"Hispanic\", \"Caucasian\", \"African-American\", \"Caucasian\", \"African-American\", \"Caucasian\", \"Caucasian\", \"African-American\", \"African-American\", \"Caucasian\", \"Caucasian\", \"Caucasian\", \"Caucasian\", \"Hispanic\", \"African-American\", \"African-American\", \"Caucasian\", \"African-American\", \"African-American\", \"African-American\", \"Caucasian\", \"African-American\", \"Caucasian\", \"Other\", \"African-American\", \"African-American\", \"African-American\", \"Caucasian\", \"Caucasian\", \"African-American\", \"African-American\", \"African-American\", \"Caucasian\", \"African-American\", \"African-American\", \"African-American\", \"African-American\", \"African-American\", \"African-American\", \"African-American\", \"Caucasian\", \"African-American\", \"African-American\", \"Caucasian\", \"Hispanic\", \"Caucasian\", \"Caucasian\", \"Caucasian\", \"Caucasian\", \"Hispanic\", \"Caucasian\", \"Asian\", \"Hispanic\", \"Hispanic\", \"Caucasian\", \"Caucasian\", \"Asian\", \"African-American\", \"Caucasian\", \"Caucasian\", \"African-American\", \"African-American\", \"Caucasian\", \"African-American\", \"Caucasian\", \"Hispanic\", \"Hispanic\", \"African-American\", \"Caucasian\", \"Caucasian\", \"Caucasian\", \"Caucasian\", \"Other\", \"African-American\", \"Caucasian\", \"Hispanic\", \"Other\", \"African-American\", \"African-American\", \"Other\", \"African-American\", \"African-American\", \"Caucasian\", \"Caucasian\", \"African-American\", \"African-American\", \"Caucasian\", \"Caucasian\", \"Caucasian\", \"Caucasian\", \"African-American\", \"African-American\", \"African-American\", \"Caucasian\", \"Caucasian\", \"Other\", \"Caucasian\", \"Hispanic\", \"African-American\", \"African-American\", \"Caucasian\", \"Hispanic\", \"Caucasian\", \"African-American\", \"Hispanic\", \"Caucasian\", \"African-American\", \"Caucasian\", \"African-American\", \"African-American\", \"African-American\", \"Other\", \"African-American\", \"African-American\", \"Caucasian\", \"African-American\", \"African-American\", \"African-American\", \"Caucasian\", \"African-American\", \"African-American\", \"African-American\", \"Caucasian\", \"Caucasian\", \"Hispanic\", \"African-American\", \"Caucasian\", \"African-American\", \"Caucasian\", \"African-American\", \"Hispanic\", \"African-American\", \"Hispanic\", \"Caucasian\", \"Caucasian\", \"Caucasian\", \"Caucasian\", \"African-American\", \"Caucasian\", \"Caucasian\", \"Other\", \"Hispanic\", \"Other\", \"African-American\", \"Caucasian\", \"African-American\", \"Hispanic\", \"Hispanic\", \"Caucasian\", \"African-American\", \"African-American\", \"African-American\", \"African-American\", \"African-American\", \"African-American\", \"Hispanic\", \"African-American\", \"Caucasian\", \"Caucasian\", \"Caucasian\", \"African-American\", \"Caucasian\", \"African-American\", \"African-American\", \"Caucasian\", \"Caucasian\", \"African-American\", \"African-American\", \"Caucasian\", \"African-American\", \"Caucasian\", \"African-American\", \"African-American\", \"African-American\", \"Hispanic\", \"African-American\", \"Caucasian\", \"Caucasian\", \"Caucasian\", \"Caucasian\", \"African-American\", \"African-American\", \"Caucasian\", \"Other\", \"African-American\", \"Caucasian\", \"African-American\", \"African-American\", \"African-American\", \"African-American\", \"African-American\", \"Caucasian\", \"Caucasian\", \"African-American\", \"African-American\", \"African-American\", \"Caucasian\", \"African-American\", \"African-American\", \"African-American\", \"African-American\", \"Hispanic\", \"African-American\", \"African-American\", \"African-American\", \"Caucasian\", \"Hispanic\", \"African-American\", \"African-American\", \"Other\", \"Other\", \"African-American\", \"Caucasian\", \"African-American\", \"African-American\", \"African-American\", \"African-American\", \"Caucasian\", \"Caucasian\", \"Hispanic\", \"African-American\", \"African-American\", \"Asian\", \"Caucasian\", \"African-American\", \"African-American\", \"African-American\", \"Caucasian\", \"African-American\", \"Caucasian\", \"African-American\", \"African-American\", \"African-American\", \"African-American\", \"African-American\", \"African-American\", \"African-American\", \"African-American\", \"Caucasian\", \"Caucasian\", \"Caucasian\", \"African-American\", \"Hispanic\", \"Caucasian\", \"African-American\", \"African-American\", \"African-American\", \"African-American\", \"Caucasian\", \"Caucasian\", \"Caucasian\", \"Hispanic\", \"Caucasian\", \"Caucasian\", \"Caucasian\", \"Caucasian\", \"Hispanic\", \"African-American\", \"Caucasian\", \"Caucasian\", \"African-American\", \"African-American\", \"African-American\", \"African-American\", \"African-American\", \"African-American\", \"African-American\", \"African-American\", \"African-American\", \"African-American\", \"Caucasian\", \"Other\", \"Caucasian\", \"African-American\", \"Caucasian\", \"African-American\", \"African-American\", \"African-American\", \"African-American\", \"African-American\", \"African-American\", \"African-American\", \"African-American\", \"African-American\", \"African-American\", \"Other\", \"Other\", \"Caucasian\", \"African-American\", \"Native American\", \"African-American\", \"African-American\", \"African-American\", \"African-American\", \"Other\", \"African-American\", \"African-American\", \"Other\", \"Hispanic\", \"African-American\", \"African-American\", \"Caucasian\", \"Caucasian\", \"African-American\", \"African-American\", \"Caucasian\", \"Caucasian\", \"Caucasian\", \"African-American\", \"Caucasian\", \"Other\", \"African-American\", \"Caucasian\", \"African-American\", \"Caucasian\", \"African-American\", \"African-American\", \"Other\", \"African-American\", \"Other\", \"Caucasian\", \"African-American\", \"African-American\", \"Hispanic\", \"Caucasian\", \"African-American\", \"African-American\", \"African-American\", \"Other\", \"African-American\", \"African-American\", \"African-American\", \"African-American\", \"Caucasian\", \"African-American\", \"African-American\", \"Caucasian\", \"African-American\", \"African-American\", \"Caucasian\", \"Other\", \"Caucasian\", \"Caucasian\", \"African-American\", \"African-American\", \"Caucasian\", \"African-American\", \"Other\", \"Other\", \"African-American\", \"African-American\", \"African-American\", \"African-American\", \"African-American\", \"Caucasian\", \"African-American\", \"African-American\", \"Caucasian\", \"African-American\", \"African-American\", \"African-American\", \"Other\", \"Caucasian\", \"African-American\", \"Caucasian\", \"Caucasian\", \"African-American\", \"African-American\", \"Caucasian\", \"African-American\", \"Caucasian\", \"African-American\", \"Caucasian\", \"Caucasian\", \"African-American\", \"Caucasian\", \"African-American\", \"African-American\", \"African-American\", \"Caucasian\", \"African-American\", \"African-American\", \"African-American\", \"African-American\", \"Other\", \"African-American\", \"Caucasian\", \"African-American\", \"African-American\", \"African-American\", \"Caucasian\", \"Caucasian\", \"African-American\", \"Other\", \"African-American\", \"Caucasian\", \"African-American\", \"Hispanic\", \"African-American\", \"Caucasian\", \"African-American\", \"Caucasian\", \"African-American\", \"Hispanic\", \"African-American\", \"Caucasian\", \"Caucasian\", \"Hispanic\", \"Hispanic\", \"African-American\", \"African-American\", \"African-American\", \"Hispanic\", \"Caucasian\", \"African-American\", \"Caucasian\", \"Caucasian\", \"Caucasian\", \"Hispanic\", \"Hispanic\", \"African-American\", \"African-American\", \"African-American\", \"African-American\", \"Caucasian\", \"African-American\", \"Caucasian\", \"African-American\", \"African-American\", \"African-American\", \"African-American\", \"Caucasian\", \"African-American\", \"African-American\", \"African-American\", \"Hispanic\", \"Hispanic\", \"Hispanic\", \"Caucasian\", \"Hispanic\", \"African-American\", \"African-American\", \"African-American\", \"Hispanic\", \"Caucasian\", \"African-American\", \"African-American\", \"African-American\", \"Caucasian\", \"Caucasian\", \"African-American\", \"African-American\", \"African-American\", \"Caucasian\", \"Caucasian\", \"Caucasian\", \"Caucasian\", \"African-American\", \"African-American\", \"Caucasian\", \"Hispanic\", \"African-American\", \"Hispanic\", \"African-American\", \"African-American\", \"African-American\", \"Caucasian\", \"African-American\", \"African-American\", \"African-American\", \"African-American\", \"African-American\", \"African-American\", \"Caucasian\", \"African-American\", \"Hispanic\", \"African-American\", \"African-American\", \"African-American\", \"Caucasian\", \"African-American\", \"Caucasian\", \"African-American\", \"African-American\", \"Hispanic\", \"African-American\", \"African-American\", \"African-American\", \"Hispanic\", \"Caucasian\", \"African-American\", \"African-American\", \"Hispanic\", \"Hispanic\", \"Hispanic\", \"African-American\", \"African-American\", \"Hispanic\", \"Caucasian\", \"African-American\", \"African-American\", \"African-American\", \"African-American\", \"African-American\", \"African-American\", \"Caucasian\", \"Hispanic\", \"Hispanic\", \"African-American\", \"Caucasian\", \"Hispanic\", \"Hispanic\", \"African-American\", \"African-American\", \"Other\", \"African-American\", \"Caucasian\", \"African-American\", \"African-American\", \"African-American\", \"African-American\", \"Caucasian\", \"Caucasian\", \"Other\", \"Caucasian\", \"African-American\", \"African-American\", \"Caucasian\", \"African-American\", \"African-American\", \"African-American\", \"African-American\", \"Caucasian\", \"Caucasian\", \"African-American\", \"African-American\", \"Hispanic\", \"African-American\", \"African-American\", \"Caucasian\", \"African-American\", \"African-American\", \"Caucasian\", \"Other\", \"Caucasian\", \"African-American\", \"African-American\", \"African-American\", \"African-American\", \"African-American\", \"African-American\", \"Caucasian\", \"Caucasian\", \"African-American\", \"Caucasian\", \"African-American\", \"African-American\", \"Hispanic\", \"Caucasian\", \"Caucasian\", \"Caucasian\", \"African-American\", \"Hispanic\", \"Caucasian\", \"African-American\", \"Caucasian\", \"Caucasian\", \"African-American\", \"Hispanic\", \"African-American\", \"Hispanic\", \"African-American\", \"Caucasian\", \"Caucasian\", \"African-American\", \"Caucasian\", \"African-American\", \"African-American\", \"Caucasian\", \"African-American\", \"Caucasian\", \"Caucasian\", \"Hispanic\", \"African-American\", \"Caucasian\", \"Caucasian\", \"Caucasian\", \"Other\", \"Caucasian\", \"Caucasian\", \"African-American\", \"African-American\", \"African-American\", \"African-American\", \"African-American\", \"Caucasian\", \"Caucasian\", \"African-American\", \"African-American\", \"African-American\", \"African-American\", \"African-American\", \"African-American\", \"African-American\", \"Caucasian\", \"Caucasian\", \"African-American\", \"African-American\", \"Other\", \"Caucasian\", \"Caucasian\", \"Caucasian\", \"Caucasian\", \"Caucasian\", \"African-American\", \"Caucasian\", \"Caucasian\", \"Caucasian\", \"African-American\", \"African-American\", \"Hispanic\", \"Caucasian\", \"African-American\", \"African-American\", \"Caucasian\", \"Hispanic\", \"African-American\", \"African-American\", \"Hispanic\", \"African-American\", \"Native American\", \"African-American\", \"Hispanic\", \"African-American\", \"African-American\", \"African-American\", \"African-American\", \"Caucasian\", \"African-American\", \"Caucasian\", \"Other\", \"Hispanic\", \"Native American\", \"Caucasian\", \"African-American\", \"Other\", \"African-American\", \"Caucasian\", \"Caucasian\", \"Hispanic\", \"Caucasian\", \"African-American\", \"Asian\", \"Caucasian\", \"Caucasian\", \"Hispanic\", \"Caucasian\", \"African-American\", \"African-American\", \"Caucasian\", \"African-American\", \"African-American\", \"African-American\", \"Caucasian\", \"African-American\", \"African-American\", \"Caucasian\", \"African-American\", \"African-American\", \"African-American\", \"African-American\", \"Caucasian\", \"Hispanic\", \"African-American\", \"Caucasian\", \"African-American\", \"African-American\", \"African-American\", \"Caucasian\", \"African-American\", \"African-American\", \"Other\", \"Hispanic\", \"Other\", \"African-American\", \"African-American\", \"African-American\", \"Caucasian\", \"African-American\", \"African-American\", \"Caucasian\", \"Hispanic\", \"Caucasian\", \"African-American\", \"Other\", \"Caucasian\", \"African-American\", \"Caucasian\", \"Caucasian\", \"Caucasian\", \"African-American\", \"African-American\", \"African-American\", \"Caucasian\", \"Caucasian\", \"Caucasian\", \"African-American\", \"Other\", \"Caucasian\", \"African-American\", \"Hispanic\", \"Hispanic\", \"Caucasian\", \"Caucasian\", \"Caucasian\", \"Caucasian\", \"African-American\", \"Caucasian\", \"African-American\", \"African-American\", \"Caucasian\", \"Hispanic\", \"African-American\", \"African-American\", \"Other\", \"Caucasian\", \"Hispanic\", \"Hispanic\", \"Caucasian\", \"Caucasian\", \"African-American\", \"Hispanic\", \"African-American\", \"Other\", \"African-American\", \"Caucasian\", \"African-American\", \"Asian\", \"Caucasian\", \"Asian\", \"African-American\", \"Caucasian\", \"African-American\", \"Caucasian\", \"Caucasian\", \"Caucasian\", \"African-American\", \"Caucasian\", \"African-American\", \"African-American\", \"African-American\", \"Caucasian\", \"Hispanic\", \"Other\", \"Caucasian\", \"African-American\", \"African-American\", \"African-American\", \"Caucasian\", \"African-American\", \"African-American\", \"Other\", \"Hispanic\", \"African-American\", \"Other\", \"Caucasian\", \"African-American\", \"Caucasian\", \"Caucasian\", \"African-American\", \"Caucasian\", \"African-American\", \"African-American\", \"African-American\", \"African-American\", \"Hispanic\", \"African-American\", \"African-American\", \"Hispanic\", \"African-American\", \"Caucasian\", \"Caucasian\", \"African-American\", \"African-American\", \"African-American\", \"Other\", \"Caucasian\", \"African-American\", \"African-American\", \"Caucasian\", \"African-American\", \"African-American\", \"African-American\", \"African-American\", \"African-American\", \"Caucasian\", \"African-American\", \"Caucasian\", \"Caucasian\", \"Caucasian\", \"African-American\", \"Caucasian\", \"Caucasian\", \"African-American\", \"Hispanic\", \"African-American\", \"Hispanic\", \"Caucasian\", \"African-American\", \"African-American\", \"African-American\", \"Caucasian\", \"African-American\", \"African-American\", \"Caucasian\", \"Caucasian\", \"African-American\", \"African-American\", \"Caucasian\", \"African-American\", \"Other\", \"Other\", \"African-American\", \"African-American\", \"Caucasian\", \"Caucasian\", \"Caucasian\", \"African-American\", \"African-American\", \"African-American\", \"African-American\", \"Caucasian\", \"African-American\", \"African-American\", \"Other\", \"Caucasian\", \"African-American\", \"Caucasian\", \"Caucasian\", \"African-American\", \"Caucasian\", \"African-American\", \"African-American\", \"Hispanic\", \"Caucasian\", \"African-American\", \"African-American\", \"Caucasian\", \"African-American\", \"African-American\", \"Other\", \"African-American\", \"African-American\", \"African-American\", \"Caucasian\", \"Caucasian\", \"African-American\", \"Caucasian\", \"African-American\", \"African-American\", \"African-American\", \"Caucasian\", \"Caucasian\", \"African-American\", \"African-American\", \"African-American\", \"African-American\", \"Hispanic\", \"African-American\", \"African-American\", \"African-American\", \"Caucasian\", \"African-American\", \"African-American\", \"Caucasian\", \"African-American\", \"Other\", \"Caucasian\", \"Caucasian\", \"African-American\", \"African-American\", \"Caucasian\", \"Hispanic\", \"Caucasian\", \"African-American\", \"African-American\", \"Caucasian\", \"African-American\", \"Caucasian\", \"African-American\", \"African-American\", \"African-American\", \"African-American\", \"Other\", \"Caucasian\", \"Caucasian\", \"African-American\", \"African-American\", \"African-American\", \"Native American\", \"Caucasian\", \"Caucasian\", \"Other\", \"Caucasian\", \"Caucasian\", \"African-American\", \"Hispanic\", \"African-American\", \"Caucasian\", \"African-American\", \"Hispanic\", \"African-American\", \"Caucasian\", \"African-American\", \"Caucasian\", \"Caucasian\", \"Caucasian\", \"Caucasian\", \"Caucasian\", \"Caucasian\", \"Caucasian\", \"Caucasian\", \"Caucasian\", \"Caucasian\", \"Hispanic\", \"African-American\", \"Other\", \"Caucasian\", \"African-American\", \"Caucasian\", \"African-American\", \"African-American\", \"African-American\", \"Hispanic\", \"African-American\", \"African-American\", \"Asian\", \"African-American\", \"Caucasian\", \"Hispanic\", \"African-American\", \"African-American\", \"Hispanic\", \"African-American\", \"Caucasian\", \"African-American\", \"African-American\", \"African-American\", \"African-American\", \"Caucasian\", \"African-American\", \"African-American\", \"Caucasian\", \"Caucasian\", \"Caucasian\", \"Caucasian\", \"Hispanic\", \"African-American\", \"Caucasian\", \"African-American\", \"African-American\", \"African-American\", \"Hispanic\", \"African-American\", \"Other\", \"African-American\", \"African-American\", \"Caucasian\", \"Other\", \"African-American\", \"African-American\", \"African-American\", \"African-American\", \"Caucasian\", \"Caucasian\", \"Caucasian\", \"Hispanic\", \"African-American\", \"African-American\", \"African-American\", \"African-American\", \"African-American\", \"Hispanic\", \"Caucasian\", \"Hispanic\", \"African-American\", \"Caucasian\", \"Hispanic\", \"Caucasian\", \"Caucasian\", \"African-American\", \"Caucasian\", \"African-American\", \"Caucasian\", \"African-American\", \"Caucasian\", \"African-American\", \"Asian\", \"Other\", \"African-American\", \"Other\", \"African-American\", \"African-American\", \"Caucasian\", \"African-American\", \"Caucasian\", \"Caucasian\", \"Other\", \"Caucasian\", \"Other\", \"African-American\", \"Caucasian\", \"African-American\", \"African-American\", \"African-American\", \"African-American\", \"Other\", \"African-American\", \"Caucasian\", \"African-American\", \"African-American\", \"African-American\", \"African-American\", \"Caucasian\", \"African-American\", \"Caucasian\", \"African-American\", \"Caucasian\", \"Hispanic\", \"African-American\", \"Caucasian\", \"African-American\", \"Caucasian\", \"Other\", \"Caucasian\", \"Caucasian\", \"African-American\", \"Hispanic\", \"African-American\", \"Caucasian\", \"African-American\", \"African-American\", \"Hispanic\", \"African-American\", \"African-American\", \"African-American\", \"African-American\", \"African-American\", \"African-American\", \"African-American\", \"African-American\", \"Other\", \"Caucasian\", \"Caucasian\", \"African-American\", \"African-American\", \"African-American\", \"Caucasian\", \"Caucasian\", \"African-American\", \"African-American\", \"Caucasian\", \"Caucasian\", \"Caucasian\", \"African-American\", \"Caucasian\", \"African-American\", \"African-American\", \"African-American\", \"Caucasian\", \"African-American\", \"Caucasian\", \"Caucasian\", \"Hispanic\", \"Other\", \"African-American\", \"Caucasian\", \"African-American\", \"Caucasian\", \"African-American\", \"African-American\", \"Caucasian\", \"Caucasian\", \"Caucasian\", \"Caucasian\", \"Other\", \"African-American\", \"Caucasian\", \"Caucasian\", \"African-American\", \"Caucasian\", \"Hispanic\", \"Hispanic\", \"African-American\", \"Caucasian\", \"African-American\", \"African-American\", \"Hispanic\", \"African-American\", \"African-American\", \"African-American\", \"Caucasian\", \"African-American\", \"African-American\", \"African-American\", \"African-American\", \"Caucasian\", \"Caucasian\", \"African-American\", \"Hispanic\", \"African-American\", \"African-American\", \"African-American\", \"Caucasian\", \"African-American\", \"African-American\", \"African-American\", \"Caucasian\", \"African-American\", \"Caucasian\", \"Caucasian\", \"Caucasian\", \"African-American\", \"Other\", \"Hispanic\", \"Caucasian\", \"Caucasian\", \"Caucasian\", \"African-American\", \"African-American\", \"African-American\", \"African-American\", \"Caucasian\", \"Caucasian\", \"African-American\", \"Caucasian\", \"Caucasian\", \"African-American\", \"African-American\", \"African-American\", \"Caucasian\", \"Caucasian\", \"African-American\", \"Caucasian\", \"African-American\", \"African-American\", \"African-American\", \"Caucasian\", \"African-American\", \"Caucasian\", \"African-American\", \"African-American\", \"Caucasian\", \"African-American\", \"Hispanic\", \"African-American\", \"Caucasian\", \"African-American\", \"African-American\", \"African-American\", \"African-American\", \"Caucasian\", \"Caucasian\", \"Hispanic\", \"Caucasian\", \"African-American\", \"African-American\", \"Hispanic\", \"Other\", \"Hispanic\", \"African-American\", \"Caucasian\", \"Asian\", \"Hispanic\", \"African-American\", \"African-American\", \"African-American\", \"Other\", \"Caucasian\", \"Caucasian\", \"Caucasian\", \"African-American\", \"African-American\", \"Hispanic\", \"Caucasian\", \"African-American\", \"Caucasian\", \"African-American\", \"Caucasian\", \"African-American\", \"African-American\", \"Caucasian\", \"African-American\", \"African-American\", \"Caucasian\", \"Other\", \"Caucasian\", \"African-American\", \"African-American\", \"Caucasian\", \"Caucasian\", \"African-American\", \"Caucasian\", \"African-American\", \"African-American\", \"African-American\", \"Caucasian\", \"Caucasian\", \"African-American\", \"African-American\", \"Caucasian\", \"African-American\", \"African-American\", \"Caucasian\", \"African-American\", \"Hispanic\", \"African-American\", \"Caucasian\", \"Caucasian\", \"African-American\", \"Caucasian\", \"Caucasian\", \"Hispanic\", \"Caucasian\", \"African-American\", \"Hispanic\", \"African-American\", \"Asian\", \"African-American\", \"Caucasian\", \"African-American\", \"Caucasian\", \"Hispanic\", \"Caucasian\", \"Caucasian\", \"Caucasian\", \"Other\", \"African-American\", \"African-American\", \"African-American\", \"African-American\", \"African-American\", \"Caucasian\", \"African-American\", \"African-American\", \"Other\", \"African-American\", \"African-American\", \"Caucasian\", \"Hispanic\", \"African-American\", \"African-American\", \"Caucasian\", \"African-American\", \"African-American\", \"Caucasian\", \"Caucasian\", \"African-American\", \"African-American\", \"African-American\", \"African-American\", \"Hispanic\", \"African-American\", \"African-American\", \"Caucasian\", \"Caucasian\", \"African-American\", \"African-American\", \"Caucasian\", \"African-American\", \"African-American\", \"Caucasian\", \"African-American\", \"African-American\", \"Caucasian\", \"Caucasian\", \"African-American\", \"Other\", \"Hispanic\", \"African-American\", \"African-American\", \"African-American\", \"Caucasian\", \"African-American\", \"African-American\", \"African-American\", \"African-American\", \"African-American\", \"Caucasian\", \"African-American\", \"Caucasian\", \"African-American\", \"African-American\", \"Caucasian\", \"Caucasian\", \"African-American\", \"African-American\", \"Caucasian\", \"African-American\", \"Caucasian\", \"African-American\", \"African-American\", \"African-American\", \"Caucasian\", \"Caucasian\", \"Hispanic\", \"African-American\", \"Caucasian\", \"Native American\", \"African-American\", \"African-American\", \"African-American\", \"African-American\", \"African-American\", \"Caucasian\", \"African-American\", \"Caucasian\", \"Caucasian\", \"Caucasian\", \"African-American\", \"African-American\", \"Hispanic\", \"Other\", \"African-American\", \"Hispanic\", \"African-American\", \"African-American\", \"African-American\", \"Caucasian\", \"African-American\", \"Caucasian\", \"Caucasian\", \"African-American\", \"African-American\", \"African-American\", \"African-American\", \"African-American\", \"African-American\", \"African-American\", \"Caucasian\", \"African-American\", \"Other\", \"African-American\", \"Caucasian\", \"African-American\", \"Hispanic\", \"Caucasian\", \"African-American\", \"Caucasian\", \"African-American\", \"African-American\", \"African-American\", \"African-American\", \"African-American\", \"African-American\", \"African-American\", \"African-American\", \"Caucasian\", \"African-American\", \"African-American\", \"African-American\", \"Caucasian\", \"Caucasian\", \"Caucasian\", \"African-American\", \"African-American\", \"African-American\", \"Hispanic\", \"African-American\", \"African-American\", \"African-American\", \"Caucasian\", \"African-American\", \"African-American\", \"African-American\", \"Other\", \"Caucasian\", \"Caucasian\", \"African-American\", \"Hispanic\", \"Asian\", \"African-American\", \"African-American\", \"African-American\", \"Hispanic\", \"Caucasian\", \"African-American\", \"Hispanic\", \"Hispanic\", \"African-American\", \"Caucasian\", \"Caucasian\", \"African-American\", \"Hispanic\", \"African-American\", \"Hispanic\", \"Caucasian\", \"Caucasian\", \"Other\", \"Other\", \"Caucasian\", \"Caucasian\", \"African-American\", \"Caucasian\", \"African-American\", \"Hispanic\", \"Caucasian\", \"Caucasian\", \"African-American\", \"Caucasian\", \"Caucasian\", \"African-American\", \"Caucasian\", \"African-American\", \"Other\", \"Caucasian\", \"African-American\", \"Caucasian\", \"Caucasian\", \"African-American\", \"African-American\", \"Other\", \"African-American\", \"African-American\", \"Caucasian\", \"Other\", \"Other\", \"African-American\", \"Caucasian\", \"Caucasian\", \"African-American\", \"Other\", \"African-American\", \"African-American\", \"African-American\", \"Hispanic\", \"Caucasian\", \"Caucasian\", \"Other\", \"Caucasian\", \"African-American\", \"African-American\", \"Caucasian\", \"Caucasian\", \"African-American\", \"African-American\", \"African-American\", \"Caucasian\", \"African-American\", \"African-American\", \"Caucasian\", \"Caucasian\", \"Caucasian\", \"Caucasian\", \"African-American\", \"Native American\", \"African-American\", \"Caucasian\", \"Caucasian\", \"African-American\", \"Caucasian\", \"African-American\", \"African-American\", \"African-American\", \"African-American\", \"African-American\", \"African-American\", \"Caucasian\", \"Caucasian\", \"Caucasian\", \"African-American\", \"Other\", \"African-American\", \"African-American\", \"African-American\", \"African-American\", \"Hispanic\", \"Caucasian\", \"Other\", \"Hispanic\", \"Caucasian\", \"African-American\", \"African-American\", \"Caucasian\", \"African-American\", \"Caucasian\", \"Caucasian\", \"Hispanic\", \"Caucasian\", \"Caucasian\", \"Caucasian\", \"Caucasian\", \"Caucasian\", \"Caucasian\", \"Caucasian\", \"African-American\", \"African-American\", \"Caucasian\", \"African-American\", \"Caucasian\", \"African-American\", \"African-American\", \"Caucasian\", \"Hispanic\", \"African-American\", \"African-American\", \"Caucasian\", \"African-American\", \"African-American\", \"African-American\", \"African-American\", \"Caucasian\", \"African-American\", \"African-American\", \"African-American\", \"African-American\", \"African-American\", \"African-American\", \"African-American\", \"African-American\", \"African-American\", \"African-American\", \"Hispanic\", \"African-American\", \"Hispanic\", \"African-American\", \"Hispanic\", \"Other\", \"African-American\", \"African-American\", \"African-American\", \"Caucasian\", \"Caucasian\", \"African-American\", \"Caucasian\", \"African-American\", \"Caucasian\", \"African-American\", \"Caucasian\", \"Other\", \"African-American\", \"African-American\", \"African-American\", \"African-American\", \"African-American\", \"African-American\", \"Caucasian\", \"Caucasian\", \"Caucasian\", \"African-American\", \"African-American\", \"Caucasian\", \"Caucasian\", \"Caucasian\", \"African-American\", \"Caucasian\", \"African-American\", \"African-American\", \"African-American\", \"Caucasian\", \"Caucasian\", \"Hispanic\", \"African-American\", \"Caucasian\", \"African-American\", \"African-American\", \"African-American\", \"Caucasian\", \"Caucasian\", \"Caucasian\", \"Caucasian\", \"Caucasian\", \"Caucasian\", \"African-American\", \"African-American\", \"African-American\", \"African-American\", \"African-American\", \"African-American\", \"African-American\", \"Caucasian\", \"African-American\", \"Caucasian\", \"Caucasian\", \"Caucasian\", \"Other\", \"African-American\", \"Caucasian\", \"African-American\", \"African-American\", \"African-American\", \"Caucasian\", \"African-American\", \"African-American\", \"Caucasian\", \"African-American\", \"Hispanic\", \"African-American\", \"African-American\", \"African-American\", \"African-American\", \"Caucasian\", \"African-American\", \"Hispanic\", \"African-American\", \"Hispanic\", \"African-American\", \"Caucasian\", \"African-American\", \"Caucasian\", \"Other\", \"Hispanic\", \"African-American\", \"Caucasian\", \"African-American\", \"Hispanic\", \"Caucasian\", \"Caucasian\", \"Caucasian\", \"Caucasian\", \"African-American\", \"African-American\", \"Caucasian\", \"Caucasian\", \"Caucasian\", \"African-American\", \"Hispanic\", \"African-American\", \"African-American\", \"African-American\", \"Caucasian\", \"Caucasian\", \"Hispanic\", \"African-American\", \"African-American\", \"African-American\", \"Caucasian\", \"Caucasian\", \"Caucasian\", \"African-American\", \"African-American\", \"Caucasian\", \"African-American\", \"Hispanic\", \"Caucasian\", \"Caucasian\", \"Hispanic\", \"Caucasian\", \"African-American\", \"Caucasian\", \"Caucasian\", \"African-American\", \"Hispanic\", \"African-American\", \"African-American\", \"African-American\", \"African-American\", \"Caucasian\", \"African-American\", \"African-American\", \"African-American\", \"Caucasian\", \"Caucasian\", \"African-American\", \"African-American\", \"Caucasian\", \"Caucasian\", \"African-American\", \"African-American\", \"Caucasian\", \"Caucasian\", \"Caucasian\", \"African-American\", \"African-American\", \"Caucasian\", \"African-American\", \"African-American\", \"Caucasian\", \"Caucasian\", \"African-American\", \"African-American\", \"African-American\", \"African-American\", \"African-American\", \"African-American\", \"African-American\", \"African-American\", \"Other\", \"Other\", \"African-American\", \"African-American\", \"African-American\", \"African-American\", \"African-American\", \"Caucasian\", \"Other\", \"African-American\", \"African-American\", \"African-American\", \"Caucasian\", \"Caucasian\", \"African-American\", \"African-American\", \"African-American\", \"Other\", \"African-American\", \"African-American\", \"African-American\", \"Caucasian\", \"Caucasian\", \"Caucasian\", \"African-American\", \"Caucasian\", \"Caucasian\", \"Hispanic\", \"African-American\", \"African-American\", \"African-American\", \"Caucasian\", \"African-American\", \"Caucasian\", \"African-American\", \"Caucasian\", \"Caucasian\", \"African-American\", \"African-American\", \"Hispanic\", \"Other\", \"African-American\", \"Hispanic\", \"African-American\", \"Caucasian\", \"Caucasian\", \"Caucasian\", \"Caucasian\", \"African-American\", \"African-American\", \"African-American\", \"Caucasian\", \"Caucasian\", \"African-American\", \"African-American\", \"African-American\", \"Caucasian\", \"African-American\", \"African-American\", \"African-American\", \"African-American\", \"Caucasian\", \"Caucasian\", \"African-American\", \"Caucasian\", \"African-American\", \"Caucasian\", \"Hispanic\", \"Caucasian\", \"Caucasian\", \"Caucasian\", \"African-American\", \"Caucasian\", \"African-American\", \"Caucasian\", \"Caucasian\", \"African-American\", \"Caucasian\", \"Caucasian\", \"Caucasian\", \"Caucasian\", \"African-American\", \"African-American\", \"African-American\", \"African-American\", \"Caucasian\", \"African-American\", \"African-American\", \"Caucasian\", \"Caucasian\", \"Caucasian\", \"African-American\", \"African-American\", \"African-American\", \"Other\", \"African-American\", \"African-American\", \"Other\", \"African-American\", \"African-American\", \"African-American\", \"Caucasian\", \"Caucasian\", \"Caucasian\", \"African-American\", \"African-American\", \"African-American\", \"Caucasian\", \"Hispanic\", \"Hispanic\", \"African-American\", \"African-American\", \"African-American\", \"African-American\", \"African-American\", \"African-American\", \"African-American\", \"Other\", \"Caucasian\", \"Caucasian\", \"Caucasian\", \"Caucasian\", \"African-American\", \"African-American\", \"African-American\", \"African-American\", \"Caucasian\", \"Caucasian\", \"African-American\", \"African-American\", \"Caucasian\", \"Caucasian\", \"Caucasian\", \"Other\", \"African-American\", \"Hispanic\", \"Caucasian\", \"African-American\", \"Caucasian\", \"African-American\", \"African-American\", \"Hispanic\", \"Caucasian\", \"African-American\", \"Hispanic\", \"African-American\", \"African-American\", \"Asian\", \"Other\", \"African-American\", \"African-American\", \"African-American\", \"Caucasian\", \"African-American\", \"African-American\", \"African-American\", \"African-American\", \"Caucasian\", \"African-American\", \"Caucasian\", \"African-American\", \"Hispanic\", \"African-American\", \"Other\", \"African-American\", \"Caucasian\", \"Caucasian\", \"Caucasian\", \"African-American\", \"Hispanic\", \"Caucasian\", \"Caucasian\", \"African-American\", \"African-American\", \"Caucasian\", \"Caucasian\", \"African-American\", \"Caucasian\", \"African-American\", \"Caucasian\", \"Caucasian\", \"African-American\", \"African-American\", \"African-American\", \"Hispanic\", \"Caucasian\", \"African-American\", \"Hispanic\", \"Hispanic\", \"Hispanic\", \"Hispanic\", \"African-American\", \"African-American\", \"African-American\", \"African-American\", \"African-American\", \"African-American\", \"African-American\", \"Caucasian\", \"African-American\", \"Caucasian\", \"Caucasian\", \"African-American\", \"Caucasian\", \"African-American\", \"Caucasian\", \"African-American\", \"African-American\", \"Other\", \"African-American\", \"Caucasian\", \"Hispanic\", \"African-American\", \"Hispanic\", \"African-American\", \"Caucasian\", \"African-American\", \"African-American\", \"Caucasian\", \"Caucasian\", \"Hispanic\", \"African-American\", \"Caucasian\", \"Caucasian\", \"Caucasian\", \"African-American\", \"African-American\", \"African-American\", \"African-American\", \"Caucasian\", \"Caucasian\", \"Caucasian\", \"Caucasian\", \"Caucasian\", \"Caucasian\", \"Caucasian\", \"Caucasian\", \"African-American\", \"African-American\", \"Caucasian\", \"African-American\", \"African-American\", \"Hispanic\", \"African-American\", \"Caucasian\", \"Caucasian\", \"African-American\", \"Caucasian\", \"African-American\", \"African-American\", \"African-American\", \"Caucasian\", \"African-American\", \"African-American\", \"Caucasian\", \"Caucasian\", \"African-American\", \"African-American\", \"African-American\", \"Caucasian\", \"Caucasian\", \"Caucasian\", \"Hispanic\", \"Caucasian\", \"African-American\", \"African-American\", \"African-American\", \"African-American\", \"Caucasian\", \"African-American\", \"African-American\", \"African-American\", \"Caucasian\", \"African-American\", \"African-American\", \"African-American\", \"African-American\", \"African-American\", \"African-American\", \"Caucasian\", \"Caucasian\", \"African-American\", \"African-American\", \"Caucasian\", \"African-American\", \"Caucasian\", \"Caucasian\", \"Caucasian\", \"African-American\", \"Caucasian\", \"African-American\", \"Hispanic\", \"Caucasian\", \"Caucasian\", \"Other\", \"Caucasian\", \"Caucasian\", \"African-American\", \"African-American\", \"African-American\", \"Hispanic\", \"African-American\", \"African-American\", \"African-American\", \"Caucasian\", \"African-American\", \"Caucasian\", \"African-American\", \"Caucasian\", \"African-American\", \"Other\", \"Caucasian\", \"African-American\", \"Other\", \"African-American\", \"African-American\", \"Caucasian\", \"Hispanic\", \"Caucasian\", \"Caucasian\", \"Hispanic\", \"African-American\", \"African-American\", \"African-American\", \"African-American\", \"Hispanic\", \"Hispanic\", \"African-American\", \"African-American\", \"African-American\", \"Caucasian\", \"African-American\", \"Caucasian\", \"African-American\", \"Caucasian\", \"African-American\", \"African-American\", \"African-American\", \"Other\", \"African-American\", \"African-American\", \"African-American\", \"African-American\", \"Hispanic\", \"African-American\", \"Hispanic\", \"Other\", \"Caucasian\", \"African-American\", \"Other\", \"Other\", \"Hispanic\", \"Caucasian\", \"Caucasian\", \"African-American\", \"Hispanic\", \"African-American\", \"African-American\", \"Caucasian\", \"African-American\", \"African-American\", \"African-American\", \"African-American\", \"African-American\", \"Caucasian\", \"African-American\", \"Hispanic\", \"African-American\", \"Caucasian\", \"African-American\", \"African-American\", \"African-American\", \"African-American\", \"Other\", \"African-American\", \"African-American\", \"Caucasian\", \"African-American\", \"Hispanic\", \"African-American\", \"Other\", \"African-American\", \"Caucasian\", \"African-American\", \"Caucasian\", \"Caucasian\", \"African-American\", \"Other\", \"Caucasian\", \"Other\", \"African-American\", \"Hispanic\", \"African-American\", \"Caucasian\", \"African-American\", \"Other\", \"African-American\", \"Caucasian\", \"Caucasian\", \"African-American\", \"African-American\", \"African-American\", \"African-American\", \"Caucasian\", \"Caucasian\", \"Caucasian\", \"African-American\", \"African-American\", \"Caucasian\", \"African-American\", \"Caucasian\", \"African-American\", \"Hispanic\", \"African-American\", \"Hispanic\", \"Caucasian\", \"African-American\", \"Caucasian\", \"Caucasian\", \"African-American\", \"Caucasian\", \"Caucasian\", \"Caucasian\", \"African-American\", \"African-American\", \"Other\", \"Caucasian\", \"Hispanic\", \"Caucasian\", \"Caucasian\", \"Hispanic\", \"Caucasian\", \"Other\", \"African-American\", \"Caucasian\", \"Caucasian\", \"Caucasian\", \"Caucasian\", \"Caucasian\", \"Caucasian\", \"Caucasian\", \"African-American\", \"African-American\", \"African-American\", \"African-American\", \"Caucasian\", \"African-American\", \"African-American\", \"African-American\", \"Caucasian\", \"Caucasian\", \"African-American\", \"African-American\", \"Hispanic\", \"Caucasian\", \"Caucasian\", \"African-American\", \"African-American\", \"African-American\", \"African-American\", \"African-American\", \"Caucasian\", \"African-American\", \"African-American\", \"Caucasian\", \"Hispanic\", \"African-American\", \"African-American\", \"African-American\", \"African-American\", \"African-American\", \"African-American\", \"Caucasian\", \"African-American\", \"Caucasian\", \"African-American\", \"African-American\", \"Caucasian\", \"African-American\", \"African-American\", \"Other\", \"African-American\", \"Caucasian\", \"African-American\", \"African-American\", \"African-American\", \"Caucasian\", \"Caucasian\", \"Hispanic\", \"Caucasian\", \"Other\", \"Other\", \"Caucasian\", \"African-American\", \"Caucasian\", \"African-American\", \"Caucasian\", \"African-American\", \"African-American\", \"African-American\", \"Hispanic\", \"African-American\", \"Caucasian\", \"Hispanic\", \"African-American\", \"African-American\", \"African-American\", \"African-American\", \"Caucasian\", \"Caucasian\", \"African-American\", \"African-American\", \"African-American\", \"Caucasian\", \"Caucasian\", \"African-American\", \"Hispanic\", \"Caucasian\", \"African-American\", \"Asian\", \"African-American\", \"African-American\", \"African-American\", \"African-American\", \"African-American\", \"Hispanic\", \"Other\", \"African-American\", \"Caucasian\", \"African-American\", \"African-American\", \"Caucasian\", \"African-American\", \"African-American\", \"Caucasian\", \"Caucasian\", \"Other\", \"African-American\", \"Caucasian\", \"Caucasian\", \"Caucasian\", \"African-American\", \"Caucasian\", \"African-American\", \"African-American\", \"Hispanic\", \"African-American\", \"Caucasian\", \"African-American\", \"Other\", \"Caucasian\", \"Caucasian\", \"Hispanic\", \"African-American\", \"African-American\", \"Caucasian\", \"African-American\", \"Caucasian\", \"African-American\", \"African-American\", \"Caucasian\", \"Caucasian\", \"African-American\", \"African-American\", \"Caucasian\", \"Caucasian\", \"Caucasian\", \"African-American\", \"Other\", \"Other\", \"African-American\", \"Caucasian\", \"Hispanic\", \"African-American\", \"Caucasian\", \"Hispanic\", \"Caucasian\", \"African-American\", \"Caucasian\", \"Caucasian\", \"Hispanic\", \"African-American\", \"African-American\", \"Caucasian\", \"Hispanic\", \"Caucasian\", \"African-American\", \"Caucasian\", \"African-American\", \"Caucasian\", \"African-American\", \"African-American\", \"Caucasian\", \"Caucasian\", \"African-American\", \"Caucasian\", \"African-American\", \"Other\", \"Caucasian\", \"African-American\", \"African-American\", \"African-American\", \"African-American\", \"African-American\", \"Hispanic\", \"African-American\", \"Caucasian\", \"Caucasian\", \"African-American\", \"African-American\", \"Hispanic\", \"Caucasian\", \"Caucasian\", \"Caucasian\", \"Caucasian\", \"Caucasian\", \"African-American\", \"African-American\", \"Caucasian\", \"Caucasian\", \"African-American\", \"Caucasian\", \"Caucasian\", \"Caucasian\", \"African-American\", \"African-American\", \"African-American\", \"African-American\", \"Caucasian\", \"African-American\", \"Other\", \"Caucasian\", \"African-American\", \"Other\", \"African-American\", \"African-American\", \"Caucasian\", \"Caucasian\", \"Caucasian\", \"African-American\", \"African-American\", \"African-American\", \"African-American\", \"Hispanic\", \"African-American\", \"Caucasian\", \"Caucasian\", \"Caucasian\", \"African-American\", \"African-American\", \"Caucasian\", \"African-American\", \"Hispanic\", \"Caucasian\", \"African-American\", \"African-American\", \"Caucasian\", \"African-American\", \"Caucasian\", \"African-American\", \"African-American\", \"African-American\", \"Other\", \"African-American\", \"Hispanic\", \"African-American\", \"Caucasian\", \"Caucasian\", \"African-American\", \"African-American\", \"Caucasian\", \"African-American\", \"African-American\", \"Caucasian\", \"African-American\", \"African-American\", \"Caucasian\", \"African-American\", \"African-American\", \"African-American\", \"Other\", \"Caucasian\", \"Other\", \"Other\", \"African-American\", \"African-American\", \"Hispanic\", \"African-American\", \"Hispanic\", \"African-American\", \"Hispanic\", \"Caucasian\", \"African-American\", \"Other\", \"African-American\", \"Caucasian\", \"African-American\", \"African-American\", \"Caucasian\", \"African-American\", \"African-American\", \"Other\", \"African-American\", \"African-American\", \"Hispanic\", \"African-American\", \"African-American\", \"Caucasian\", \"African-American\", \"Caucasian\", \"Caucasian\", \"African-American\", \"Hispanic\", \"African-American\", \"African-American\", \"African-American\", \"African-American\", \"Caucasian\", \"Hispanic\", \"Caucasian\", \"Other\", \"African-American\", \"Other\", \"African-American\", \"African-American\", \"African-American\", \"African-American\", \"African-American\", \"Caucasian\", \"African-American\", \"African-American\", \"Caucasian\", \"Caucasian\", \"Caucasian\", \"Caucasian\", \"African-American\", \"African-American\", \"Hispanic\", \"Caucasian\", \"Caucasian\", \"Caucasian\", \"African-American\", \"African-American\", \"African-American\", \"African-American\", \"Hispanic\", \"Caucasian\", \"African-American\", \"Caucasian\", \"African-American\", \"Caucasian\", \"Caucasian\", \"African-American\", \"African-American\", \"African-American\", \"Caucasian\", \"African-American\", \"African-American\", \"Caucasian\", \"Caucasian\", \"African-American\", \"Caucasian\", \"Caucasian\", \"African-American\", \"African-American\", \"African-American\", \"Caucasian\", \"African-American\", \"Caucasian\", \"Caucasian\", \"African-American\", \"African-American\", \"African-American\", \"African-American\", \"African-American\", \"African-American\", \"Caucasian\", \"Caucasian\", \"Other\", \"African-American\", \"Caucasian\", \"African-American\", \"African-American\", \"African-American\", \"African-American\", \"African-American\", \"Caucasian\", \"Caucasian\", \"African-American\", \"African-American\", \"African-American\", \"African-American\", \"Caucasian\", \"African-American\", \"Hispanic\", \"Caucasian\", \"Caucasian\", \"African-American\", \"African-American\", \"African-American\", \"African-American\", \"African-American\", \"African-American\", \"African-American\", \"African-American\", \"African-American\", \"African-American\", \"Caucasian\", \"Hispanic\", \"African-American\", \"African-American\", \"African-American\", \"African-American\", \"Caucasian\", \"African-American\", \"Caucasian\", \"African-American\", \"African-American\", \"African-American\", \"Caucasian\", \"Other\", \"Caucasian\", \"African-American\", \"African-American\", \"Caucasian\", \"African-American\", \"African-American\", \"African-American\", \"African-American\", \"African-American\", \"African-American\", \"Caucasian\", \"Hispanic\", \"Caucasian\", \"African-American\", \"Other\", \"Caucasian\", \"African-American\", \"African-American\", \"African-American\", \"African-American\", \"Hispanic\", \"African-American\", \"African-American\", \"Other\", \"Caucasian\", \"Caucasian\", \"African-American\", \"African-American\", \"African-American\", \"Caucasian\", \"African-American\", \"Caucasian\", \"Other\", \"Other\", \"African-American\", \"African-American\", \"Caucasian\", \"African-American\", \"African-American\", \"African-American\", \"Caucasian\", \"Caucasian\", \"Caucasian\", \"Caucasian\", \"African-American\", \"African-American\", \"Caucasian\", \"Caucasian\", \"African-American\", \"African-American\", \"African-American\", \"African-American\", \"Hispanic\", \"Caucasian\", \"African-American\", \"Caucasian\", \"Caucasian\", \"African-American\", \"African-American\", \"Caucasian\", \"Other\", \"Caucasian\", \"African-American\", \"Caucasian\", \"Hispanic\", \"African-American\", \"Caucasian\", \"African-American\", \"Other\", \"African-American\", \"Caucasian\", \"African-American\", \"Caucasian\", \"Caucasian\", \"African-American\", \"Caucasian\", \"Other\", \"Caucasian\", \"Hispanic\", \"Caucasian\", \"Other\", \"African-American\", \"Caucasian\", \"African-American\", \"African-American\", \"African-American\", \"African-American\", \"Caucasian\", \"African-American\", \"Other\", \"Caucasian\", \"Caucasian\", \"Caucasian\", \"African-American\", \"Hispanic\", \"African-American\", \"Hispanic\", \"Caucasian\", \"Caucasian\", \"Caucasian\", \"Caucasian\", \"Caucasian\", \"African-American\", \"African-American\", \"Caucasian\", \"African-American\", \"African-American\", \"Caucasian\", \"African-American\", \"Caucasian\", \"Caucasian\", \"Caucasian\", \"Caucasian\", \"African-American\", \"African-American\", \"African-American\", \"Caucasian\", \"Caucasian\", \"Caucasian\", \"African-American\", \"African-American\", \"African-American\", \"Caucasian\", \"African-American\", \"Caucasian\", \"Caucasian\", \"Caucasian\", \"African-American\", \"African-American\", \"Caucasian\", \"African-American\", \"Hispanic\", \"Other\", \"African-American\", \"African-American\", \"African-American\", \"Other\", \"African-American\", \"Caucasian\", \"African-American\", \"Caucasian\", \"African-American\", \"African-American\", \"Caucasian\", \"African-American\", \"Caucasian\", \"African-American\", \"African-American\", \"Caucasian\", \"African-American\", \"African-American\", \"African-American\", \"African-American\", \"African-American\", \"Other\", \"African-American\", \"African-American\", \"Caucasian\", \"African-American\", \"African-American\", \"Caucasian\", \"African-American\", \"African-American\", \"Caucasian\", \"African-American\", \"Caucasian\", \"Caucasian\", \"African-American\", \"African-American\", \"Caucasian\", \"African-American\", \"Other\", \"African-American\", \"African-American\", \"African-American\", \"Caucasian\", \"African-American\", \"African-American\", \"Caucasian\", \"Caucasian\", \"Caucasian\", \"African-American\", \"Caucasian\", \"Caucasian\", \"African-American\", \"African-American\", \"African-American\", \"African-American\", \"African-American\", \"African-American\", \"Caucasian\", \"African-American\", \"African-American\", \"African-American\", \"Other\", \"Caucasian\", \"African-American\", \"Other\", \"Caucasian\", \"Caucasian\", \"African-American\", \"African-American\", \"Caucasian\", \"Hispanic\", \"African-American\", \"African-American\", \"Hispanic\", \"Caucasian\", \"African-American\", \"African-American\", \"African-American\", \"Caucasian\", \"African-American\", \"Caucasian\", \"Hispanic\", \"Other\", \"African-American\", \"Other\", \"Caucasian\", \"African-American\", \"Caucasian\", \"Other\", \"African-American\", \"Caucasian\", \"Caucasian\", \"Caucasian\", \"Hispanic\", \"Hispanic\", \"Caucasian\", \"African-American\", \"African-American\", \"African-American\", \"Caucasian\", \"African-American\", \"Caucasian\", \"Caucasian\", \"African-American\", \"African-American\", \"African-American\", \"Caucasian\", \"African-American\", \"African-American\", \"African-American\", \"Caucasian\", \"Hispanic\", \"African-American\", \"Caucasian\", \"African-American\", \"African-American\", \"Other\", \"Caucasian\", \"African-American\", \"African-American\", \"African-American\", \"African-American\", \"African-American\", \"African-American\", \"African-American\", \"Caucasian\", \"African-American\", \"Caucasian\", \"Caucasian\", \"Caucasian\", \"Caucasian\", \"Hispanic\", \"Caucasian\", \"African-American\", \"Caucasian\", \"Caucasian\", \"African-American\", \"African-American\", \"Caucasian\", \"African-American\", \"Other\", \"Caucasian\", \"African-American\", \"Caucasian\", \"Caucasian\", \"Caucasian\", \"African-American\", \"Caucasian\", \"Hispanic\", \"Caucasian\", \"African-American\", \"Caucasian\", \"Caucasian\", \"Other\", \"Hispanic\", \"Caucasian\", \"African-American\", \"African-American\", \"African-American\", \"Caucasian\", \"African-American\", \"African-American\", \"Caucasian\", \"African-American\", \"African-American\", \"Caucasian\", \"Caucasian\", \"African-American\", \"Caucasian\", \"Caucasian\", \"Hispanic\", \"African-American\", \"African-American\", \"Caucasian\", \"Other\", \"African-American\", \"Caucasian\", \"Caucasian\", \"Caucasian\", \"African-American\", \"African-American\", \"African-American\", \"African-American\", \"Hispanic\", \"Caucasian\", \"Caucasian\", \"Caucasian\", \"Caucasian\", \"African-American\", \"Caucasian\", \"African-American\", \"Hispanic\", \"Hispanic\", \"Caucasian\", \"Hispanic\", \"Hispanic\", \"Caucasian\", \"Other\", \"African-American\", \"African-American\", \"African-American\", \"African-American\", \"Caucasian\", \"African-American\", \"Caucasian\", \"African-American\", \"African-American\", \"Caucasian\", \"African-American\", \"Caucasian\", \"African-American\", \"African-American\", \"Caucasian\", \"African-American\", \"African-American\", \"Caucasian\", \"African-American\", \"Caucasian\", \"African-American\", \"African-American\", \"Asian\", \"Caucasian\", \"African-American\", \"African-American\", \"African-American\", \"African-American\", \"Caucasian\", \"Caucasian\", \"Caucasian\", \"Hispanic\", \"African-American\", \"African-American\", \"African-American\", \"Caucasian\", \"African-American\", \"Caucasian\", \"Caucasian\", \"African-American\", \"Hispanic\", \"Caucasian\", \"African-American\", \"Caucasian\", \"Hispanic\", \"Caucasian\", \"African-American\", \"Caucasian\", \"Hispanic\", \"Caucasian\", \"African-American\", \"Caucasian\", \"African-American\", \"African-American\", \"African-American\", \"African-American\", \"African-American\", \"African-American\", \"Caucasian\", \"African-American\", \"Caucasian\", \"African-American\", \"Caucasian\", \"Caucasian\", \"African-American\", \"African-American\", \"Caucasian\", \"African-American\", \"African-American\", \"African-American\", \"Caucasian\", \"Caucasian\", \"African-American\", \"Caucasian\", \"Caucasian\", \"African-American\", \"Hispanic\", \"African-American\", \"Caucasian\", \"Caucasian\", \"African-American\", \"African-American\", \"African-American\", \"African-American\", \"African-American\", \"Caucasian\", \"African-American\", \"Hispanic\", \"African-American\", \"Other\", \"Caucasian\", \"Caucasian\", \"African-American\", \"African-American\", \"African-American\", \"Other\", \"African-American\", \"African-American\", \"African-American\", \"Caucasian\", \"Caucasian\", \"Caucasian\", \"African-American\", \"African-American\", \"African-American\", \"Caucasian\", \"African-American\", \"Caucasian\", \"Caucasian\", \"African-American\", \"African-American\", \"African-American\", \"Caucasian\", \"African-American\", \"African-American\", \"African-American\", \"Caucasian\", \"African-American\", \"African-American\", \"Caucasian\", \"Caucasian\", \"African-American\", \"Caucasian\", \"Caucasian\", \"Caucasian\", \"Caucasian\", \"African-American\", \"African-American\", \"African-American\", \"African-American\", \"Caucasian\", \"Caucasian\", \"Other\", \"Hispanic\", \"Caucasian\", \"Hispanic\", \"Hispanic\", \"Hispanic\", \"Other\", \"African-American\", \"Caucasian\", \"Caucasian\", \"African-American\", \"Caucasian\", \"Caucasian\", \"Caucasian\", \"Caucasian\", \"Caucasian\", \"African-American\", \"Caucasian\", \"Caucasian\", \"African-American\", \"Caucasian\", \"African-American\", \"African-American\", \"Caucasian\", \"Caucasian\", \"Caucasian\", \"Caucasian\", \"African-American\", \"Caucasian\", \"African-American\", \"Caucasian\", \"African-American\", \"Caucasian\", \"African-American\", \"African-American\", \"African-American\", \"Other\", \"African-American\", \"Caucasian\", \"Caucasian\", \"Caucasian\", \"Caucasian\", \"Caucasian\", \"Caucasian\", \"Other\", \"African-American\", \"African-American\", \"African-American\", \"Caucasian\", \"Asian\", \"Other\", \"African-American\", \"Caucasian\", \"Caucasian\", \"Caucasian\", \"African-American\", \"African-American\", \"Caucasian\", \"African-American\", \"African-American\", \"African-American\", \"Caucasian\", \"Other\", \"Caucasian\", \"Caucasian\", \"African-American\", \"Caucasian\", \"African-American\", \"African-American\", \"African-American\", \"Caucasian\", \"Other\", \"African-American\", \"Caucasian\", \"African-American\", \"Caucasian\", \"African-American\", \"African-American\", \"African-American\", \"Caucasian\", \"African-American\", \"African-American\", \"Caucasian\", \"Caucasian\", \"Caucasian\", \"African-American\", \"African-American\", \"Caucasian\", \"African-American\", \"Caucasian\", \"Caucasian\", \"African-American\", \"African-American\", \"African-American\", \"Caucasian\", \"African-American\", \"African-American\", \"Caucasian\", \"African-American\", \"African-American\", \"African-American\", \"Caucasian\", \"African-American\", \"Caucasian\", \"African-American\", \"African-American\", \"African-American\", \"African-American\", \"African-American\", \"African-American\", \"Caucasian\", \"African-American\", \"African-American\", \"African-American\", \"Caucasian\", \"African-American\", \"African-American\", \"African-American\", \"Caucasian\", \"African-American\", \"Caucasian\", \"Caucasian\", \"Caucasian\", \"African-American\", \"African-American\", \"Caucasian\", \"African-American\", \"African-American\", \"Caucasian\", \"Caucasian\", \"African-American\", \"Caucasian\", \"African-American\", \"Caucasian\", \"African-American\", \"Caucasian\", \"African-American\", \"Caucasian\", \"African-American\", \"Caucasian\", \"Hispanic\", \"Caucasian\", \"Hispanic\", \"African-American\", \"African-American\", \"Hispanic\", \"African-American\", \"African-American\", \"African-American\", \"African-American\", \"Other\", \"African-American\", \"Caucasian\", \"Other\", \"Other\", \"Hispanic\", \"Caucasian\", \"Caucasian\", \"Caucasian\", \"Other\", \"African-American\", \"Asian\", \"Hispanic\", \"African-American\", \"African-American\", \"Caucasian\", \"Caucasian\", \"Hispanic\", \"African-American\", \"Caucasian\", \"Caucasian\", \"African-American\", \"African-American\", \"African-American\", \"Caucasian\", \"Caucasian\", \"African-American\", \"Caucasian\", \"African-American\", \"Caucasian\", \"Hispanic\", \"African-American\", \"African-American\", \"Caucasian\", \"Hispanic\", \"African-American\", \"Caucasian\", \"African-American\", \"Caucasian\", \"Caucasian\", \"African-American\", \"African-American\", \"African-American\", \"Caucasian\", \"African-American\", \"African-American\", \"African-American\", \"African-American\", \"Hispanic\", \"African-American\", \"African-American\", \"Caucasian\", \"African-American\", \"Caucasian\", \"African-American\", \"African-American\", \"Caucasian\", \"Caucasian\", \"Hispanic\", \"Caucasian\", \"African-American\", \"Caucasian\", \"African-American\", \"African-American\", \"African-American\", \"African-American\", \"African-American\", \"African-American\", \"Other\", \"African-American\", \"African-American\", \"African-American\", \"African-American\", \"Caucasian\", \"Hispanic\", \"African-American\", \"Caucasian\", \"African-American\", \"Hispanic\", \"African-American\", \"African-American\", \"African-American\", \"African-American\", \"African-American\", \"African-American\", \"African-American\", \"African-American\", \"Caucasian\", \"Caucasian\", \"African-American\", \"African-American\", \"African-American\", \"Caucasian\", \"African-American\", \"Hispanic\", \"Hispanic\", \"Caucasian\", \"African-American\", \"African-American\", \"African-American\", \"African-American\", \"Caucasian\", \"Caucasian\", \"Caucasian\", \"African-American\", \"Caucasian\", \"African-American\", \"African-American\", \"Other\", \"African-American\", \"African-American\", \"African-American\", \"Hispanic\", \"African-American\", \"Other\", \"Caucasian\", \"African-American\", \"Other\", \"Caucasian\", \"Caucasian\", \"Hispanic\", \"African-American\", \"African-American\", \"African-American\", \"Caucasian\", \"Caucasian\", \"African-American\", \"Caucasian\", \"African-American\", \"African-American\", \"African-American\", \"African-American\", \"Hispanic\", \"African-American\", \"African-American\", \"African-American\", \"Caucasian\", \"African-American\", \"African-American\", \"Other\", \"African-American\", \"Caucasian\", \"African-American\", \"Caucasian\", \"Hispanic\", \"African-American\", \"African-American\", \"African-American\", \"Caucasian\", \"Caucasian\", \"African-American\", \"African-American\", \"Caucasian\", \"African-American\", \"African-American\", \"Caucasian\", \"Caucasian\", \"Asian\", \"Caucasian\", \"African-American\", \"Caucasian\", \"African-American\", \"African-American\", \"Hispanic\", \"Caucasian\", \"African-American\", \"African-American\", \"Caucasian\", \"Caucasian\", \"African-American\", \"Caucasian\", \"African-American\", \"Caucasian\", \"Caucasian\", \"Hispanic\", \"African-American\", \"African-American\", \"Other\", \"African-American\", \"Hispanic\", \"African-American\", \"Caucasian\", \"Caucasian\", \"Caucasian\", \"Other\", \"Hispanic\", \"Hispanic\", \"African-American\", \"African-American\", \"African-American\", \"Caucasian\", \"Caucasian\", \"African-American\", \"Caucasian\", \"African-American\", \"Caucasian\", \"Caucasian\", \"African-American\", \"Caucasian\", \"African-American\", \"Caucasian\", \"Other\", \"African-American\", \"Caucasian\", \"Caucasian\", \"African-American\", \"Caucasian\", \"African-American\", \"Caucasian\", \"African-American\", \"African-American\", \"African-American\", \"African-American\", \"Caucasian\", \"African-American\", \"African-American\", \"African-American\", \"African-American\", \"African-American\", \"Hispanic\", \"African-American\", \"African-American\", \"African-American\", \"African-American\", \"Caucasian\", \"African-American\", \"African-American\", \"Caucasian\", \"Other\", \"Caucasian\", \"Hispanic\", \"Hispanic\", \"African-American\", \"Caucasian\", \"African-American\", \"African-American\", \"Caucasian\", \"Caucasian\", \"African-American\", \"African-American\", \"African-American\", \"Caucasian\", \"African-American\", \"African-American\", \"Caucasian\", \"African-American\", \"African-American\", \"Caucasian\", \"African-American\", \"African-American\", \"African-American\", \"African-American\", \"African-American\", \"Caucasian\", \"Caucasian\", \"African-American\", \"African-American\", \"African-American\", \"African-American\", \"African-American\", \"Caucasian\", \"Caucasian\", \"African-American\", \"Other\", \"African-American\", \"African-American\", \"African-American\", \"Caucasian\", \"Caucasian\", \"Caucasian\", \"Caucasian\", \"African-American\", \"Caucasian\", \"Caucasian\", \"African-American\", \"African-American\", \"Caucasian\", \"African-American\", \"Caucasian\", \"African-American\", \"African-American\", \"Caucasian\", \"Caucasian\", \"African-American\", \"African-American\", \"Other\", \"African-American\", \"Caucasian\", \"African-American\", \"African-American\", \"Caucasian\", \"Hispanic\", \"African-American\", \"Caucasian\", \"Caucasian\", \"African-American\", \"Hispanic\", \"African-American\", \"African-American\", \"African-American\", \"African-American\", \"African-American\", \"African-American\", \"Other\", \"Caucasian\", \"Caucasian\", \"Hispanic\", \"African-American\", \"Caucasian\", \"Caucasian\", \"African-American\", \"African-American\", \"Caucasian\", \"African-American\", \"Caucasian\", \"African-American\", \"Caucasian\", \"Hispanic\", \"African-American\", \"Caucasian\", \"African-American\", \"African-American\", \"Caucasian\", \"Hispanic\", \"African-American\", \"Other\", \"Hispanic\", \"African-American\", \"African-American\", \"Caucasian\", \"Caucasian\", \"African-American\", \"Caucasian\", \"African-American\", \"Caucasian\", \"Caucasian\", \"African-American\", \"Caucasian\", \"African-American\", \"Other\", \"African-American\", \"African-American\", \"African-American\", \"Caucasian\", \"Other\", \"African-American\", \"African-American\", \"Caucasian\", \"Hispanic\", \"African-American\", \"Hispanic\", \"African-American\", \"African-American\", \"Caucasian\", \"Caucasian\", \"Hispanic\", \"Caucasian\", \"Caucasian\", \"African-American\", \"African-American\", \"African-American\", \"Caucasian\", \"Caucasian\", \"Other\", \"Caucasian\", \"African-American\", \"Caucasian\", \"Caucasian\", \"African-American\", \"African-American\", \"African-American\", \"African-American\", \"Caucasian\", \"Caucasian\", \"African-American\", \"Caucasian\", \"Hispanic\", \"African-American\", \"Caucasian\", \"Caucasian\", \"Other\", \"African-American\", \"African-American\", \"Caucasian\", \"African-American\", \"African-American\", \"African-American\", \"Hispanic\", \"Caucasian\", \"African-American\", \"African-American\", \"African-American\", \"Hispanic\", \"African-American\", \"African-American\", \"Hispanic\", \"African-American\", \"African-American\", \"African-American\", \"African-American\", \"African-American\", \"African-American\", \"African-American\", \"Caucasian\", \"African-American\", \"Caucasian\", \"African-American\", \"Caucasian\", \"African-American\", \"African-American\", \"Caucasian\", \"Caucasian\", \"African-American\", \"African-American\", \"Caucasian\", \"African-American\", \"African-American\", \"African-American\", \"Caucasian\", \"Caucasian\", \"African-American\", \"African-American\", \"African-American\", \"Hispanic\", \"African-American\", \"African-American\", \"Caucasian\", \"Other\", \"Caucasian\", \"African-American\", \"African-American\", \"African-American\", \"Caucasian\", \"Asian\", \"Caucasian\", \"African-American\", \"Caucasian\", \"Hispanic\", \"African-American\", \"Hispanic\", \"African-American\", \"African-American\", \"African-American\", \"African-American\", \"African-American\", \"Caucasian\", \"Caucasian\", \"African-American\", \"African-American\", \"African-American\", \"African-American\", \"African-American\", \"Caucasian\", \"Caucasian\", \"African-American\", \"Caucasian\", \"Caucasian\", \"African-American\", \"African-American\", \"African-American\", \"Caucasian\", \"African-American\", \"Other\", \"Caucasian\", \"African-American\", \"Caucasian\", \"Hispanic\", \"African-American\", \"Caucasian\", \"Caucasian\", \"African-American\", \"African-American\", \"African-American\", \"Native American\", \"African-American\", \"African-American\", \"African-American\", \"Caucasian\", \"African-American\", \"Caucasian\", \"African-American\", \"Caucasian\", \"Caucasian\", \"Caucasian\", \"African-American\", \"Caucasian\", \"Caucasian\", \"Hispanic\", \"Caucasian\", \"Other\", \"Caucasian\", \"Hispanic\", \"African-American\", \"African-American\", \"African-American\", \"Caucasian\", \"Caucasian\", \"African-American\", \"African-American\", \"Caucasian\", \"Caucasian\", \"African-American\", \"African-American\", \"African-American\", \"Caucasian\", \"African-American\", \"Caucasian\", \"Asian\", \"African-American\", \"African-American\", \"Caucasian\", \"Other\", \"Caucasian\", \"African-American\", \"African-American\", \"African-American\", \"Caucasian\", \"Other\", \"African-American\", \"African-American\", \"African-American\", \"Hispanic\", \"Caucasian\", \"African-American\", \"African-American\", \"Caucasian\", \"African-American\", \"Hispanic\", \"Caucasian\", \"Hispanic\", \"African-American\", \"African-American\", \"African-American\", \"Caucasian\", \"African-American\", \"African-American\", \"Caucasian\", \"Caucasian\", \"Caucasian\", \"Hispanic\", \"African-American\", \"Hispanic\", \"African-American\", \"Hispanic\", \"Caucasian\", \"African-American\", \"Caucasian\", \"Hispanic\", \"Other\", \"African-American\", \"Caucasian\", \"African-American\", \"African-American\", \"African-American\", \"African-American\", \"Caucasian\", \"Caucasian\", \"Hispanic\", \"African-American\", \"African-American\", \"African-American\", \"African-American\", \"African-American\", \"Caucasian\", \"African-American\", \"African-American\", \"African-American\", \"Caucasian\", \"Caucasian\", \"Caucasian\", \"African-American\", \"Hispanic\", \"Caucasian\", \"Caucasian\", \"Other\", \"African-American\", \"African-American\", \"African-American\", \"African-American\", \"Caucasian\", \"African-American\", \"African-American\", \"African-American\", \"Caucasian\", \"African-American\", \"Caucasian\", \"African-American\", \"Caucasian\", \"Hispanic\", \"African-American\", \"Caucasian\", \"Caucasian\", \"Caucasian\", \"African-American\", \"Caucasian\", \"Caucasian\", \"African-American\", \"African-American\", \"Caucasian\", \"African-American\", \"Caucasian\", \"African-American\", \"Caucasian\", \"African-American\", \"African-American\", \"African-American\", \"African-American\", \"Other\", \"Other\", \"African-American\", \"African-American\", \"African-American\", \"African-American\", \"Caucasian\", \"Other\", \"Caucasian\", \"Caucasian\", \"Hispanic\", \"Caucasian\", \"African-American\", \"African-American\", \"Caucasian\", \"Caucasian\", \"African-American\", \"Other\", \"African-American\", \"Caucasian\", \"African-American\", \"African-American\", \"African-American\", \"Caucasian\", \"Other\", \"African-American\", \"African-American\", \"Other\", \"African-American\", \"African-American\", \"Caucasian\", \"African-American\", \"Caucasian\", \"Caucasian\", \"African-American\", \"African-American\", \"African-American\", \"African-American\", \"Hispanic\", \"Caucasian\", \"Caucasian\", \"Native American\", \"Other\", \"Caucasian\", \"African-American\", \"Caucasian\", \"African-American\", \"African-American\", \"African-American\", \"African-American\", \"African-American\", \"African-American\", \"African-American\", \"Caucasian\", \"Caucasian\", \"African-American\", \"Caucasian\", \"Asian\", \"African-American\", \"African-American\", \"African-American\", \"African-American\", \"Hispanic\", \"Other\", \"African-American\", \"Caucasian\", \"Caucasian\", \"African-American\", \"Caucasian\", \"African-American\", \"Caucasian\", \"African-American\", \"Hispanic\", \"Caucasian\", \"African-American\", \"Caucasian\", \"Caucasian\", \"African-American\", \"African-American\", \"African-American\", \"African-American\", \"African-American\", \"African-American\", \"Caucasian\", \"Caucasian\", \"African-American\", \"Caucasian\", \"African-American\", \"African-American\", \"Other\", \"Other\", \"African-American\", \"African-American\", \"Hispanic\", \"Caucasian\", \"African-American\", \"African-American\", \"African-American\", \"African-American\", \"African-American\", \"African-American\", \"African-American\", \"African-American\", \"Hispanic\", \"Caucasian\", \"African-American\", \"Caucasian\", \"Caucasian\", \"Other\", \"Caucasian\", \"African-American\", \"Caucasian\", \"African-American\", \"African-American\", \"African-American\", \"Caucasian\", \"Caucasian\", \"African-American\", \"African-American\", \"Caucasian\", \"African-American\", \"African-American\", \"African-American\", \"Caucasian\", \"Caucasian\", \"African-American\", \"Caucasian\", \"African-American\", \"Caucasian\", \"African-American\", \"Hispanic\", \"African-American\", \"African-American\", \"African-American\", \"Caucasian\", \"African-American\", \"African-American\", \"African-American\", \"African-American\", \"African-American\", \"African-American\", \"Hispanic\", \"Caucasian\", \"African-American\", \"African-American\", \"Caucasian\", \"Caucasian\", \"Hispanic\", \"African-American\", \"Caucasian\", \"African-American\", \"Hispanic\", \"Caucasian\", \"Caucasian\", \"Caucasian\", \"African-American\", \"African-American\", \"Other\", \"Caucasian\", \"Caucasian\", \"Caucasian\", \"Caucasian\", \"Caucasian\", \"African-American\", \"Caucasian\", \"African-American\", \"African-American\", \"Caucasian\", \"African-American\", \"African-American\", \"Hispanic\", \"African-American\", \"African-American\", \"Other\", \"Other\", \"African-American\", \"African-American\", \"African-American\", \"Hispanic\", \"Hispanic\", \"African-American\", \"Other\", \"African-American\", \"Other\", \"Caucasian\", \"African-American\", \"Caucasian\", \"African-American\", \"Caucasian\", \"Caucasian\", \"Hispanic\", \"African-American\", \"Other\", \"African-American\", \"African-American\", \"Other\", \"Caucasian\", \"African-American\", \"Caucasian\", \"African-American\", \"Hispanic\", \"Hispanic\", \"African-American\", \"Caucasian\", \"African-American\", \"African-American\", \"African-American\", \"African-American\", \"African-American\", \"Caucasian\", \"Other\", \"African-American\", \"African-American\", \"African-American\", \"Other\", \"Caucasian\", \"African-American\", \"Caucasian\", \"Caucasian\", \"Caucasian\", \"Hispanic\", \"African-American\", \"African-American\", \"Other\", \"African-American\", \"African-American\", \"Caucasian\", \"Caucasian\", \"African-American\", \"Caucasian\", \"Other\", \"African-American\", \"Other\", \"Other\", \"African-American\", \"African-American\", \"Caucasian\", \"Caucasian\", \"African-American\", \"African-American\", \"African-American\", \"African-American\", \"African-American\", \"African-American\", \"African-American\", \"African-American\", \"Caucasian\", \"Hispanic\", \"Hispanic\", \"Caucasian\", \"African-American\", \"African-American\", \"African-American\", \"African-American\", \"African-American\", \"African-American\", \"African-American\", \"Hispanic\", \"African-American\", \"Caucasian\", \"African-American\", \"Hispanic\", \"Caucasian\", \"African-American\", \"African-American\", \"Caucasian\", \"African-American\", \"Caucasian\", \"Caucasian\", \"African-American\", \"African-American\", \"Hispanic\", \"Caucasian\", \"Caucasian\", \"Caucasian\", \"African-American\", \"Caucasian\", \"Other\", \"Hispanic\", \"Other\", \"African-American\", \"African-American\", \"Caucasian\", \"African-American\", \"Caucasian\", \"Caucasian\", \"African-American\", \"African-American\", \"Caucasian\", \"African-American\", \"African-American\", \"African-American\", \"African-American\", \"African-American\", \"African-American\", \"African-American\", \"African-American\", \"African-American\", \"Hispanic\", \"Caucasian\", \"African-American\", \"African-American\", \"African-American\", \"Caucasian\", \"Caucasian\", \"African-American\", \"Caucasian\", \"Caucasian\", \"African-American\", \"African-American\", \"Caucasian\", \"Hispanic\", \"Caucasian\", \"African-American\", \"African-American\", \"Caucasian\", \"Caucasian\", \"African-American\", \"African-American\", \"African-American\", \"African-American\", \"African-American\", \"Caucasian\", \"African-American\", \"African-American\", \"Caucasian\", \"Hispanic\", \"Caucasian\", \"Caucasian\", \"Hispanic\", \"Hispanic\", \"African-American\", \"Caucasian\", \"Other\", \"Hispanic\", \"African-American\", \"African-American\", \"African-American\", \"African-American\", \"Hispanic\", \"African-American\", \"Caucasian\", \"African-American\", \"Caucasian\", \"Caucasian\", \"African-American\", \"African-American\", \"African-American\", \"Caucasian\", \"African-American\", \"Caucasian\", \"African-American\", \"Caucasian\", \"African-American\", \"African-American\", \"Other\", \"African-American\", \"African-American\", \"African-American\", \"African-American\", \"Caucasian\", \"African-American\", \"Caucasian\", \"African-American\", \"African-American\", \"African-American\", \"African-American\", \"African-American\", \"Caucasian\", \"Caucasian\", \"Caucasian\", \"African-American\", \"African-American\", \"Other\", \"Caucasian\", \"African-American\", \"Hispanic\", \"Caucasian\", \"Caucasian\", \"Caucasian\", \"African-American\", \"Caucasian\", \"Hispanic\", \"African-American\", \"Caucasian\", \"Caucasian\", \"African-American\", \"Hispanic\", \"African-American\", \"African-American\", \"African-American\", \"Hispanic\", \"Caucasian\", \"Caucasian\", \"African-American\", \"African-American\", \"Caucasian\", \"African-American\", \"Caucasian\", \"Caucasian\", \"African-American\", \"African-American\", \"African-American\", \"Caucasian\", \"African-American\", \"Hispanic\", \"African-American\", \"African-American\", \"African-American\", \"Caucasian\", \"Caucasian\", \"African-American\", \"African-American\", \"African-American\", \"Caucasian\", \"African-American\", \"African-American\", \"Caucasian\", \"Caucasian\", \"Caucasian\", \"African-American\", \"African-American\", \"African-American\", \"African-American\", \"Caucasian\", \"Caucasian\", \"African-American\", \"African-American\", \"Caucasian\", \"African-American\", \"Hispanic\", \"African-American\", \"Caucasian\", \"African-American\", \"Hispanic\", \"Other\", \"Caucasian\", \"African-American\", \"African-American\", \"Caucasian\", \"Caucasian\", \"Caucasian\", \"African-American\", \"African-American\", \"African-American\", \"Caucasian\", \"Caucasian\", \"Caucasian\", \"African-American\", \"Caucasian\", \"African-American\", \"Caucasian\", \"Caucasian\", \"African-American\", \"Caucasian\", \"African-American\", \"African-American\", \"Caucasian\", \"Caucasian\", \"African-American\", \"African-American\", \"Caucasian\", \"Caucasian\", \"African-American\", \"African-American\", \"Caucasian\", \"African-American\", \"African-American\", \"African-American\", \"African-American\", \"Caucasian\", \"Caucasian\", \"African-American\", \"African-American\", \"African-American\", \"Caucasian\", \"Caucasian\", \"African-American\", \"African-American\", \"African-American\", \"Caucasian\", \"African-American\", \"African-American\", \"African-American\", \"African-American\", \"Caucasian\", \"Hispanic\", \"Caucasian\", \"African-American\", \"African-American\", \"Caucasian\", \"African-American\", \"Other\", \"African-American\", \"African-American\", \"African-American\", \"Caucasian\", \"Caucasian\", \"Hispanic\", \"Caucasian\", \"African-American\", \"Caucasian\", \"Caucasian\", \"African-American\", \"Asian\", \"African-American\", \"African-American\", \"African-American\", \"African-American\", \"Caucasian\", \"African-American\", \"Caucasian\", \"African-American\", \"Caucasian\", \"African-American\", \"Caucasian\", \"Caucasian\", \"African-American\", \"African-American\", \"Caucasian\", \"Caucasian\", \"Other\", \"African-American\", \"African-American\", \"African-American\", \"Caucasian\", \"Caucasian\", \"African-American\", \"African-American\", \"Caucasian\", \"Caucasian\", \"Asian\", \"Caucasian\", \"Caucasian\", \"African-American\", \"Asian\", \"African-American\", \"Hispanic\", \"Caucasian\", \"African-American\", \"Caucasian\", \"Caucasian\", \"Hispanic\", \"Caucasian\", \"Caucasian\", \"Caucasian\", \"African-American\", \"African-American\", \"African-American\", \"Hispanic\", \"Hispanic\", \"African-American\", \"African-American\", \"Caucasian\", \"African-American\", \"Caucasian\", \"Caucasian\", \"Other\", \"African-American\", \"Asian\", \"African-American\", \"African-American\", \"African-American\", \"African-American\", \"Hispanic\", \"Caucasian\", \"African-American\", \"African-American\", \"Caucasian\", \"African-American\", \"Other\", \"African-American\", \"African-American\", \"Caucasian\", \"Hispanic\", \"Caucasian\", \"African-American\", \"African-American\", \"Caucasian\", \"African-American\", \"African-American\", \"African-American\", \"Caucasian\", \"Caucasian\", \"African-American\", \"Other\", \"Caucasian\", \"African-American\", \"African-American\", \"African-American\", \"African-American\", \"Caucasian\", \"African-American\", \"Other\", \"African-American\", \"African-American\", \"Hispanic\", \"African-American\", \"Hispanic\", \"Other\", \"African-American\", \"African-American\", \"Caucasian\", \"Caucasian\", \"Caucasian\", \"Caucasian\", \"African-American\", \"African-American\", \"African-American\", \"Caucasian\", \"African-American\", \"Caucasian\", \"African-American\", \"African-American\", \"Caucasian\", \"African-American\", \"African-American\", \"Caucasian\", \"Other\", \"African-American\", \"African-American\", \"Caucasian\", \"Caucasian\", \"African-American\", \"Asian\", \"Caucasian\", \"African-American\", \"Other\", \"Hispanic\", \"African-American\", \"Caucasian\", \"Hispanic\", \"African-American\", \"African-American\", \"African-American\", \"Hispanic\", \"Caucasian\", \"African-American\", \"African-American\", \"Caucasian\", \"Caucasian\", \"Caucasian\", \"Hispanic\", \"African-American\", \"African-American\", \"Caucasian\", \"African-American\", \"African-American\", \"Caucasian\", \"African-American\", \"Caucasian\", \"African-American\", \"Caucasian\", \"Caucasian\", \"African-American\", \"African-American\", \"African-American\", \"Other\", \"African-American\", \"Caucasian\", \"Hispanic\", \"Caucasian\", \"Other\", \"Caucasian\", \"Caucasian\", \"Hispanic\", \"African-American\", \"African-American\", \"Caucasian\", \"Hispanic\", \"Caucasian\", \"African-American\", \"African-American\", \"African-American\", \"African-American\", \"African-American\", \"African-American\", \"African-American\", \"Caucasian\", \"Caucasian\", \"African-American\", \"Caucasian\", \"African-American\", \"African-American\", \"Caucasian\", \"African-American\", \"Caucasian\", \"African-American\", \"African-American\", \"Caucasian\", \"Caucasian\", \"African-American\", \"African-American\", \"African-American\", \"Caucasian\", \"African-American\", \"Other\", \"African-American\", \"Caucasian\", \"African-American\", \"African-American\", \"African-American\", \"African-American\", \"Hispanic\", \"Hispanic\", \"African-American\", \"African-American\", \"Caucasian\", \"African-American\", \"Hispanic\", \"African-American\", \"African-American\", \"Caucasian\", \"African-American\", \"African-American\", \"African-American\", \"Caucasian\", \"Caucasian\", \"Caucasian\", \"African-American\", \"African-American\", \"African-American\", \"Caucasian\", \"African-American\", \"African-American\", \"Caucasian\", \"African-American\", \"Caucasian\", \"African-American\", \"African-American\", \"Caucasian\", \"Caucasian\", \"African-American\", \"African-American\", \"African-American\", \"Caucasian\", \"Hispanic\", \"Other\", \"African-American\", \"African-American\", \"Hispanic\", \"African-American\", \"African-American\", \"African-American\", \"African-American\", \"African-American\", \"Caucasian\", \"African-American\", \"African-American\", \"Caucasian\", \"Caucasian\", \"African-American\", \"Hispanic\", \"Caucasian\", \"African-American\", \"African-American\", \"African-American\", \"Caucasian\", \"African-American\", \"Other\", \"African-American\", \"Caucasian\", \"African-American\", \"African-American\", \"African-American\", \"African-American\", \"African-American\", \"Caucasian\", \"Caucasian\", \"African-American\", \"Caucasian\", \"African-American\", \"Hispanic\", \"African-American\", \"African-American\", \"Hispanic\", \"Caucasian\", \"Caucasian\", \"African-American\", \"Caucasian\", \"Other\", \"Hispanic\", \"African-American\", \"African-American\", \"Caucasian\", \"Caucasian\", \"African-American\", \"Caucasian\", \"African-American\", \"Caucasian\", \"African-American\", \"African-American\", \"African-American\", \"Asian\", \"Caucasian\", \"African-American\", \"African-American\", \"Caucasian\", \"Caucasian\", \"Caucasian\", \"Caucasian\", \"African-American\", \"African-American\", \"Caucasian\", \"Caucasian\", \"African-American\", \"Caucasian\", \"African-American\", \"Other\", \"African-American\", \"African-American\", \"African-American\", \"Caucasian\", \"Hispanic\", \"African-American\", \"Hispanic\", \"Caucasian\", \"Caucasian\", \"Caucasian\", \"African-American\", \"African-American\", \"African-American\", \"Caucasian\", \"Caucasian\", \"African-American\", \"Caucasian\", \"Caucasian\", \"Caucasian\", \"Caucasian\", \"Other\", \"Caucasian\", \"Caucasian\", \"Hispanic\", \"African-American\", \"Caucasian\", \"Caucasian\", \"African-American\", \"African-American\", \"Caucasian\", \"Caucasian\", \"African-American\", \"African-American\", \"African-American\", \"Asian\", \"Hispanic\", \"African-American\", \"Caucasian\", \"African-American\", \"Caucasian\", \"Caucasian\", \"Caucasian\", \"Caucasian\", \"Hispanic\", \"African-American\", \"Caucasian\", \"Caucasian\", \"Asian\", \"Caucasian\", \"Caucasian\", \"Caucasian\", \"African-American\", \"Hispanic\", \"African-American\", \"Caucasian\", \"African-American\", \"African-American\", \"Hispanic\", \"Hispanic\", \"Hispanic\", \"African-American\", \"African-American\", \"Caucasian\", \"African-American\", \"Other\", \"African-American\", \"African-American\", \"Hispanic\", \"Hispanic\", \"Caucasian\", \"African-American\", \"Hispanic\", \"African-American\", \"African-American\", \"Caucasian\", \"African-American\", \"Caucasian\", \"African-American\", \"Hispanic\", \"Other\", \"Other\", \"African-American\", \"African-American\", \"Caucasian\", \"Other\", \"Caucasian\", \"African-American\", \"African-American\", \"African-American\", \"Hispanic\", \"Hispanic\", \"Caucasian\", \"Hispanic\", \"Caucasian\", \"African-American\", \"African-American\", \"African-American\", \"African-American\", \"Caucasian\", \"African-American\", \"African-American\", \"African-American\", \"Caucasian\", \"African-American\", \"Other\", \"Caucasian\", \"African-American\", \"African-American\", \"African-American\", \"African-American\", \"Other\", \"Caucasian\", \"Caucasian\", \"African-American\", \"Caucasian\", \"African-American\", \"African-American\", \"Caucasian\", \"African-American\", \"Caucasian\", \"Caucasian\", \"African-American\", \"African-American\", \"African-American\", \"Hispanic\", \"Caucasian\", \"African-American\", \"African-American\", \"African-American\", \"Other\", \"Caucasian\", \"Caucasian\", \"African-American\", \"African-American\", \"Other\", \"African-American\", \"Caucasian\", \"Other\", \"African-American\", \"Native American\", \"Caucasian\", \"African-American\", \"Hispanic\", \"African-American\", \"Caucasian\", \"African-American\", \"African-American\", \"African-American\", \"Caucasian\", \"Caucasian\", \"Hispanic\", \"African-American\", \"African-American\", \"Caucasian\", \"Caucasian\", \"African-American\", \"African-American\", \"Caucasian\", \"African-American\", \"African-American\", \"Caucasian\", \"Other\", \"African-American\", \"Caucasian\", \"Caucasian\", \"Hispanic\", \"African-American\", \"Caucasian\", \"African-American\", \"Caucasian\", \"African-American\", \"Hispanic\", \"African-American\", \"African-American\", \"Other\", \"African-American\", \"African-American\", \"African-American\", \"African-American\", \"Caucasian\", \"Caucasian\", \"Caucasian\", \"African-American\", \"Caucasian\", \"Caucasian\", \"Hispanic\", \"African-American\", \"African-American\", \"Hispanic\", \"African-American\", \"Caucasian\", \"Caucasian\", \"African-American\", \"Caucasian\", \"African-American\", \"Caucasian\", \"African-American\", \"African-American\", \"Hispanic\", \"African-American\", \"Caucasian\", \"Hispanic\", \"Caucasian\", \"Other\", \"Caucasian\", \"African-American\", \"Caucasian\", \"Caucasian\", \"Other\", \"Caucasian\", \"African-American\", \"African-American\", \"African-American\", \"African-American\", \"African-American\", \"Caucasian\", \"African-American\", \"Caucasian\", \"Caucasian\", \"Hispanic\", \"African-American\", \"African-American\", \"Caucasian\", \"African-American\", \"Other\", \"African-American\", \"Other\", \"Caucasian\", \"African-American\", \"Caucasian\", \"African-American\", \"African-American\", \"African-American\", \"Other\", \"Caucasian\", \"Caucasian\", \"Caucasian\", \"Caucasian\", \"African-American\", \"Other\", \"Caucasian\", \"African-American\", \"African-American\", \"African-American\", \"African-American\", \"African-American\", \"Other\", \"Caucasian\", \"Hispanic\", \"African-American\", \"Caucasian\", \"Caucasian\", \"Hispanic\", \"Caucasian\", \"African-American\", \"African-American\", \"Hispanic\", \"African-American\", \"Caucasian\", \"African-American\", \"African-American\", \"Hispanic\", \"Caucasian\", \"African-American\", \"African-American\", \"Caucasian\", \"Other\", \"African-American\", \"African-American\", \"African-American\", \"African-American\", \"Hispanic\", \"Caucasian\", \"African-American\", \"Caucasian\", \"Caucasian\", \"African-American\", \"Caucasian\", \"Caucasian\", \"Caucasian\", \"African-American\", \"Caucasian\", \"Caucasian\", \"African-American\", \"Caucasian\", \"Caucasian\", \"Caucasian\", \"Caucasian\", \"African-American\", \"African-American\", \"African-American\", \"Caucasian\", \"Caucasian\", \"Caucasian\", \"African-American\", \"African-American\", \"Caucasian\", \"African-American\", \"African-American\", \"Other\", \"Caucasian\", \"African-American\", \"Caucasian\", \"Caucasian\", \"African-American\", \"Caucasian\", \"Caucasian\", \"Caucasian\", \"African-American\", \"African-American\", \"Hispanic\", \"African-American\", \"Caucasian\", \"Caucasian\", \"African-American\", \"African-American\", \"Caucasian\", \"African-American\", \"Caucasian\", \"African-American\", \"Caucasian\", \"Caucasian\", \"African-American\", \"Caucasian\", \"Caucasian\", \"African-American\", \"African-American\", \"African-American\", \"African-American\", \"Hispanic\", \"African-American\", \"African-American\", \"Hispanic\", \"Other\", \"African-American\", \"African-American\", \"African-American\", \"Caucasian\", \"Other\", \"African-American\", \"African-American\", \"African-American\", \"Caucasian\", \"Caucasian\", \"Hispanic\", \"Caucasian\", \"African-American\", \"Hispanic\", \"African-American\", \"African-American\", \"African-American\", \"Caucasian\", \"African-American\", \"Caucasian\", \"African-American\", \"African-American\", \"African-American\", \"Caucasian\", \"Caucasian\", \"African-American\", \"Caucasian\", \"Caucasian\", \"Caucasian\", \"African-American\", \"African-American\", \"African-American\", \"Native American\", \"Other\", \"African-American\", \"African-American\", \"African-American\", \"African-American\", \"Other\", \"Hispanic\", \"Caucasian\", \"Caucasian\", \"Caucasian\", \"Other\", \"African-American\", \"Caucasian\", \"Caucasian\", \"Caucasian\", \"Caucasian\", \"Caucasian\", \"Other\", \"African-American\", \"Hispanic\", \"Caucasian\", \"African-American\", \"African-American\", \"African-American\", \"African-American\", \"African-American\", \"African-American\", \"Caucasian\", \"Caucasian\", \"African-American\", \"African-American\", \"African-American\", \"Caucasian\", \"Caucasian\", \"Hispanic\", \"African-American\", \"Caucasian\", \"African-American\", \"Hispanic\", \"African-American\", \"African-American\", \"African-American\", \"African-American\", \"African-American\", \"Caucasian\", \"Caucasian\", \"African-American\", \"African-American\", \"African-American\", \"African-American\", \"Other\", \"Hispanic\", \"Hispanic\", \"Caucasian\", \"Caucasian\", \"African-American\", \"African-American\", \"African-American\", \"African-American\", \"African-American\", \"African-American\", \"Caucasian\", \"African-American\", \"Caucasian\", \"Caucasian\", \"African-American\", \"African-American\", \"Caucasian\", \"Hispanic\", \"African-American\", \"African-American\", \"Hispanic\", \"African-American\", \"African-American\", \"Hispanic\", \"African-American\", \"African-American\", \"African-American\", \"Caucasian\", \"Caucasian\", \"Caucasian\", \"African-American\", \"Caucasian\", \"African-American\", \"African-American\", \"Hispanic\", \"Hispanic\", \"African-American\", \"African-American\", \"African-American\", \"Hispanic\", \"African-American\", \"African-American\", \"African-American\", \"African-American\", \"Caucasian\", \"Caucasian\", \"African-American\", \"Hispanic\", \"Caucasian\", \"Caucasian\", \"Hispanic\", \"African-American\", \"Caucasian\", \"Caucasian\", \"Caucasian\", \"Caucasian\", \"African-American\", \"African-American\", \"Caucasian\", \"African-American\", \"African-American\", \"Other\", \"Other\", \"African-American\", \"African-American\", \"African-American\", \"African-American\", \"Caucasian\", \"African-American\", \"African-American\", \"Caucasian\", \"Caucasian\", \"Caucasian\", \"Caucasian\", \"Hispanic\", \"African-American\", \"African-American\", \"Caucasian\", \"Caucasian\", \"Hispanic\", \"Caucasian\", \"Caucasian\", \"African-American\", \"Caucasian\", \"Caucasian\", \"Caucasian\", \"African-American\", \"Other\", \"African-American\", \"African-American\", \"African-American\", \"Caucasian\", \"Caucasian\", \"Caucasian\", \"Hispanic\", \"Hispanic\", \"Caucasian\", \"African-American\", \"African-American\", \"Caucasian\", \"Caucasian\", \"African-American\", \"African-American\", \"Caucasian\", \"Hispanic\", \"Caucasian\", \"African-American\", \"Caucasian\", \"African-American\", \"African-American\", \"African-American\", \"Caucasian\", \"African-American\", \"Caucasian\", \"African-American\", \"Caucasian\", \"African-American\", \"African-American\", \"Caucasian\", \"African-American\", \"Caucasian\", \"African-American\", \"African-American\", \"African-American\", \"African-American\", \"African-American\", \"African-American\", \"African-American\", \"African-American\", \"Hispanic\", \"Caucasian\", \"African-American\", \"Other\", \"African-American\", \"African-American\", \"Caucasian\", \"Other\", \"African-American\", \"African-American\", \"African-American\", \"African-American\", \"Caucasian\", \"African-American\", \"Caucasian\", \"Caucasian\", \"African-American\", \"African-American\", \"Other\", \"African-American\", \"Caucasian\", \"African-American\", \"African-American\", \"African-American\", \"Caucasian\", \"African-American\", \"African-American\", \"African-American\", \"African-American\", \"African-American\", \"Hispanic\", \"African-American\", \"African-American\", \"African-American\", \"African-American\", \"Other\", \"African-American\", \"African-American\", \"African-American\", \"Caucasian\", \"Caucasian\", \"Caucasian\", \"African-American\", \"African-American\", \"Caucasian\", \"African-American\", \"African-American\", \"Caucasian\", \"African-American\", \"African-American\", \"Caucasian\", \"African-American\", \"African-American\", \"African-American\", \"African-American\", \"Caucasian\", \"Other\", \"Caucasian\", \"Caucasian\", \"African-American\", \"Hispanic\", \"African-American\", \"Other\", \"Hispanic\", \"African-American\", \"African-American\", \"African-American\", \"African-American\", \"African-American\", \"Caucasian\", \"African-American\", \"Hispanic\", \"Caucasian\", \"Caucasian\", \"Hispanic\", \"Caucasian\", \"Caucasian\", \"African-American\", \"African-American\", \"African-American\", \"Caucasian\", \"Hispanic\", \"African-American\", \"African-American\", \"Caucasian\", \"African-American\", \"African-American\", \"African-American\", \"African-American\", \"Caucasian\", \"African-American\", \"African-American\", \"Caucasian\", \"Hispanic\", \"African-American\", \"African-American\", \"African-American\", \"African-American\", \"African-American\", \"African-American\", \"African-American\", \"Caucasian\", \"Caucasian\", \"African-American\", \"African-American\", \"African-American\", \"African-American\", \"African-American\", \"African-American\", \"African-American\", \"Caucasian\", \"African-American\", \"African-American\", \"Caucasian\", \"African-American\", \"African-American\", \"African-American\", \"Hispanic\", \"Caucasian\", \"African-American\", \"Caucasian\", \"African-American\", \"Caucasian\", \"African-American\", \"African-American\", \"African-American\", \"Caucasian\", \"African-American\", \"African-American\", \"African-American\", \"African-American\", \"Caucasian\", \"African-American\", \"Hispanic\", \"Caucasian\", \"Caucasian\", \"African-American\", \"Caucasian\", \"Caucasian\", \"African-American\", \"African-American\", \"African-American\", \"African-American\", \"African-American\", \"African-American\", \"Caucasian\", \"African-American\", \"African-American\", \"Caucasian\", \"African-American\", \"Caucasian\", \"African-American\", \"African-American\", \"African-American\", \"Caucasian\", \"African-American\", \"African-American\", \"African-American\", \"African-American\", \"Caucasian\", \"African-American\", \"Caucasian\", \"Caucasian\", \"African-American\", \"African-American\", \"Caucasian\", \"African-American\", \"Caucasian\", \"African-American\", \"African-American\", \"African-American\", \"Other\", \"African-American\", \"African-American\", \"Caucasian\", \"Caucasian\", \"African-American\", \"African-American\", \"Caucasian\", \"African-American\", \"African-American\", \"African-American\", \"African-American\", \"African-American\", \"African-American\", \"Caucasian\", \"Caucasian\", \"African-American\", \"Caucasian\", \"Caucasian\", \"Caucasian\", \"African-American\", \"African-American\", \"Other\", \"African-American\", \"African-American\", \"African-American\", \"Caucasian\", \"African-American\", \"Caucasian\", \"African-American\", \"Caucasian\", \"Caucasian\", \"Hispanic\", \"Caucasian\", \"African-American\", \"Hispanic\", \"Caucasian\", \"Caucasian\", \"Caucasian\", \"African-American\", \"African-American\", \"African-American\", \"Caucasian\", \"African-American\", \"Other\", \"African-American\", \"African-American\", \"African-American\", \"African-American\", \"African-American\", \"Hispanic\", \"African-American\", \"Other\", \"African-American\", \"Hispanic\", \"Caucasian\", \"Caucasian\", \"African-American\", \"African-American\", \"African-American\", \"Caucasian\", \"Caucasian\", \"Hispanic\", \"African-American\", \"African-American\", \"African-American\", \"Hispanic\", \"African-American\", \"African-American\", \"African-American\", \"African-American\", \"Caucasian\", \"Caucasian\", \"African-American\", \"African-American\", \"African-American\", \"Caucasian\", \"Caucasian\", \"Caucasian\", \"African-American\", \"Caucasian\", \"African-American\", \"African-American\", \"African-American\", \"African-American\", \"African-American\", \"Caucasian\", \"African-American\", \"African-American\", \"African-American\", \"Other\", \"Caucasian\", \"African-American\", \"Other\", \"Hispanic\", \"African-American\", \"Hispanic\", \"African-American\", \"African-American\", \"African-American\", \"African-American\", \"African-American\", \"African-American\", \"African-American\", \"Caucasian\", \"African-American\", \"African-American\", \"African-American\", \"Other\", \"African-American\", \"Caucasian\", \"African-American\", \"Caucasian\", \"African-American\", \"African-American\", \"African-American\", \"African-American\", \"Caucasian\", \"African-American\", \"African-American\", \"Caucasian\", \"Hispanic\", \"Other\", \"Caucasian\", \"African-American\", \"Other\", \"African-American\", \"Caucasian\", \"Other\", \"Caucasian\", \"Caucasian\", \"African-American\", \"Other\", \"African-American\", \"Caucasian\", \"Hispanic\", \"Hispanic\", \"African-American\", \"African-American\", \"African-American\", \"African-American\", \"African-American\", \"Caucasian\", \"African-American\", \"Other\", \"Caucasian\", \"African-American\", \"Caucasian\", \"African-American\", \"African-American\", \"African-American\", \"Caucasian\", \"African-American\", \"African-American\", \"Hispanic\", \"African-American\", \"Caucasian\", \"African-American\", \"African-American\", \"African-American\", \"African-American\", \"African-American\", \"Other\", \"African-American\", \"African-American\", \"African-American\", \"African-American\", \"Caucasian\", \"Other\", \"Caucasian\", \"Hispanic\", \"Other\", \"African-American\", \"Other\", \"African-American\", \"Hispanic\", \"Caucasian\", \"Other\", \"African-American\", \"African-American\", \"African-American\", \"African-American\", \"African-American\", \"African-American\", \"African-American\", \"Other\", \"Hispanic\", \"Caucasian\", \"African-American\", \"Caucasian\", \"Caucasian\", \"African-American\", \"Other\", \"African-American\", \"Hispanic\", \"Caucasian\", \"Caucasian\", \"African-American\", \"Caucasian\", \"Caucasian\", \"Caucasian\", \"African-American\", \"Other\", \"African-American\", \"African-American\", \"Caucasian\", \"African-American\", \"Caucasian\", \"Caucasian\", \"African-American\", \"African-American\", \"Caucasian\", \"Caucasian\", \"Caucasian\", \"Caucasian\", \"Hispanic\", \"African-American\", \"African-American\", \"Hispanic\", \"Caucasian\", \"Caucasian\", \"African-American\", \"African-American\", \"African-American\", \"Caucasian\", \"Hispanic\", \"Caucasian\", \"Caucasian\", \"African-American\", \"Caucasian\", \"Caucasian\", \"Other\", \"Hispanic\", \"Caucasian\", \"African-American\", \"African-American\", \"Caucasian\", \"African-American\", \"Caucasian\", \"Hispanic\", \"African-American\", \"Hispanic\", \"African-American\", \"Caucasian\", \"African-American\", \"African-American\", \"Caucasian\", \"African-American\", \"African-American\", \"African-American\", \"Hispanic\", \"African-American\", \"African-American\", \"Other\", \"Caucasian\", \"African-American\", \"Caucasian\", \"Caucasian\", \"Native American\", \"African-American\", \"Hispanic\", \"African-American\", \"Hispanic\", \"African-American\", \"Caucasian\", \"Caucasian\", \"Caucasian\", \"Caucasian\", \"Hispanic\", \"Other\", \"African-American\", \"Other\", \"Caucasian\", \"African-American\", \"Caucasian\", \"African-American\", \"African-American\", \"Caucasian\", \"African-American\", \"Caucasian\", \"African-American\", \"African-American\", \"Caucasian\", \"Caucasian\", \"African-American\", \"African-American\", \"African-American\", \"Caucasian\", \"Other\", \"African-American\", \"Hispanic\", \"African-American\", \"Caucasian\", \"African-American\", \"African-American\", \"African-American\", \"African-American\", \"Caucasian\", \"Caucasian\", \"Caucasian\", \"Caucasian\", \"African-American\", \"Caucasian\", \"African-American\", \"Other\", \"Caucasian\", \"Caucasian\", \"African-American\", \"African-American\", \"African-American\", \"African-American\", \"African-American\", \"African-American\", \"African-American\", \"Caucasian\", \"African-American\", \"African-American\", \"Caucasian\", \"Caucasian\", \"Caucasian\", \"Caucasian\", \"African-American\", \"Caucasian\", \"Caucasian\", \"African-American\", \"Caucasian\", \"African-American\", \"Caucasian\", \"African-American\", \"African-American\", \"African-American\", \"African-American\", \"Caucasian\", \"Hispanic\", \"Caucasian\", \"Other\", \"African-American\", \"Caucasian\", \"Caucasian\", \"Caucasian\", \"African-American\", \"Caucasian\", \"African-American\", \"African-American\", \"Other\", \"African-American\", \"Other\", \"African-American\", \"Caucasian\", \"Caucasian\", \"Other\", \"Caucasian\", \"Caucasian\", \"Caucasian\", \"Caucasian\", \"African-American\", \"African-American\", \"African-American\", \"Hispanic\", \"African-American\", \"Caucasian\", \"African-American\", \"African-American\", \"Other\", \"African-American\", \"Caucasian\", \"African-American\", \"Hispanic\", \"African-American\", \"African-American\", \"African-American\", \"Caucasian\", \"African-American\", \"African-American\", \"African-American\", \"African-American\", \"African-American\", \"Other\", \"African-American\", \"Hispanic\", \"African-American\", \"African-American\", \"Caucasian\", \"Hispanic\", \"African-American\", \"African-American\", \"African-American\", \"Caucasian\", \"Caucasian\", \"African-American\", \"African-American\", \"African-American\", \"African-American\", \"African-American\", \"Caucasian\", \"Caucasian\", \"Caucasian\", \"African-American\", \"Hispanic\", \"Other\", \"African-American\", \"African-American\", \"Caucasian\", \"Caucasian\", \"African-American\", \"African-American\", \"African-American\", \"African-American\", \"African-American\", \"Caucasian\", \"African-American\", \"Caucasian\", \"African-American\", \"Caucasian\", \"African-American\", \"Hispanic\", \"Caucasian\", \"African-American\", \"African-American\", \"Hispanic\", \"African-American\", \"Hispanic\", \"African-American\", \"African-American\", \"African-American\", \"Caucasian\", \"Caucasian\", \"Caucasian\", \"African-American\", \"Caucasian\", \"Caucasian\", \"African-American\", \"Caucasian\", \"Caucasian\", \"Caucasian\", \"African-American\", \"Asian\", \"Caucasian\", \"African-American\", \"African-American\", \"African-American\", \"African-American\", \"Caucasian\", \"African-American\", \"Caucasian\", \"African-American\", \"Caucasian\", \"African-American\", \"Other\", \"Caucasian\", \"Asian\", \"African-American\", \"Hispanic\", \"African-American\", \"Caucasian\", \"Caucasian\", \"Hispanic\", \"African-American\", \"African-American\", \"African-American\", \"African-American\", \"African-American\", \"Hispanic\", \"Caucasian\", \"African-American\", \"African-American\", \"Other\", \"African-American\", \"African-American\", \"African-American\", \"African-American\", \"African-American\", \"African-American\", \"Caucasian\", \"African-American\", \"Caucasian\", \"Caucasian\", \"African-American\", \"African-American\", \"Asian\", \"African-American\", \"Hispanic\", \"Caucasian\", \"Other\", \"Caucasian\", \"African-American\", \"Caucasian\", \"Hispanic\", \"African-American\", \"African-American\", \"African-American\", \"Caucasian\", \"African-American\", \"African-American\", \"Caucasian\", \"Caucasian\", \"African-American\", \"Caucasian\", \"Caucasian\", \"Hispanic\", \"African-American\", \"African-American\", \"Caucasian\", \"African-American\", \"Caucasian\", \"African-American\", \"Caucasian\", \"African-American\", \"Caucasian\", \"African-American\", \"African-American\", \"African-American\", \"Hispanic\", \"African-American\", \"Caucasian\", \"Hispanic\", \"African-American\", \"Caucasian\", \"Caucasian\", \"Caucasian\", \"African-American\", \"African-American\", \"African-American\", \"African-American\", \"Caucasian\", \"Hispanic\", \"Caucasian\", \"Caucasian\", \"Caucasian\", \"African-American\", \"Caucasian\", \"African-American\", \"Caucasian\", \"Caucasian\", \"African-American\", \"Caucasian\", \"Caucasian\", \"African-American\", \"African-American\", \"Caucasian\", \"African-American\", \"Caucasian\", \"African-American\", \"African-American\", \"African-American\", \"African-American\", \"Caucasian\", \"African-American\", \"African-American\", \"Hispanic\", \"Hispanic\", \"African-American\", \"Caucasian\", \"African-American\", \"African-American\", \"African-American\", \"African-American\", \"Other\", \"African-American\", \"Hispanic\"], \"xaxis\": \"x\", \"yaxis\": \"y\"}],                        {\"barmode\": \"relative\", \"legend\": {\"tracegroupgap\": 0}, \"template\": {\"data\": {\"bar\": [{\"error_x\": {\"color\": \"#2a3f5f\"}, \"error_y\": {\"color\": \"#2a3f5f\"}, \"marker\": {\"line\": {\"color\": \"#E5ECF6\", \"width\": 0.5}}, \"type\": \"bar\"}], \"barpolar\": [{\"marker\": {\"line\": {\"color\": \"#E5ECF6\", \"width\": 0.5}}, \"type\": \"barpolar\"}], \"carpet\": [{\"aaxis\": {\"endlinecolor\": \"#2a3f5f\", \"gridcolor\": \"white\", \"linecolor\": \"white\", \"minorgridcolor\": \"white\", \"startlinecolor\": \"#2a3f5f\"}, \"baxis\": {\"endlinecolor\": \"#2a3f5f\", \"gridcolor\": \"white\", \"linecolor\": \"white\", \"minorgridcolor\": \"white\", \"startlinecolor\": \"#2a3f5f\"}, \"type\": \"carpet\"}], \"choropleth\": [{\"colorbar\": {\"outlinewidth\": 0, \"ticks\": \"\"}, \"type\": \"choropleth\"}], \"contour\": [{\"colorbar\": {\"outlinewidth\": 0, \"ticks\": \"\"}, \"colorscale\": [[0.0, \"#0d0887\"], [0.1111111111111111, \"#46039f\"], [0.2222222222222222, \"#7201a8\"], [0.3333333333333333, \"#9c179e\"], [0.4444444444444444, \"#bd3786\"], [0.5555555555555556, \"#d8576b\"], [0.6666666666666666, \"#ed7953\"], [0.7777777777777778, \"#fb9f3a\"], [0.8888888888888888, \"#fdca26\"], [1.0, \"#f0f921\"]], \"type\": \"contour\"}], \"contourcarpet\": [{\"colorbar\": {\"outlinewidth\": 0, \"ticks\": \"\"}, \"type\": \"contourcarpet\"}], \"heatmap\": [{\"colorbar\": {\"outlinewidth\": 0, \"ticks\": \"\"}, \"colorscale\": [[0.0, \"#0d0887\"], [0.1111111111111111, \"#46039f\"], [0.2222222222222222, \"#7201a8\"], [0.3333333333333333, \"#9c179e\"], [0.4444444444444444, \"#bd3786\"], [0.5555555555555556, \"#d8576b\"], [0.6666666666666666, \"#ed7953\"], [0.7777777777777778, \"#fb9f3a\"], [0.8888888888888888, \"#fdca26\"], [1.0, \"#f0f921\"]], \"type\": \"heatmap\"}], \"heatmapgl\": [{\"colorbar\": {\"outlinewidth\": 0, \"ticks\": \"\"}, \"colorscale\": [[0.0, \"#0d0887\"], [0.1111111111111111, \"#46039f\"], [0.2222222222222222, \"#7201a8\"], [0.3333333333333333, \"#9c179e\"], [0.4444444444444444, \"#bd3786\"], [0.5555555555555556, \"#d8576b\"], [0.6666666666666666, \"#ed7953\"], [0.7777777777777778, \"#fb9f3a\"], [0.8888888888888888, \"#fdca26\"], [1.0, \"#f0f921\"]], \"type\": \"heatmapgl\"}], \"histogram\": [{\"marker\": {\"colorbar\": {\"outlinewidth\": 0, \"ticks\": \"\"}}, \"type\": \"histogram\"}], \"histogram2d\": [{\"colorbar\": {\"outlinewidth\": 0, \"ticks\": \"\"}, \"colorscale\": [[0.0, \"#0d0887\"], [0.1111111111111111, \"#46039f\"], [0.2222222222222222, \"#7201a8\"], [0.3333333333333333, \"#9c179e\"], [0.4444444444444444, \"#bd3786\"], [0.5555555555555556, \"#d8576b\"], [0.6666666666666666, \"#ed7953\"], [0.7777777777777778, \"#fb9f3a\"], [0.8888888888888888, \"#fdca26\"], [1.0, \"#f0f921\"]], \"type\": \"histogram2d\"}], \"histogram2dcontour\": [{\"colorbar\": {\"outlinewidth\": 0, \"ticks\": \"\"}, \"colorscale\": [[0.0, \"#0d0887\"], [0.1111111111111111, \"#46039f\"], [0.2222222222222222, \"#7201a8\"], [0.3333333333333333, \"#9c179e\"], [0.4444444444444444, \"#bd3786\"], [0.5555555555555556, \"#d8576b\"], [0.6666666666666666, \"#ed7953\"], [0.7777777777777778, \"#fb9f3a\"], [0.8888888888888888, \"#fdca26\"], [1.0, \"#f0f921\"]], \"type\": \"histogram2dcontour\"}], \"mesh3d\": [{\"colorbar\": {\"outlinewidth\": 0, \"ticks\": \"\"}, \"type\": \"mesh3d\"}], \"parcoords\": [{\"line\": {\"colorbar\": {\"outlinewidth\": 0, \"ticks\": \"\"}}, \"type\": \"parcoords\"}], \"pie\": [{\"automargin\": true, \"type\": \"pie\"}], \"scatter\": [{\"marker\": {\"colorbar\": {\"outlinewidth\": 0, \"ticks\": \"\"}}, \"type\": \"scatter\"}], \"scatter3d\": [{\"line\": {\"colorbar\": {\"outlinewidth\": 0, \"ticks\": \"\"}}, \"marker\": {\"colorbar\": {\"outlinewidth\": 0, \"ticks\": \"\"}}, \"type\": \"scatter3d\"}], \"scattercarpet\": [{\"marker\": {\"colorbar\": {\"outlinewidth\": 0, \"ticks\": \"\"}}, \"type\": \"scattercarpet\"}], \"scattergeo\": [{\"marker\": {\"colorbar\": {\"outlinewidth\": 0, \"ticks\": \"\"}}, \"type\": \"scattergeo\"}], \"scattergl\": [{\"marker\": {\"colorbar\": {\"outlinewidth\": 0, \"ticks\": \"\"}}, \"type\": \"scattergl\"}], \"scattermapbox\": [{\"marker\": {\"colorbar\": {\"outlinewidth\": 0, \"ticks\": \"\"}}, \"type\": \"scattermapbox\"}], \"scatterpolar\": [{\"marker\": {\"colorbar\": {\"outlinewidth\": 0, \"ticks\": \"\"}}, \"type\": \"scatterpolar\"}], \"scatterpolargl\": [{\"marker\": {\"colorbar\": {\"outlinewidth\": 0, \"ticks\": \"\"}}, \"type\": \"scatterpolargl\"}], \"scatterternary\": [{\"marker\": {\"colorbar\": {\"outlinewidth\": 0, \"ticks\": \"\"}}, \"type\": \"scatterternary\"}], \"surface\": [{\"colorbar\": {\"outlinewidth\": 0, \"ticks\": \"\"}, \"colorscale\": [[0.0, \"#0d0887\"], [0.1111111111111111, \"#46039f\"], [0.2222222222222222, \"#7201a8\"], [0.3333333333333333, \"#9c179e\"], [0.4444444444444444, \"#bd3786\"], [0.5555555555555556, \"#d8576b\"], [0.6666666666666666, \"#ed7953\"], [0.7777777777777778, \"#fb9f3a\"], [0.8888888888888888, \"#fdca26\"], [1.0, \"#f0f921\"]], \"type\": \"surface\"}], \"table\": [{\"cells\": {\"fill\": {\"color\": \"#EBF0F8\"}, \"line\": {\"color\": \"white\"}}, \"header\": {\"fill\": {\"color\": \"#C8D4E3\"}, \"line\": {\"color\": \"white\"}}, \"type\": \"table\"}]}, \"layout\": {\"annotationdefaults\": {\"arrowcolor\": \"#2a3f5f\", \"arrowhead\": 0, \"arrowwidth\": 1}, \"autotypenumbers\": \"strict\", \"coloraxis\": {\"colorbar\": {\"outlinewidth\": 0, \"ticks\": \"\"}}, \"colorscale\": {\"diverging\": [[0, \"#8e0152\"], [0.1, \"#c51b7d\"], [0.2, \"#de77ae\"], [0.3, \"#f1b6da\"], [0.4, \"#fde0ef\"], [0.5, \"#f7f7f7\"], [0.6, \"#e6f5d0\"], [0.7, \"#b8e186\"], [0.8, \"#7fbc41\"], [0.9, \"#4d9221\"], [1, \"#276419\"]], \"sequential\": [[0.0, \"#0d0887\"], [0.1111111111111111, \"#46039f\"], [0.2222222222222222, \"#7201a8\"], [0.3333333333333333, \"#9c179e\"], [0.4444444444444444, \"#bd3786\"], [0.5555555555555556, \"#d8576b\"], [0.6666666666666666, \"#ed7953\"], [0.7777777777777778, \"#fb9f3a\"], [0.8888888888888888, \"#fdca26\"], [1.0, \"#f0f921\"]], \"sequentialminus\": [[0.0, \"#0d0887\"], [0.1111111111111111, \"#46039f\"], [0.2222222222222222, \"#7201a8\"], [0.3333333333333333, \"#9c179e\"], [0.4444444444444444, \"#bd3786\"], [0.5555555555555556, \"#d8576b\"], [0.6666666666666666, \"#ed7953\"], [0.7777777777777778, \"#fb9f3a\"], [0.8888888888888888, \"#fdca26\"], [1.0, \"#f0f921\"]]}, \"colorway\": [\"#636efa\", \"#EF553B\", \"#00cc96\", \"#ab63fa\", \"#FFA15A\", \"#19d3f3\", \"#FF6692\", \"#B6E880\", \"#FF97FF\", \"#FECB52\"], \"font\": {\"color\": \"#2a3f5f\"}, \"geo\": {\"bgcolor\": \"white\", \"lakecolor\": \"white\", \"landcolor\": \"#E5ECF6\", \"showlakes\": true, \"showland\": true, \"subunitcolor\": \"white\"}, \"hoverlabel\": {\"align\": \"left\"}, \"hovermode\": \"closest\", \"mapbox\": {\"style\": \"light\"}, \"paper_bgcolor\": \"white\", \"plot_bgcolor\": \"#E5ECF6\", \"polar\": {\"angularaxis\": {\"gridcolor\": \"white\", \"linecolor\": \"white\", \"ticks\": \"\"}, \"bgcolor\": \"#E5ECF6\", \"radialaxis\": {\"gridcolor\": \"white\", \"linecolor\": \"white\", \"ticks\": \"\"}}, \"scene\": {\"xaxis\": {\"backgroundcolor\": \"#E5ECF6\", \"gridcolor\": \"white\", \"gridwidth\": 2, \"linecolor\": \"white\", \"showbackground\": true, \"ticks\": \"\", \"zerolinecolor\": \"white\"}, \"yaxis\": {\"backgroundcolor\": \"#E5ECF6\", \"gridcolor\": \"white\", \"gridwidth\": 2, \"linecolor\": \"white\", \"showbackground\": true, \"ticks\": \"\", \"zerolinecolor\": \"white\"}, \"zaxis\": {\"backgroundcolor\": \"#E5ECF6\", \"gridcolor\": \"white\", \"gridwidth\": 2, \"linecolor\": \"white\", \"showbackground\": true, \"ticks\": \"\", \"zerolinecolor\": \"white\"}}, \"shapedefaults\": {\"line\": {\"color\": \"#2a3f5f\"}}, \"ternary\": {\"aaxis\": {\"gridcolor\": \"white\", \"linecolor\": \"white\", \"ticks\": \"\"}, \"baxis\": {\"gridcolor\": \"white\", \"linecolor\": \"white\", \"ticks\": \"\"}, \"bgcolor\": \"#E5ECF6\", \"caxis\": {\"gridcolor\": \"white\", \"linecolor\": \"white\", \"ticks\": \"\"}}, \"title\": {\"x\": 0.05}, \"xaxis\": {\"automargin\": true, \"gridcolor\": \"white\", \"linecolor\": \"white\", \"ticks\": \"\", \"title\": {\"standoff\": 15}, \"zerolinecolor\": \"white\", \"zerolinewidth\": 2}, \"yaxis\": {\"automargin\": true, \"gridcolor\": \"white\", \"linecolor\": \"white\", \"ticks\": \"\", \"title\": {\"standoff\": 15}, \"zerolinecolor\": \"white\", \"zerolinewidth\": 2}}}, \"title\": {\"text\": \"race\"}, \"xaxis\": {\"anchor\": \"y\", \"domain\": [0.0, 1.0], \"title\": {\"text\": \"race\"}}, \"yaxis\": {\"anchor\": \"x\", \"domain\": [0.0, 1.0], \"title\": {\"text\": \"count\"}}},                        {\"responsive\": true}                    ).then(function(){\n",
       "                            \n",
       "var gd = document.getElementById('a9e8fcec-26a5-4a7d-b766-fa040e1e8828');\n",
       "var x = new MutationObserver(function (mutations, observer) {{\n",
       "        var display = window.getComputedStyle(gd).display;\n",
       "        if (!display || display === 'none') {{\n",
       "            console.log([gd, 'removed!']);\n",
       "            Plotly.purge(gd);\n",
       "            observer.disconnect();\n",
       "        }}\n",
       "}});\n",
       "\n",
       "// Listen for the removal of the full notebook cells\n",
       "var notebookContainer = gd.closest('#notebook-container');\n",
       "if (notebookContainer) {{\n",
       "    x.observe(notebookContainer, {childList: true});\n",
       "}}\n",
       "\n",
       "// Listen for the clearing of the current output cell\n",
       "var outputEl = gd.closest('.output');\n",
       "if (outputEl) {{\n",
       "    x.observe(outputEl, {childList: true});\n",
       "}}\n",
       "\n",
       "                        })                };                });            </script>        </div>"
      ]
     },
     "metadata": {},
     "output_type": "display_data"
    }
   ],
   "source": [
    "result = get_basic_stats(\"race\",plot_hist=True)"
   ]
  },
  {
   "cell_type": "code",
   "execution_count": 10,
   "metadata": {
    "id": "QpVT42IAjkH5",
    "scrolled": false
   },
   "outputs": [
    {
     "data": {
      "text/html": [
       "<div>                            <div id=\"3b5f2894-b15d-498c-9eb7-fe519fff80aa\" class=\"plotly-graph-div\" style=\"height:525px; width:100%;\"></div>            <script type=\"text/javascript\">                require([\"plotly\"], function(Plotly) {                    window.PLOTLYENV=window.PLOTLYENV || {};                                    if (document.getElementById(\"3b5f2894-b15d-498c-9eb7-fe519fff80aa\")) {                    Plotly.newPlot(                        \"3b5f2894-b15d-498c-9eb7-fe519fff80aa\",                        [{\"alignmentgroup\": \"True\", \"bingroup\": \"x\", \"hovertemplate\": \"age=%{x}<br>count=%{y}<extra></extra>\", \"legendgroup\": \"\", \"marker\": {\"color\": \"indianred\", \"opacity\": 0.8}, \"name\": \"\", \"offsetgroup\": \"\", \"orientation\": \"v\", \"showlegend\": false, \"type\": \"histogram\", \"x\": [69, 34, 24, 44, 41, 43, 39, 27, 23, 37, 41, 47, 31, 37, 25, 31, 31, 64, 21, 27, 21, 24, 43, 32, 27, 26, 33, 30, 32, 55, 49, 33, 24, 34, 29, 21, 51, 29, 51, 29, 25, 35, 49, 29, 29, 28, 31, 24, 30, 49, 53, 35, 27, 38, 22, 29, 62, 27, 33, 56, 45, 22, 39, 29, 27, 40, 22, 22, 26, 32, 41, 30, 50, 25, 20, 22, 35, 36, 26, 21, 25, 20, 39, 54, 44, 19, 30, 39, 24, 30, 31, 39, 43, 21, 38, 34, 33, 37, 42, 41, 22, 33, 31, 30, 31, 27, 52, 33, 42, 25, 30, 37, 28, 24, 29, 44, 32, 31, 31, 59, 20, 43, 38, 32, 33, 31, 33, 27, 20, 26, 61, 52, 63, 32, 29, 26, 39, 30, 30, 48, 22, 46, 31, 25, 23, 32, 52, 62, 31, 28, 54, 58, 78, 56, 24, 22, 47, 23, 57, 66, 45, 37, 39, 26, 45, 23, 34, 23, 36, 50, 37, 44, 35, 24, 26, 27, 28, 28, 38, 28, 56, 38, 28, 51, 51, 36, 48, 37, 30, 41, 27, 37, 33, 54, 23, 41, 52, 43, 52, 28, 30, 28, 22, 30, 25, 31, 37, 32, 53, 28, 44, 25, 22, 37, 40, 31, 23, 23, 24, 29, 20, 30, 39, 27, 37, 20, 22, 52, 23, 48, 25, 27, 30, 22, 22, 41, 25, 52, 43, 37, 70, 46, 21, 26, 38, 34, 34, 23, 34, 39, 24, 58, 21, 23, 62, 37, 43, 32, 23, 27, 44, 28, 42, 24, 27, 20, 51, 56, 29, 20, 27, 24, 53, 28, 21, 36, 25, 23, 28, 21, 36, 24, 30, 29, 30, 51, 32, 23, 47, 37, 19, 27, 39, 21, 69, 21, 26, 22, 23, 49, 29, 60, 23, 20, 36, 30, 21, 22, 21, 21, 34, 50, 40, 25, 53, 24, 42, 28, 26, 22, 21, 37, 35, 53, 29, 48, 52, 27, 28, 33, 28, 36, 29, 22, 25, 56, 27, 52, 32, 60, 23, 39, 56, 22, 53, 25, 21, 22, 58, 31, 22, 28, 42, 20, 29, 58, 22, 48, 37, 57, 27, 26, 24, 33, 29, 24, 19, 36, 24, 34, 25, 20, 24, 61, 50, 30, 38, 24, 46, 41, 20, 27, 26, 29, 52, 28, 55, 26, 28, 63, 42, 23, 54, 35, 24, 54, 58, 23, 35, 20, 51, 24, 37, 47, 34, 56, 34, 59, 35, 58, 29, 24, 21, 50, 26, 30, 29, 54, 29, 59, 38, 27, 26, 52, 66, 27, 51, 35, 52, 48, 26, 48, 30, 28, 33, 34, 25, 59, 29, 24, 48, 52, 20, 25, 24, 23, 27, 25, 31, 25, 32, 21, 37, 25, 32, 35, 42, 24, 21, 47, 27, 43, 46, 44, 23, 42, 58, 26, 48, 39, 21, 63, 22, 50, 38, 41, 28, 30, 23, 25, 40, 24, 27, 44, 35, 42, 38, 26, 25, 64, 49, 50, 66, 46, 30, 22, 23, 30, 31, 31, 25, 21, 27, 20, 32, 24, 20, 31, 27, 40, 22, 38, 36, 30, 27, 59, 37, 28, 38, 22, 25, 51, 29, 28, 55, 23, 22, 19, 31, 29, 61, 31, 20, 26, 27, 25, 23, 38, 27, 35, 22, 58, 57, 21, 22, 30, 30, 31, 45, 39, 31, 22, 27, 38, 31, 47, 22, 35, 23, 65, 35, 33, 53, 52, 21, 37, 30, 54, 31, 59, 27, 36, 46, 22, 28, 34, 29, 23, 27, 21, 48, 31, 36, 44, 53, 33, 47, 57, 28, 24, 44, 46, 37, 26, 27, 40, 60, 53, 28, 23, 46, 23, 50, 45, 22, 26, 62, 34, 24, 21, 25, 68, 21, 37, 22, 42, 22, 45, 36, 48, 23, 24, 29, 24, 50, 34, 23, 22, 36, 30, 21, 53, 25, 25, 71, 39, 37, 20, 29, 22, 26, 47, 21, 23, 20, 23, 27, 53, 23, 26, 25, 23, 27, 29, 27, 28, 31, 41, 25, 47, 37, 35, 24, 21, 22, 57, 48, 36, 37, 31, 22, 31, 24, 32, 23, 63, 30, 20, 24, 36, 83, 28, 36, 33, 39, 29, 30, 24, 35, 24, 26, 28, 32, 32, 33, 29, 34, 37, 43, 47, 25, 23, 39, 35, 33, 21, 43, 25, 48, 22, 52, 26, 67, 34, 56, 28, 29, 37, 43, 51, 20, 26, 39, 21, 21, 24, 26, 48, 24, 26, 46, 24, 21, 24, 36, 30, 22, 25, 31, 24, 39, 46, 30, 40, 52, 23, 26, 22, 42, 23, 33, 28, 50, 32, 24, 51, 19, 32, 31, 29, 43, 26, 27, 52, 27, 57, 28, 32, 27, 45, 42, 33, 28, 53, 24, 28, 28, 39, 22, 46, 25, 52, 28, 57, 49, 21, 32, 63, 29, 46, 28, 27, 69, 47, 45, 33, 27, 32, 24, 26, 47, 25, 21, 25, 22, 26, 20, 30, 45, 33, 35, 41, 23, 21, 54, 27, 22, 21, 23, 30, 36, 29, 54, 22, 26, 20, 52, 29, 23, 35, 32, 21, 25, 30, 30, 23, 32, 29, 42, 21, 22, 45, 29, 30, 51, 45, 24, 23, 36, 69, 21, 59, 39, 29, 22, 44, 25, 31, 35, 27, 33, 28, 60, 53, 51, 54, 24, 55, 26, 75, 36, 34, 25, 46, 27, 28, 42, 59, 39, 46, 25, 55, 35, 43, 53, 21, 55, 27, 40, 37, 32, 32, 36, 22, 31, 26, 50, 47, 36, 38, 35, 53, 53, 57, 22, 21, 26, 27, 49, 47, 30, 44, 34, 45, 38, 50, 29, 26, 22, 47, 49, 49, 59, 32, 24, 40, 32, 54, 27, 25, 20, 37, 30, 23, 20, 50, 50, 40, 24, 24, 23, 54, 25, 46, 25, 22, 32, 25, 33, 33, 24, 33, 37, 40, 43, 35, 25, 61, 52, 39, 47, 52, 37, 24, 34, 20, 25, 62, 23, 60, 35, 24, 30, 35, 28, 56, 23, 20, 23, 21, 35, 33, 21, 41, 24, 20, 28, 25, 49, 22, 21, 27, 50, 23, 34, 25, 33, 25, 30, 42, 29, 32, 24, 52, 26, 31, 38, 30, 20, 24, 31, 37, 43, 49, 33, 42, 44, 28, 32, 28, 38, 38, 34, 21, 36, 29, 34, 38, 36, 32, 23, 47, 20, 25, 35, 28, 24, 22, 20, 40, 27, 60, 33, 34, 24, 27, 29, 21, 32, 42, 32, 27, 30, 22, 20, 57, 51, 21, 22, 35, 58, 32, 30, 20, 40, 45, 31, 23, 26, 53, 44, 44, 21, 28, 28, 24, 28, 53, 47, 20, 21, 30, 37, 60, 26, 30, 26, 26, 21, 39, 30, 44, 45, 30, 38, 23, 46, 42, 54, 47, 26, 29, 51, 44, 49, 22, 32, 27, 30, 28, 45, 51, 27, 32, 43, 37, 26, 26, 32, 39, 58, 33, 22, 21, 31, 43, 23, 25, 22, 30, 25, 20, 39, 33, 59, 21, 53, 34, 36, 23, 32, 32, 66, 24, 30, 28, 43, 35, 19, 22, 29, 23, 33, 35, 53, 59, 48, 33, 44, 31, 28, 51, 23, 21, 26, 22, 29, 20, 44, 41, 28, 27, 31, 26, 20, 55, 36, 48, 22, 23, 34, 59, 37, 28, 31, 38, 33, 27, 25, 42, 22, 21, 45, 21, 52, 29, 37, 34, 53, 30, 35, 28, 21, 22, 42, 26, 54, 39, 30, 26, 41, 23, 43, 22, 27, 42, 25, 49, 52, 60, 23, 30, 48, 32, 28, 24, 22, 44, 32, 27, 52, 61, 69, 51, 21, 31, 19, 24, 24, 57, 30, 43, 24, 30, 25, 56, 21, 31, 23, 30, 42, 64, 21, 36, 50, 23, 28, 25, 54, 37, 25, 63, 35, 26, 25, 33, 29, 27, 37, 20, 32, 72, 38, 40, 23, 21, 27, 55, 41, 56, 55, 23, 28, 31, 53, 27, 22, 22, 33, 34, 22, 32, 47, 24, 25, 56, 36, 28, 20, 59, 29, 72, 24, 45, 30, 45, 47, 24, 20, 51, 49, 41, 49, 26, 28, 33, 46, 21, 26, 48, 58, 29, 20, 28, 21, 26, 34, 32, 38, 22, 42, 57, 56, 32, 30, 29, 46, 24, 70, 21, 45, 33, 39, 25, 48, 46, 28, 27, 43, 30, 29, 54, 20, 29, 67, 25, 24, 29, 45, 31, 23, 21, 61, 51, 32, 43, 32, 36, 58, 57, 37, 44, 45, 48, 26, 34, 25, 31, 43, 30, 50, 31, 33, 32, 46, 22, 37, 32, 23, 21, 52, 49, 55, 22, 45, 31, 22, 28, 21, 37, 30, 22, 35, 28, 24, 32, 24, 57, 21, 28, 51, 26, 20, 25, 19, 49, 57, 27, 66, 21, 45, 37, 44, 64, 30, 61, 49, 23, 21, 30, 26, 35, 27, 38, 48, 26, 24, 28, 44, 23, 34, 20, 63, 36, 58, 35, 23, 40, 31, 34, 23, 27, 26, 49, 47, 47, 34, 27, 52, 26, 25, 51, 29, 46, 28, 57, 23, 34, 27, 25, 31, 37, 51, 28, 56, 45, 26, 33, 23, 31, 31, 19, 32, 30, 66, 40, 59, 27, 22, 58, 29, 27, 24, 35, 29, 30, 23, 32, 22, 21, 43, 29, 43, 25, 47, 21, 54, 34, 28, 53, 54, 37, 34, 60, 22, 51, 29, 28, 33, 43, 45, 32, 35, 23, 41, 25, 35, 25, 69, 24, 28, 47, 29, 26, 31, 28, 48, 44, 42, 39, 46, 55, 27, 31, 25, 32, 36, 21, 39, 26, 28, 67, 22, 37, 23, 49, 32, 41, 25, 58, 44, 28, 39, 54, 43, 31, 30, 27, 28, 24, 43, 44, 24, 23, 36, 27, 24, 66, 36, 53, 23, 22, 25, 56, 51, 58, 24, 22, 39, 20, 46, 38, 23, 39, 25, 31, 25, 26, 25, 37, 36, 26, 21, 35, 22, 25, 36, 24, 21, 32, 33, 33, 29, 50, 33, 37, 27, 27, 21, 58, 27, 28, 31, 24, 26, 43, 22, 23, 42, 30, 29, 38, 26, 51, 36, 62, 23, 34, 35, 22, 29, 40, 36, 26, 25, 69, 27, 20, 27, 24, 42, 25, 25, 22, 21, 30, 46, 26, 33, 40, 34, 22, 28, 31, 59, 37, 50, 57, 31, 44, 48, 25, 51, 50, 57, 55, 59, 42, 20, 21, 32, 24, 42, 29, 21, 58, 22, 46, 50, 46, 44, 35, 30, 42, 46, 42, 29, 32, 31, 33, 25, 33, 21, 35, 56, 38, 40, 28, 51, 35, 61, 25, 25, 26, 42, 25, 26, 31, 35, 34, 33, 30, 50, 21, 31, 31, 23, 25, 24, 31, 60, 30, 32, 46, 21, 35, 34, 41, 23, 23, 28, 21, 46, 56, 40, 30, 24, 33, 48, 33, 25, 30, 37, 43, 32, 33, 39, 49, 24, 26, 42, 22, 36, 29, 39, 27, 38, 20, 25, 53, 27, 21, 50, 41, 22, 22, 25, 42, 51, 24, 37, 37, 27, 21, 35, 24, 49, 38, 61, 30, 22, 25, 30, 52, 26, 26, 45, 20, 29, 43, 26, 46, 46, 29, 41, 25, 23, 30, 34, 70, 52, 51, 45, 55, 49, 47, 27, 25, 21, 37, 21, 21, 25, 27, 30, 70, 37, 46, 40, 43, 38, 29, 37, 38, 27, 20, 44, 31, 29, 30, 25, 40, 33, 26, 31, 61, 30, 62, 27, 48, 40, 24, 22, 30, 63, 33, 43, 26, 51, 39, 30, 32, 22, 59, 38, 23, 42, 38, 34, 36, 36, 31, 28, 28, 43, 40, 31, 54, 24, 41, 21, 29, 22, 52, 40, 45, 29, 46, 21, 35, 52, 48, 29, 48, 31, 21, 32, 47, 21, 35, 46, 34, 52, 21, 53, 19, 22, 45, 27, 25, 30, 31, 28, 36, 27, 42, 35, 33, 24, 25, 42, 21, 28, 27, 21, 26, 36, 49, 44, 28, 35, 34, 45, 28, 25, 21, 48, 37, 24, 37, 39, 24, 49, 23, 43, 28, 53, 27, 39, 47, 28, 36, 24, 35, 23, 26, 31, 30, 25, 24, 34, 26, 60, 20, 23, 26, 40, 28, 49, 19, 53, 24, 31, 33, 26, 32, 25, 21, 38, 23, 20, 39, 24, 23, 49, 31, 20, 28, 67, 33, 52, 45, 27, 22, 40, 30, 42, 24, 46, 38, 32, 26, 54, 27, 61, 51, 57, 24, 34, 27, 28, 35, 30, 44, 61, 26, 48, 42, 38, 53, 26, 22, 50, 44, 24, 21, 50, 36, 39, 54, 29, 26, 41, 23, 34, 31, 20, 49, 26, 28, 26, 55, 22, 26, 56, 46, 58, 28, 33, 31, 26, 34, 33, 32, 37, 50, 35, 47, 52, 26, 45, 19, 41, 24, 21, 54, 49, 42, 21, 46, 74, 38, 39, 38, 19, 28, 25, 53, 23, 55, 64, 23, 23, 41, 53, 34, 24, 26, 44, 27, 28, 55, 36, 23, 56, 27, 37, 32, 41, 22, 37, 45, 31, 42, 26, 33, 22, 36, 54, 25, 24, 23, 61, 42, 28, 27, 24, 32, 38, 21, 27, 39, 29, 29, 36, 46, 44, 27, 27, 61, 47, 27, 28, 31, 26, 53, 26, 25, 23, 21, 23, 30, 45, 27, 26, 21, 62, 48, 53, 62, 28, 56, 35, 56, 22, 26, 35, 22, 37, 32, 33, 38, 53, 32, 26, 61, 21, 69, 26, 30, 21, 41, 45, 31, 22, 54, 50, 37, 21, 23, 30, 30, 26, 59, 29, 67, 30, 25, 45, 22, 41, 46, 27, 37, 22, 19, 45, 33, 52, 21, 43, 33, 26, 37, 38, 35, 27, 40, 21, 38, 37, 44, 30, 40, 49, 67, 59, 21, 31, 50, 30, 28, 48, 55, 42, 34, 43, 44, 29, 25, 32, 96, 29, 27, 31, 24, 34, 48, 41, 26, 42, 29, 26, 27, 35, 54, 20, 27, 21, 27, 34, 54, 29, 39, 33, 40, 35, 28, 53, 28, 26, 31, 24, 45, 33, 28, 45, 33, 23, 36, 22, 28, 37, 52, 26, 28, 33, 23, 31, 55, 24, 37, 41, 26, 41, 33, 47, 23, 27, 24, 30, 55, 26, 35, 20, 24, 31, 55, 33, 44, 41, 56, 21, 48, 56, 39, 31, 25, 28, 30, 19, 20, 57, 51, 27, 26, 23, 35, 37, 48, 21, 52, 22, 41, 25, 54, 25, 40, 22, 50, 35, 28, 21, 27, 22, 38, 32, 59, 20, 59, 44, 26, 30, 25, 44, 31, 32, 37, 22, 38, 34, 30, 38, 36, 46, 35, 35, 20, 30, 34, 31, 32, 31, 22, 31, 36, 39, 51, 35, 35, 23, 37, 25, 27, 47, 46, 27, 34, 25, 26, 25, 60, 49, 30, 21, 25, 21, 29, 29, 21, 53, 51, 29, 24, 24, 37, 20, 53, 25, 38, 22, 21, 21, 27, 28, 49, 52, 25, 56, 34, 35, 23, 22, 23, 30, 42, 50, 37, 37, 23, 41, 50, 41, 26, 40, 23, 55, 24, 33, 23, 37, 64, 51, 40, 35, 22, 29, 57, 20, 23, 23, 36, 55, 53, 21, 27, 28, 26, 25, 66, 28, 24, 60, 37, 73, 44, 42, 40, 21, 56, 42, 50, 34, 47, 58, 48, 20, 53, 29, 38, 43, 25, 53, 22, 32, 26, 48, 23, 71, 61, 22, 54, 24, 28, 25, 22, 24, 35, 21, 49, 26, 30, 30, 64, 45, 37, 34, 60, 58, 27, 30, 25, 60, 56, 33, 25, 32, 24, 23, 23, 25, 20, 32, 49, 22, 24, 26, 29, 22, 26, 21, 54, 59, 22, 24, 64, 45, 22, 24, 30, 27, 20, 29, 28, 37, 25, 23, 32, 44, 41, 30, 27, 32, 40, 34, 33, 33, 37, 28, 25, 30, 47, 24, 31, 52, 25, 46, 62, 36, 24, 37, 25, 21, 38, 29, 52, 29, 59, 39, 48, 31, 20, 50, 27, 27, 31, 24, 24, 30, 41, 38, 32, 69, 25, 55, 28, 27, 20, 36, 39, 25, 35, 32, 69, 21, 41, 21, 38, 21, 35, 34, 52, 21, 43, 32, 49, 21, 28, 65, 27, 48, 20, 49, 42, 63, 40, 34, 21, 27, 29, 35, 50, 47, 44, 56, 23, 54, 38, 25, 44, 52, 52, 21, 30, 56, 35, 39, 29, 23, 26, 64, 58, 20, 21, 21, 23, 46, 25, 35, 30, 47, 30, 47, 39, 30, 24, 45, 26, 39, 40, 24, 23, 61, 42, 38, 67, 23, 31, 40, 44, 37, 22, 31, 28, 24, 33, 30, 31, 35, 57, 39, 65, 22, 35, 29, 62, 22, 31, 56, 25, 33, 25, 27, 37, 41, 35, 25, 55, 26, 35, 50, 25, 65, 31, 24, 34, 24, 30, 35, 30, 24, 51, 28, 27, 22, 29, 31, 31, 32, 27, 29, 59, 24, 33, 35, 28, 40, 45, 24, 31, 25, 24, 23, 23, 48, 62, 25, 25, 49, 50, 47, 37, 26, 28, 26, 48, 20, 34, 26, 46, 21, 27, 21, 29, 46, 24, 51, 57, 33, 23, 29, 22, 56, 33, 27, 40, 48, 32, 24, 32, 19, 23, 39, 25, 42, 29, 38, 32, 23, 58, 42, 52, 26, 27, 33, 33, 23, 25, 32, 34, 29, 38, 29, 27, 25, 31, 30, 41, 59, 21, 27, 30, 43, 24, 45, 23, 40, 23, 39, 26, 26, 21, 30, 44, 21, 23, 49, 23, 24, 21, 37, 28, 23, 24, 31, 24, 25, 33, 26, 27, 46, 38, 24, 38, 27, 48, 31, 28, 30, 25, 55, 40, 21, 28, 20, 31, 57, 25, 22, 31, 43, 25, 39, 40, 20, 35, 34, 27, 38, 21, 25, 53, 50, 23, 22, 27, 29, 38, 54, 26, 37, 36, 28, 49, 36, 41, 26, 40, 21, 22, 33, 26, 27, 35, 27, 37, 31, 36, 32, 50, 52, 24, 38, 54, 71, 27, 39, 34, 23, 36, 55, 27, 23, 20, 31, 24, 37, 26, 29, 41, 37, 46, 56, 23, 23, 25, 24, 26, 24, 23, 43, 53, 24, 28, 21, 31, 33, 35, 55, 50, 28, 44, 19, 23, 24, 50, 31, 28, 42, 21, 21, 24, 31, 23, 27, 32, 28, 67, 32, 44, 25, 30, 28, 27, 36, 25, 31, 30, 33, 38, 26, 52, 22, 50, 58, 34, 32, 29, 27, 39, 24, 38, 52, 56, 46, 38, 47, 32, 34, 42, 35, 20, 32, 21, 24, 24, 26, 52, 27, 27, 56, 52, 37, 45, 36, 29, 21, 20, 27, 28, 38, 30, 19, 37, 34, 37, 21, 21, 38, 47, 56, 27, 23, 57, 25, 23, 32, 36, 41, 39, 21, 31, 37, 27, 22, 59, 33, 43, 25, 23, 43, 56, 20, 50, 54, 20, 36, 36, 56, 25, 42, 48, 34, 28, 32, 31, 24, 25, 32, 37, 24, 48, 35, 21, 21, 27, 22, 28, 26, 23, 34, 22, 30, 44, 57, 22, 24, 20, 53, 60, 22, 43, 72, 33, 24, 60, 24, 30, 43, 48, 54, 45, 36, 31, 40, 50, 26, 41, 34, 28, 23, 37, 35, 21, 22, 29, 30, 45, 24, 31, 56, 24, 38, 51, 22, 28, 47, 51, 25, 53, 30, 33, 35, 33, 59, 33, 27, 29, 24, 43, 37, 53, 26, 30, 27, 39, 37, 22, 25, 26, 28, 25, 58, 29, 33, 38, 38, 59, 29, 53, 33, 58, 53, 32, 35, 39, 36, 42, 37, 39, 52, 60, 37, 42, 23, 42, 28, 38, 43, 42, 25, 32, 21, 35, 37, 33, 51, 39, 35, 40, 32, 32, 37, 32, 47, 23, 63, 38, 32, 31, 23, 38, 47, 33, 22, 40, 36, 65, 22, 34, 38, 26, 20, 49, 52, 25, 34, 33, 21, 46, 57, 22, 48, 40, 30, 21, 39, 33, 24, 43, 45, 51, 31, 27, 32, 49, 29, 23, 30, 30, 34, 33, 28, 29, 38, 37, 33, 30, 51, 65, 32, 38, 35, 57, 26, 36, 33, 35, 33, 47, 53, 35, 36, 25, 52, 51, 24, 32, 43, 45, 42, 22, 49, 42, 40, 25, 25, 23, 21, 31, 28, 24, 45, 23, 39, 24, 46, 47, 22, 34, 33, 29, 34, 29, 25, 34, 55, 27, 26, 39, 24, 29, 50, 25, 31, 31, 26, 54, 33, 22, 35, 30, 25, 25, 44, 29, 46, 53, 24, 52, 27, 41, 21, 24, 23, 42, 24, 26, 50, 32, 40, 27, 23, 37, 32, 52, 29, 49, 50, 26, 34, 28, 30, 24, 25, 25, 45, 26, 37, 24, 40, 33, 53, 55, 30, 21, 55, 22, 23, 57, 33, 32, 47, 51, 22, 47, 28, 28, 44, 25, 34, 65, 33, 23, 44, 24, 51, 21, 39, 29, 24, 23, 31, 35, 30, 39, 51, 22, 29, 32, 33, 58, 54, 33, 48, 23, 23, 47, 21, 29, 48, 37, 50, 19, 49, 58, 31, 23, 23, 31, 33, 57, 31, 57, 57, 29, 30, 45, 42, 48, 29, 28, 25, 34, 27, 39, 27, 30, 31, 20, 26, 34, 27, 29, 27, 24, 29, 20, 23, 48, 34, 46, 41, 26, 37, 22, 32, 44, 60, 49, 30, 52, 34, 55, 33, 22, 27, 20, 33, 26, 29, 32, 37, 31, 29, 31, 36, 37, 34, 20, 24, 29, 45, 34, 70, 23, 27, 44, 26, 23, 27, 46, 27, 45, 42, 24, 20, 49, 29, 52, 37, 26, 53, 47, 38, 25, 21, 48, 24, 22, 38, 23, 54, 24, 44, 64, 38, 45, 49, 33, 44, 51, 50, 33, 54, 28, 42, 34, 38, 21, 33, 32, 45, 30, 29, 51, 28, 27, 28, 30, 32, 27, 21, 21, 34, 24, 32, 38, 56, 44, 31, 25, 20, 35, 33, 24, 40, 27, 38, 20, 30, 36, 23, 39, 29, 58, 23, 23, 68, 26, 51, 25, 40, 51, 27, 49, 36, 20, 21, 31, 57, 61, 35, 54, 39, 24, 29, 48, 30, 26, 37, 26, 29, 26, 60, 27, 22, 28, 33, 28, 55, 21, 28, 22, 29, 24, 50, 24, 47, 54, 42, 35, 30, 53, 31, 31, 23, 47, 24, 22, 45, 30, 30, 43, 50, 24, 42, 29, 31, 25, 36, 24, 28, 31, 23, 29, 51, 34, 29, 39, 36, 59, 23, 31, 53, 34, 63, 21, 21, 47, 34, 58, 40, 36, 23, 34, 56, 52, 56, 37, 50, 25, 22, 43, 30, 29, 24, 29, 24, 74, 27, 37, 29, 35, 29, 36, 26, 26, 39, 22, 28, 51, 35, 23, 29, 20, 24, 23, 33, 21, 59, 26, 38, 28, 23, 21, 52, 56, 40, 48, 26, 66, 54, 31, 34, 25, 47, 51, 25, 25, 31, 36, 49, 31, 30, 29, 53, 21, 21, 27, 65, 59, 59, 24, 40, 51, 34, 30, 52, 38, 22, 43, 32, 55, 26, 23, 47, 28, 27, 61, 26, 28, 43, 33, 21, 32, 22, 51, 20, 35, 37, 28, 41, 24, 33, 30, 20, 42, 40, 39, 21, 39, 24, 41, 39, 24, 24, 29, 25, 23, 22, 26, 26, 24, 44, 36, 39, 42, 45, 25, 33, 25, 32, 23, 39, 27, 35, 38, 30, 30, 30, 26, 31, 34, 25, 26, 38, 37, 34, 38, 31, 29, 20, 22, 51, 24, 47, 36, 21, 25, 23, 23, 24, 35, 23, 19, 32, 39, 30, 33, 36, 29, 40, 53, 28, 38, 27, 55, 22, 34, 55, 24, 47, 41, 41, 61, 57, 38, 25, 23, 23, 20, 44, 38, 56, 43, 22, 32, 29, 22, 23, 24, 45, 21, 29, 51, 36, 25, 46, 62, 25, 27, 22, 37, 21, 39, 43, 22, 28, 43, 27, 27, 31, 28, 58, 22, 31, 33, 26, 23, 32, 22, 35, 47, 35, 29, 54, 29, 28, 51, 36, 35, 20, 25, 29, 31, 39, 30, 23, 23, 37, 30, 33, 20, 30, 23, 27, 38, 42, 31, 23, 31, 43, 39, 31, 22, 33, 23, 29, 62, 56, 24, 44, 22, 28, 30, 32, 51, 21, 21, 27, 28, 31, 33, 49, 41, 20, 31, 25, 23, 26, 45, 28, 28, 39, 59, 52, 36, 30, 21, 25, 22, 61, 24, 26, 34, 45, 54, 51, 28, 23, 30, 25, 25, 28, 32, 35, 49, 36, 33, 30, 58, 22, 28, 28, 26, 36, 23, 22, 26, 25, 40, 28, 56, 36, 51, 35, 24, 27, 22, 23, 27, 31, 25, 52, 35, 24, 57, 38, 26, 20, 34, 25, 24, 49, 27, 28, 55, 47, 55, 22, 32, 55, 23, 54, 40, 27, 29, 45, 25, 40, 38, 26, 37, 41, 33, 57, 34, 29, 45, 22, 22, 21, 56, 48, 27, 27, 34, 23, 47, 33, 58, 33, 40, 22, 39, 35, 22, 43, 37, 26, 60, 39, 36, 21, 28, 70, 53, 37, 21, 28, 21, 56, 30, 27, 37, 27, 41, 30, 32, 32, 34, 46, 24, 32, 43, 50, 30, 37, 37, 40, 53, 31, 33, 22, 27, 25, 24, 24, 26, 26, 20, 27, 24, 26, 26, 54, 64, 24, 57, 46, 56, 39, 68, 28, 39, 38, 25, 25, 21, 31, 33, 26, 35, 34, 41, 57, 42, 26, 36, 41, 27, 58, 45, 34, 50, 25, 24, 27, 30, 22, 27, 20, 41, 30, 24, 39, 32, 29, 37, 26, 24, 30, 20, 25, 31, 25, 41, 25, 25, 22, 25, 38, 40, 49, 35, 21, 25, 21, 24, 28, 34, 57, 40, 22, 37, 43, 26, 24, 56, 23, 43, 32, 21, 51, 20, 42, 58, 28, 30, 28, 24, 22, 50, 30, 28, 21, 26, 51, 21, 29, 43, 22, 52, 36, 24, 26, 27, 19, 26, 29, 29, 38, 34, 23, 26, 29, 24, 31, 50, 24, 31, 36, 32, 42, 22, 26, 26, 30, 53, 23, 22, 27, 21, 42, 31, 80, 68, 23, 36, 24, 21, 26, 30, 36, 21, 31, 20, 49, 24, 20, 44, 25, 41, 25, 44, 33, 20, 21, 44, 23, 35, 41, 30, 36, 26, 32, 23, 43, 30, 44, 39, 37, 31, 63, 66, 19, 24, 21, 48, 37, 21, 20, 64, 22, 43, 25, 33, 26, 33, 44, 31, 50, 33, 31, 25, 43, 27, 34, 44, 31, 26, 20, 41, 55, 29, 31, 31, 52, 59, 49, 36, 23, 46, 59, 51, 34, 32, 54, 24, 32, 22, 36, 61, 38, 41, 34, 32, 37, 21, 57, 68, 24, 46, 41, 30, 25, 24, 41, 55, 33, 23, 47, 51, 36, 57, 43, 26, 47, 60, 24, 20, 28, 28, 58, 54, 24, 34, 48, 37, 28, 46, 45, 20, 52, 29, 34, 24, 28, 28, 29, 55, 68, 22, 24, 20, 23, 44, 34, 55, 23, 23, 24, 77, 52, 34, 39, 30, 30, 26, 51, 34, 23, 32, 38, 21, 34, 53, 34, 25, 54, 25, 25, 34, 46, 22, 23, 27, 45, 31, 45, 28, 24, 28, 41, 35, 20, 32, 28, 33, 26, 22, 25, 21, 23, 30, 25, 33, 35, 34, 37, 55, 43, 27, 26, 42, 27, 41, 21, 30, 30, 45, 23, 31, 40, 33, 40, 56, 21, 51, 36, 25, 30, 21, 25, 38, 41, 22, 29, 21, 40, 37, 37, 23, 55, 19, 26, 25, 39, 36, 26, 51, 20, 43, 22, 24, 35, 55, 52, 33, 30, 32, 20, 67, 31, 21, 30, 55, 25, 25, 27, 22, 37, 68, 37, 22, 30, 34, 28, 37, 41, 52, 36, 26, 24, 27, 37, 37, 23, 58, 62, 41, 33, 33, 33, 41, 22, 26, 33, 25, 37, 23, 21, 45, 37, 24, 35, 22, 29, 41, 37, 51, 26, 46, 41, 31, 25, 27, 31, 23, 52, 29, 40, 49, 49, 24, 41, 27, 40, 47, 20, 21, 44, 41, 31, 42, 67, 42, 25, 27, 43, 23, 27, 23, 33, 41, 31, 21, 53, 36, 58, 62, 25, 51, 46, 28, 24, 32, 23, 58, 59, 20, 57, 37, 43, 36, 59, 35, 29, 21, 28, 34, 42, 21, 69, 49, 24, 27, 55, 24, 21, 28, 34, 27, 37, 23, 27, 50, 22, 43, 29, 50, 61, 34, 31, 21, 23, 45, 24, 30, 32, 61, 27, 41, 60, 23, 40, 30, 20, 48, 24, 30, 20, 25, 38, 29, 38, 27, 21, 24, 53, 36, 64, 23, 26, 48, 27, 21, 20, 37, 51, 47, 27, 45, 41, 31, 28, 39, 33, 21, 48, 27, 24, 24, 29, 21, 31, 32, 62, 39, 56, 28, 26, 24, 51, 51, 28, 36, 38, 23, 28, 29, 38, 29, 34, 29, 34, 26, 58, 37, 48, 30, 44, 36, 29, 23, 53, 35, 39, 21, 26, 26, 28, 21, 37, 22, 28, 56, 30, 27, 29, 27, 43, 53, 27, 26, 24, 30, 56, 26, 24, 30, 54, 23, 25, 36, 21, 26, 26, 45, 47, 31, 21, 28, 29, 28, 25, 22, 21, 48, 25, 37, 31, 56, 24, 30, 47, 66, 51, 76, 28, 35, 44, 38, 24, 36, 20, 21, 27, 28, 52, 39, 19, 40, 30, 28, 27, 23, 25, 24, 44, 44, 23, 31, 27, 26, 57, 55, 36, 30, 34, 24, 21, 42, 34, 30, 40, 30, 31, 27, 22, 37, 25, 45, 22, 31, 23, 21, 28, 35, 29, 23, 28, 34, 32, 25, 34, 47, 30, 22, 47, 37, 37, 26, 31, 20, 22, 33, 30, 27, 24, 20, 29, 24, 36, 23, 21, 29, 25, 22, 29, 26, 50, 32, 45, 30, 25, 44, 58, 24, 20, 29, 21, 46, 29, 30, 55, 47, 30, 24, 45, 26, 42, 34, 21, 69, 24, 45, 25, 52, 30, 26, 34, 38, 23, 30, 22, 35, 24, 35, 25, 58, 27, 24, 33, 44, 30, 39, 28, 34, 26, 23, 29, 31, 38, 30, 21, 44, 52, 30, 31, 21, 77, 61, 41, 24, 34, 27, 25, 30, 59, 55, 32, 53, 50, 26, 21, 36, 35, 25, 31, 26, 25, 32, 40, 35, 27, 33, 36, 30, 30, 41, 29, 25, 50, 35, 37, 43, 29, 61, 22, 27, 34, 24, 20, 30, 43, 51, 37, 42, 29, 24, 36, 39, 32, 38, 27, 30, 43, 30, 26, 37, 25, 65, 52, 29, 32, 36, 21, 21, 47, 36, 25, 32, 43, 27, 26, 21, 34, 46, 40, 38, 41, 25, 21, 74, 41, 27, 30, 33, 24, 52, 29, 42, 30, 33, 38, 21, 41, 28, 52, 21, 22, 32, 25, 27, 35, 40, 29, 24, 24, 36, 26, 50, 21, 51, 24, 29, 25, 38, 46, 33, 31, 21, 60, 39, 35, 49, 26, 27, 22, 29, 31, 31, 29, 65, 34, 24, 46, 20, 29, 29, 56, 21, 40, 22, 39, 22, 27, 36, 30, 36, 32, 34, 23, 52, 20, 38, 46, 27, 20, 29, 35, 37, 63, 27, 27, 24, 30, 25, 27, 48, 26, 58, 23, 22, 41, 21, 26, 39, 46, 33, 36, 20, 32, 38, 64, 22, 69, 26, 27, 22, 43, 55, 34, 20, 22, 33, 55, 22, 55, 43, 21, 23, 28, 45, 39, 79, 48, 20, 31, 30, 32, 56, 43, 20, 27, 41, 24, 43, 33, 22, 34, 36, 69, 32, 22, 46, 34, 32, 39, 25, 21, 63, 24, 29, 20, 40, 30, 50, 37, 34, 35, 31, 23, 22, 37, 20, 26, 34, 59, 37, 38, 45, 22, 24, 25, 24, 20, 32, 49, 31, 58, 50, 26, 20, 51, 30, 39, 26, 20, 26, 26, 20, 28, 23, 21, 25, 30, 21, 20, 24, 35, 27, 50, 25, 31, 26, 22, 29, 33, 52, 37, 21, 21, 20, 43, 30, 33, 24, 52, 30, 30, 47, 41, 21, 48, 52, 34, 35, 25, 24, 25, 34, 25, 24, 56, 23, 21, 66, 28, 29, 22, 39, 33, 29, 31, 22, 22, 35, 29, 56, 34, 23, 27, 43, 38, 39, 24, 26, 55, 35, 61, 33, 40, 33, 26, 32, 28, 45, 30, 57, 26, 35, 54, 29, 40, 28, 25, 44, 23, 29, 56, 27, 29, 34, 22, 40, 31, 47, 24, 39, 29, 30, 26, 61, 37, 38, 30, 20, 56, 50, 47, 30, 59, 20, 23, 28, 50, 35, 22, 41, 22, 61, 26, 44, 34, 29, 29, 48, 31, 21, 34, 54, 20, 31, 22, 36, 34, 50, 47, 49, 31, 49, 21, 26, 29, 61, 25, 38, 35, 55, 32, 29, 46, 53, 27, 29, 26, 23, 43, 24, 33, 32, 38, 40, 36, 34, 41, 57, 26, 45, 26, 48, 52, 22, 43, 24, 27, 23, 28, 21, 33, 25, 36, 25, 46, 24, 28, 28, 23, 24, 40, 36, 50, 24, 55, 22, 38, 31, 30, 37, 41, 20, 21, 22, 38, 31, 28, 21, 39, 34, 45, 24, 27, 30, 43, 26, 32, 57, 40, 33, 30, 29, 36, 35, 49, 26, 21, 49, 37, 33, 29, 25, 20, 55, 26, 52, 52, 27, 60, 44, 30, 25, 20, 28, 22, 24, 28, 35, 30, 22, 39, 46, 47, 26, 23, 52, 22, 54, 50, 20, 25, 46, 22, 38, 36, 34, 18, 26, 23, 32, 44, 53, 27, 25, 19, 53, 39, 37, 27, 21, 24, 33, 24, 46, 32, 24, 38, 30, 26, 57, 43, 22, 28, 51, 41, 24, 48, 26, 31, 27, 25, 56, 29, 30, 21, 22, 28, 35, 23, 48, 22, 37, 33, 23, 22, 24, 44, 26, 29, 26, 30, 23, 42, 28, 20, 24, 36, 37, 21, 27, 26, 42, 23, 55, 24, 23, 64, 48, 39, 30, 22, 20, 21, 24, 30, 51, 21, 31, 23, 23, 32, 28, 24, 19, 31, 29, 41, 28, 29, 49, 42, 38, 22, 46, 38, 36, 22, 29, 39, 47, 26, 21, 63, 27, 55, 54, 26, 37, 34, 48, 25, 57, 21, 32, 25, 33, 26, 29, 28, 53, 57, 27, 48, 29, 25, 67, 29, 53, 49, 44, 55, 26, 46, 30, 48, 77, 21, 54, 54, 26, 23, 39, 35, 29, 30, 41, 32, 48, 52, 31, 22, 46, 29, 22, 39, 35, 26, 27, 27, 34, 32, 25, 22, 52, 21, 28, 26, 23, 31, 34, 32, 50, 27, 26, 27, 29, 58, 27, 28, 24, 50, 30, 46, 43, 24, 34, 26, 31, 23, 39, 50, 22, 25, 21, 20, 54, 27, 45, 34, 55, 24, 20, 37, 34, 41, 21, 22, 24, 42, 23, 20, 44, 20, 27, 20, 20, 28, 29, 21, 24, 21, 24, 23, 27, 24, 31, 22, 54, 35, 53, 26, 48, 56, 25, 49, 34, 21, 23, 57, 25, 42, 51, 31, 53, 43, 34, 27, 51, 26, 47, 22, 36, 36, 41, 25, 31, 33, 44, 46, 28, 28, 66, 20, 27, 24, 25, 39, 41, 26, 25, 55, 22, 29, 25, 50, 20, 56, 25, 48, 21, 31, 35, 25, 34, 32, 31, 44, 31, 28, 27, 24, 49, 40, 22, 28, 24, 49, 33, 44, 41, 46, 57, 32, 36, 30, 28, 31, 29, 21, 23, 27, 25, 49, 35, 35, 25, 32, 35, 32, 23, 23, 26, 31, 22, 20, 24, 37, 29, 34, 29, 49, 31, 59, 39, 23, 27, 22, 21, 36, 30, 31, 29, 47, 26, 24, 43, 27, 28, 33, 54, 57, 30, 27, 31, 29, 29, 33, 22, 35, 29, 30, 27, 63, 27, 34, 36, 21, 23, 40, 30, 41, 56, 23, 61, 22, 20, 49, 31, 50, 31, 32, 44, 56, 62, 43, 24, 41, 23, 53, 67, 38, 40, 20, 45, 29, 32, 34, 39, 29, 46, 31, 24, 28, 25, 24, 29, 28, 36, 25, 29, 26, 23, 20, 32, 29, 26, 35, 23, 46, 41, 22, 27, 38, 24, 27, 22, 26, 26, 29, 42, 30, 34, 23, 47, 55, 30, 43, 45, 30, 61, 49, 49, 42, 24, 51, 32, 26, 28, 49, 56, 53, 27, 34, 41, 45, 21, 27, 21, 31, 45, 30, 43, 23, 52, 48, 51, 30, 29, 44, 34, 25, 28, 28, 37, 34, 23, 71, 45, 33, 29, 36, 52, 42, 21, 29, 54, 27, 29, 25, 62, 23, 22, 65, 31, 31, 21, 27, 33, 25, 39, 29, 27, 42, 21, 27, 36, 24, 67, 29, 39, 41, 25, 40, 37, 42, 26, 23, 31, 26, 51, 67, 27, 26, 55, 31, 28, 51, 28, 22, 26, 27, 32, 36, 27, 41, 24, 61, 29, 34, 45, 21, 28, 31, 59, 40, 22, 21, 25, 25, 47, 21, 29, 40, 32, 39, 22, 30, 25, 21, 25, 27, 45, 32, 22, 23, 44, 59, 23, 46, 33, 30, 40, 54, 21, 43, 22, 31, 32, 27, 21, 23, 33, 64, 42, 20, 26, 30, 23, 23, 60, 46, 56, 45, 26, 47, 29, 32, 23, 29, 33, 22, 28, 36, 32, 24, 33, 46, 31, 49, 24, 57, 36, 43, 42, 32, 26, 74, 24, 24, 22, 33, 22, 50, 28, 35, 33, 36, 28, 63, 69, 41, 44, 29, 52, 23, 22, 26, 24, 45, 22, 24, 26, 47, 26, 36, 33, 52, 51, 47, 38, 67, 47, 66, 39, 49, 45, 22, 46, 29, 28, 22, 20, 34, 22, 25, 34, 34, 54, 51, 36, 20, 30, 44, 23, 40, 27, 23, 25, 47, 27, 38, 27, 24, 30, 33, 29, 38, 56, 26, 28, 43, 29, 22, 74, 47, 42, 43, 28, 24, 26, 56, 47, 49, 36, 24, 30, 28, 50, 39, 26, 56, 58, 33, 31, 25, 25, 20, 30, 29, 31, 21, 44, 30, 35, 34, 26, 51, 36, 26, 21, 59, 29, 28, 37, 41, 31, 23, 54, 30, 28, 22, 21, 27, 61, 60, 22, 22, 49, 61, 51, 49, 24, 36, 42, 36, 57, 36, 34, 24, 32, 25, 30, 35, 43, 28, 32, 23, 20, 30, 26, 44, 30, 21, 30, 20, 23, 23, 57, 33, 23], \"xaxis\": \"x\", \"yaxis\": \"y\"}],                        {\"barmode\": \"relative\", \"legend\": {\"tracegroupgap\": 0}, \"template\": {\"data\": {\"bar\": [{\"error_x\": {\"color\": \"#2a3f5f\"}, \"error_y\": {\"color\": \"#2a3f5f\"}, \"marker\": {\"line\": {\"color\": \"#E5ECF6\", \"width\": 0.5}}, \"type\": \"bar\"}], \"barpolar\": [{\"marker\": {\"line\": {\"color\": \"#E5ECF6\", \"width\": 0.5}}, \"type\": \"barpolar\"}], \"carpet\": [{\"aaxis\": {\"endlinecolor\": \"#2a3f5f\", \"gridcolor\": \"white\", \"linecolor\": \"white\", \"minorgridcolor\": \"white\", \"startlinecolor\": \"#2a3f5f\"}, \"baxis\": {\"endlinecolor\": \"#2a3f5f\", \"gridcolor\": \"white\", \"linecolor\": \"white\", \"minorgridcolor\": \"white\", \"startlinecolor\": \"#2a3f5f\"}, \"type\": \"carpet\"}], \"choropleth\": [{\"colorbar\": {\"outlinewidth\": 0, \"ticks\": \"\"}, \"type\": \"choropleth\"}], \"contour\": [{\"colorbar\": {\"outlinewidth\": 0, \"ticks\": \"\"}, \"colorscale\": [[0.0, \"#0d0887\"], [0.1111111111111111, \"#46039f\"], [0.2222222222222222, \"#7201a8\"], [0.3333333333333333, \"#9c179e\"], [0.4444444444444444, \"#bd3786\"], [0.5555555555555556, \"#d8576b\"], [0.6666666666666666, \"#ed7953\"], [0.7777777777777778, \"#fb9f3a\"], [0.8888888888888888, \"#fdca26\"], [1.0, \"#f0f921\"]], \"type\": \"contour\"}], \"contourcarpet\": [{\"colorbar\": {\"outlinewidth\": 0, \"ticks\": \"\"}, \"type\": \"contourcarpet\"}], \"heatmap\": [{\"colorbar\": {\"outlinewidth\": 0, \"ticks\": \"\"}, \"colorscale\": [[0.0, \"#0d0887\"], [0.1111111111111111, \"#46039f\"], [0.2222222222222222, \"#7201a8\"], [0.3333333333333333, \"#9c179e\"], [0.4444444444444444, \"#bd3786\"], [0.5555555555555556, \"#d8576b\"], [0.6666666666666666, \"#ed7953\"], [0.7777777777777778, \"#fb9f3a\"], [0.8888888888888888, \"#fdca26\"], [1.0, \"#f0f921\"]], \"type\": \"heatmap\"}], \"heatmapgl\": [{\"colorbar\": {\"outlinewidth\": 0, \"ticks\": \"\"}, \"colorscale\": [[0.0, \"#0d0887\"], [0.1111111111111111, \"#46039f\"], [0.2222222222222222, \"#7201a8\"], [0.3333333333333333, \"#9c179e\"], [0.4444444444444444, \"#bd3786\"], [0.5555555555555556, \"#d8576b\"], [0.6666666666666666, \"#ed7953\"], [0.7777777777777778, \"#fb9f3a\"], [0.8888888888888888, \"#fdca26\"], [1.0, \"#f0f921\"]], \"type\": \"heatmapgl\"}], \"histogram\": [{\"marker\": {\"colorbar\": {\"outlinewidth\": 0, \"ticks\": \"\"}}, \"type\": \"histogram\"}], \"histogram2d\": [{\"colorbar\": {\"outlinewidth\": 0, \"ticks\": \"\"}, \"colorscale\": [[0.0, \"#0d0887\"], [0.1111111111111111, \"#46039f\"], [0.2222222222222222, \"#7201a8\"], [0.3333333333333333, \"#9c179e\"], [0.4444444444444444, \"#bd3786\"], [0.5555555555555556, \"#d8576b\"], [0.6666666666666666, \"#ed7953\"], [0.7777777777777778, \"#fb9f3a\"], [0.8888888888888888, \"#fdca26\"], [1.0, \"#f0f921\"]], \"type\": \"histogram2d\"}], \"histogram2dcontour\": [{\"colorbar\": {\"outlinewidth\": 0, \"ticks\": \"\"}, \"colorscale\": [[0.0, \"#0d0887\"], [0.1111111111111111, \"#46039f\"], [0.2222222222222222, \"#7201a8\"], [0.3333333333333333, \"#9c179e\"], [0.4444444444444444, \"#bd3786\"], [0.5555555555555556, \"#d8576b\"], [0.6666666666666666, \"#ed7953\"], [0.7777777777777778, \"#fb9f3a\"], [0.8888888888888888, \"#fdca26\"], [1.0, \"#f0f921\"]], \"type\": \"histogram2dcontour\"}], \"mesh3d\": [{\"colorbar\": {\"outlinewidth\": 0, \"ticks\": \"\"}, \"type\": \"mesh3d\"}], \"parcoords\": [{\"line\": {\"colorbar\": {\"outlinewidth\": 0, \"ticks\": \"\"}}, \"type\": \"parcoords\"}], \"pie\": [{\"automargin\": true, \"type\": \"pie\"}], \"scatter\": [{\"marker\": {\"colorbar\": {\"outlinewidth\": 0, \"ticks\": \"\"}}, \"type\": \"scatter\"}], \"scatter3d\": [{\"line\": {\"colorbar\": {\"outlinewidth\": 0, \"ticks\": \"\"}}, \"marker\": {\"colorbar\": {\"outlinewidth\": 0, \"ticks\": \"\"}}, \"type\": \"scatter3d\"}], \"scattercarpet\": [{\"marker\": {\"colorbar\": {\"outlinewidth\": 0, \"ticks\": \"\"}}, \"type\": \"scattercarpet\"}], \"scattergeo\": [{\"marker\": {\"colorbar\": {\"outlinewidth\": 0, \"ticks\": \"\"}}, \"type\": \"scattergeo\"}], \"scattergl\": [{\"marker\": {\"colorbar\": {\"outlinewidth\": 0, \"ticks\": \"\"}}, \"type\": \"scattergl\"}], \"scattermapbox\": [{\"marker\": {\"colorbar\": {\"outlinewidth\": 0, \"ticks\": \"\"}}, \"type\": \"scattermapbox\"}], \"scatterpolar\": [{\"marker\": {\"colorbar\": {\"outlinewidth\": 0, \"ticks\": \"\"}}, \"type\": \"scatterpolar\"}], \"scatterpolargl\": [{\"marker\": {\"colorbar\": {\"outlinewidth\": 0, \"ticks\": \"\"}}, \"type\": \"scatterpolargl\"}], \"scatterternary\": [{\"marker\": {\"colorbar\": {\"outlinewidth\": 0, \"ticks\": \"\"}}, \"type\": \"scatterternary\"}], \"surface\": [{\"colorbar\": {\"outlinewidth\": 0, \"ticks\": \"\"}, \"colorscale\": [[0.0, \"#0d0887\"], [0.1111111111111111, \"#46039f\"], [0.2222222222222222, \"#7201a8\"], [0.3333333333333333, \"#9c179e\"], [0.4444444444444444, \"#bd3786\"], [0.5555555555555556, \"#d8576b\"], [0.6666666666666666, \"#ed7953\"], [0.7777777777777778, \"#fb9f3a\"], [0.8888888888888888, \"#fdca26\"], [1.0, \"#f0f921\"]], \"type\": \"surface\"}], \"table\": [{\"cells\": {\"fill\": {\"color\": \"#EBF0F8\"}, \"line\": {\"color\": \"white\"}}, \"header\": {\"fill\": {\"color\": \"#C8D4E3\"}, \"line\": {\"color\": \"white\"}}, \"type\": \"table\"}]}, \"layout\": {\"annotationdefaults\": {\"arrowcolor\": \"#2a3f5f\", \"arrowhead\": 0, \"arrowwidth\": 1}, \"autotypenumbers\": \"strict\", \"coloraxis\": {\"colorbar\": {\"outlinewidth\": 0, \"ticks\": \"\"}}, \"colorscale\": {\"diverging\": [[0, \"#8e0152\"], [0.1, \"#c51b7d\"], [0.2, \"#de77ae\"], [0.3, \"#f1b6da\"], [0.4, \"#fde0ef\"], [0.5, \"#f7f7f7\"], [0.6, \"#e6f5d0\"], [0.7, \"#b8e186\"], [0.8, \"#7fbc41\"], [0.9, \"#4d9221\"], [1, \"#276419\"]], \"sequential\": [[0.0, \"#0d0887\"], [0.1111111111111111, \"#46039f\"], [0.2222222222222222, \"#7201a8\"], [0.3333333333333333, \"#9c179e\"], [0.4444444444444444, \"#bd3786\"], [0.5555555555555556, \"#d8576b\"], [0.6666666666666666, \"#ed7953\"], [0.7777777777777778, \"#fb9f3a\"], [0.8888888888888888, \"#fdca26\"], [1.0, \"#f0f921\"]], \"sequentialminus\": [[0.0, \"#0d0887\"], [0.1111111111111111, \"#46039f\"], [0.2222222222222222, \"#7201a8\"], [0.3333333333333333, \"#9c179e\"], [0.4444444444444444, \"#bd3786\"], [0.5555555555555556, \"#d8576b\"], [0.6666666666666666, \"#ed7953\"], [0.7777777777777778, \"#fb9f3a\"], [0.8888888888888888, \"#fdca26\"], [1.0, \"#f0f921\"]]}, \"colorway\": [\"#636efa\", \"#EF553B\", \"#00cc96\", \"#ab63fa\", \"#FFA15A\", \"#19d3f3\", \"#FF6692\", \"#B6E880\", \"#FF97FF\", \"#FECB52\"], \"font\": {\"color\": \"#2a3f5f\"}, \"geo\": {\"bgcolor\": \"white\", \"lakecolor\": \"white\", \"landcolor\": \"#E5ECF6\", \"showlakes\": true, \"showland\": true, \"subunitcolor\": \"white\"}, \"hoverlabel\": {\"align\": \"left\"}, \"hovermode\": \"closest\", \"mapbox\": {\"style\": \"light\"}, \"paper_bgcolor\": \"white\", \"plot_bgcolor\": \"#E5ECF6\", \"polar\": {\"angularaxis\": {\"gridcolor\": \"white\", \"linecolor\": \"white\", \"ticks\": \"\"}, \"bgcolor\": \"#E5ECF6\", \"radialaxis\": {\"gridcolor\": \"white\", \"linecolor\": \"white\", \"ticks\": \"\"}}, \"scene\": {\"xaxis\": {\"backgroundcolor\": \"#E5ECF6\", \"gridcolor\": \"white\", \"gridwidth\": 2, \"linecolor\": \"white\", \"showbackground\": true, \"ticks\": \"\", \"zerolinecolor\": \"white\"}, \"yaxis\": {\"backgroundcolor\": \"#E5ECF6\", \"gridcolor\": \"white\", \"gridwidth\": 2, \"linecolor\": \"white\", \"showbackground\": true, \"ticks\": \"\", \"zerolinecolor\": \"white\"}, \"zaxis\": {\"backgroundcolor\": \"#E5ECF6\", \"gridcolor\": \"white\", \"gridwidth\": 2, \"linecolor\": \"white\", \"showbackground\": true, \"ticks\": \"\", \"zerolinecolor\": \"white\"}}, \"shapedefaults\": {\"line\": {\"color\": \"#2a3f5f\"}}, \"ternary\": {\"aaxis\": {\"gridcolor\": \"white\", \"linecolor\": \"white\", \"ticks\": \"\"}, \"baxis\": {\"gridcolor\": \"white\", \"linecolor\": \"white\", \"ticks\": \"\"}, \"bgcolor\": \"#E5ECF6\", \"caxis\": {\"gridcolor\": \"white\", \"linecolor\": \"white\", \"ticks\": \"\"}}, \"title\": {\"x\": 0.05}, \"xaxis\": {\"automargin\": true, \"gridcolor\": \"white\", \"linecolor\": \"white\", \"ticks\": \"\", \"title\": {\"standoff\": 15}, \"zerolinecolor\": \"white\", \"zerolinewidth\": 2}, \"yaxis\": {\"automargin\": true, \"gridcolor\": \"white\", \"linecolor\": \"white\", \"ticks\": \"\", \"title\": {\"standoff\": 15}, \"zerolinecolor\": \"white\", \"zerolinewidth\": 2}}}, \"title\": {\"text\": \"age\"}, \"xaxis\": {\"anchor\": \"y\", \"domain\": [0.0, 1.0], \"title\": {\"text\": \"age\"}}, \"yaxis\": {\"anchor\": \"x\", \"domain\": [0.0, 1.0], \"title\": {\"text\": \"count\"}}},                        {\"responsive\": true}                    ).then(function(){\n",
       "                            \n",
       "var gd = document.getElementById('3b5f2894-b15d-498c-9eb7-fe519fff80aa');\n",
       "var x = new MutationObserver(function (mutations, observer) {{\n",
       "        var display = window.getComputedStyle(gd).display;\n",
       "        if (!display || display === 'none') {{\n",
       "            console.log([gd, 'removed!']);\n",
       "            Plotly.purge(gd);\n",
       "            observer.disconnect();\n",
       "        }}\n",
       "}});\n",
       "\n",
       "// Listen for the removal of the full notebook cells\n",
       "var notebookContainer = gd.closest('#notebook-container');\n",
       "if (notebookContainer) {{\n",
       "    x.observe(notebookContainer, {childList: true});\n",
       "}}\n",
       "\n",
       "// Listen for the clearing of the current output cell\n",
       "var outputEl = gd.closest('.output');\n",
       "if (outputEl) {{\n",
       "    x.observe(outputEl, {childList: true});\n",
       "}}\n",
       "\n",
       "                        })                };                });            </script>        </div>"
      ]
     },
     "metadata": {},
     "output_type": "display_data"
    }
   ],
   "source": [
    "result = get_basic_stats(\"age\", plot_hist=True)"
   ]
  },
  {
   "cell_type": "code",
   "execution_count": 11,
   "metadata": {
    "id": "lsEIRtpnjkH5"
   },
   "outputs": [],
   "source": [
    "sex_race_df = pd.crosstab(dataset.race, dataset.sex)\n",
    "sex_race_df = sex_race_df.stack().reset_index().rename(columns={0:\"value\"})"
   ]
  },
  {
   "cell_type": "code",
   "execution_count": 12,
   "metadata": {
    "id": "B2znoGtOjkH5"
   },
   "outputs": [
    {
     "data": {
      "text/html": [
       "<div>                            <div id=\"0e0ff25d-9b61-4b20-a789-d04e0f7c0d0f\" class=\"plotly-graph-div\" style=\"height:525px; width:100%;\"></div>            <script type=\"text/javascript\">                require([\"plotly\"], function(Plotly) {                    window.PLOTLYENV=window.PLOTLYENV || {};                                    if (document.getElementById(\"0e0ff25d-9b61-4b20-a789-d04e0f7c0d0f\")) {                    Plotly.newPlot(                        \"0e0ff25d-9b61-4b20-a789-d04e0f7c0d0f\",                        [{\"name\": \"Male\", \"type\": \"bar\", \"x\": [\"African-American\", \"Asian\", \"Caucasian\", \"Hispanic\", \"Native American\", \"Other\"], \"y\": [2626, 29, 1621, 427, 9, 285]}, {\"name\": \"Female\", \"type\": \"bar\", \"x\": [\"African-American\", \"Asian\", \"Caucasian\", \"Hispanic\", \"Native American\", \"Other\"], \"y\": [549, 2, 482, 82, 2, 58]}],                        {\"barmode\": \"stack\", \"template\": {\"data\": {\"bar\": [{\"error_x\": {\"color\": \"#2a3f5f\"}, \"error_y\": {\"color\": \"#2a3f5f\"}, \"marker\": {\"line\": {\"color\": \"#E5ECF6\", \"width\": 0.5}}, \"type\": \"bar\"}], \"barpolar\": [{\"marker\": {\"line\": {\"color\": \"#E5ECF6\", \"width\": 0.5}}, \"type\": \"barpolar\"}], \"carpet\": [{\"aaxis\": {\"endlinecolor\": \"#2a3f5f\", \"gridcolor\": \"white\", \"linecolor\": \"white\", \"minorgridcolor\": \"white\", \"startlinecolor\": \"#2a3f5f\"}, \"baxis\": {\"endlinecolor\": \"#2a3f5f\", \"gridcolor\": \"white\", \"linecolor\": \"white\", \"minorgridcolor\": \"white\", \"startlinecolor\": \"#2a3f5f\"}, \"type\": \"carpet\"}], \"choropleth\": [{\"colorbar\": {\"outlinewidth\": 0, \"ticks\": \"\"}, \"type\": \"choropleth\"}], \"contour\": [{\"colorbar\": {\"outlinewidth\": 0, \"ticks\": \"\"}, \"colorscale\": [[0.0, \"#0d0887\"], [0.1111111111111111, \"#46039f\"], [0.2222222222222222, \"#7201a8\"], [0.3333333333333333, \"#9c179e\"], [0.4444444444444444, \"#bd3786\"], [0.5555555555555556, \"#d8576b\"], [0.6666666666666666, \"#ed7953\"], [0.7777777777777778, \"#fb9f3a\"], [0.8888888888888888, \"#fdca26\"], [1.0, \"#f0f921\"]], \"type\": \"contour\"}], \"contourcarpet\": [{\"colorbar\": {\"outlinewidth\": 0, \"ticks\": \"\"}, \"type\": \"contourcarpet\"}], \"heatmap\": [{\"colorbar\": {\"outlinewidth\": 0, \"ticks\": \"\"}, \"colorscale\": [[0.0, \"#0d0887\"], [0.1111111111111111, \"#46039f\"], [0.2222222222222222, \"#7201a8\"], [0.3333333333333333, \"#9c179e\"], [0.4444444444444444, \"#bd3786\"], [0.5555555555555556, \"#d8576b\"], [0.6666666666666666, \"#ed7953\"], [0.7777777777777778, \"#fb9f3a\"], [0.8888888888888888, \"#fdca26\"], [1.0, \"#f0f921\"]], \"type\": \"heatmap\"}], \"heatmapgl\": [{\"colorbar\": {\"outlinewidth\": 0, \"ticks\": \"\"}, \"colorscale\": [[0.0, \"#0d0887\"], [0.1111111111111111, \"#46039f\"], [0.2222222222222222, \"#7201a8\"], [0.3333333333333333, \"#9c179e\"], [0.4444444444444444, \"#bd3786\"], [0.5555555555555556, \"#d8576b\"], [0.6666666666666666, \"#ed7953\"], [0.7777777777777778, \"#fb9f3a\"], [0.8888888888888888, \"#fdca26\"], [1.0, \"#f0f921\"]], \"type\": \"heatmapgl\"}], \"histogram\": [{\"marker\": {\"colorbar\": {\"outlinewidth\": 0, \"ticks\": \"\"}}, \"type\": \"histogram\"}], \"histogram2d\": [{\"colorbar\": {\"outlinewidth\": 0, \"ticks\": \"\"}, \"colorscale\": [[0.0, \"#0d0887\"], [0.1111111111111111, \"#46039f\"], [0.2222222222222222, \"#7201a8\"], [0.3333333333333333, \"#9c179e\"], [0.4444444444444444, \"#bd3786\"], [0.5555555555555556, \"#d8576b\"], [0.6666666666666666, \"#ed7953\"], [0.7777777777777778, \"#fb9f3a\"], [0.8888888888888888, \"#fdca26\"], [1.0, \"#f0f921\"]], \"type\": \"histogram2d\"}], \"histogram2dcontour\": [{\"colorbar\": {\"outlinewidth\": 0, \"ticks\": \"\"}, \"colorscale\": [[0.0, \"#0d0887\"], [0.1111111111111111, \"#46039f\"], [0.2222222222222222, \"#7201a8\"], [0.3333333333333333, \"#9c179e\"], [0.4444444444444444, \"#bd3786\"], [0.5555555555555556, \"#d8576b\"], [0.6666666666666666, \"#ed7953\"], [0.7777777777777778, \"#fb9f3a\"], [0.8888888888888888, \"#fdca26\"], [1.0, \"#f0f921\"]], \"type\": \"histogram2dcontour\"}], \"mesh3d\": [{\"colorbar\": {\"outlinewidth\": 0, \"ticks\": \"\"}, \"type\": \"mesh3d\"}], \"parcoords\": [{\"line\": {\"colorbar\": {\"outlinewidth\": 0, \"ticks\": \"\"}}, \"type\": \"parcoords\"}], \"pie\": [{\"automargin\": true, \"type\": \"pie\"}], \"scatter\": [{\"marker\": {\"colorbar\": {\"outlinewidth\": 0, \"ticks\": \"\"}}, \"type\": \"scatter\"}], \"scatter3d\": [{\"line\": {\"colorbar\": {\"outlinewidth\": 0, \"ticks\": \"\"}}, \"marker\": {\"colorbar\": {\"outlinewidth\": 0, \"ticks\": \"\"}}, \"type\": \"scatter3d\"}], \"scattercarpet\": [{\"marker\": {\"colorbar\": {\"outlinewidth\": 0, \"ticks\": \"\"}}, \"type\": \"scattercarpet\"}], \"scattergeo\": [{\"marker\": {\"colorbar\": {\"outlinewidth\": 0, \"ticks\": \"\"}}, \"type\": \"scattergeo\"}], \"scattergl\": [{\"marker\": {\"colorbar\": {\"outlinewidth\": 0, \"ticks\": \"\"}}, \"type\": \"scattergl\"}], \"scattermapbox\": [{\"marker\": {\"colorbar\": {\"outlinewidth\": 0, \"ticks\": \"\"}}, \"type\": \"scattermapbox\"}], \"scatterpolar\": [{\"marker\": {\"colorbar\": {\"outlinewidth\": 0, \"ticks\": \"\"}}, \"type\": \"scatterpolar\"}], \"scatterpolargl\": [{\"marker\": {\"colorbar\": {\"outlinewidth\": 0, \"ticks\": \"\"}}, \"type\": \"scatterpolargl\"}], \"scatterternary\": [{\"marker\": {\"colorbar\": {\"outlinewidth\": 0, \"ticks\": \"\"}}, \"type\": \"scatterternary\"}], \"surface\": [{\"colorbar\": {\"outlinewidth\": 0, \"ticks\": \"\"}, \"colorscale\": [[0.0, \"#0d0887\"], [0.1111111111111111, \"#46039f\"], [0.2222222222222222, \"#7201a8\"], [0.3333333333333333, \"#9c179e\"], [0.4444444444444444, \"#bd3786\"], [0.5555555555555556, \"#d8576b\"], [0.6666666666666666, \"#ed7953\"], [0.7777777777777778, \"#fb9f3a\"], [0.8888888888888888, \"#fdca26\"], [1.0, \"#f0f921\"]], \"type\": \"surface\"}], \"table\": [{\"cells\": {\"fill\": {\"color\": \"#EBF0F8\"}, \"line\": {\"color\": \"white\"}}, \"header\": {\"fill\": {\"color\": \"#C8D4E3\"}, \"line\": {\"color\": \"white\"}}, \"type\": \"table\"}]}, \"layout\": {\"annotationdefaults\": {\"arrowcolor\": \"#2a3f5f\", \"arrowhead\": 0, \"arrowwidth\": 1}, \"autotypenumbers\": \"strict\", \"coloraxis\": {\"colorbar\": {\"outlinewidth\": 0, \"ticks\": \"\"}}, \"colorscale\": {\"diverging\": [[0, \"#8e0152\"], [0.1, \"#c51b7d\"], [0.2, \"#de77ae\"], [0.3, \"#f1b6da\"], [0.4, \"#fde0ef\"], [0.5, \"#f7f7f7\"], [0.6, \"#e6f5d0\"], [0.7, \"#b8e186\"], [0.8, \"#7fbc41\"], [0.9, \"#4d9221\"], [1, \"#276419\"]], \"sequential\": [[0.0, \"#0d0887\"], [0.1111111111111111, \"#46039f\"], [0.2222222222222222, \"#7201a8\"], [0.3333333333333333, \"#9c179e\"], [0.4444444444444444, \"#bd3786\"], [0.5555555555555556, \"#d8576b\"], [0.6666666666666666, \"#ed7953\"], [0.7777777777777778, \"#fb9f3a\"], [0.8888888888888888, \"#fdca26\"], [1.0, \"#f0f921\"]], \"sequentialminus\": [[0.0, \"#0d0887\"], [0.1111111111111111, \"#46039f\"], [0.2222222222222222, \"#7201a8\"], [0.3333333333333333, \"#9c179e\"], [0.4444444444444444, \"#bd3786\"], [0.5555555555555556, \"#d8576b\"], [0.6666666666666666, \"#ed7953\"], [0.7777777777777778, \"#fb9f3a\"], [0.8888888888888888, \"#fdca26\"], [1.0, \"#f0f921\"]]}, \"colorway\": [\"#636efa\", \"#EF553B\", \"#00cc96\", \"#ab63fa\", \"#FFA15A\", \"#19d3f3\", \"#FF6692\", \"#B6E880\", \"#FF97FF\", \"#FECB52\"], \"font\": {\"color\": \"#2a3f5f\"}, \"geo\": {\"bgcolor\": \"white\", \"lakecolor\": \"white\", \"landcolor\": \"#E5ECF6\", \"showlakes\": true, \"showland\": true, \"subunitcolor\": \"white\"}, \"hoverlabel\": {\"align\": \"left\"}, \"hovermode\": \"closest\", \"mapbox\": {\"style\": \"light\"}, \"paper_bgcolor\": \"white\", \"plot_bgcolor\": \"#E5ECF6\", \"polar\": {\"angularaxis\": {\"gridcolor\": \"white\", \"linecolor\": \"white\", \"ticks\": \"\"}, \"bgcolor\": \"#E5ECF6\", \"radialaxis\": {\"gridcolor\": \"white\", \"linecolor\": \"white\", \"ticks\": \"\"}}, \"scene\": {\"xaxis\": {\"backgroundcolor\": \"#E5ECF6\", \"gridcolor\": \"white\", \"gridwidth\": 2, \"linecolor\": \"white\", \"showbackground\": true, \"ticks\": \"\", \"zerolinecolor\": \"white\"}, \"yaxis\": {\"backgroundcolor\": \"#E5ECF6\", \"gridcolor\": \"white\", \"gridwidth\": 2, \"linecolor\": \"white\", \"showbackground\": true, \"ticks\": \"\", \"zerolinecolor\": \"white\"}, \"zaxis\": {\"backgroundcolor\": \"#E5ECF6\", \"gridcolor\": \"white\", \"gridwidth\": 2, \"linecolor\": \"white\", \"showbackground\": true, \"ticks\": \"\", \"zerolinecolor\": \"white\"}}, \"shapedefaults\": {\"line\": {\"color\": \"#2a3f5f\"}}, \"ternary\": {\"aaxis\": {\"gridcolor\": \"white\", \"linecolor\": \"white\", \"ticks\": \"\"}, \"baxis\": {\"gridcolor\": \"white\", \"linecolor\": \"white\", \"ticks\": \"\"}, \"bgcolor\": \"#E5ECF6\", \"caxis\": {\"gridcolor\": \"white\", \"linecolor\": \"white\", \"ticks\": \"\"}}, \"title\": {\"x\": 0.05}, \"xaxis\": {\"automargin\": true, \"gridcolor\": \"white\", \"linecolor\": \"white\", \"ticks\": \"\", \"title\": {\"standoff\": 15}, \"zerolinecolor\": \"white\", \"zerolinewidth\": 2}, \"yaxis\": {\"automargin\": true, \"gridcolor\": \"white\", \"linecolor\": \"white\", \"ticks\": \"\", \"title\": {\"standoff\": 15}, \"zerolinecolor\": \"white\", \"zerolinewidth\": 2}}}},                        {\"responsive\": true}                    ).then(function(){\n",
       "                            \n",
       "var gd = document.getElementById('0e0ff25d-9b61-4b20-a789-d04e0f7c0d0f');\n",
       "var x = new MutationObserver(function (mutations, observer) {{\n",
       "        var display = window.getComputedStyle(gd).display;\n",
       "        if (!display || display === 'none') {{\n",
       "            console.log([gd, 'removed!']);\n",
       "            Plotly.purge(gd);\n",
       "            observer.disconnect();\n",
       "        }}\n",
       "}});\n",
       "\n",
       "// Listen for the removal of the full notebook cells\n",
       "var notebookContainer = gd.closest('#notebook-container');\n",
       "if (notebookContainer) {{\n",
       "    x.observe(notebookContainer, {childList: true});\n",
       "}}\n",
       "\n",
       "// Listen for the clearing of the current output cell\n",
       "var outputEl = gd.closest('.output');\n",
       "if (outputEl) {{\n",
       "    x.observe(outputEl, {childList: true});\n",
       "}}\n",
       "\n",
       "                        })                };                });            </script>        </div>"
      ]
     },
     "metadata": {},
     "output_type": "display_data"
    }
   ],
   "source": [
    "race = np.sort(dataset.race.unique())\n",
    "males = sex_race_df.value[sex_race_df.sex == 'Male']\n",
    "females = sex_race_df.value[sex_race_df.sex == 'Female']\n",
    "\n",
    "fig = go.Figure(data=[\n",
    "    go.Bar(name='Male', x=race, y= males),\n",
    "    go.Bar(name='Female', x=race, y=females)\n",
    "])\n",
    "# Change the bar mode\n",
    "fig.update_layout(barmode='stack')\n",
    "fig.show()"
   ]
  },
  {
   "cell_type": "code",
   "execution_count": 13,
   "metadata": {
    "id": "ccH85bhdjkH6",
    "scrolled": true
   },
   "outputs": [],
   "source": [
    "decile_score_per_race = pd.crosstab(dataset.decile_score, dataset.race)\n",
    "decile_score_per_race = decile_score_per_race.stack().reset_index().rename(columns = {0:'values'})"
   ]
  },
  {
   "cell_type": "code",
   "execution_count": 14,
   "metadata": {
    "id": "MWWO5wX0jkH6",
    "scrolled": false
   },
   "outputs": [
    {
     "data": {
      "text/html": [
       "<div>                            <div id=\"d70a68a0-ea4c-4eb9-b824-f35903075613\" class=\"plotly-graph-div\" style=\"height:525px; width:100%;\"></div>            <script type=\"text/javascript\">                require([\"plotly\"], function(Plotly) {                    window.PLOTLYENV=window.PLOTLYENV || {};                                    if (document.getElementById(\"d70a68a0-ea4c-4eb9-b824-f35903075613\")) {                    Plotly.newPlot(                        \"d70a68a0-ea4c-4eb9-b824-f35903075613\",                        [{\"name\": \"African-American\", \"type\": \"bar\", \"x\": [1, 3, 4, 6, 10, 5, 9, 2, 7, 8], \"y\": [365, 346, 298, 337, 323, 318, 343, 301, 317, 227]}, {\"name\": \"Hispanic\", \"type\": \"bar\", \"x\": [1, 3, 4, 6, 10, 5, 9, 2, 7, 8], \"y\": [159, 89, 73, 47, 39, 27, 28, 14, 17, 16]}, {\"name\": \"Asian\", \"type\": \"bar\", \"x\": [1, 3, 4, 6, 10, 5, 9, 2, 7, 8], \"y\": [15, 4, 5, 0, 1, 2, 1, 2, 0, 1]}, {\"name\": \"Causcasian\", \"type\": \"bar\", \"x\": [1, 3, 4, 6, 10, 5, 9, 2, 7, 8], \"y\": [605, 321, 238, 243, 200, 160, 113, 96, 77, 50]}, {\"name\": \"Native-American\", \"type\": \"bar\", \"x\": [1, 3, 4, 6, 10, 5, 9, 2, 7, 8], \"y\": [0, 2, 1, 0, 0, 2, 2, 0, 2, 2]}, {\"name\": \"Other\", \"type\": \"bar\", \"x\": [1, 3, 4, 6, 10, 5, 9, 2, 7, 8], \"y\": [142, 60, 32, 39, 19, 20, 9, 7, 7, 8]}],                        {\"barmode\": \"stack\", \"template\": {\"data\": {\"bar\": [{\"error_x\": {\"color\": \"#2a3f5f\"}, \"error_y\": {\"color\": \"#2a3f5f\"}, \"marker\": {\"line\": {\"color\": \"#E5ECF6\", \"width\": 0.5}}, \"type\": \"bar\"}], \"barpolar\": [{\"marker\": {\"line\": {\"color\": \"#E5ECF6\", \"width\": 0.5}}, \"type\": \"barpolar\"}], \"carpet\": [{\"aaxis\": {\"endlinecolor\": \"#2a3f5f\", \"gridcolor\": \"white\", \"linecolor\": \"white\", \"minorgridcolor\": \"white\", \"startlinecolor\": \"#2a3f5f\"}, \"baxis\": {\"endlinecolor\": \"#2a3f5f\", \"gridcolor\": \"white\", \"linecolor\": \"white\", \"minorgridcolor\": \"white\", \"startlinecolor\": \"#2a3f5f\"}, \"type\": \"carpet\"}], \"choropleth\": [{\"colorbar\": {\"outlinewidth\": 0, \"ticks\": \"\"}, \"type\": \"choropleth\"}], \"contour\": [{\"colorbar\": {\"outlinewidth\": 0, \"ticks\": \"\"}, \"colorscale\": [[0.0, \"#0d0887\"], [0.1111111111111111, \"#46039f\"], [0.2222222222222222, \"#7201a8\"], [0.3333333333333333, \"#9c179e\"], [0.4444444444444444, \"#bd3786\"], [0.5555555555555556, \"#d8576b\"], [0.6666666666666666, \"#ed7953\"], [0.7777777777777778, \"#fb9f3a\"], [0.8888888888888888, \"#fdca26\"], [1.0, \"#f0f921\"]], \"type\": \"contour\"}], \"contourcarpet\": [{\"colorbar\": {\"outlinewidth\": 0, \"ticks\": \"\"}, \"type\": \"contourcarpet\"}], \"heatmap\": [{\"colorbar\": {\"outlinewidth\": 0, \"ticks\": \"\"}, \"colorscale\": [[0.0, \"#0d0887\"], [0.1111111111111111, \"#46039f\"], [0.2222222222222222, \"#7201a8\"], [0.3333333333333333, \"#9c179e\"], [0.4444444444444444, \"#bd3786\"], [0.5555555555555556, \"#d8576b\"], [0.6666666666666666, \"#ed7953\"], [0.7777777777777778, \"#fb9f3a\"], [0.8888888888888888, \"#fdca26\"], [1.0, \"#f0f921\"]], \"type\": \"heatmap\"}], \"heatmapgl\": [{\"colorbar\": {\"outlinewidth\": 0, \"ticks\": \"\"}, \"colorscale\": [[0.0, \"#0d0887\"], [0.1111111111111111, \"#46039f\"], [0.2222222222222222, \"#7201a8\"], [0.3333333333333333, \"#9c179e\"], [0.4444444444444444, \"#bd3786\"], [0.5555555555555556, \"#d8576b\"], [0.6666666666666666, \"#ed7953\"], [0.7777777777777778, \"#fb9f3a\"], [0.8888888888888888, \"#fdca26\"], [1.0, \"#f0f921\"]], \"type\": \"heatmapgl\"}], \"histogram\": [{\"marker\": {\"colorbar\": {\"outlinewidth\": 0, \"ticks\": \"\"}}, \"type\": \"histogram\"}], \"histogram2d\": [{\"colorbar\": {\"outlinewidth\": 0, \"ticks\": \"\"}, \"colorscale\": [[0.0, \"#0d0887\"], [0.1111111111111111, \"#46039f\"], [0.2222222222222222, \"#7201a8\"], [0.3333333333333333, \"#9c179e\"], [0.4444444444444444, \"#bd3786\"], [0.5555555555555556, \"#d8576b\"], [0.6666666666666666, \"#ed7953\"], [0.7777777777777778, \"#fb9f3a\"], [0.8888888888888888, \"#fdca26\"], [1.0, \"#f0f921\"]], \"type\": \"histogram2d\"}], \"histogram2dcontour\": [{\"colorbar\": {\"outlinewidth\": 0, \"ticks\": \"\"}, \"colorscale\": [[0.0, \"#0d0887\"], [0.1111111111111111, \"#46039f\"], [0.2222222222222222, \"#7201a8\"], [0.3333333333333333, \"#9c179e\"], [0.4444444444444444, \"#bd3786\"], [0.5555555555555556, \"#d8576b\"], [0.6666666666666666, \"#ed7953\"], [0.7777777777777778, \"#fb9f3a\"], [0.8888888888888888, \"#fdca26\"], [1.0, \"#f0f921\"]], \"type\": \"histogram2dcontour\"}], \"mesh3d\": [{\"colorbar\": {\"outlinewidth\": 0, \"ticks\": \"\"}, \"type\": \"mesh3d\"}], \"parcoords\": [{\"line\": {\"colorbar\": {\"outlinewidth\": 0, \"ticks\": \"\"}}, \"type\": \"parcoords\"}], \"pie\": [{\"automargin\": true, \"type\": \"pie\"}], \"scatter\": [{\"marker\": {\"colorbar\": {\"outlinewidth\": 0, \"ticks\": \"\"}}, \"type\": \"scatter\"}], \"scatter3d\": [{\"line\": {\"colorbar\": {\"outlinewidth\": 0, \"ticks\": \"\"}}, \"marker\": {\"colorbar\": {\"outlinewidth\": 0, \"ticks\": \"\"}}, \"type\": \"scatter3d\"}], \"scattercarpet\": [{\"marker\": {\"colorbar\": {\"outlinewidth\": 0, \"ticks\": \"\"}}, \"type\": \"scattercarpet\"}], \"scattergeo\": [{\"marker\": {\"colorbar\": {\"outlinewidth\": 0, \"ticks\": \"\"}}, \"type\": \"scattergeo\"}], \"scattergl\": [{\"marker\": {\"colorbar\": {\"outlinewidth\": 0, \"ticks\": \"\"}}, \"type\": \"scattergl\"}], \"scattermapbox\": [{\"marker\": {\"colorbar\": {\"outlinewidth\": 0, \"ticks\": \"\"}}, \"type\": \"scattermapbox\"}], \"scatterpolar\": [{\"marker\": {\"colorbar\": {\"outlinewidth\": 0, \"ticks\": \"\"}}, \"type\": \"scatterpolar\"}], \"scatterpolargl\": [{\"marker\": {\"colorbar\": {\"outlinewidth\": 0, \"ticks\": \"\"}}, \"type\": \"scatterpolargl\"}], \"scatterternary\": [{\"marker\": {\"colorbar\": {\"outlinewidth\": 0, \"ticks\": \"\"}}, \"type\": \"scatterternary\"}], \"surface\": [{\"colorbar\": {\"outlinewidth\": 0, \"ticks\": \"\"}, \"colorscale\": [[0.0, \"#0d0887\"], [0.1111111111111111, \"#46039f\"], [0.2222222222222222, \"#7201a8\"], [0.3333333333333333, \"#9c179e\"], [0.4444444444444444, \"#bd3786\"], [0.5555555555555556, \"#d8576b\"], [0.6666666666666666, \"#ed7953\"], [0.7777777777777778, \"#fb9f3a\"], [0.8888888888888888, \"#fdca26\"], [1.0, \"#f0f921\"]], \"type\": \"surface\"}], \"table\": [{\"cells\": {\"fill\": {\"color\": \"#EBF0F8\"}, \"line\": {\"color\": \"white\"}}, \"header\": {\"fill\": {\"color\": \"#C8D4E3\"}, \"line\": {\"color\": \"white\"}}, \"type\": \"table\"}]}, \"layout\": {\"annotationdefaults\": {\"arrowcolor\": \"#2a3f5f\", \"arrowhead\": 0, \"arrowwidth\": 1}, \"autotypenumbers\": \"strict\", \"coloraxis\": {\"colorbar\": {\"outlinewidth\": 0, \"ticks\": \"\"}}, \"colorscale\": {\"diverging\": [[0, \"#8e0152\"], [0.1, \"#c51b7d\"], [0.2, \"#de77ae\"], [0.3, \"#f1b6da\"], [0.4, \"#fde0ef\"], [0.5, \"#f7f7f7\"], [0.6, \"#e6f5d0\"], [0.7, \"#b8e186\"], [0.8, \"#7fbc41\"], [0.9, \"#4d9221\"], [1, \"#276419\"]], \"sequential\": [[0.0, \"#0d0887\"], [0.1111111111111111, \"#46039f\"], [0.2222222222222222, \"#7201a8\"], [0.3333333333333333, \"#9c179e\"], [0.4444444444444444, \"#bd3786\"], [0.5555555555555556, \"#d8576b\"], [0.6666666666666666, \"#ed7953\"], [0.7777777777777778, \"#fb9f3a\"], [0.8888888888888888, \"#fdca26\"], [1.0, \"#f0f921\"]], \"sequentialminus\": [[0.0, \"#0d0887\"], [0.1111111111111111, \"#46039f\"], [0.2222222222222222, \"#7201a8\"], [0.3333333333333333, \"#9c179e\"], [0.4444444444444444, \"#bd3786\"], [0.5555555555555556, \"#d8576b\"], [0.6666666666666666, \"#ed7953\"], [0.7777777777777778, \"#fb9f3a\"], [0.8888888888888888, \"#fdca26\"], [1.0, \"#f0f921\"]]}, \"colorway\": [\"#636efa\", \"#EF553B\", \"#00cc96\", \"#ab63fa\", \"#FFA15A\", \"#19d3f3\", \"#FF6692\", \"#B6E880\", \"#FF97FF\", \"#FECB52\"], \"font\": {\"color\": \"#2a3f5f\"}, \"geo\": {\"bgcolor\": \"white\", \"lakecolor\": \"white\", \"landcolor\": \"#E5ECF6\", \"showlakes\": true, \"showland\": true, \"subunitcolor\": \"white\"}, \"hoverlabel\": {\"align\": \"left\"}, \"hovermode\": \"closest\", \"mapbox\": {\"style\": \"light\"}, \"paper_bgcolor\": \"white\", \"plot_bgcolor\": \"#E5ECF6\", \"polar\": {\"angularaxis\": {\"gridcolor\": \"white\", \"linecolor\": \"white\", \"ticks\": \"\"}, \"bgcolor\": \"#E5ECF6\", \"radialaxis\": {\"gridcolor\": \"white\", \"linecolor\": \"white\", \"ticks\": \"\"}}, \"scene\": {\"xaxis\": {\"backgroundcolor\": \"#E5ECF6\", \"gridcolor\": \"white\", \"gridwidth\": 2, \"linecolor\": \"white\", \"showbackground\": true, \"ticks\": \"\", \"zerolinecolor\": \"white\"}, \"yaxis\": {\"backgroundcolor\": \"#E5ECF6\", \"gridcolor\": \"white\", \"gridwidth\": 2, \"linecolor\": \"white\", \"showbackground\": true, \"ticks\": \"\", \"zerolinecolor\": \"white\"}, \"zaxis\": {\"backgroundcolor\": \"#E5ECF6\", \"gridcolor\": \"white\", \"gridwidth\": 2, \"linecolor\": \"white\", \"showbackground\": true, \"ticks\": \"\", \"zerolinecolor\": \"white\"}}, \"shapedefaults\": {\"line\": {\"color\": \"#2a3f5f\"}}, \"ternary\": {\"aaxis\": {\"gridcolor\": \"white\", \"linecolor\": \"white\", \"ticks\": \"\"}, \"baxis\": {\"gridcolor\": \"white\", \"linecolor\": \"white\", \"ticks\": \"\"}, \"bgcolor\": \"#E5ECF6\", \"caxis\": {\"gridcolor\": \"white\", \"linecolor\": \"white\", \"ticks\": \"\"}}, \"title\": {\"x\": 0.05}, \"xaxis\": {\"automargin\": true, \"gridcolor\": \"white\", \"linecolor\": \"white\", \"ticks\": \"\", \"title\": {\"standoff\": 15}, \"zerolinecolor\": \"white\", \"zerolinewidth\": 2}, \"yaxis\": {\"automargin\": true, \"gridcolor\": \"white\", \"linecolor\": \"white\", \"ticks\": \"\", \"title\": {\"standoff\": 15}, \"zerolinecolor\": \"white\", \"zerolinewidth\": 2}}}},                        {\"responsive\": true}                    ).then(function(){\n",
       "                            \n",
       "var gd = document.getElementById('d70a68a0-ea4c-4eb9-b824-f35903075613');\n",
       "var x = new MutationObserver(function (mutations, observer) {{\n",
       "        var display = window.getComputedStyle(gd).display;\n",
       "        if (!display || display === 'none') {{\n",
       "            console.log([gd, 'removed!']);\n",
       "            Plotly.purge(gd);\n",
       "            observer.disconnect();\n",
       "        }}\n",
       "}});\n",
       "\n",
       "// Listen for the removal of the full notebook cells\n",
       "var notebookContainer = gd.closest('#notebook-container');\n",
       "if (notebookContainer) {{\n",
       "    x.observe(notebookContainer, {childList: true});\n",
       "}}\n",
       "\n",
       "// Listen for the clearing of the current output cell\n",
       "var outputEl = gd.closest('.output');\n",
       "if (outputEl) {{\n",
       "    x.observe(outputEl, {childList: true});\n",
       "}}\n",
       "\n",
       "                        })                };                });            </script>        </div>"
      ]
     },
     "metadata": {},
     "output_type": "display_data"
    }
   ],
   "source": [
    "dec_score = dataset.decile_score.unique()\n",
    "afrac_amer = decile_score_per_race.values[decile_score_per_race.race == \"African-American\"][:,2]\n",
    "hispanic = decile_score_per_race.values[decile_score_per_race.race == \"Hispanic\"][:,2]\n",
    "asian = decile_score_per_race.values[decile_score_per_race.race == \"Asian\"][:,2]\n",
    "causcasian = decile_score_per_race.values[decile_score_per_race.race == \"Caucasian\"][:,2]\n",
    "native = decile_score_per_race.values[decile_score_per_race.race == \"Native American\"][:,2]\n",
    "other = decile_score_per_race.values[decile_score_per_race.race == \"Other\"][:,2]\n",
    "\n",
    "fig = go.Figure(data = [\n",
    "    go.Bar(name = 'African-American', x = dec_score, y = afrac_amer),\n",
    "    go.Bar(name = 'Hispanic', x = dec_score, y = hispanic),\n",
    "    go.Bar(name = 'Asian', x = dec_score, y = asian),\n",
    "    go.Bar(name = 'Causcasian', x = dec_score, y = causcasian),\n",
    "    go.Bar(name = 'Native-American', x = dec_score, y = native),\n",
    "    go.Bar(name = 'Other', x = dec_score, y = other)\n",
    "])\n",
    "fig.update_layout(barmode='stack')\n",
    "fig.show()"
   ]
  },
  {
   "cell_type": "markdown",
   "metadata": {
    "id": "LRyYvb_XjkH7"
   },
   "source": [
    "The *low*, *medium* and *high* values below are categories for risk based on the **decile_score** computed. This will be discussed in more detail in the upcoming sections."
   ]
  },
  {
   "cell_type": "code",
   "execution_count": 15,
   "metadata": {
    "id": "SzgksdT3jkH7",
    "scrolled": true
   },
   "outputs": [],
   "source": [
    "score_text_per_race = pd.crosstab(dataset.score_text, dataset.race)\n",
    "score_text_per_race = score_text_per_race.stack().reset_index().rename(columns = {0:'values'})"
   ]
  },
  {
   "cell_type": "code",
   "execution_count": 16,
   "metadata": {
    "id": "rIG87rosjkH7"
   },
   "outputs": [
    {
     "data": {
      "text/html": [
       "<div>                            <div id=\"dc8db369-7124-4f21-b8e3-4cb75c926ced\" class=\"plotly-graph-div\" style=\"height:525px; width:100%;\"></div>            <script type=\"text/javascript\">                require([\"plotly\"], function(Plotly) {                    window.PLOTLYENV=window.PLOTLYENV || {};                                    if (document.getElementById(\"dc8db369-7124-4f21-b8e3-4cb75c926ced\")) {                    Plotly.newPlot(                        \"dc8db369-7124-4f21-b8e3-4cb75c926ced\",                        [{\"name\": \"African-American\", \"type\": \"bar\", \"x\": [\"Low\", \"Medium\", \"High\"], \"y\": [845, 1346, 984]}, {\"name\": \"Hispanic\", \"type\": \"bar\", \"x\": [\"Low\", \"Medium\", \"High\"], \"y\": [47, 368, 94]}, {\"name\": \"Asian\", \"type\": \"bar\", \"x\": [\"Low\", \"Medium\", \"High\"], \"y\": [3, 24, 4]}, {\"name\": \"Causcasian\", \"type\": \"bar\", \"x\": [\"Low\", \"Medium\", \"High\"], \"y\": [223, 1407, 473]}, {\"name\": \"Native-American\", \"type\": \"bar\", \"x\": [\"Low\", \"Medium\", \"High\"], \"y\": [4, 3, 4]}, {\"name\": \"Other\", \"type\": \"bar\", \"x\": [\"Low\", \"Medium\", \"High\"], \"y\": [22, 273, 48]}],                        {\"barmode\": \"stack\", \"template\": {\"data\": {\"bar\": [{\"error_x\": {\"color\": \"#2a3f5f\"}, \"error_y\": {\"color\": \"#2a3f5f\"}, \"marker\": {\"line\": {\"color\": \"#E5ECF6\", \"width\": 0.5}}, \"type\": \"bar\"}], \"barpolar\": [{\"marker\": {\"line\": {\"color\": \"#E5ECF6\", \"width\": 0.5}}, \"type\": \"barpolar\"}], \"carpet\": [{\"aaxis\": {\"endlinecolor\": \"#2a3f5f\", \"gridcolor\": \"white\", \"linecolor\": \"white\", \"minorgridcolor\": \"white\", \"startlinecolor\": \"#2a3f5f\"}, \"baxis\": {\"endlinecolor\": \"#2a3f5f\", \"gridcolor\": \"white\", \"linecolor\": \"white\", \"minorgridcolor\": \"white\", \"startlinecolor\": \"#2a3f5f\"}, \"type\": \"carpet\"}], \"choropleth\": [{\"colorbar\": {\"outlinewidth\": 0, \"ticks\": \"\"}, \"type\": \"choropleth\"}], \"contour\": [{\"colorbar\": {\"outlinewidth\": 0, \"ticks\": \"\"}, \"colorscale\": [[0.0, \"#0d0887\"], [0.1111111111111111, \"#46039f\"], [0.2222222222222222, \"#7201a8\"], [0.3333333333333333, \"#9c179e\"], [0.4444444444444444, \"#bd3786\"], [0.5555555555555556, \"#d8576b\"], [0.6666666666666666, \"#ed7953\"], [0.7777777777777778, \"#fb9f3a\"], [0.8888888888888888, \"#fdca26\"], [1.0, \"#f0f921\"]], \"type\": \"contour\"}], \"contourcarpet\": [{\"colorbar\": {\"outlinewidth\": 0, \"ticks\": \"\"}, \"type\": \"contourcarpet\"}], \"heatmap\": [{\"colorbar\": {\"outlinewidth\": 0, \"ticks\": \"\"}, \"colorscale\": [[0.0, \"#0d0887\"], [0.1111111111111111, \"#46039f\"], [0.2222222222222222, \"#7201a8\"], [0.3333333333333333, \"#9c179e\"], [0.4444444444444444, \"#bd3786\"], [0.5555555555555556, \"#d8576b\"], [0.6666666666666666, \"#ed7953\"], [0.7777777777777778, \"#fb9f3a\"], [0.8888888888888888, \"#fdca26\"], [1.0, \"#f0f921\"]], \"type\": \"heatmap\"}], \"heatmapgl\": [{\"colorbar\": {\"outlinewidth\": 0, \"ticks\": \"\"}, \"colorscale\": [[0.0, \"#0d0887\"], [0.1111111111111111, \"#46039f\"], [0.2222222222222222, \"#7201a8\"], [0.3333333333333333, \"#9c179e\"], [0.4444444444444444, \"#bd3786\"], [0.5555555555555556, \"#d8576b\"], [0.6666666666666666, \"#ed7953\"], [0.7777777777777778, \"#fb9f3a\"], [0.8888888888888888, \"#fdca26\"], [1.0, \"#f0f921\"]], \"type\": \"heatmapgl\"}], \"histogram\": [{\"marker\": {\"colorbar\": {\"outlinewidth\": 0, \"ticks\": \"\"}}, \"type\": \"histogram\"}], \"histogram2d\": [{\"colorbar\": {\"outlinewidth\": 0, \"ticks\": \"\"}, \"colorscale\": [[0.0, \"#0d0887\"], [0.1111111111111111, \"#46039f\"], [0.2222222222222222, \"#7201a8\"], [0.3333333333333333, \"#9c179e\"], [0.4444444444444444, \"#bd3786\"], [0.5555555555555556, \"#d8576b\"], [0.6666666666666666, \"#ed7953\"], [0.7777777777777778, \"#fb9f3a\"], [0.8888888888888888, \"#fdca26\"], [1.0, \"#f0f921\"]], \"type\": \"histogram2d\"}], \"histogram2dcontour\": [{\"colorbar\": {\"outlinewidth\": 0, \"ticks\": \"\"}, \"colorscale\": [[0.0, \"#0d0887\"], [0.1111111111111111, \"#46039f\"], [0.2222222222222222, \"#7201a8\"], [0.3333333333333333, \"#9c179e\"], [0.4444444444444444, \"#bd3786\"], [0.5555555555555556, \"#d8576b\"], [0.6666666666666666, \"#ed7953\"], [0.7777777777777778, \"#fb9f3a\"], [0.8888888888888888, \"#fdca26\"], [1.0, \"#f0f921\"]], \"type\": \"histogram2dcontour\"}], \"mesh3d\": [{\"colorbar\": {\"outlinewidth\": 0, \"ticks\": \"\"}, \"type\": \"mesh3d\"}], \"parcoords\": [{\"line\": {\"colorbar\": {\"outlinewidth\": 0, \"ticks\": \"\"}}, \"type\": \"parcoords\"}], \"pie\": [{\"automargin\": true, \"type\": \"pie\"}], \"scatter\": [{\"marker\": {\"colorbar\": {\"outlinewidth\": 0, \"ticks\": \"\"}}, \"type\": \"scatter\"}], \"scatter3d\": [{\"line\": {\"colorbar\": {\"outlinewidth\": 0, \"ticks\": \"\"}}, \"marker\": {\"colorbar\": {\"outlinewidth\": 0, \"ticks\": \"\"}}, \"type\": \"scatter3d\"}], \"scattercarpet\": [{\"marker\": {\"colorbar\": {\"outlinewidth\": 0, \"ticks\": \"\"}}, \"type\": \"scattercarpet\"}], \"scattergeo\": [{\"marker\": {\"colorbar\": {\"outlinewidth\": 0, \"ticks\": \"\"}}, \"type\": \"scattergeo\"}], \"scattergl\": [{\"marker\": {\"colorbar\": {\"outlinewidth\": 0, \"ticks\": \"\"}}, \"type\": \"scattergl\"}], \"scattermapbox\": [{\"marker\": {\"colorbar\": {\"outlinewidth\": 0, \"ticks\": \"\"}}, \"type\": \"scattermapbox\"}], \"scatterpolar\": [{\"marker\": {\"colorbar\": {\"outlinewidth\": 0, \"ticks\": \"\"}}, \"type\": \"scatterpolar\"}], \"scatterpolargl\": [{\"marker\": {\"colorbar\": {\"outlinewidth\": 0, \"ticks\": \"\"}}, \"type\": \"scatterpolargl\"}], \"scatterternary\": [{\"marker\": {\"colorbar\": {\"outlinewidth\": 0, \"ticks\": \"\"}}, \"type\": \"scatterternary\"}], \"surface\": [{\"colorbar\": {\"outlinewidth\": 0, \"ticks\": \"\"}, \"colorscale\": [[0.0, \"#0d0887\"], [0.1111111111111111, \"#46039f\"], [0.2222222222222222, \"#7201a8\"], [0.3333333333333333, \"#9c179e\"], [0.4444444444444444, \"#bd3786\"], [0.5555555555555556, \"#d8576b\"], [0.6666666666666666, \"#ed7953\"], [0.7777777777777778, \"#fb9f3a\"], [0.8888888888888888, \"#fdca26\"], [1.0, \"#f0f921\"]], \"type\": \"surface\"}], \"table\": [{\"cells\": {\"fill\": {\"color\": \"#EBF0F8\"}, \"line\": {\"color\": \"white\"}}, \"header\": {\"fill\": {\"color\": \"#C8D4E3\"}, \"line\": {\"color\": \"white\"}}, \"type\": \"table\"}]}, \"layout\": {\"annotationdefaults\": {\"arrowcolor\": \"#2a3f5f\", \"arrowhead\": 0, \"arrowwidth\": 1}, \"autotypenumbers\": \"strict\", \"coloraxis\": {\"colorbar\": {\"outlinewidth\": 0, \"ticks\": \"\"}}, \"colorscale\": {\"diverging\": [[0, \"#8e0152\"], [0.1, \"#c51b7d\"], [0.2, \"#de77ae\"], [0.3, \"#f1b6da\"], [0.4, \"#fde0ef\"], [0.5, \"#f7f7f7\"], [0.6, \"#e6f5d0\"], [0.7, \"#b8e186\"], [0.8, \"#7fbc41\"], [0.9, \"#4d9221\"], [1, \"#276419\"]], \"sequential\": [[0.0, \"#0d0887\"], [0.1111111111111111, \"#46039f\"], [0.2222222222222222, \"#7201a8\"], [0.3333333333333333, \"#9c179e\"], [0.4444444444444444, \"#bd3786\"], [0.5555555555555556, \"#d8576b\"], [0.6666666666666666, \"#ed7953\"], [0.7777777777777778, \"#fb9f3a\"], [0.8888888888888888, \"#fdca26\"], [1.0, \"#f0f921\"]], \"sequentialminus\": [[0.0, \"#0d0887\"], [0.1111111111111111, \"#46039f\"], [0.2222222222222222, \"#7201a8\"], [0.3333333333333333, \"#9c179e\"], [0.4444444444444444, \"#bd3786\"], [0.5555555555555556, \"#d8576b\"], [0.6666666666666666, \"#ed7953\"], [0.7777777777777778, \"#fb9f3a\"], [0.8888888888888888, \"#fdca26\"], [1.0, \"#f0f921\"]]}, \"colorway\": [\"#636efa\", \"#EF553B\", \"#00cc96\", \"#ab63fa\", \"#FFA15A\", \"#19d3f3\", \"#FF6692\", \"#B6E880\", \"#FF97FF\", \"#FECB52\"], \"font\": {\"color\": \"#2a3f5f\"}, \"geo\": {\"bgcolor\": \"white\", \"lakecolor\": \"white\", \"landcolor\": \"#E5ECF6\", \"showlakes\": true, \"showland\": true, \"subunitcolor\": \"white\"}, \"hoverlabel\": {\"align\": \"left\"}, \"hovermode\": \"closest\", \"mapbox\": {\"style\": \"light\"}, \"paper_bgcolor\": \"white\", \"plot_bgcolor\": \"#E5ECF6\", \"polar\": {\"angularaxis\": {\"gridcolor\": \"white\", \"linecolor\": \"white\", \"ticks\": \"\"}, \"bgcolor\": \"#E5ECF6\", \"radialaxis\": {\"gridcolor\": \"white\", \"linecolor\": \"white\", \"ticks\": \"\"}}, \"scene\": {\"xaxis\": {\"backgroundcolor\": \"#E5ECF6\", \"gridcolor\": \"white\", \"gridwidth\": 2, \"linecolor\": \"white\", \"showbackground\": true, \"ticks\": \"\", \"zerolinecolor\": \"white\"}, \"yaxis\": {\"backgroundcolor\": \"#E5ECF6\", \"gridcolor\": \"white\", \"gridwidth\": 2, \"linecolor\": \"white\", \"showbackground\": true, \"ticks\": \"\", \"zerolinecolor\": \"white\"}, \"zaxis\": {\"backgroundcolor\": \"#E5ECF6\", \"gridcolor\": \"white\", \"gridwidth\": 2, \"linecolor\": \"white\", \"showbackground\": true, \"ticks\": \"\", \"zerolinecolor\": \"white\"}}, \"shapedefaults\": {\"line\": {\"color\": \"#2a3f5f\"}}, \"ternary\": {\"aaxis\": {\"gridcolor\": \"white\", \"linecolor\": \"white\", \"ticks\": \"\"}, \"baxis\": {\"gridcolor\": \"white\", \"linecolor\": \"white\", \"ticks\": \"\"}, \"bgcolor\": \"#E5ECF6\", \"caxis\": {\"gridcolor\": \"white\", \"linecolor\": \"white\", \"ticks\": \"\"}}, \"title\": {\"x\": 0.05}, \"xaxis\": {\"automargin\": true, \"gridcolor\": \"white\", \"linecolor\": \"white\", \"ticks\": \"\", \"title\": {\"standoff\": 15}, \"zerolinecolor\": \"white\", \"zerolinewidth\": 2}, \"yaxis\": {\"automargin\": true, \"gridcolor\": \"white\", \"linecolor\": \"white\", \"ticks\": \"\", \"title\": {\"standoff\": 15}, \"zerolinecolor\": \"white\", \"zerolinewidth\": 2}}}},                        {\"responsive\": true}                    ).then(function(){\n",
       "                            \n",
       "var gd = document.getElementById('dc8db369-7124-4f21-b8e3-4cb75c926ced');\n",
       "var x = new MutationObserver(function (mutations, observer) {{\n",
       "        var display = window.getComputedStyle(gd).display;\n",
       "        if (!display || display === 'none') {{\n",
       "            console.log([gd, 'removed!']);\n",
       "            Plotly.purge(gd);\n",
       "            observer.disconnect();\n",
       "        }}\n",
       "}});\n",
       "\n",
       "// Listen for the removal of the full notebook cells\n",
       "var notebookContainer = gd.closest('#notebook-container');\n",
       "if (notebookContainer) {{\n",
       "    x.observe(notebookContainer, {childList: true});\n",
       "}}\n",
       "\n",
       "// Listen for the clearing of the current output cell\n",
       "var outputEl = gd.closest('.output');\n",
       "if (outputEl) {{\n",
       "    x.observe(outputEl, {childList: true});\n",
       "}}\n",
       "\n",
       "                        })                };                });            </script>        </div>"
      ]
     },
     "metadata": {},
     "output_type": "display_data"
    }
   ],
   "source": [
    "dec_score = dataset.score_text.unique()\n",
    "afrac_amer = score_text_per_race.values[score_text_per_race.race == \"African-American\"][:,2]\n",
    "hispanic = score_text_per_race.values[score_text_per_race.race == \"Hispanic\"][:,2]\n",
    "asian = score_text_per_race.values[score_text_per_race.race == \"Asian\"][:,2]\n",
    "causcasian = score_text_per_race.values[score_text_per_race.race == \"Caucasian\"][:,2]\n",
    "native = score_text_per_race.values[score_text_per_race.race == \"Native American\"][:,2]\n",
    "other = score_text_per_race.values[score_text_per_race.race == \"Other\"][:,2]\n",
    "\n",
    "fig = go.Figure(data = [\n",
    "    go.Bar(name = 'African-American', x = dec_score, y = afrac_amer),\n",
    "    go.Bar(name = 'Hispanic', x = dec_score, y = hispanic),\n",
    "    go.Bar(name = 'Asian', x = dec_score, y = asian),\n",
    "    go.Bar(name = 'Causcasian', x = dec_score, y = causcasian),\n",
    "    go.Bar(name = 'Native-American', x = dec_score, y = native),\n",
    "    go.Bar(name = 'Other', x = dec_score, y = other)\n",
    "])\n",
    "fig.update_layout(barmode='stack')\n",
    "fig.show()"
   ]
  },
  {
   "cell_type": "markdown",
   "metadata": {
    "id": "D8KEGlKLjkH7"
   },
   "source": [
    "### Decile score vs Race\n"
   ]
  },
  {
   "cell_type": "code",
   "execution_count": 17,
   "metadata": {
    "id": "IUnpp9LgjkH7"
   },
   "outputs": [],
   "source": [
    "def scores_stats(category, value):\n",
    "    '''\n",
    "    @param category: vategory to perform stats on\n",
    "    @param value: entry in the specefied category\n",
    "    '''\n",
    "    scores = dataset[dataset[category] == value]\n",
    "    scores = scores[['decile_score','score_text']]\n",
    "    histogram,_ = np.histogram(scores['decile_score'])\n",
    "    fig = px.histogram(scores['decile_score'], 'decile_score',\n",
    "                       title = 'Decile score of '+ value + 's',\n",
    "                       opacity = 0.8,\n",
    "                       color_discrete_sequence = ['indianred'])\n",
    "    fig.add_shape(dict(\n",
    "        type=\"line\",\n",
    "        x0 = scores['decile_score'].mean(),\n",
    "        y0 = 0,\n",
    "        x1 = scores['decile_score'].mean(),\n",
    "        y1 = max(histogram) + 20,\n",
    "        line=dict(\n",
    "            color = \"LightSeaGreen\",\n",
    "            width = 4,\n",
    "            dash = \"dashdot\")\n",
    "    ))\n",
    "    fig.show()\n",
    "    print('mean decile score: %.2f'%scores['decile_score'].mean())\n"
   ]
  },
  {
   "cell_type": "code",
   "execution_count": 18,
   "metadata": {
    "id": "cTqEh1YtjkH7"
   },
   "outputs": [
    {
     "data": {
      "text/html": [
       "<div>                            <div id=\"d5783679-8f8a-46ae-a519-23844c28d181\" class=\"plotly-graph-div\" style=\"height:525px; width:100%;\"></div>            <script type=\"text/javascript\">                require([\"plotly\"], function(Plotly) {                    window.PLOTLYENV=window.PLOTLYENV || {};                                    if (document.getElementById(\"d5783679-8f8a-46ae-a519-23844c28d181\")) {                    Plotly.newPlot(                        \"d5783679-8f8a-46ae-a519-23844c28d181\",                        [{\"alignmentgroup\": \"True\", \"bingroup\": \"x\", \"hovertemplate\": \"decile_score=%{x}<br>count=%{y}<extra></extra>\", \"legendgroup\": \"\", \"marker\": {\"color\": \"indianred\", \"opacity\": 0.8}, \"name\": \"\", \"offsetgroup\": \"\", \"orientation\": \"v\", \"showlegend\": false, \"type\": \"histogram\", \"x\": [3, 4, 6, 4, 3, 10, 6, 9, 3, 7, 10, 8, 9, 8, 1, 2, 7, 8, 4, 5, 4, 1, 3, 10, 4, 9, 6, 1, 4, 6, 2, 3, 4, 2, 2, 10, 10, 9, 2, 7, 4, 2, 9, 5, 2, 9, 4, 8, 7, 9, 10, 2, 7, 2, 10, 8, 6, 5, 3, 9, 9, 6, 1, 10, 4, 7, 2, 2, 7, 4, 6, 5, 8, 2, 1, 9, 9, 3, 2, 4, 9, 10, 2, 8, 1, 9, 9, 5, 1, 7, 6, 10, 1, 9, 9, 1, 4, 9, 4, 2, 9, 8, 3, 3, 8, 6, 4, 1, 8, 1, 4, 2, 7, 10, 3, 6, 1, 9, 8, 4, 4, 3, 6, 8, 1, 1, 2, 10, 9, 9, 9, 7, 8, 3, 1, 9, 6, 3, 10, 10, 5, 5, 4, 10, 3, 9, 5, 8, 4, 1, 3, 8, 9, 9, 5, 1, 4, 8, 9, 7, 5, 9, 3, 8, 2, 7, 6, 3, 6, 7, 7, 7, 5, 4, 6, 10, 10, 2, 2, 1, 3, 10, 8, 6, 5, 3, 9, 10, 1, 6, 9, 7, 9, 1, 6, 2, 10, 2, 1, 4, 5, 6, 2, 3, 4, 7, 5, 5, 4, 3, 2, 4, 7, 7, 9, 3, 5, 6, 6, 3, 5, 7, 3, 1, 8, 3, 5, 4, 2, 7, 3, 6, 3, 2, 3, 8, 7, 2, 10, 1, 7, 7, 8, 5, 3, 3, 5, 1, 1, 6, 9, 1, 9, 2, 3, 8, 2, 8, 6, 8, 4, 7, 10, 9, 7, 9, 2, 4, 3, 5, 4, 1, 2, 7, 9, 9, 10, 4, 7, 5, 8, 2, 7, 4, 6, 1, 1, 3, 6, 8, 1, 5, 8, 1, 5, 8, 4, 10, 6, 9, 8, 2, 3, 9, 7, 2, 10, 5, 9, 1, 9, 5, 5, 5, 5, 7, 10, 2, 1, 7, 7, 6, 9, 4, 2, 6, 2, 5, 6, 7, 9, 5, 9, 1, 5, 2, 2, 2, 3, 10, 1, 6, 3, 7, 5, 8, 10, 6, 3, 8, 8, 8, 10, 7, 8, 7, 2, 4, 4, 5, 7, 8, 9, 8, 5, 9, 3, 8, 4, 9, 8, 4, 8, 3, 1, 9, 2, 10, 3, 7, 2, 5, 5, 7, 6, 1, 3, 2, 7, 7, 2, 2, 2, 1, 9, 10, 9, 1, 7, 2, 9, 7, 10, 8, 2, 7, 5, 5, 7, 1, 6, 6, 8, 7, 5, 4, 4, 1, 1, 7, 1, 7, 4, 4, 7, 10, 8, 3, 2, 5, 4, 7, 4, 6, 6, 5, 10, 7, 10, 5, 9, 1, 1, 5, 7, 2, 3, 8, 1, 10, 1, 5, 10, 3, 1, 2, 5, 8, 7, 3, 3, 3, 7, 8, 10, 3, 5, 10, 1, 3, 6, 3, 2, 1, 10, 9, 6, 8, 2, 5, 3, 9, 5, 2, 9, 6, 6, 9, 1, 1, 2, 4, 7, 9, 7, 1, 2, 9, 5, 9, 5, 8, 2, 3, 9, 5, 3, 5, 4, 1, 10, 2, 1, 6, 6, 7, 4, 3, 8, 2, 6, 2, 9, 3, 8, 1, 5, 9, 3, 5, 4, 2, 10, 4, 3, 4, 5, 8, 10, 3, 1, 3, 2, 3, 6, 9, 2, 5, 1, 1, 1, 1, 8, 4, 3, 2, 7, 3, 4, 2, 1, 10, 7, 9, 4, 9, 7, 2, 4, 6, 3, 8, 9, 10, 7, 2, 8, 6, 1, 4, 4, 2, 4, 7, 9, 2, 9, 5, 4, 3, 4, 8, 9, 10, 2, 10, 1, 8, 2, 8, 3, 4, 1, 8, 8, 7, 4, 1, 9, 6, 1, 3, 3, 6, 2, 6, 7, 6, 7, 7, 5, 2, 2, 4, 1, 4, 9, 1, 7, 9, 8, 10, 9, 10, 3, 1, 3, 7, 10, 3, 9, 2, 2, 5, 4, 6, 7, 8, 9, 10, 6, 9, 8, 7, 9, 10, 1, 3, 3, 3, 7, 4, 9, 6, 10, 4, 1, 8, 4, 3, 8, 1, 7, 3, 1, 5, 2, 10, 1, 1, 9, 6, 5, 8, 5, 9, 7, 6, 7, 8, 3, 7, 1, 1, 2, 5, 5, 7, 2, 5, 6, 5, 7, 10, 9, 10, 3, 7, 5, 3, 2, 6, 7, 10, 2, 8, 4, 6, 1, 7, 9, 9, 8, 5, 1, 7, 6, 5, 1, 2, 6, 9, 3, 7, 2, 2, 1, 9, 3, 9, 2, 2, 6, 9, 2, 1, 2, 7, 3, 8, 8, 9, 2, 3, 8, 3, 2, 5, 1, 2, 1, 4, 4, 7, 2, 6, 3, 4, 6, 7, 10, 8, 5, 7, 9, 2, 5, 7, 2, 8, 8, 7, 3, 9, 4, 5, 10, 10, 2, 7, 4, 3, 10, 7, 1, 1, 3, 8, 9, 3, 6, 9, 1, 6, 4, 4, 7, 9, 2, 9, 8, 8, 7, 1, 1, 8, 7, 9, 6, 5, 10, 9, 7, 3, 5, 2, 10, 2, 2, 8, 3, 4, 1, 6, 4, 3, 2, 7, 5, 1, 3, 1, 5, 5, 8, 9, 3, 3, 1, 9, 4, 8, 6, 7, 9, 8, 5, 9, 5, 1, 10, 4, 1, 1, 1, 1, 4, 1, 2, 2, 3, 7, 5, 4, 10, 7, 2, 4, 5, 7, 4, 6, 10, 1, 2, 8, 10, 6, 4, 2, 4, 6, 5, 9, 6, 6, 10, 8, 5, 5, 4, 3, 4, 1, 6, 2, 6, 7, 9, 8, 4, 1, 10, 7, 7, 2, 6, 2, 10, 10, 9, 6, 10, 5, 5, 4, 6, 4, 2, 2, 2, 2, 4, 8, 10, 10, 1, 8, 6, 7, 6, 1, 7, 3, 3, 1, 4, 2, 4, 1, 9, 7, 9, 9, 3, 4, 2, 5, 1, 8, 6, 5, 10, 10, 1, 4, 1, 6, 3, 5, 2, 5, 2, 10, 6, 2, 10, 7, 1, 3, 3, 3, 8, 1, 6, 2, 8, 2, 4, 7, 2, 9, 7, 2, 4, 10, 10, 4, 5, 7, 10, 3, 2, 5, 2, 4, 7, 6, 1, 7, 7, 1, 3, 3, 4, 1, 7, 8, 6, 1, 9, 7, 1, 10, 7, 6, 7, 6, 2, 4, 6, 3, 6, 8, 4, 2, 4, 9, 4, 6, 7, 6, 2, 5, 2, 6, 5, 9, 7, 1, 2, 2, 9, 4, 1, 1, 7, 6, 9, 7, 8, 1, 1, 5, 4, 1, 8, 10, 6, 2, 8, 5, 9, 1, 9, 5, 10, 7, 7, 6, 2, 7, 1, 1, 2, 5, 4, 8, 4, 3, 5, 2, 1, 3, 10, 7, 8, 5, 3, 3, 2, 6, 10, 5, 4, 10, 6, 5, 8, 8, 2, 8, 5, 3, 1, 6, 3, 4, 9, 5, 6, 10, 10, 1, 2, 5, 2, 8, 10, 3, 7, 7, 5, 1, 3, 3, 7, 1, 1, 9, 5, 5, 3, 6, 7, 8, 1, 1, 4, 1, 8, 5, 7, 5, 3, 5, 2, 1, 1, 5, 6, 5, 9, 10, 3, 4, 10, 1, 9, 8, 3, 5, 2, 8, 4, 6, 3, 5, 8, 6, 1, 9, 1, 4, 1, 10, 7, 7, 3, 10, 6, 8, 6, 3, 9, 6, 3, 10, 1, 9, 9, 5, 1, 9, 2, 3, 6, 3, 6, 9, 5, 4, 8, 9, 4, 8, 4, 4, 1, 8, 10, 8, 8, 7, 4, 9, 6, 9, 3, 8, 10, 6, 8, 9, 4, 2, 2, 8, 6, 7, 6, 9, 5, 8, 7, 9, 3, 9, 2, 5, 4, 2, 7, 1, 1, 2, 9, 10, 5, 3, 4, 3, 9, 9, 4, 2, 7, 1, 2, 8, 8, 1, 7, 3, 4, 4, 9, 1, 3, 3, 2, 5, 7, 1, 8, 7, 4, 3, 6, 2, 4, 5, 1, 8, 4, 5, 5, 4, 2, 4, 10, 8, 3, 10, 7, 1, 10, 2, 3, 10, 9, 1, 6, 9, 8, 10, 6, 1, 10, 10, 8, 9, 6, 8, 2, 4, 5, 3, 3, 10, 1, 3, 6, 3, 9, 2, 8, 5, 1, 5, 5, 7, 4, 9, 3, 1, 2, 10, 7, 2, 8, 2, 7, 9, 7, 10, 7, 8, 6, 3, 8, 3, 1, 5, 10, 8, 2, 3, 6, 5, 2, 8, 6, 6, 3, 6, 4, 6, 2, 2, 3, 2, 10, 9, 9, 9, 8, 7, 7, 8, 8, 10, 2, 8, 10, 9, 8, 8, 4, 4, 2, 9, 8, 8, 6, 4, 2, 7, 9, 3, 8, 3, 6, 8, 2, 8, 2, 9, 8, 9, 7, 4, 4, 1, 7, 7, 2, 5, 4, 7, 4, 1, 10, 5, 4, 6, 10, 2, 1, 10, 7, 5, 4, 9, 3, 5, 7, 4, 7, 9, 9, 1, 2, 8, 3, 4, 1, 5, 7, 1, 1, 1, 6, 3, 8, 1, 10, 8, 10, 10, 1, 7, 10, 7, 3, 2, 2, 5, 8, 4, 4, 8, 7, 6, 1, 4, 7, 8, 1, 1, 3, 5, 8, 7, 9, 6, 4, 1, 3, 10, 8, 4, 9, 5, 7, 4, 4, 8, 6, 2, 3, 1, 1, 3, 7, 2, 7, 6, 1, 2, 9, 3, 2, 1, 1, 2, 8, 8, 1, 9, 1, 8, 9, 4, 7, 8, 7, 10, 10, 5, 5, 6, 4, 2, 4, 9, 3, 5, 8, 5, 10, 6, 4, 9, 6, 10, 9, 9, 3, 1, 2, 4, 10, 2, 5, 2, 9, 8, 8, 3, 5, 5, 4, 1, 4, 1, 1, 4, 8, 8, 2, 4, 10, 6, 9, 8, 8, 4, 1, 4, 2, 7, 7, 10, 9, 7, 7, 8, 7, 5, 5, 1, 6, 8, 8, 2, 6, 1, 4, 2, 5, 9, 6, 2, 7, 8, 6, 9, 5, 8, 3, 7, 3, 1, 1, 7, 4, 3, 5, 2, 10, 3, 1, 3, 7, 2, 3, 6, 4, 6, 2, 8, 9, 5, 1, 4, 6, 1, 3, 8, 7, 7, 5, 7, 4, 1, 7, 5, 2, 9, 4, 8, 2, 4, 10, 6, 1, 4, 3, 9, 7, 1, 5, 8, 4, 9, 2, 5, 2, 7, 1, 2, 5, 1, 8, 8, 6, 9, 3, 9, 4, 1, 3, 4, 2, 3, 7, 3, 6, 8, 4, 2, 3, 8, 8, 5, 10, 2, 6, 9, 4, 8, 9, 8, 3, 8, 7, 3, 6, 7, 1, 3, 8, 2, 2, 4, 5, 10, 9, 2, 6, 5, 1, 1, 6, 6, 8, 1, 1, 1, 4, 10, 4, 7, 6, 2, 5, 2, 5, 3, 10, 8, 4, 1, 9, 1, 1, 9, 5, 9, 5, 5, 8, 3, 1, 8, 6, 10, 1, 4, 5, 1, 1, 7, 9, 4, 7, 10, 3, 2, 7, 5, 9, 1, 1, 5, 5, 5, 4, 3, 9, 5, 3, 9, 10, 2, 4, 2, 9, 5, 5, 5, 3, 10, 2, 1, 6, 7, 9, 7, 10, 9, 6, 10, 6, 1, 7, 6, 2, 8, 8, 1, 6, 2, 4, 3, 2, 4, 9, 9, 2, 1, 9, 5, 5, 4, 5, 5, 2, 10, 6, 8, 8, 7, 1, 7, 5, 8, 4, 2, 2, 1, 2, 5, 8, 1, 7, 3, 6, 5, 4, 2, 6, 9, 7, 5, 1, 5, 4, 4, 9, 8, 2, 7, 9, 9, 4, 5, 1, 1, 7, 1, 1, 9, 1, 3, 8, 5, 1, 2, 2, 5, 7, 4, 1, 10, 1, 7, 8, 4, 7, 1, 7, 4, 7, 1, 4, 8, 4, 2, 10, 9, 6, 5, 10, 4, 7, 8, 1, 2, 10, 2, 5, 7, 1, 6, 4, 4, 8, 5, 4, 10, 9, 4, 9, 7, 8, 7, 9, 7, 1, 9, 3, 1, 2, 3, 2, 3, 6, 9, 9, 9, 2, 3, 8, 4, 3, 6, 7, 2, 4, 3, 10, 5, 2, 9, 8, 6, 4, 5, 5, 4, 7, 4, 7, 9, 7, 6, 3, 6, 1, 3, 9, 5, 2, 3, 6, 2, 3, 7, 5, 5, 5, 9, 9, 1, 8, 6, 5, 9, 9, 1, 3, 5, 4, 4, 2, 3, 8, 3, 5, 2, 3, 1, 4, 1, 9, 7, 10, 5, 3, 5, 2, 1, 4, 8, 4, 9, 7, 2, 9, 10, 5, 7, 3, 8, 5, 2, 7, 4, 10, 1, 1, 9, 4, 8, 4, 3, 6, 5, 3, 5, 5, 6, 8, 8, 2, 6, 6, 6, 1, 8, 7, 3, 8, 4, 1, 3, 6, 7, 3, 4, 3, 8, 5, 7, 10, 6, 7, 6, 5, 3, 6, 10, 7, 6, 10, 8, 8, 2, 10, 6, 10, 5, 7, 5, 5, 8, 1, 2, 10, 6, 10, 6, 5, 5, 4, 7, 2, 9, 6, 7, 9, 4, 6, 6, 7, 7, 9, 3, 10, 10, 3, 9, 9, 7, 7, 4, 7, 1, 2, 6, 8, 4, 4, 6, 2, 5, 7, 3, 9, 9, 2, 7, 7, 8, 6, 5, 4, 8, 6, 4, 7, 8, 5, 6, 8, 3, 2, 1, 7, 6, 9, 8, 1, 5, 2, 1, 9, 2, 8, 8, 1, 2, 6, 1, 2, 9, 10, 2, 1, 10, 3, 9, 2, 7, 1, 3, 1, 3, 10, 1, 2, 3, 8, 1, 4, 3, 1, 8, 7, 4, 2, 1, 7, 1, 5, 7, 7, 8, 8, 7, 1, 2, 8, 2, 10, 5, 7, 3, 5, 4, 7, 1, 6, 9, 1, 9, 2, 4, 3, 6, 7, 1, 7, 10, 1, 5, 6, 1, 2, 8, 9, 5, 6, 8, 9, 5, 8, 8, 6, 2, 10, 6, 9, 2, 8, 5, 6, 2, 3, 3, 1, 2, 1, 3, 3, 5, 4, 3, 8, 1, 8, 7, 3, 1, 9, 5, 9, 4, 4, 8, 2, 7, 8, 4, 6, 2, 2, 8, 6, 7, 1, 1, 10, 6, 6, 1, 9, 4, 4, 4, 3, 8, 3, 7, 9, 5, 9, 3, 6, 5, 3, 5, 1, 8, 8, 9, 1, 3, 10, 2, 7, 4, 1, 8, 2, 9, 8, 7, 1, 5, 5, 5, 3, 6, 9, 1, 8, 1, 8, 6, 5, 10, 9, 1, 5, 6, 1, 10, 5, 8, 9, 8, 8, 5, 5, 3, 4, 3, 2, 2, 7, 4, 10, 4, 5, 9, 9, 7, 6, 3, 3, 1, 6, 9, 10, 2, 2, 3, 3, 7, 7, 1, 3, 3, 9, 6, 6, 9, 6, 5, 10, 10, 4, 9, 6, 7, 5, 6, 9, 6, 1, 9, 10, 1, 7, 4, 4, 3, 6, 9, 7, 3, 10, 8, 4, 5, 3, 10, 9, 4, 4, 6, 3, 1, 7, 2, 5, 9, 8, 2, 1, 3, 2, 5, 4, 5, 1, 4, 4, 10, 4, 4, 5, 9, 5, 10, 7, 10, 2, 9, 2, 2, 3, 10, 6, 5, 9, 2, 2, 5, 4, 6, 10, 10, 4, 1, 10, 5, 5, 2, 4, 1, 8, 1, 4, 7, 6, 3, 7, 6, 6, 4, 9, 5, 2, 8, 2, 4, 8, 1, 1, 5, 8, 6, 1, 3, 7, 1, 2, 6, 8, 5, 1, 3, 3, 9, 4, 8, 9, 1, 9, 2, 7, 1, 1, 9, 5, 1, 6, 9, 9, 2, 7, 6, 4, 3, 6, 9, 2, 5, 6, 8, 1, 2, 3, 3, 9, 10, 7, 5, 1, 3, 7, 5, 4, 6, 4, 9, 2, 4, 10, 3, 4, 10, 9, 8, 1, 6, 1, 9, 4, 4, 3, 2, 4, 5, 6, 1, 5, 4, 1, 7, 6, 4, 4, 5, 4, 6, 8, 2, 7, 6, 1, 10, 2, 1, 8, 4, 1, 7, 6, 1, 1, 3, 1, 7, 1, 7, 6, 8, 8, 7, 7, 2, 9, 8, 8, 5, 6, 4, 8, 7, 6, 2, 6, 4, 3, 2, 5, 10, 9, 8, 9, 4, 3, 7, 4, 7, 7, 2, 9, 9, 1, 2, 2, 9, 4, 4, 7, 8, 8, 1, 4, 5, 3, 3, 6, 7, 2, 2, 7, 8, 5, 2, 6, 2, 3, 7, 2, 7, 9, 6, 9, 8, 9, 5, 9, 6, 1, 10, 9, 7, 2, 4, 1, 9, 4, 6, 6, 4, 7, 8, 4, 3, 9, 7, 4, 2, 10, 6, 10, 7, 1, 9, 5, 3, 3, 1, 7, 6, 5, 9, 8, 8, 7, 7, 7, 3, 1, 7, 7, 1, 2, 8, 5, 6, 5, 8, 7, 9, 7, 1, 4, 2, 5, 2, 8, 5, 6, 8, 2, 5, 8, 4, 8, 4, 3, 6, 3, 5, 7, 3, 7, 5, 6, 5, 2, 5, 4, 3, 8, 10, 9, 10, 9, 6, 9, 2, 2, 10, 4, 4, 8, 2, 1, 8, 9, 1, 7, 7, 4, 7, 2, 6, 6, 3, 3, 2, 9, 5, 4, 10, 4, 1, 5, 4, 6, 4, 7, 8, 10, 10, 7, 4, 6, 2, 4, 4, 6, 3, 2, 6, 3, 6, 10, 2, 10, 5, 1, 2, 1, 7, 9, 9, 3, 5, 4, 5, 5, 2, 1, 8, 1, 6, 1, 10, 3, 9, 9, 1, 4, 3, 10, 6, 6, 1, 4, 7, 4, 6, 1, 2, 10, 1, 9, 9, 10, 9, 1, 4, 5, 3, 5, 1, 10, 5, 10, 9, 7, 3, 1, 1, 6, 2, 9, 5, 6, 7, 2, 10, 5, 6, 6, 3, 8, 4, 4, 5, 6, 7, 9, 6, 5, 5, 6, 4, 6, 5, 4, 4, 1, 7, 6, 5, 5, 5, 7, 1, 1, 6, 6, 2, 5, 2, 3, 3, 5, 4, 2, 5, 9, 9, 8, 1, 9, 3, 7, 3, 7, 2, 9, 9, 6, 2, 6, 6, 1, 9, 9, 8, 2, 10, 5, 8, 10, 8, 6, 9, 4, 10, 8, 8, 4, 3, 7, 5, 7, 2, 1, 5, 1, 9, 1, 6, 4, 9, 2, 8, 4, 8, 1, 7, 10, 5, 8, 3, 5, 5, 3, 2, 6, 6, 5, 2, 10, 1, 1, 1, 4, 10, 6, 8, 2, 1, 8, 2, 1, 4, 6, 6, 9, 6, 4, 7, 6, 9, 6, 10, 1, 7, 8, 1, 1, 7, 1, 4, 10, 3, 6, 4, 4, 2, 4, 1, 6, 7, 7, 7, 1, 7, 5, 7, 6, 9, 7, 7, 9, 10, 5, 9, 4, 4, 3, 4, 8, 9, 6, 7, 5, 8, 7, 3, 3, 4, 6, 6, 10, 3, 8, 4, 4, 5, 5, 5, 5, 5, 10, 3, 10, 6, 4, 10, 7, 8, 5, 6, 2, 4, 10, 10, 6, 7, 1, 3, 6, 7, 10, 9, 6, 2, 6, 9, 6, 3, 10, 10, 7, 7, 6, 4, 6, 7, 1, 2, 2, 1, 6, 2, 10, 6, 2, 4, 1, 4, 7, 1, 1, 7, 6, 5, 4, 5, 4, 6, 4, 5, 4, 6, 6, 6, 9, 1, 7, 3, 6, 2, 8, 6, 2, 7, 10, 5, 4, 2, 4, 7, 8, 7, 4, 8, 10, 7, 5, 6, 2, 2, 6, 5, 7, 3, 6, 5, 8, 5, 9, 6, 6, 4, 2, 3, 2, 7, 1, 2, 5, 7, 10, 4, 2, 9, 7, 3, 2], \"xaxis\": \"x\", \"yaxis\": \"y\"}],                        {\"barmode\": \"relative\", \"legend\": {\"tracegroupgap\": 0}, \"shapes\": [{\"line\": {\"color\": \"LightSeaGreen\", \"dash\": \"dashdot\", \"width\": 4}, \"type\": \"line\", \"x0\": 5.276850393700787, \"x1\": 5.276850393700787, \"y0\": 0, \"y1\": 385}], \"template\": {\"data\": {\"bar\": [{\"error_x\": {\"color\": \"#2a3f5f\"}, \"error_y\": {\"color\": \"#2a3f5f\"}, \"marker\": {\"line\": {\"color\": \"#E5ECF6\", \"width\": 0.5}}, \"type\": \"bar\"}], \"barpolar\": [{\"marker\": {\"line\": {\"color\": \"#E5ECF6\", \"width\": 0.5}}, \"type\": \"barpolar\"}], \"carpet\": [{\"aaxis\": {\"endlinecolor\": \"#2a3f5f\", \"gridcolor\": \"white\", \"linecolor\": \"white\", \"minorgridcolor\": \"white\", \"startlinecolor\": \"#2a3f5f\"}, \"baxis\": {\"endlinecolor\": \"#2a3f5f\", \"gridcolor\": \"white\", \"linecolor\": \"white\", \"minorgridcolor\": \"white\", \"startlinecolor\": \"#2a3f5f\"}, \"type\": \"carpet\"}], \"choropleth\": [{\"colorbar\": {\"outlinewidth\": 0, \"ticks\": \"\"}, \"type\": \"choropleth\"}], \"contour\": [{\"colorbar\": {\"outlinewidth\": 0, \"ticks\": \"\"}, \"colorscale\": [[0.0, \"#0d0887\"], [0.1111111111111111, \"#46039f\"], [0.2222222222222222, \"#7201a8\"], [0.3333333333333333, \"#9c179e\"], [0.4444444444444444, \"#bd3786\"], [0.5555555555555556, \"#d8576b\"], [0.6666666666666666, \"#ed7953\"], [0.7777777777777778, \"#fb9f3a\"], [0.8888888888888888, \"#fdca26\"], [1.0, \"#f0f921\"]], \"type\": \"contour\"}], \"contourcarpet\": [{\"colorbar\": {\"outlinewidth\": 0, \"ticks\": \"\"}, \"type\": \"contourcarpet\"}], \"heatmap\": [{\"colorbar\": {\"outlinewidth\": 0, \"ticks\": \"\"}, \"colorscale\": [[0.0, \"#0d0887\"], [0.1111111111111111, \"#46039f\"], [0.2222222222222222, \"#7201a8\"], [0.3333333333333333, \"#9c179e\"], [0.4444444444444444, \"#bd3786\"], [0.5555555555555556, \"#d8576b\"], [0.6666666666666666, \"#ed7953\"], [0.7777777777777778, \"#fb9f3a\"], [0.8888888888888888, \"#fdca26\"], [1.0, \"#f0f921\"]], \"type\": \"heatmap\"}], \"heatmapgl\": [{\"colorbar\": {\"outlinewidth\": 0, \"ticks\": \"\"}, \"colorscale\": [[0.0, \"#0d0887\"], [0.1111111111111111, \"#46039f\"], [0.2222222222222222, \"#7201a8\"], [0.3333333333333333, \"#9c179e\"], [0.4444444444444444, \"#bd3786\"], [0.5555555555555556, \"#d8576b\"], [0.6666666666666666, \"#ed7953\"], [0.7777777777777778, \"#fb9f3a\"], [0.8888888888888888, \"#fdca26\"], [1.0, \"#f0f921\"]], \"type\": \"heatmapgl\"}], \"histogram\": [{\"marker\": {\"colorbar\": {\"outlinewidth\": 0, \"ticks\": \"\"}}, \"type\": \"histogram\"}], \"histogram2d\": [{\"colorbar\": {\"outlinewidth\": 0, \"ticks\": \"\"}, \"colorscale\": [[0.0, \"#0d0887\"], [0.1111111111111111, \"#46039f\"], [0.2222222222222222, \"#7201a8\"], [0.3333333333333333, \"#9c179e\"], [0.4444444444444444, \"#bd3786\"], [0.5555555555555556, \"#d8576b\"], [0.6666666666666666, \"#ed7953\"], [0.7777777777777778, \"#fb9f3a\"], [0.8888888888888888, \"#fdca26\"], [1.0, \"#f0f921\"]], \"type\": \"histogram2d\"}], \"histogram2dcontour\": [{\"colorbar\": {\"outlinewidth\": 0, \"ticks\": \"\"}, \"colorscale\": [[0.0, \"#0d0887\"], [0.1111111111111111, \"#46039f\"], [0.2222222222222222, \"#7201a8\"], [0.3333333333333333, \"#9c179e\"], [0.4444444444444444, \"#bd3786\"], [0.5555555555555556, \"#d8576b\"], [0.6666666666666666, \"#ed7953\"], [0.7777777777777778, \"#fb9f3a\"], [0.8888888888888888, \"#fdca26\"], [1.0, \"#f0f921\"]], \"type\": \"histogram2dcontour\"}], \"mesh3d\": [{\"colorbar\": {\"outlinewidth\": 0, \"ticks\": \"\"}, \"type\": \"mesh3d\"}], \"parcoords\": [{\"line\": {\"colorbar\": {\"outlinewidth\": 0, \"ticks\": \"\"}}, \"type\": \"parcoords\"}], \"pie\": [{\"automargin\": true, \"type\": \"pie\"}], \"scatter\": [{\"marker\": {\"colorbar\": {\"outlinewidth\": 0, \"ticks\": \"\"}}, \"type\": \"scatter\"}], \"scatter3d\": [{\"line\": {\"colorbar\": {\"outlinewidth\": 0, \"ticks\": \"\"}}, \"marker\": {\"colorbar\": {\"outlinewidth\": 0, \"ticks\": \"\"}}, \"type\": \"scatter3d\"}], \"scattercarpet\": [{\"marker\": {\"colorbar\": {\"outlinewidth\": 0, \"ticks\": \"\"}}, \"type\": \"scattercarpet\"}], \"scattergeo\": [{\"marker\": {\"colorbar\": {\"outlinewidth\": 0, \"ticks\": \"\"}}, \"type\": \"scattergeo\"}], \"scattergl\": [{\"marker\": {\"colorbar\": {\"outlinewidth\": 0, \"ticks\": \"\"}}, \"type\": \"scattergl\"}], \"scattermapbox\": [{\"marker\": {\"colorbar\": {\"outlinewidth\": 0, \"ticks\": \"\"}}, \"type\": \"scattermapbox\"}], \"scatterpolar\": [{\"marker\": {\"colorbar\": {\"outlinewidth\": 0, \"ticks\": \"\"}}, \"type\": \"scatterpolar\"}], \"scatterpolargl\": [{\"marker\": {\"colorbar\": {\"outlinewidth\": 0, \"ticks\": \"\"}}, \"type\": \"scatterpolargl\"}], \"scatterternary\": [{\"marker\": {\"colorbar\": {\"outlinewidth\": 0, \"ticks\": \"\"}}, \"type\": \"scatterternary\"}], \"surface\": [{\"colorbar\": {\"outlinewidth\": 0, \"ticks\": \"\"}, \"colorscale\": [[0.0, \"#0d0887\"], [0.1111111111111111, \"#46039f\"], [0.2222222222222222, \"#7201a8\"], [0.3333333333333333, \"#9c179e\"], [0.4444444444444444, \"#bd3786\"], [0.5555555555555556, \"#d8576b\"], [0.6666666666666666, \"#ed7953\"], [0.7777777777777778, \"#fb9f3a\"], [0.8888888888888888, \"#fdca26\"], [1.0, \"#f0f921\"]], \"type\": \"surface\"}], \"table\": [{\"cells\": {\"fill\": {\"color\": \"#EBF0F8\"}, \"line\": {\"color\": \"white\"}}, \"header\": {\"fill\": {\"color\": \"#C8D4E3\"}, \"line\": {\"color\": \"white\"}}, \"type\": \"table\"}]}, \"layout\": {\"annotationdefaults\": {\"arrowcolor\": \"#2a3f5f\", \"arrowhead\": 0, \"arrowwidth\": 1}, \"autotypenumbers\": \"strict\", \"coloraxis\": {\"colorbar\": {\"outlinewidth\": 0, \"ticks\": \"\"}}, \"colorscale\": {\"diverging\": [[0, \"#8e0152\"], [0.1, \"#c51b7d\"], [0.2, \"#de77ae\"], [0.3, \"#f1b6da\"], [0.4, \"#fde0ef\"], [0.5, \"#f7f7f7\"], [0.6, \"#e6f5d0\"], [0.7, \"#b8e186\"], [0.8, \"#7fbc41\"], [0.9, \"#4d9221\"], [1, \"#276419\"]], \"sequential\": [[0.0, \"#0d0887\"], [0.1111111111111111, \"#46039f\"], [0.2222222222222222, \"#7201a8\"], [0.3333333333333333, \"#9c179e\"], [0.4444444444444444, \"#bd3786\"], [0.5555555555555556, \"#d8576b\"], [0.6666666666666666, \"#ed7953\"], [0.7777777777777778, \"#fb9f3a\"], [0.8888888888888888, \"#fdca26\"], [1.0, \"#f0f921\"]], \"sequentialminus\": [[0.0, \"#0d0887\"], [0.1111111111111111, \"#46039f\"], [0.2222222222222222, \"#7201a8\"], [0.3333333333333333, \"#9c179e\"], [0.4444444444444444, \"#bd3786\"], [0.5555555555555556, \"#d8576b\"], [0.6666666666666666, \"#ed7953\"], [0.7777777777777778, \"#fb9f3a\"], [0.8888888888888888, \"#fdca26\"], [1.0, \"#f0f921\"]]}, \"colorway\": [\"#636efa\", \"#EF553B\", \"#00cc96\", \"#ab63fa\", \"#FFA15A\", \"#19d3f3\", \"#FF6692\", \"#B6E880\", \"#FF97FF\", \"#FECB52\"], \"font\": {\"color\": \"#2a3f5f\"}, \"geo\": {\"bgcolor\": \"white\", \"lakecolor\": \"white\", \"landcolor\": \"#E5ECF6\", \"showlakes\": true, \"showland\": true, \"subunitcolor\": \"white\"}, \"hoverlabel\": {\"align\": \"left\"}, \"hovermode\": \"closest\", \"mapbox\": {\"style\": \"light\"}, \"paper_bgcolor\": \"white\", \"plot_bgcolor\": \"#E5ECF6\", \"polar\": {\"angularaxis\": {\"gridcolor\": \"white\", \"linecolor\": \"white\", \"ticks\": \"\"}, \"bgcolor\": \"#E5ECF6\", \"radialaxis\": {\"gridcolor\": \"white\", \"linecolor\": \"white\", \"ticks\": \"\"}}, \"scene\": {\"xaxis\": {\"backgroundcolor\": \"#E5ECF6\", \"gridcolor\": \"white\", \"gridwidth\": 2, \"linecolor\": \"white\", \"showbackground\": true, \"ticks\": \"\", \"zerolinecolor\": \"white\"}, \"yaxis\": {\"backgroundcolor\": \"#E5ECF6\", \"gridcolor\": \"white\", \"gridwidth\": 2, \"linecolor\": \"white\", \"showbackground\": true, \"ticks\": \"\", \"zerolinecolor\": \"white\"}, \"zaxis\": {\"backgroundcolor\": \"#E5ECF6\", \"gridcolor\": \"white\", \"gridwidth\": 2, \"linecolor\": \"white\", \"showbackground\": true, \"ticks\": \"\", \"zerolinecolor\": \"white\"}}, \"shapedefaults\": {\"line\": {\"color\": \"#2a3f5f\"}}, \"ternary\": {\"aaxis\": {\"gridcolor\": \"white\", \"linecolor\": \"white\", \"ticks\": \"\"}, \"baxis\": {\"gridcolor\": \"white\", \"linecolor\": \"white\", \"ticks\": \"\"}, \"bgcolor\": \"#E5ECF6\", \"caxis\": {\"gridcolor\": \"white\", \"linecolor\": \"white\", \"ticks\": \"\"}}, \"title\": {\"x\": 0.05}, \"xaxis\": {\"automargin\": true, \"gridcolor\": \"white\", \"linecolor\": \"white\", \"ticks\": \"\", \"title\": {\"standoff\": 15}, \"zerolinecolor\": \"white\", \"zerolinewidth\": 2}, \"yaxis\": {\"automargin\": true, \"gridcolor\": \"white\", \"linecolor\": \"white\", \"ticks\": \"\", \"title\": {\"standoff\": 15}, \"zerolinecolor\": \"white\", \"zerolinewidth\": 2}}}, \"title\": {\"text\": \"Decile score of African-Americans\"}, \"xaxis\": {\"anchor\": \"y\", \"domain\": [0.0, 1.0], \"title\": {\"text\": \"decile_score\"}}, \"yaxis\": {\"anchor\": \"x\", \"domain\": [0.0, 1.0], \"title\": {\"text\": \"count\"}}},                        {\"responsive\": true}                    ).then(function(){\n",
       "                            \n",
       "var gd = document.getElementById('d5783679-8f8a-46ae-a519-23844c28d181');\n",
       "var x = new MutationObserver(function (mutations, observer) {{\n",
       "        var display = window.getComputedStyle(gd).display;\n",
       "        if (!display || display === 'none') {{\n",
       "            console.log([gd, 'removed!']);\n",
       "            Plotly.purge(gd);\n",
       "            observer.disconnect();\n",
       "        }}\n",
       "}});\n",
       "\n",
       "// Listen for the removal of the full notebook cells\n",
       "var notebookContainer = gd.closest('#notebook-container');\n",
       "if (notebookContainer) {{\n",
       "    x.observe(notebookContainer, {childList: true});\n",
       "}}\n",
       "\n",
       "// Listen for the clearing of the current output cell\n",
       "var outputEl = gd.closest('.output');\n",
       "if (outputEl) {{\n",
       "    x.observe(outputEl, {childList: true});\n",
       "}}\n",
       "\n",
       "                        })                };                });            </script>        </div>"
      ]
     },
     "metadata": {},
     "output_type": "display_data"
    },
    {
     "name": "stdout",
     "output_type": "stream",
     "text": [
      "mean decile score: 5.28\n"
     ]
    }
   ],
   "source": [
    "scores_stats('race','African-American')"
   ]
  },
  {
   "cell_type": "code",
   "execution_count": 19,
   "metadata": {
    "id": "L5KyTigcjkH8"
   },
   "outputs": [
    {
     "data": {
      "text/html": [
       "<div>                            <div id=\"9a932e9a-deb7-43a2-b43a-114c4c6b3bc3\" class=\"plotly-graph-div\" style=\"height:525px; width:100%;\"></div>            <script type=\"text/javascript\">                require([\"plotly\"], function(Plotly) {                    window.PLOTLYENV=window.PLOTLYENV || {};                                    if (document.getElementById(\"9a932e9a-deb7-43a2-b43a-114c4c6b3bc3\")) {                    Plotly.newPlot(                        \"9a932e9a-deb7-43a2-b43a-114c4c6b3bc3\",                        [{\"alignmentgroup\": \"True\", \"bingroup\": \"x\", \"hovertemplate\": \"decile_score=%{x}<br>count=%{y}<extra></extra>\", \"legendgroup\": \"\", \"marker\": {\"color\": \"indianred\", \"opacity\": 0.8}, \"name\": \"\", \"offsetgroup\": \"\", \"orientation\": \"v\", \"showlegend\": false, \"type\": \"histogram\", \"x\": [6, 1, 4, 1, 1, 5, 3, 2, 4, 1, 9, 1, 5, 2, 2, 2, 10, 1, 2, 5, 2, 6, 8, 8, 8, 7, 1, 1, 1, 6, 4, 5, 4, 1, 4, 5, 2, 10, 9, 3, 4, 2, 2, 4, 2, 3, 2, 1, 6, 4, 7, 2, 1, 5, 1, 1, 4, 4, 3, 1, 3, 4, 9, 1, 1, 2, 3, 1, 4, 1, 5, 8, 2, 1, 5, 8, 5, 5, 6, 3, 1, 1, 4, 4, 5, 3, 1, 3, 1, 3, 2, 1, 1, 5, 6, 3, 4, 5, 3, 6, 1, 6, 1, 6, 4, 1, 4, 6, 1, 1, 7, 1, 7, 8, 1, 3, 2, 1, 6, 1, 2, 3, 1, 5, 6, 4, 1, 8, 1, 10, 1, 5, 1, 1, 1, 1, 5, 4, 1, 5, 1, 2, 1, 6, 1, 1, 9, 9, 2, 4, 1, 3, 5, 1, 2, 3, 1, 2, 7, 4, 2, 9, 4, 1, 3, 3, 10, 1, 6, 2, 1, 6, 4, 4, 3, 1, 1, 1, 1, 1, 3, 4, 7, 5, 6, 1, 1, 1, 1, 2, 10, 10, 7, 9, 5, 5, 3, 4, 6, 2, 1, 1, 3, 2, 9, 1, 1, 5, 2, 3, 1, 8, 2, 1, 1, 2, 2, 1, 3, 1, 4, 5, 5, 1, 8, 2, 1, 4, 9, 4, 7, 1, 3, 4, 6, 4, 3, 3, 1, 4, 2, 4, 1, 1, 7, 2, 4, 2, 4, 1, 5, 6, 2, 8, 4, 1, 4, 3, 10, 1, 1, 4, 1, 2, 5, 1, 3, 1, 5, 6, 4, 1, 1, 3, 5, 3, 5, 9, 4, 1, 6, 3, 1, 4, 1, 1, 4, 1, 1, 1, 2, 6, 1, 1, 5, 3, 1, 1, 6, 4, 1, 1, 5, 8, 5, 10, 2, 1, 7, 1, 10, 1, 3, 2, 2, 1, 7, 1, 3, 1, 3, 7, 1, 1, 5, 4, 2, 3, 4, 5, 10, 3, 3, 5, 4, 3, 6, 2, 4, 6, 1, 1, 4, 8, 7, 1, 4, 10, 2, 1, 3, 1, 6, 2, 3, 1, 5, 2, 1, 1, 1, 1, 8, 2, 5, 2, 7, 10, 1, 5, 2, 5, 2, 3, 7, 1, 2, 2, 4, 6, 5, 2, 1, 6, 1, 1, 2, 5, 1, 6, 3, 1, 1, 2, 4, 4, 5, 1, 3, 2, 4, 3, 5, 2, 3, 1, 1, 4, 2, 6, 6, 8, 7, 7, 8, 3, 6, 7, 4, 9, 1, 1, 10, 1, 1, 2, 3, 8, 7, 6, 1, 1, 7, 1, 5, 1, 1, 1, 1, 2, 1, 3, 2, 8, 5, 4, 1, 1, 4, 1, 2, 7, 3, 4, 3, 1, 7, 6, 4, 6, 1, 6, 1, 6, 5, 2, 7, 2, 2, 1, 6, 1, 1, 3, 2, 9, 2, 9, 10, 6, 2, 6, 7, 6, 5, 1, 3, 1, 3, 1, 1, 4, 7, 1, 6, 8, 4, 1, 3, 1, 1, 3, 5, 4, 4, 5, 2, 1, 1, 1, 1, 1, 2, 5, 2, 7, 1, 1, 5, 9, 7, 4, 1, 1, 7, 6, 1, 1, 4, 4, 1, 3, 9, 1, 4, 3, 5, 1, 7, 1, 8, 8, 2, 9, 3, 3, 7, 3, 1, 4, 4, 4, 3, 1, 5, 1, 3, 4, 5, 4, 2, 1, 4, 1, 1, 1, 1, 1, 2, 10, 4, 1, 3, 1, 2, 1, 2, 5, 1, 4, 4, 1, 8, 8, 3, 1, 4, 2, 7, 3, 5, 2, 1, 1, 8, 7, 1, 8, 1, 1, 2, 9, 6, 5, 1, 3, 6, 1, 1, 1, 1, 7, 4, 1, 9, 3, 5, 5, 3, 5, 1, 4, 1, 8, 6, 2, 4, 1, 4, 1, 1, 3, 8, 5, 1, 1, 8, 8, 1, 3, 2, 2, 4, 3, 5, 2, 1, 6, 6, 1, 7, 2, 3, 2, 1, 3, 5, 5, 1, 1, 6, 3, 1, 1, 3, 10, 2, 2, 2, 6, 1, 3, 1, 9, 1, 8, 2, 5, 1, 4, 1, 5, 6, 8, 1, 7, 7, 1, 1, 3, 6, 1, 7, 1, 2, 3, 1, 1, 2, 8, 1, 2, 1, 9, 1, 2, 2, 9, 1, 6, 6, 2, 9, 2, 1, 5, 1, 1, 2, 3, 1, 3, 4, 1, 3, 4, 1, 2, 5, 4, 8, 1, 3, 2, 1, 1, 2, 1, 4, 2, 3, 3, 1, 3, 4, 8, 2, 6, 3, 9, 4, 1, 1, 1, 7, 1, 2, 1, 3, 5, 2, 2, 1, 6, 9, 1, 4, 8, 6, 3, 8, 6, 1, 2, 4, 4, 4, 4, 1, 4, 2, 3, 5, 3, 8, 9, 6, 1, 6, 1, 6, 1, 8, 2, 5, 4, 4, 3, 9, 3, 5, 1, 1, 1, 4, 4, 4, 5, 4, 8, 8, 1, 5, 2, 1, 9, 1, 5, 4, 5, 1, 2, 1, 2, 1, 1, 4, 1, 3, 6, 1, 2, 1, 1, 3, 2, 2, 4, 3, 2, 1, 7, 7, 1, 1, 5, 2, 9, 5, 10, 1, 1, 2, 1, 1, 9, 8, 7, 6, 1, 1, 5, 4, 5, 6, 1, 2, 1, 2, 8, 1, 7, 9, 1, 7, 2, 2, 1, 9, 1, 4, 4, 6, 1, 2, 1, 2, 6, 1, 3, 8, 2, 2, 10, 1, 4, 10, 3, 2, 4, 1, 1, 5, 2, 1, 4, 3, 1, 9, 2, 3, 1, 5, 1, 6, 4, 3, 4, 7, 2, 9, 6, 4, 5, 1, 1, 4, 1, 2, 3, 3, 1, 5, 8, 1, 1, 2, 5, 4, 4, 4, 6, 7, 3, 1, 5, 5, 4, 1, 2, 2, 1, 2, 5, 4, 5, 9, 9, 10, 2, 3, 4, 6, 2, 7, 1, 6, 4, 5, 1, 4, 9, 7, 6, 3, 2, 3, 9, 1, 1, 1, 2, 4, 4, 9, 8, 3, 2, 3, 5, 7, 1, 1, 3, 7, 3, 1, 3, 4, 1, 8, 5, 9, 1, 4, 4, 5, 1, 7, 1, 1, 4, 1, 3, 2, 6, 1, 5, 1, 10, 10, 5, 2, 5, 1, 9, 6, 1, 8, 4, 2, 1, 1, 1, 4, 2, 1, 2, 3, 2, 3, 1, 4, 2, 2, 2, 2, 2, 4, 4, 5, 6, 1, 1, 6, 6, 9, 6, 3, 8, 1, 3, 3, 6, 7, 3, 5, 4, 10, 6, 6, 1, 5, 3, 2, 1, 4, 6, 1, 4, 1, 1, 1, 5, 3, 5, 5, 3, 4, 6, 3, 7, 4, 1, 8, 4, 1, 1, 3, 9, 4, 1, 7, 6, 1, 2, 1, 4, 1, 3, 1, 7, 1, 3, 5, 1, 4, 3, 3, 2, 8, 5, 7, 5, 1, 1, 1, 2, 1, 3, 6, 2, 6, 2, 7, 3, 1, 1, 4, 2, 3, 9, 3, 2, 1, 2, 8, 7, 1, 7, 1, 1, 3, 4, 3, 1, 2, 1, 1, 1, 1, 1, 6, 3, 1, 2, 6, 6, 1, 7, 2, 2, 4, 3, 7, 1, 4, 3, 5, 8, 2, 2, 5, 5, 2, 5, 10, 9, 1, 2, 8, 3, 3, 5, 3, 1, 1, 2, 1, 3, 2, 5, 9, 7, 4, 6, 6, 2, 2, 5, 4, 1, 2, 1, 1, 5, 2, 1, 1, 3, 1, 8, 1, 3, 4, 3, 1, 6, 7, 6, 6, 6, 1, 8, 5, 3, 3, 7, 6, 1, 7, 1, 2, 3, 1, 10, 5, 7, 5, 1, 6, 1, 9, 5, 2, 1, 1, 1, 2, 2, 4, 2, 2, 4, 6, 3, 1, 3, 1, 4, 4, 4, 1, 7, 3, 4, 3, 2, 1, 3, 5, 1, 9, 2, 2, 5, 3, 1, 3, 5, 6, 2, 2, 5, 6, 2, 8, 4, 1, 2, 3, 5, 7, 5, 8, 6, 5, 2, 9, 10, 2, 1, 1, 2, 2, 2, 3, 2, 3, 4, 5, 8, 1, 2, 4, 4, 2, 9, 3, 5, 9, 8, 2, 2, 4, 10, 8, 6, 2, 8, 4, 2, 3, 3, 7, 4, 1, 1, 1, 6, 2, 4, 4, 2, 1, 6, 9, 2, 2, 5, 7, 3, 2, 3, 1, 9, 1, 5, 9, 9, 2, 7, 1, 5, 1, 5, 6, 5, 3, 1, 4, 1, 3, 1, 4, 1, 6, 1, 5, 3, 1, 4, 4, 6, 3, 8, 5, 4, 2, 4, 4, 1, 2, 4, 3, 5, 2, 1, 1, 2, 1, 1, 5, 5, 2, 1, 2, 8, 4, 8, 1, 6, 4, 1, 3, 2, 3, 4, 3, 3, 1, 6, 6, 10, 2, 2, 5, 2, 4, 8, 5, 10, 1, 2, 3, 2, 7, 1, 10, 8, 5, 8, 9, 1, 4, 5, 3, 1, 1, 1, 5, 10, 2, 1, 6, 3, 7, 9, 3, 6, 1, 6, 7, 1, 5, 1, 7, 4, 4, 9, 1, 2, 7, 3, 3, 3, 4, 1, 8, 2, 2, 2, 2, 2, 2, 7, 7, 4, 7, 7, 1, 10, 2, 3, 8, 7, 1, 6, 5, 8, 9, 2, 1, 1, 5, 7, 2, 2, 3, 1, 5, 1, 4, 1, 7, 6, 5, 5, 1, 2, 2, 1, 2, 1, 5, 1, 10, 6, 7, 9, 1, 6, 4, 7, 2, 2, 1, 10, 1, 2, 9, 3, 1, 2, 3, 1, 6, 2, 3, 8, 1, 1, 2, 1, 2, 1, 1, 5, 4, 6, 4, 7, 1, 4, 1, 3, 1, 1, 3, 2, 5, 4, 1, 2, 10, 1, 5, 2, 2, 2, 1, 1, 3, 5, 10, 1, 6, 3, 1, 7, 6, 6, 3, 3, 6, 7, 1, 2, 10, 6, 5, 8, 1, 5, 8, 4, 8, 6, 2, 3, 6, 3, 9, 8, 3, 2, 7, 8, 8, 1, 6, 10, 4, 3, 3, 1, 5, 7, 2, 7, 3, 8, 2, 3, 6, 3, 1, 5, 1, 5, 1, 1, 6, 2, 1, 5, 1, 2, 2, 3, 3, 8, 4, 1, 6, 5, 1, 6, 2, 3, 6, 2, 3, 2, 7, 5, 1, 2, 6, 1, 4, 1, 6, 1, 1, 6, 2, 4, 4, 9, 3, 1, 5, 3, 4, 2, 1, 3, 10, 4, 1, 4, 6, 2, 6, 2, 2, 4, 2, 2, 4, 3, 2, 5, 1, 10, 1, 1, 2, 1, 10, 1, 2, 1, 1, 10, 5, 4, 1, 3, 1, 1, 1, 9, 8, 1, 5, 1, 1, 5, 1, 1, 5, 5, 5, 5, 4, 5, 5, 7, 7, 1, 5, 1, 2, 1, 2, 7, 7, 2, 5, 2, 3, 9, 7, 6, 2, 1, 8, 8, 1, 2, 2, 3, 1, 4, 1, 1, 7, 1, 1, 2, 5, 4, 4, 1, 1, 1, 3, 1, 7, 6, 9, 1, 9, 2, 2, 2, 4, 1, 7, 4, 1, 1, 3, 9, 6, 5, 5, 2, 6, 5, 10, 3, 4, 9, 4, 1, 2, 1, 5, 5, 8, 2, 2, 1, 1, 2, 5, 5, 5, 6, 2, 2, 4, 5, 7, 1, 1, 6, 10, 4, 1, 2, 2, 8, 7, 6, 8, 1, 2, 3, 1, 4, 4, 6, 6, 1, 4, 6, 10, 2, 1, 4, 1, 1, 1, 1, 4, 7, 3, 3, 3, 4, 2, 8, 1, 7, 1, 1, 6, 2, 4, 4, 5, 1, 2, 9, 2, 5, 5, 2, 4, 2, 2, 4, 1, 1, 3, 2, 2, 5, 1, 9, 5, 4, 5, 3, 3, 1, 1, 2, 2, 1, 4, 5, 1, 1, 4, 4, 1, 10, 4, 4, 4, 1, 1, 2, 6, 1, 10, 5, 4, 4, 2, 3, 1, 2, 2, 3, 6, 7, 1, 2, 1, 2, 1, 7, 7, 1, 4, 9, 8, 1, 1, 9, 7, 2, 4, 3, 1, 3, 1, 8, 3, 1, 1, 5, 1, 2, 2, 1, 9, 3, 1, 1, 1, 6, 7, 6, 4, 5, 7, 1, 1, 6, 1, 1, 3, 2, 2, 4, 1, 4, 1, 1, 2, 3, 1, 1, 1, 1, 2, 3, 1, 1, 2, 1, 1, 9, 1, 8, 1, 7, 1, 1, 6, 4, 1, 1, 3, 4, 3, 10, 4, 2, 8, 5, 5, 1, 9, 5, 2, 1, 1, 4, 1, 3, 7, 2, 6, 2, 1, 1, 8, 8, 10, 4, 1, 2, 6, 3, 1, 3, 4, 3, 1, 1, 1, 3, 1, 2, 3, 7, 1, 9, 5, 3, 1, 8, 8, 1, 8, 1, 1, 4, 6, 2, 8, 5, 5, 10, 3, 5, 1, 2, 1, 1, 9, 4, 1, 7, 2, 1, 6, 6, 4, 4, 1, 2, 1, 8, 6], \"xaxis\": \"x\", \"yaxis\": \"y\"}],                        {\"barmode\": \"relative\", \"legend\": {\"tracegroupgap\": 0}, \"shapes\": [{\"line\": {\"color\": \"LightSeaGreen\", \"dash\": \"dashdot\", \"width\": 4}, \"type\": \"line\", \"x0\": 3.635282929148835, \"x1\": 3.635282929148835, \"y0\": 0, \"y1\": 625}], \"template\": {\"data\": {\"bar\": [{\"error_x\": {\"color\": \"#2a3f5f\"}, \"error_y\": {\"color\": \"#2a3f5f\"}, \"marker\": {\"line\": {\"color\": \"#E5ECF6\", \"width\": 0.5}}, \"type\": \"bar\"}], \"barpolar\": [{\"marker\": {\"line\": {\"color\": \"#E5ECF6\", \"width\": 0.5}}, \"type\": \"barpolar\"}], \"carpet\": [{\"aaxis\": {\"endlinecolor\": \"#2a3f5f\", \"gridcolor\": \"white\", \"linecolor\": \"white\", \"minorgridcolor\": \"white\", \"startlinecolor\": \"#2a3f5f\"}, \"baxis\": {\"endlinecolor\": \"#2a3f5f\", \"gridcolor\": \"white\", \"linecolor\": \"white\", \"minorgridcolor\": \"white\", \"startlinecolor\": \"#2a3f5f\"}, \"type\": \"carpet\"}], \"choropleth\": [{\"colorbar\": {\"outlinewidth\": 0, \"ticks\": \"\"}, \"type\": \"choropleth\"}], \"contour\": [{\"colorbar\": {\"outlinewidth\": 0, \"ticks\": \"\"}, \"colorscale\": [[0.0, \"#0d0887\"], [0.1111111111111111, \"#46039f\"], [0.2222222222222222, \"#7201a8\"], [0.3333333333333333, \"#9c179e\"], [0.4444444444444444, \"#bd3786\"], [0.5555555555555556, \"#d8576b\"], [0.6666666666666666, \"#ed7953\"], [0.7777777777777778, \"#fb9f3a\"], [0.8888888888888888, \"#fdca26\"], [1.0, \"#f0f921\"]], \"type\": \"contour\"}], \"contourcarpet\": [{\"colorbar\": {\"outlinewidth\": 0, \"ticks\": \"\"}, \"type\": \"contourcarpet\"}], \"heatmap\": [{\"colorbar\": {\"outlinewidth\": 0, \"ticks\": \"\"}, \"colorscale\": [[0.0, \"#0d0887\"], [0.1111111111111111, \"#46039f\"], [0.2222222222222222, \"#7201a8\"], [0.3333333333333333, \"#9c179e\"], [0.4444444444444444, \"#bd3786\"], [0.5555555555555556, \"#d8576b\"], [0.6666666666666666, \"#ed7953\"], [0.7777777777777778, \"#fb9f3a\"], [0.8888888888888888, \"#fdca26\"], [1.0, \"#f0f921\"]], \"type\": \"heatmap\"}], \"heatmapgl\": [{\"colorbar\": {\"outlinewidth\": 0, \"ticks\": \"\"}, \"colorscale\": [[0.0, \"#0d0887\"], [0.1111111111111111, \"#46039f\"], [0.2222222222222222, \"#7201a8\"], [0.3333333333333333, \"#9c179e\"], [0.4444444444444444, \"#bd3786\"], [0.5555555555555556, \"#d8576b\"], [0.6666666666666666, \"#ed7953\"], [0.7777777777777778, \"#fb9f3a\"], [0.8888888888888888, \"#fdca26\"], [1.0, \"#f0f921\"]], \"type\": \"heatmapgl\"}], \"histogram\": [{\"marker\": {\"colorbar\": {\"outlinewidth\": 0, \"ticks\": \"\"}}, \"type\": \"histogram\"}], \"histogram2d\": [{\"colorbar\": {\"outlinewidth\": 0, \"ticks\": \"\"}, \"colorscale\": [[0.0, \"#0d0887\"], [0.1111111111111111, \"#46039f\"], [0.2222222222222222, \"#7201a8\"], [0.3333333333333333, \"#9c179e\"], [0.4444444444444444, \"#bd3786\"], [0.5555555555555556, \"#d8576b\"], [0.6666666666666666, \"#ed7953\"], [0.7777777777777778, \"#fb9f3a\"], [0.8888888888888888, \"#fdca26\"], [1.0, \"#f0f921\"]], \"type\": \"histogram2d\"}], \"histogram2dcontour\": [{\"colorbar\": {\"outlinewidth\": 0, \"ticks\": \"\"}, \"colorscale\": [[0.0, \"#0d0887\"], [0.1111111111111111, \"#46039f\"], [0.2222222222222222, \"#7201a8\"], [0.3333333333333333, \"#9c179e\"], [0.4444444444444444, \"#bd3786\"], [0.5555555555555556, \"#d8576b\"], [0.6666666666666666, \"#ed7953\"], [0.7777777777777778, \"#fb9f3a\"], [0.8888888888888888, \"#fdca26\"], [1.0, \"#f0f921\"]], \"type\": \"histogram2dcontour\"}], \"mesh3d\": [{\"colorbar\": {\"outlinewidth\": 0, \"ticks\": \"\"}, \"type\": \"mesh3d\"}], \"parcoords\": [{\"line\": {\"colorbar\": {\"outlinewidth\": 0, \"ticks\": \"\"}}, \"type\": \"parcoords\"}], \"pie\": [{\"automargin\": true, \"type\": \"pie\"}], \"scatter\": [{\"marker\": {\"colorbar\": {\"outlinewidth\": 0, \"ticks\": \"\"}}, \"type\": \"scatter\"}], \"scatter3d\": [{\"line\": {\"colorbar\": {\"outlinewidth\": 0, \"ticks\": \"\"}}, \"marker\": {\"colorbar\": {\"outlinewidth\": 0, \"ticks\": \"\"}}, \"type\": \"scatter3d\"}], \"scattercarpet\": [{\"marker\": {\"colorbar\": {\"outlinewidth\": 0, \"ticks\": \"\"}}, \"type\": \"scattercarpet\"}], \"scattergeo\": [{\"marker\": {\"colorbar\": {\"outlinewidth\": 0, \"ticks\": \"\"}}, \"type\": \"scattergeo\"}], \"scattergl\": [{\"marker\": {\"colorbar\": {\"outlinewidth\": 0, \"ticks\": \"\"}}, \"type\": \"scattergl\"}], \"scattermapbox\": [{\"marker\": {\"colorbar\": {\"outlinewidth\": 0, \"ticks\": \"\"}}, \"type\": \"scattermapbox\"}], \"scatterpolar\": [{\"marker\": {\"colorbar\": {\"outlinewidth\": 0, \"ticks\": \"\"}}, \"type\": \"scatterpolar\"}], \"scatterpolargl\": [{\"marker\": {\"colorbar\": {\"outlinewidth\": 0, \"ticks\": \"\"}}, \"type\": \"scatterpolargl\"}], \"scatterternary\": [{\"marker\": {\"colorbar\": {\"outlinewidth\": 0, \"ticks\": \"\"}}, \"type\": \"scatterternary\"}], \"surface\": [{\"colorbar\": {\"outlinewidth\": 0, \"ticks\": \"\"}, \"colorscale\": [[0.0, \"#0d0887\"], [0.1111111111111111, \"#46039f\"], [0.2222222222222222, \"#7201a8\"], [0.3333333333333333, \"#9c179e\"], [0.4444444444444444, \"#bd3786\"], [0.5555555555555556, \"#d8576b\"], [0.6666666666666666, \"#ed7953\"], [0.7777777777777778, \"#fb9f3a\"], [0.8888888888888888, \"#fdca26\"], [1.0, \"#f0f921\"]], \"type\": \"surface\"}], \"table\": [{\"cells\": {\"fill\": {\"color\": \"#EBF0F8\"}, \"line\": {\"color\": \"white\"}}, \"header\": {\"fill\": {\"color\": \"#C8D4E3\"}, \"line\": {\"color\": \"white\"}}, \"type\": \"table\"}]}, \"layout\": {\"annotationdefaults\": {\"arrowcolor\": \"#2a3f5f\", \"arrowhead\": 0, \"arrowwidth\": 1}, \"autotypenumbers\": \"strict\", \"coloraxis\": {\"colorbar\": {\"outlinewidth\": 0, \"ticks\": \"\"}}, \"colorscale\": {\"diverging\": [[0, \"#8e0152\"], [0.1, \"#c51b7d\"], [0.2, \"#de77ae\"], [0.3, \"#f1b6da\"], [0.4, \"#fde0ef\"], [0.5, \"#f7f7f7\"], [0.6, \"#e6f5d0\"], [0.7, \"#b8e186\"], [0.8, \"#7fbc41\"], [0.9, \"#4d9221\"], [1, \"#276419\"]], \"sequential\": [[0.0, \"#0d0887\"], [0.1111111111111111, \"#46039f\"], [0.2222222222222222, \"#7201a8\"], [0.3333333333333333, \"#9c179e\"], [0.4444444444444444, \"#bd3786\"], [0.5555555555555556, \"#d8576b\"], [0.6666666666666666, \"#ed7953\"], [0.7777777777777778, \"#fb9f3a\"], [0.8888888888888888, \"#fdca26\"], [1.0, \"#f0f921\"]], \"sequentialminus\": [[0.0, \"#0d0887\"], [0.1111111111111111, \"#46039f\"], [0.2222222222222222, \"#7201a8\"], [0.3333333333333333, \"#9c179e\"], [0.4444444444444444, \"#bd3786\"], [0.5555555555555556, \"#d8576b\"], [0.6666666666666666, \"#ed7953\"], [0.7777777777777778, \"#fb9f3a\"], [0.8888888888888888, \"#fdca26\"], [1.0, \"#f0f921\"]]}, \"colorway\": [\"#636efa\", \"#EF553B\", \"#00cc96\", \"#ab63fa\", \"#FFA15A\", \"#19d3f3\", \"#FF6692\", \"#B6E880\", \"#FF97FF\", \"#FECB52\"], \"font\": {\"color\": \"#2a3f5f\"}, \"geo\": {\"bgcolor\": \"white\", \"lakecolor\": \"white\", \"landcolor\": \"#E5ECF6\", \"showlakes\": true, \"showland\": true, \"subunitcolor\": \"white\"}, \"hoverlabel\": {\"align\": \"left\"}, \"hovermode\": \"closest\", \"mapbox\": {\"style\": \"light\"}, \"paper_bgcolor\": \"white\", \"plot_bgcolor\": \"#E5ECF6\", \"polar\": {\"angularaxis\": {\"gridcolor\": \"white\", \"linecolor\": \"white\", \"ticks\": \"\"}, \"bgcolor\": \"#E5ECF6\", \"radialaxis\": {\"gridcolor\": \"white\", \"linecolor\": \"white\", \"ticks\": \"\"}}, \"scene\": {\"xaxis\": {\"backgroundcolor\": \"#E5ECF6\", \"gridcolor\": \"white\", \"gridwidth\": 2, \"linecolor\": \"white\", \"showbackground\": true, \"ticks\": \"\", \"zerolinecolor\": \"white\"}, \"yaxis\": {\"backgroundcolor\": \"#E5ECF6\", \"gridcolor\": \"white\", \"gridwidth\": 2, \"linecolor\": \"white\", \"showbackground\": true, \"ticks\": \"\", \"zerolinecolor\": \"white\"}, \"zaxis\": {\"backgroundcolor\": \"#E5ECF6\", \"gridcolor\": \"white\", \"gridwidth\": 2, \"linecolor\": \"white\", \"showbackground\": true, \"ticks\": \"\", \"zerolinecolor\": \"white\"}}, \"shapedefaults\": {\"line\": {\"color\": \"#2a3f5f\"}}, \"ternary\": {\"aaxis\": {\"gridcolor\": \"white\", \"linecolor\": \"white\", \"ticks\": \"\"}, \"baxis\": {\"gridcolor\": \"white\", \"linecolor\": \"white\", \"ticks\": \"\"}, \"bgcolor\": \"#E5ECF6\", \"caxis\": {\"gridcolor\": \"white\", \"linecolor\": \"white\", \"ticks\": \"\"}}, \"title\": {\"x\": 0.05}, \"xaxis\": {\"automargin\": true, \"gridcolor\": \"white\", \"linecolor\": \"white\", \"ticks\": \"\", \"title\": {\"standoff\": 15}, \"zerolinecolor\": \"white\", \"zerolinewidth\": 2}, \"yaxis\": {\"automargin\": true, \"gridcolor\": \"white\", \"linecolor\": \"white\", \"ticks\": \"\", \"title\": {\"standoff\": 15}, \"zerolinecolor\": \"white\", \"zerolinewidth\": 2}}}, \"title\": {\"text\": \"Decile score of Caucasians\"}, \"xaxis\": {\"anchor\": \"y\", \"domain\": [0.0, 1.0], \"title\": {\"text\": \"decile_score\"}}, \"yaxis\": {\"anchor\": \"x\", \"domain\": [0.0, 1.0], \"title\": {\"text\": \"count\"}}},                        {\"responsive\": true}                    ).then(function(){\n",
       "                            \n",
       "var gd = document.getElementById('9a932e9a-deb7-43a2-b43a-114c4c6b3bc3');\n",
       "var x = new MutationObserver(function (mutations, observer) {{\n",
       "        var display = window.getComputedStyle(gd).display;\n",
       "        if (!display || display === 'none') {{\n",
       "            console.log([gd, 'removed!']);\n",
       "            Plotly.purge(gd);\n",
       "            observer.disconnect();\n",
       "        }}\n",
       "}});\n",
       "\n",
       "// Listen for the removal of the full notebook cells\n",
       "var notebookContainer = gd.closest('#notebook-container');\n",
       "if (notebookContainer) {{\n",
       "    x.observe(notebookContainer, {childList: true});\n",
       "}}\n",
       "\n",
       "// Listen for the clearing of the current output cell\n",
       "var outputEl = gd.closest('.output');\n",
       "if (outputEl) {{\n",
       "    x.observe(outputEl, {childList: true});\n",
       "}}\n",
       "\n",
       "                        })                };                });            </script>        </div>"
      ]
     },
     "metadata": {},
     "output_type": "display_data"
    },
    {
     "name": "stdout",
     "output_type": "stream",
     "text": [
      "mean decile score: 3.64\n"
     ]
    }
   ],
   "source": [
    "scores_stats('race','Caucasian')"
   ]
  },
  {
   "cell_type": "markdown",
   "metadata": {
    "id": "4lMZG3zSjkH8"
   },
   "source": [
    "### Decile score vs Gender\n"
   ]
  },
  {
   "cell_type": "code",
   "execution_count": 20,
   "metadata": {
    "id": "_g5rz9v-jkH8",
    "scrolled": false
   },
   "outputs": [
    {
     "data": {
      "text/html": [
       "<div>                            <div id=\"a934371d-f627-470f-9e80-b67c6be021e7\" class=\"plotly-graph-div\" style=\"height:525px; width:100%;\"></div>            <script type=\"text/javascript\">                require([\"plotly\"], function(Plotly) {                    window.PLOTLYENV=window.PLOTLYENV || {};                                    if (document.getElementById(\"a934371d-f627-470f-9e80-b67c6be021e7\")) {                    Plotly.newPlot(                        \"a934371d-f627-470f-9e80-b67c6be021e7\",                        [{\"alignmentgroup\": \"True\", \"bingroup\": \"x\", \"hovertemplate\": \"decile_score=%{x}<br>count=%{y}<extra></extra>\", \"legendgroup\": \"\", \"marker\": {\"color\": \"indianred\", \"opacity\": 0.8}, \"name\": \"\", \"offsetgroup\": \"\", \"orientation\": \"v\", \"showlegend\": false, \"type\": \"histogram\", \"x\": [1, 3, 4, 1, 6, 4, 4, 6, 4, 3, 1, 10, 5, 3, 6, 9, 2, 4, 1, 3, 3, 7, 10, 9, 8, 1, 3, 2, 9, 2, 1, 2, 7, 10, 8, 1, 4, 2, 5, 4, 7, 1, 5, 3, 10, 2, 4, 9, 1, 6, 1, 1, 4, 4, 6, 6, 2, 3, 8, 2, 2, 10, 1, 10, 5, 9, 7, 8, 6, 8, 1, 4, 2, 6, 4, 5, 1, 9, 4, 5, 5, 2, 2, 9, 4, 8, 7, 10, 9, 9, 10, 3, 2, 2, 2, 7, 3, 2, 2, 8, 6, 5, 9, 7, 1, 4, 4, 7, 2, 2, 1, 5, 2, 3, 1, 4, 9, 6, 1, 2, 1, 1, 2, 5, 8, 2, 1, 1, 4, 9, 4, 9, 3, 3, 2, 3, 1, 4, 5, 10, 2, 1, 1, 9, 5, 2, 1, 1, 3, 10, 1, 4, 9, 9, 1, 1, 4, 4, 1, 9, 5, 4, 2, 4, 8, 2, 9, 1, 8, 5, 3, 8, 6, 8, 3, 8, 6, 1, 4, 8, 7, 5, 6, 7, 10, 6, 1, 1, 1, 4, 9, 8, 1, 4, 4, 5, 4, 3, 3, 3, 8, 1, 3, 2, 3, 1, 1, 3, 10, 2, 10, 1, 9, 9, 5, 9, 6, 3, 5, 5, 3, 3, 2, 1, 1, 9, 6, 3, 1, 10, 8, 1, 1, 6, 10, 4, 5, 4, 10, 3, 4, 3, 6, 9, 5, 1, 7, 8, 1, 3, 8, 9, 7, 9, 5, 1, 4, 8, 8, 9, 3, 7, 5, 9, 2, 3, 8, 1, 2, 1, 3, 1, 6, 2, 3, 3, 3, 5, 6, 1, 7, 6, 7, 7, 1, 4, 5, 1, 4, 8, 1, 6, 10, 1, 1, 5, 10, 2, 1, 1, 3, 1, 1, 8, 8, 6, 5, 5, 4, 3, 9, 10, 1, 1, 6, 9, 7, 1, 6, 5, 2, 10, 1, 10, 2, 1, 6, 1, 1, 1, 6, 1, 4, 9, 7, 2, 4, 1, 4, 5, 3, 5, 3, 6, 5, 1, 2, 3, 5, 4, 1, 3, 1, 7, 5, 2, 7, 5, 4, 4, 2, 9, 4, 3, 2, 4, 1, 3, 1, 3, 10, 7, 7, 10, 6, 1, 9, 1, 6, 3, 2, 5, 6, 6, 3, 5, 1, 7, 3, 1, 6, 8, 5, 4, 4, 8, 4, 3, 1, 7, 6, 1, 1, 1, 6, 4, 6, 1, 2, 3, 2, 2, 1, 3, 8, 7, 2, 10, 10, 7, 6, 1, 7, 1, 8, 5, 1, 2, 3, 3, 1, 1, 6, 2, 9, 7, 9, 5, 5, 1, 9, 9, 3, 2, 8, 2, 8, 4, 7, 1, 10, 9, 7, 9, 6, 2, 4, 1, 1, 5, 4, 9, 1, 2, 7, 9, 9, 9, 10, 4, 6, 1, 7, 5, 8, 1, 2, 5, 7, 4, 6, 1, 1, 3, 6, 8, 2, 1, 1, 4, 5, 8, 1, 5, 2, 1, 1, 10, 2, 2, 1, 3, 8, 1, 4, 4, 6, 9, 8, 2, 3, 9, 7, 2, 1, 5, 10, 5, 1, 9, 5, 5, 7, 4, 7, 7, 6, 4, 9, 4, 2, 2, 2, 6, 2, 1, 2, 4, 9, 4, 6, 7, 1, 1, 9, 3, 5, 9, 1, 1, 4, 1, 6, 2, 3, 7, 10, 1, 6, 3, 4, 7, 5, 8, 10, 3, 1, 4, 6, 2, 8, 1, 3, 8, 8, 10, 7, 8, 4, 7, 2, 1, 4, 4, 5, 2, 1, 7, 7, 8, 9, 4, 8, 2, 5, 4, 1, 9, 3, 8, 4, 9, 8, 4, 8, 1, 2, 9, 8, 4, 10, 3, 3, 1, 7, 6, 2, 4, 5, 1, 7, 10, 1, 1, 6, 1, 3, 1, 2, 2, 2, 5, 7, 7, 2, 2, 5, 2, 1, 9, 10, 9, 3, 1, 7, 2, 1, 3, 9, 7, 10, 4, 5, 8, 2, 7, 4, 5, 5, 7, 1, 1, 3, 1, 6, 3, 6, 1, 8, 7, 5, 5, 4, 1, 1, 1, 9, 7, 3, 4, 7, 4, 10, 1, 8, 1, 2, 5, 4, 3, 6, 7, 4, 1, 5, 1, 6, 6, 7, 3, 5, 10, 7, 10, 5, 9, 1, 1, 1, 4, 2, 3, 5, 2, 1, 2, 3, 8, 1, 1, 4, 2, 1, 10, 1, 10, 3, 1, 2, 2, 5, 3, 3, 3, 1, 1, 3, 7, 8, 10, 3, 5, 3, 10, 1, 1, 3, 4, 1, 6, 4, 1, 1, 3, 1, 5, 2, 2, 1, 10, 8, 5, 9, 6, 2, 2, 1, 6, 1, 10, 1, 5, 3, 9, 5, 2, 9, 2, 6, 6, 9, 1, 2, 4, 1, 4, 3, 3, 1, 1, 5, 1, 2, 3, 2, 9, 3, 4, 9, 5, 10, 8, 9, 2, 3, 5, 4, 5, 4, 1, 2, 6, 1, 3, 1, 10, 3, 4, 2, 6, 1, 2, 6, 6, 7, 4, 4, 6, 8, 2, 6, 2, 1, 2, 9, 1, 3, 1, 5, 9, 10, 1, 4, 3, 5, 4, 8, 2, 10, 7, 1, 4, 1, 4, 3, 10, 2, 1, 4, 5, 8, 3, 6, 10, 1, 3, 9, 5, 1, 2, 1, 1, 3, 2, 1, 5, 3, 6, 2, 1, 1, 2, 1, 8, 5, 2, 5, 2, 1, 1, 5, 1, 1, 2, 1, 7, 10, 1, 1, 5, 8, 4, 3, 2, 7, 1, 2, 7, 3, 2, 4, 2, 3, 4, 2, 10, 7, 1, 7, 2, 9, 4, 9, 7, 1, 2, 4, 9, 6, 2, 4, 3, 8, 9, 1, 10, 7, 5, 2, 8, 6, 1, 4, 1, 6, 1, 2, 4, 1, 7, 7, 5, 9, 2, 9, 1, 5, 6, 3, 3, 4, 1, 8, 1, 4, 9, 10, 2, 2, 1, 8, 4, 8, 6, 5, 1, 3, 2, 1, 3, 4, 8, 7, 3, 4, 1, 2, 9, 1, 5, 2, 3, 6, 2, 1, 7, 6, 7, 3, 7, 5, 2, 4, 4, 2, 1, 1, 6, 4, 9, 8, 1, 7, 1, 7, 9, 8, 10, 10, 1, 3, 3, 3, 3, 4, 1, 9, 1, 7, 1, 10, 1, 3, 4, 9, 2, 1, 1, 2, 3, 8, 7, 6, 1, 7, 2, 2, 1, 5, 5, 6, 7, 3, 8, 9, 2, 10, 1, 4, 6, 9, 1, 1, 9, 10, 1, 1, 3, 3, 1, 1, 3, 1, 2, 7, 4, 9, 1, 6, 1, 4, 8, 7, 1, 8, 4, 3, 5, 5, 8, 1, 7, 6, 4, 1, 1, 2, 2, 7, 10, 3, 1, 1, 1, 2, 9, 6, 6, 5, 3, 8, 1, 1, 6, 1, 5, 4, 9, 7, 6, 7, 1, 8, 6, 3, 7, 1, 1, 1, 5, 6, 5, 5, 1, 2, 7, 2, 1, 2, 6, 5, 3, 7, 10, 9, 10, 3, 7, 3, 6, 2, 1, 2, 6, 7, 6, 1, 10, 1, 3, 2, 8, 9, 4, 6, 1, 7, 9, 4, 1, 9, 6, 9, 2, 8, 7, 5, 4, 1, 7, 1, 3, 6, 3, 1, 2, 6, 9, 3, 7, 2, 1, 4, 1, 5, 9, 3, 9, 7, 2, 2, 6, 1, 9, 6, 8, 4, 2, 3, 9, 1, 3, 1, 2, 7, 3, 1, 3, 8, 5, 8, 9, 2, 4, 5, 3, 8, 3, 2, 1, 1, 1, 1, 1, 4, 4, 7, 2, 6, 1, 2, 6, 5, 4, 1, 10, 9, 6, 2, 3, 4, 7, 10, 8, 1, 7, 1, 1, 5, 7, 5, 9, 2, 7, 5, 7, 4, 8, 1, 1, 8, 7, 6, 3, 1, 9, 4, 1, 4, 10, 10, 4, 2, 7, 1, 4, 10, 3, 3, 9, 10, 1, 8, 3, 3, 1, 1, 5, 3, 1, 10, 7, 1, 8, 5, 8, 9, 6, 9, 8, 1, 6, 2, 4, 4, 2, 1, 7, 9, 9, 2, 9, 3, 3, 8, 8, 7, 1, 5, 1, 8, 7, 7, 9, 1, 6, 5, 4, 10, 9, 4, 4, 7, 1, 1, 3, 5, 2, 3, 10, 2, 2, 8, 3, 1, 4, 5, 1, 1, 3, 4, 3, 4, 2, 5, 7, 5, 1, 4, 2, 5, 3, 1, 2, 1, 5, 5, 8, 9, 3, 1, 1, 1, 3, 8, 4, 9, 4, 8, 6, 1, 7, 1, 2, 9, 5, 9, 5, 1, 10, 10, 4, 6, 4, 5, 1, 1, 3, 4, 1, 2, 2, 3, 7, 5, 1, 10, 7, 2, 1, 2, 5, 10, 7, 6, 10, 1, 2, 1, 4, 8, 3, 8, 10, 6, 4, 4, 4, 2, 5, 3, 4, 8, 6, 7, 5, 3, 3, 7, 2, 1, 4, 9, 2, 6, 1, 7, 3, 6, 5, 2, 10, 1, 5, 1, 5, 8, 7, 5, 4, 1, 3, 4, 1, 6, 1, 1, 6, 1, 6, 7, 1, 2, 4, 9, 9, 8, 6, 5, 10, 1, 7, 3, 6, 1, 1, 2, 6, 2, 7, 10, 10, 9, 6, 10, 4, 1, 9, 5, 1, 4, 6, 4, 2, 4, 1, 5, 2, 2, 3, 5, 3, 1, 4, 1, 6, 4, 4, 8, 1, 10, 4, 10, 1, 1, 8, 6, 1, 7, 6, 1, 7, 3, 1, 2, 4, 1, 9, 7, 9, 1, 9, 3, 7, 2, 5, 8, 5, 1, 1, 1, 6, 8, 1, 5, 10, 10, 1, 4, 1, 8, 1, 6, 3, 2, 4, 5, 3, 2, 5, 2, 5, 10, 10, 6, 10, 6, 1, 7, 2, 3, 1, 3, 3, 8, 1, 2, 6, 1, 3, 5, 1, 2, 5, 8, 2, 1, 7, 2, 1, 2, 7, 2, 4, 6, 10, 1, 4, 1, 3, 7, 1, 3, 1, 10, 1, 1, 10, 2, 2, 2, 5, 2, 6, 2, 2, 4, 7, 6, 3, 1, 1, 1, 7, 7, 9, 1, 8, 1, 3, 2, 3, 5, 1, 3, 4, 4, 1, 5, 1, 2, 8, 6, 1, 6, 9, 7, 1, 8, 10, 7, 7, 7, 6, 7, 1, 3, 2, 6, 4, 6, 1, 7, 3, 6, 8, 4, 2, 4, 9, 1, 3, 6, 7, 6, 5, 1, 1, 6, 5, 2, 7, 1, 9, 2, 2, 9, 1, 1, 2, 4, 8, 1, 7, 2, 6, 1, 9, 9, 7, 8, 1, 1, 1, 1, 2, 9, 1, 5, 4, 1, 6, 6, 8, 10, 6, 2, 2, 5, 9, 9, 2, 1, 9, 5, 7, 1, 2, 5, 3, 10, 1, 3, 7, 4, 1, 3, 4, 7, 6, 2, 7, 1, 1, 1, 2, 4, 2, 5, 4, 10, 4, 1, 5, 8, 3, 1, 3, 10, 2, 1, 7, 8, 5, 3, 3, 1, 1, 2, 1, 10, 5, 4, 10, 4, 2, 6, 5, 3, 1, 3, 7, 3, 8, 4, 8, 1, 8, 5, 6, 3, 1, 5, 5, 3, 4, 2, 5, 10, 6, 10, 3, 1, 1, 2, 1, 5, 9, 4, 1, 2, 1, 1, 1, 8, 10, 7, 3, 2, 7, 1, 3, 7, 5, 1, 6, 5, 2, 2, 5, 5, 3, 7, 1, 1, 9, 5, 5, 2, 2, 1, 6, 6, 7, 9, 8, 1, 2, 1, 2, 1, 4, 8, 5, 8, 6, 4, 7, 8, 6, 5, 3, 5, 2, 2, 4, 4, 4, 4, 1, 1, 2, 5, 6, 1, 5, 3, 5, 9, 3, 10, 3, 4, 8, 10, 1, 9, 6, 9, 8, 3, 6, 1, 2, 2, 4, 1, 6, 3, 5, 8, 8, 6, 1, 9, 1, 4, 2, 1, 10, 7, 4, 3, 9, 7, 3, 3, 5, 1, 6, 1, 10, 6, 8, 1, 9, 4, 6, 4, 3, 10, 1, 5, 1, 6, 9, 4, 1, 8, 8, 10, 5, 1, 9, 2, 3, 2, 3, 6, 1, 6, 5, 9, 2, 5, 4, 8, 1, 9, 4, 8, 4, 9, 4, 3, 1, 1, 1, 10, 2, 9, 1, 8, 1, 10, 8, 5, 8, 7, 4, 9, 6, 4, 9, 7, 3, 5, 8, 10, 6, 8, 1, 9, 4, 1, 2, 10, 2, 7, 8, 2, 6, 1, 2, 7, 1, 1, 4, 9, 1, 5, 8, 4, 1, 7, 9, 3, 9, 3, 6, 1, 2, 5, 2, 4, 1, 2, 1, 7, 10, 1, 1, 3, 2, 1, 2, 4, 9, 1, 3, 1, 7, 7, 10, 1, 9, 3, 4, 3, 1, 9, 9, 4, 1, 2, 1, 1, 1, 1, 2, 8, 8, 1, 9, 7, 3, 8, 6, 4, 9, 3, 3, 7, 2, 6, 7, 1, 1, 8, 4, 7, 1, 3, 4, 5, 5, 1, 2, 6, 4, 2, 5, 1, 8, 3, 1, 1, 5, 2, 8, 4, 10, 1, 7, 3, 2, 9, 10, 1, 7, 1, 10, 2, 3, 1, 1, 10, 1, 9, 1, 7, 9, 2, 2, 3, 8, 1, 9, 1, 10, 4, 1, 10, 10, 1, 6, 1, 5, 8, 9, 2, 6, 1, 8, 2, 6, 5, 8, 3, 6, 3, 3, 2, 2, 10, 2, 1, 10, 1, 4, 1, 3, 6, 10, 2, 3, 3, 9, 2, 8, 1, 1, 5, 5, 2, 5, 5, 7, 4, 9, 7, 1, 4, 1, 2, 2, 3, 1, 9, 2, 3, 10, 7, 1, 5, 2, 1, 6, 4, 8, 2, 7, 3, 7, 6, 4, 1, 7, 8, 2, 3, 8, 3, 3, 6, 4, 5, 10, 1, 8, 7, 1, 2, 3, 4, 6, 8, 8, 6, 2, 3, 3, 4, 6, 1, 2, 5, 3, 2, 10, 8, 3, 9, 9, 2, 9, 8, 8, 1, 1, 3, 7, 1, 8, 8, 2, 10, 2, 8, 10, 1, 9, 8, 8, 4, 4, 4, 4, 2, 9, 8, 4, 2, 4, 8, 1, 6, 4, 2, 7, 9, 7, 3, 8, 3, 1, 5, 5, 3, 6, 4, 4, 1, 2, 8, 2, 8, 2, 9, 9, 1, 8, 2, 9, 7, 4, 4, 4, 1, 5, 7, 9, 2, 4, 3, 4, 7, 4, 10, 5, 2, 6, 7, 10, 2, 1, 10, 7, 1, 9, 3, 5, 9, 5, 1, 7, 4, 7, 9, 9, 2, 8, 3, 4, 2, 1, 5, 7, 1, 9, 7, 1, 6, 5, 3, 8, 1, 10, 8, 10, 10, 1, 7, 7, 9, 10, 2, 1, 7, 2, 2, 1, 8, 1, 1, 4, 4, 8, 2, 7, 2, 8, 1, 4, 4, 7, 9, 3, 2, 1, 1, 3, 3, 8, 7, 2, 7, 9, 1, 6, 4, 3, 2, 7, 3, 5, 3, 1, 10, 7, 8, 3, 4, 1, 9, 8, 4, 5, 3, 9, 2, 5, 1, 4, 4, 4, 6, 2, 5, 1, 2, 1, 3, 3, 1, 1, 4, 1, 1, 1, 3, 3, 7, 2, 2, 6, 1, 5, 1, 7, 6, 10, 5, 2, 9, 3, 2, 2, 1, 9, 1, 1, 3, 2, 8, 8, 1, 1, 1, 8, 8, 9, 4, 2, 7, 8, 1, 7, 10, 5, 6, 4, 1, 2, 4, 1, 4, 5, 1, 5, 10, 4, 4, 9, 6, 10, 2, 3, 9, 3, 1, 2, 4, 2, 5, 2, 2, 2, 9, 5, 2, 2, 8, 8, 4, 1, 3, 1, 4, 5, 4, 1, 5, 4, 1, 1, 1, 4, 1, 1, 1, 4, 6, 9, 2, 6, 8, 3, 8, 1, 10, 6, 9, 3, 8, 8, 4, 3, 1, 1, 6, 4, 1, 7, 10, 9, 7, 7, 8, 7, 5, 4, 10, 6, 5, 5, 1, 5, 1, 3, 6, 5, 2, 8, 1, 4, 6, 8, 1, 9, 2, 1, 1, 1, 1, 6, 4, 5, 5, 9, 6, 5, 4, 6, 7, 8, 6, 1, 6, 3, 4, 9, 5, 8, 3, 5, 8, 4, 1, 7, 1, 4, 1, 9, 2, 1, 1, 7, 4, 4, 3, 5, 7, 3, 1, 3, 7, 2, 2, 1, 3, 6, 3, 4, 4, 6, 2, 8, 1, 3, 2, 9, 5, 7, 4, 1, 3, 5, 1, 1, 4, 6, 3, 8, 2, 7, 7, 5, 7, 4, 1, 8, 7, 5, 5, 7, 5, 9, 1, 4, 8, 2, 1, 1, 4, 1, 10, 2, 6, 6, 4, 3, 9, 7, 2, 1, 5, 5, 2, 6, 2, 8, 4, 9, 2, 5, 2, 3, 1, 7, 2, 1, 4, 2, 1, 8, 8, 3, 9, 3, 9, 9, 4, 3, 2, 1, 1, 2, 3, 4, 2, 3, 1, 7, 1, 2, 1, 2, 1, 9, 7, 1, 3, 4, 3, 1, 2, 1, 6, 1, 1, 8, 4, 2, 1, 6, 3, 2, 6, 8, 6, 10, 1, 1, 7, 2, 2, 4, 3, 1, 9, 4, 8, 7, 1, 4, 9, 1, 4, 3, 8, 3, 5, 8, 7, 8, 1, 2, 6, 5, 7, 1, 3, 5, 2, 8, 2, 2, 4, 5, 10, 10, 9, 9, 1, 2, 2, 6, 5, 3, 1, 6, 6, 8, 1, 1, 1, 1, 4, 1, 10, 4, 7, 6, 5, 2, 2, 5, 3, 1, 10, 8, 4, 2, 5, 9, 9, 7, 1, 9, 4, 6, 5, 9, 2, 5, 8, 4, 2, 1, 3, 1, 1, 8, 6, 10, 1, 4, 2, 3, 1, 4, 1, 5, 5, 1, 2, 1, 1, 2, 5, 7, 1, 3, 9, 4, 7, 1, 8, 3, 10, 7, 4, 5, 5, 9, 1, 1, 5, 5, 4, 3, 9, 5, 6, 3, 6, 9, 10, 6, 1, 7, 8, 4, 2, 9, 5, 5, 5, 1, 3, 10, 1, 1, 6, 3, 7, 9, 7, 10, 9, 6, 10, 6, 1, 7, 6, 7, 6, 2, 1, 8, 3, 8, 1, 6, 2, 1, 3, 4, 1, 2, 10, 4, 9, 1, 8, 1, 1, 9, 5, 5, 5, 1, 4, 6, 5, 5, 2, 10, 6, 8, 8, 1, 7, 4, 9, 5, 5, 8, 2, 2, 2, 2, 5, 2, 1, 2, 8, 7, 2, 2, 6, 2, 4, 4, 3, 1, 6, 3, 9, 3, 1, 4, 1, 8, 5, 5, 1, 5, 4, 1, 7, 3, 9, 4, 8, 3, 2, 2, 1, 7, 3, 9, 9, 4, 1, 7, 1, 1, 9, 2, 1, 3, 5, 9, 1, 2, 2, 2, 2, 4, 2, 5, 7, 3, 4, 1, 10, 3, 7, 5, 8, 7, 4, 7, 2, 2, 1, 4, 2, 5, 10, 9, 5, 2, 8, 4, 1, 10, 2, 3, 4, 7, 5, 8, 2, 5, 10, 2, 2, 7, 5, 9, 4, 4, 8, 4, 10, 9, 3, 2, 1, 9, 7, 8, 7, 2, 9, 3, 7, 2, 8, 1, 3, 3, 1, 4, 2, 5, 3, 8, 2, 2, 3, 1, 6, 9, 9, 4, 1, 9, 2, 3, 3, 8, 4, 2, 1, 3, 3, 6, 9, 8, 2, 2, 2, 4, 4, 3, 10, 10, 8, 6, 1, 9, 8, 8, 4, 4, 5, 5, 10, 2, 4, 7, 9, 4, 7, 6, 6, 1, 3, 9, 3, 5, 3, 2, 7, 6, 1, 7, 5, 1, 6, 5, 9, 9, 4, 8, 4, 6, 5, 9, 4, 2, 1, 2, 1, 5, 3, 4, 4, 2, 6, 8, 3, 5, 2, 2, 2, 3, 5, 7, 4, 1, 3, 9, 1, 7, 3, 1, 10, 9, 5, 3, 5, 6, 2, 1, 4, 1, 5, 4, 9, 9, 7, 7, 1, 1, 5, 7, 2, 9, 6, 10, 5, 5, 3, 7, 3, 8, 1, 5, 4, 1, 2, 6, 3, 4, 10, 1, 1, 9, 4, 7, 4, 4, 1, 3, 2, 6, 2, 6, 5, 3, 1, 5, 3, 1, 2, 6, 4, 8, 4, 8, 4, 2, 6, 6, 6, 6, 1, 3, 8, 2, 8, 7, 8, 4, 1, 3, 6, 4, 2, 4, 7, 5, 4, 2, 3, 3, 8, 2, 4, 6, 3, 7, 5, 1, 6, 2, 5, 1, 3, 6, 1, 5, 7, 5, 6, 10, 8, 9, 1, 10, 6, 10, 2, 1, 2, 1, 8, 5, 7, 4, 8, 5, 3, 5, 1, 8, 1, 1, 10, 6, 1, 10, 6, 5, 1, 3, 5, 4, 2, 5, 6, 4, 4, 3, 6, 7, 9, 4, 6, 7, 3, 1, 7, 6, 1, 9, 3, 10, 10, 1, 6, 9, 2, 9, 2, 7, 1, 7, 2, 4, 4, 7, 1, 2, 6, 8, 8, 5, 4, 6, 4, 5, 5, 8, 1, 9, 9, 2, 7, 7, 8, 5, 2, 6, 3, 2, 7, 5, 1, 4, 8, 6, 10, 8, 4, 5, 8, 8, 9, 8, 1, 4, 2, 1, 1, 7, 6, 5, 9, 8, 5, 2, 1, 3, 2, 1, 1, 1, 8, 1, 8, 5, 10, 1, 2, 6, 3, 7, 9, 6, 1, 2, 6, 9, 10, 1, 1, 1, 10, 3, 9, 2, 2, 1, 7, 1, 1, 1, 6, 7, 1, 1, 1, 1, 3, 10, 3, 5, 1, 1, 2, 1, 3, 7, 8, 1, 4, 3, 1, 4, 2, 8, 7, 4, 1, 4, 2, 2, 1, 1, 7, 1, 1, 5, 7, 7, 3, 1, 1, 8, 8, 3, 4, 7, 1, 2, 8, 2, 10, 5, 7, 1, 4, 8, 3, 5, 4, 7, 1, 2, 1, 2, 9, 1, 2, 2, 4, 3, 2, 2, 6, 7, 6, 2, 7, 7, 1, 4, 8, 1, 1, 7, 7, 1, 1, 5, 6, 1, 2, 8, 9, 5, 6, 8, 9, 9, 8, 8, 6, 3, 8, 2, 1, 10, 6, 2, 5, 9, 2, 8, 8, 6, 2, 3, 2, 3, 1, 1, 6, 1, 2, 2, 2, 6, 3, 3, 1, 4, 2, 3, 2, 3, 8, 1, 8, 7, 3, 1, 1, 5, 9, 4, 4, 4, 8, 1, 2, 7, 8, 4, 6, 7, 6, 5, 2, 2, 1, 5, 1, 1, 2, 2, 6, 3, 7, 2, 1, 1, 10, 6, 3, 5, 6, 1, 10, 9, 6, 7, 4, 4, 9, 3, 2, 8, 7, 1, 6, 9, 5, 9, 4, 3, 6, 7, 2, 5, 3, 1, 1, 8, 8, 1, 9, 1, 2, 3, 4, 1, 9, 10, 2, 3, 1, 7, 4, 1, 3, 1, 6, 8, 2, 2, 3, 8, 9, 8, 7, 1, 2, 1, 1, 2, 5, 1, 3, 9, 1, 8, 8, 4, 6, 6, 5, 10, 4, 9, 1, 5, 6, 7, 1, 1, 10, 4, 5, 1, 8, 9, 8, 1, 3, 2, 1, 8, 1, 3, 2, 5, 3, 3, 2, 2, 2, 4, 7, 1, 2, 4, 10, 10, 1, 4, 4, 5, 9, 5, 2, 9, 7, 2, 2, 8, 1, 1, 1, 3, 5, 3, 5, 1, 1, 6, 3, 1, 9, 1, 3, 10, 2, 7, 3, 3, 7, 7, 1, 5, 6, 3, 3, 3, 6, 6, 8, 9, 6, 5, 10, 10, 2, 4, 2, 9, 7, 5, 6, 2, 9, 6, 3, 1, 5, 4, 10, 5, 8, 1, 5, 1, 7, 8, 4, 3, 8, 9, 7, 6, 1, 3, 10, 2, 3, 8, 1, 4, 1, 7, 5, 3, 6, 3, 10, 9, 1, 9, 4, 4, 8, 3, 2, 7, 6, 7, 1, 2, 5, 1, 9, 8, 2, 5, 1, 4, 4, 9, 3, 3, 2, 3, 2, 1, 2, 5, 5, 4, 5, 1, 4, 4, 10, 4, 7, 4, 3, 8, 5, 10, 3, 7, 10, 2, 6, 9, 2, 3, 3, 10, 6, 9, 5, 2, 1, 2, 5, 4, 6, 10, 1, 5, 10, 4, 1, 1, 10, 5, 6, 5, 2, 4, 5, 1, 8, 1, 1, 2, 4, 7, 1, 3, 7, 6, 6, 2, 4, 9, 2, 3, 5, 3, 2, 8, 2, 8, 4, 1, 8, 4, 1, 1, 5, 8, 1, 6, 3, 7, 1, 1, 1, 6, 2, 2, 4, 5, 6, 8, 2, 1, 3, 3, 3, 9, 1, 2, 4, 8, 5, 1, 2, 9, 1, 6, 4, 6, 1, 1, 5, 9, 1, 1, 5, 1, 9, 4, 9, 3, 5, 1, 5, 1, 9, 3, 4, 2, 1, 6, 4, 3, 2, 1, 6, 3, 9, 10, 4, 4, 2, 2, 1, 5, 1, 6, 8, 3, 2, 2, 3, 9, 10, 10, 3, 2, 7, 1, 5, 1, 3, 3, 7, 7, 4, 1, 4, 2, 4, 5, 6, 9, 6, 10, 2, 4, 10, 3, 4, 10, 9, 1, 8, 2, 1, 6, 1, 3, 1, 10, 4, 1, 4, 3, 1, 1, 4, 5, 6, 2, 10, 1, 1, 5, 4, 1, 7, 2, 1, 8, 4, 9, 3, 4, 1, 5, 1, 4, 8, 1, 2, 7, 9, 8, 6, 1, 10, 2, 1, 1, 1, 1, 8, 8, 5, 4, 1, 1, 3, 7, 6, 3, 1, 3, 1, 1, 5, 5, 7, 5, 5, 1, 7, 6, 4, 5, 8, 8, 7, 7, 7, 7, 4, 1, 4, 5, 9, 1, 2, 1, 1, 8, 8, 5, 6, 4, 8, 7, 7, 1, 7, 6, 2, 2, 1, 6, 5, 4, 2, 3, 2, 9, 3, 9, 7, 6, 10, 2, 9, 8, 9, 4, 3, 1, 1, 1, 7, 8, 1, 1, 7, 2, 9, 10, 2, 9, 3, 4, 2, 2, 9, 4, 6, 1, 4, 4, 1, 7, 1, 7, 1, 8, 1, 2, 8, 4, 4, 1, 4, 5, 1, 1, 3, 3, 3, 6, 7, 1, 7, 2, 6, 9, 2, 1, 9, 7, 8, 1, 2, 6, 4, 2, 1, 1, 1, 2, 7, 9, 6, 2, 8, 4, 1, 9, 5, 9, 1, 6, 1, 10, 9, 9, 5, 9, 7, 2, 4, 5, 2, 9, 4, 6, 5, 6, 10, 3, 4, 4, 7, 8, 10, 4, 3, 9, 2, 1, 4, 1, 1, 4, 2, 1, 5, 8, 1, 2, 3, 2, 10, 6, 7, 9, 2, 1, 5, 3, 3, 2, 3, 5, 7, 9, 6, 5, 9, 8, 8, 5, 7, 7, 3, 3, 3, 2, 6, 2, 7, 7, 1, 8, 5, 4, 5, 6, 5, 7, 7, 8, 7, 1, 9, 7, 1, 1, 4, 2, 6, 5, 10, 2, 8, 2, 9, 5, 6, 2, 2, 5, 8, 4, 4, 8, 7, 2, 2, 2, 7, 6, 8, 6, 1, 3, 5, 2, 7, 2, 6, 5, 3, 4, 4, 5, 1, 4, 4, 6, 10, 2, 3, 4, 8, 1, 1, 7, 3, 10, 9, 1, 1, 6, 4, 1, 7, 2, 3, 2, 10, 4, 3, 8, 4, 1, 2, 8, 8, 9, 1, 7, 7, 4, 7, 6, 2, 1, 6, 2, 3, 2, 5, 4, 1, 10, 6, 4, 1, 2, 6, 4, 4, 7, 8, 10, 10, 7, 7, 4, 6, 2, 1, 4, 6, 3, 4, 5, 1, 2, 6, 2, 3, 6, 9, 10, 2, 2, 10, 1, 2, 5, 2, 5, 2, 1, 7, 1, 3, 9, 5, 4, 4, 5, 1, 2, 2, 2, 4, 1, 5, 1, 8, 1, 3, 1, 10, 3, 2, 9, 9, 2, 7, 1, 4, 3, 10, 6, 6, 1, 5, 4, 4, 6, 1, 2, 10, 9, 5, 9, 10, 9, 6, 4, 1, 5, 4, 5, 5, 3, 1, 10, 5, 10, 1, 1, 1, 2, 7, 2, 1, 3, 1, 1, 4, 5, 5, 7, 2, 10, 5, 6, 3, 8, 4, 4, 4, 5, 10, 6, 4, 7, 9, 4, 5, 4, 4, 6, 4, 1, 4, 4, 7, 2, 6, 6, 1, 10, 5, 2, 5, 1, 1, 4, 6, 4, 3, 6, 1, 2, 5, 2, 3, 3, 3, 2, 5, 1, 9, 9, 1, 7, 8, 9, 1, 2, 7, 3, 7, 7, 2, 9, 1, 6, 2, 6, 1, 7, 7, 6, 1, 1, 9, 9, 8, 2, 4, 10, 5, 8, 1, 9, 5, 2, 7, 6, 9, 10, 8, 4, 3, 7, 5, 2, 7, 1, 2, 1, 1, 5, 1, 9, 9, 1, 6, 7, 1, 2, 4, 1, 9, 4, 3, 1, 2, 1, 3, 3, 4, 8, 1, 7, 10, 5, 2, 8, 8, 3, 3, 5, 5, 1, 3, 2, 7, 6, 1, 6, 5, 10, 1, 1, 1, 1, 10, 5, 1, 1, 1, 1, 6, 8, 2, 2, 1, 8, 2, 1, 6, 8, 2, 6, 1, 9, 10, 6, 1, 1, 4, 1, 6, 7, 9, 7, 6, 6, 4, 1, 5, 7, 1, 3, 7, 8, 1, 1, 1, 1, 7, 1, 5, 3, 2, 1, 2, 4, 2, 6, 1, 4, 4, 3, 1, 6, 1, 4, 1, 4, 2, 6, 7, 7, 1, 7, 1, 1, 1, 2, 7, 1, 5, 1, 1, 2, 3, 1, 4, 6, 1, 9, 7, 2, 7, 1, 9, 10, 9, 5, 9, 2, 4, 1, 8, 4, 9, 6, 7, 1, 1, 7, 5, 3, 4, 8, 7, 3, 4, 6, 6, 1, 10, 3, 4, 3, 10, 8, 4, 2, 4, 4, 5, 5, 5, 5, 5, 1, 3, 9, 2, 10, 1, 3, 10, 8, 3, 4, 1, 4, 2, 3, 7, 2, 10, 7, 8, 2, 5, 6, 6, 2, 4, 2, 10, 2, 10, 6, 7, 1, 3, 10, 4, 9, 6, 6, 1, 3, 6, 9, 6, 8, 8, 3, 10, 10, 7, 7, 10, 4, 1, 6, 3, 4, 6, 2, 1, 2, 1, 6, 1, 10, 4, 6, 2, 2, 4, 1, 4, 7, 3, 1, 1, 1, 1, 3, 1, 1, 2, 2, 6, 5, 5, 1, 4, 9, 6, 5, 4, 1, 10, 5, 1, 1, 5, 6, 6, 9, 1, 3, 8, 7, 2, 6, 2, 6, 2, 7, 1, 10, 3, 2, 6, 1, 4, 6, 7, 2, 4, 8, 5, 10, 10, 6, 7, 5, 3, 6, 5, 2, 1, 2, 2, 6, 5, 7, 3, 3, 1, 9, 6, 9, 4, 5, 8, 5, 9, 1, 3, 6, 4, 4, 4, 1, 2, 3, 2, 2, 7, 1, 2, 5, 8, 10, 2, 3, 4, 6, 2, 9, 7, 3, 1], \"xaxis\": \"x\", \"yaxis\": \"y\"}],                        {\"barmode\": \"relative\", \"legend\": {\"tracegroupgap\": 0}, \"shapes\": [{\"line\": {\"color\": \"LightSeaGreen\", \"dash\": \"dashdot\", \"width\": 4}, \"type\": \"line\", \"x0\": 4.501901140684411, \"x1\": 4.501901140684411, \"y0\": 0, \"y1\": 1045}], \"template\": {\"data\": {\"bar\": [{\"error_x\": {\"color\": \"#2a3f5f\"}, \"error_y\": {\"color\": \"#2a3f5f\"}, \"marker\": {\"line\": {\"color\": \"#E5ECF6\", \"width\": 0.5}}, \"type\": \"bar\"}], \"barpolar\": [{\"marker\": {\"line\": {\"color\": \"#E5ECF6\", \"width\": 0.5}}, \"type\": \"barpolar\"}], \"carpet\": [{\"aaxis\": {\"endlinecolor\": \"#2a3f5f\", \"gridcolor\": \"white\", \"linecolor\": \"white\", \"minorgridcolor\": \"white\", \"startlinecolor\": \"#2a3f5f\"}, \"baxis\": {\"endlinecolor\": \"#2a3f5f\", \"gridcolor\": \"white\", \"linecolor\": \"white\", \"minorgridcolor\": \"white\", \"startlinecolor\": \"#2a3f5f\"}, \"type\": \"carpet\"}], \"choropleth\": [{\"colorbar\": {\"outlinewidth\": 0, \"ticks\": \"\"}, \"type\": \"choropleth\"}], \"contour\": [{\"colorbar\": {\"outlinewidth\": 0, \"ticks\": \"\"}, \"colorscale\": [[0.0, \"#0d0887\"], [0.1111111111111111, \"#46039f\"], [0.2222222222222222, \"#7201a8\"], [0.3333333333333333, \"#9c179e\"], [0.4444444444444444, \"#bd3786\"], [0.5555555555555556, \"#d8576b\"], [0.6666666666666666, \"#ed7953\"], [0.7777777777777778, \"#fb9f3a\"], [0.8888888888888888, \"#fdca26\"], [1.0, \"#f0f921\"]], \"type\": \"contour\"}], \"contourcarpet\": [{\"colorbar\": {\"outlinewidth\": 0, \"ticks\": \"\"}, \"type\": \"contourcarpet\"}], \"heatmap\": [{\"colorbar\": {\"outlinewidth\": 0, \"ticks\": \"\"}, \"colorscale\": [[0.0, \"#0d0887\"], [0.1111111111111111, \"#46039f\"], [0.2222222222222222, \"#7201a8\"], [0.3333333333333333, \"#9c179e\"], [0.4444444444444444, \"#bd3786\"], [0.5555555555555556, \"#d8576b\"], [0.6666666666666666, \"#ed7953\"], [0.7777777777777778, \"#fb9f3a\"], [0.8888888888888888, \"#fdca26\"], [1.0, \"#f0f921\"]], \"type\": \"heatmap\"}], \"heatmapgl\": [{\"colorbar\": {\"outlinewidth\": 0, \"ticks\": \"\"}, \"colorscale\": [[0.0, \"#0d0887\"], [0.1111111111111111, \"#46039f\"], [0.2222222222222222, \"#7201a8\"], [0.3333333333333333, \"#9c179e\"], [0.4444444444444444, \"#bd3786\"], [0.5555555555555556, \"#d8576b\"], [0.6666666666666666, \"#ed7953\"], [0.7777777777777778, \"#fb9f3a\"], [0.8888888888888888, \"#fdca26\"], [1.0, \"#f0f921\"]], \"type\": \"heatmapgl\"}], \"histogram\": [{\"marker\": {\"colorbar\": {\"outlinewidth\": 0, \"ticks\": \"\"}}, \"type\": \"histogram\"}], \"histogram2d\": [{\"colorbar\": {\"outlinewidth\": 0, \"ticks\": \"\"}, \"colorscale\": [[0.0, \"#0d0887\"], [0.1111111111111111, \"#46039f\"], [0.2222222222222222, \"#7201a8\"], [0.3333333333333333, \"#9c179e\"], [0.4444444444444444, \"#bd3786\"], [0.5555555555555556, \"#d8576b\"], [0.6666666666666666, \"#ed7953\"], [0.7777777777777778, \"#fb9f3a\"], [0.8888888888888888, \"#fdca26\"], [1.0, \"#f0f921\"]], \"type\": \"histogram2d\"}], \"histogram2dcontour\": [{\"colorbar\": {\"outlinewidth\": 0, \"ticks\": \"\"}, \"colorscale\": [[0.0, \"#0d0887\"], [0.1111111111111111, \"#46039f\"], [0.2222222222222222, \"#7201a8\"], [0.3333333333333333, \"#9c179e\"], [0.4444444444444444, \"#bd3786\"], [0.5555555555555556, \"#d8576b\"], [0.6666666666666666, \"#ed7953\"], [0.7777777777777778, \"#fb9f3a\"], [0.8888888888888888, \"#fdca26\"], [1.0, \"#f0f921\"]], \"type\": \"histogram2dcontour\"}], \"mesh3d\": [{\"colorbar\": {\"outlinewidth\": 0, \"ticks\": \"\"}, \"type\": \"mesh3d\"}], \"parcoords\": [{\"line\": {\"colorbar\": {\"outlinewidth\": 0, \"ticks\": \"\"}}, \"type\": \"parcoords\"}], \"pie\": [{\"automargin\": true, \"type\": \"pie\"}], \"scatter\": [{\"marker\": {\"colorbar\": {\"outlinewidth\": 0, \"ticks\": \"\"}}, \"type\": \"scatter\"}], \"scatter3d\": [{\"line\": {\"colorbar\": {\"outlinewidth\": 0, \"ticks\": \"\"}}, \"marker\": {\"colorbar\": {\"outlinewidth\": 0, \"ticks\": \"\"}}, \"type\": \"scatter3d\"}], \"scattercarpet\": [{\"marker\": {\"colorbar\": {\"outlinewidth\": 0, \"ticks\": \"\"}}, \"type\": \"scattercarpet\"}], \"scattergeo\": [{\"marker\": {\"colorbar\": {\"outlinewidth\": 0, \"ticks\": \"\"}}, \"type\": \"scattergeo\"}], \"scattergl\": [{\"marker\": {\"colorbar\": {\"outlinewidth\": 0, \"ticks\": \"\"}}, \"type\": \"scattergl\"}], \"scattermapbox\": [{\"marker\": {\"colorbar\": {\"outlinewidth\": 0, \"ticks\": \"\"}}, \"type\": \"scattermapbox\"}], \"scatterpolar\": [{\"marker\": {\"colorbar\": {\"outlinewidth\": 0, \"ticks\": \"\"}}, \"type\": \"scatterpolar\"}], \"scatterpolargl\": [{\"marker\": {\"colorbar\": {\"outlinewidth\": 0, \"ticks\": \"\"}}, \"type\": \"scatterpolargl\"}], \"scatterternary\": [{\"marker\": {\"colorbar\": {\"outlinewidth\": 0, \"ticks\": \"\"}}, \"type\": \"scatterternary\"}], \"surface\": [{\"colorbar\": {\"outlinewidth\": 0, \"ticks\": \"\"}, \"colorscale\": [[0.0, \"#0d0887\"], [0.1111111111111111, \"#46039f\"], [0.2222222222222222, \"#7201a8\"], [0.3333333333333333, \"#9c179e\"], [0.4444444444444444, \"#bd3786\"], [0.5555555555555556, \"#d8576b\"], [0.6666666666666666, \"#ed7953\"], [0.7777777777777778, \"#fb9f3a\"], [0.8888888888888888, \"#fdca26\"], [1.0, \"#f0f921\"]], \"type\": \"surface\"}], \"table\": [{\"cells\": {\"fill\": {\"color\": \"#EBF0F8\"}, \"line\": {\"color\": \"white\"}}, \"header\": {\"fill\": {\"color\": \"#C8D4E3\"}, \"line\": {\"color\": \"white\"}}, \"type\": \"table\"}]}, \"layout\": {\"annotationdefaults\": {\"arrowcolor\": \"#2a3f5f\", \"arrowhead\": 0, \"arrowwidth\": 1}, \"autotypenumbers\": \"strict\", \"coloraxis\": {\"colorbar\": {\"outlinewidth\": 0, \"ticks\": \"\"}}, \"colorscale\": {\"diverging\": [[0, \"#8e0152\"], [0.1, \"#c51b7d\"], [0.2, \"#de77ae\"], [0.3, \"#f1b6da\"], [0.4, \"#fde0ef\"], [0.5, \"#f7f7f7\"], [0.6, \"#e6f5d0\"], [0.7, \"#b8e186\"], [0.8, \"#7fbc41\"], [0.9, \"#4d9221\"], [1, \"#276419\"]], \"sequential\": [[0.0, \"#0d0887\"], [0.1111111111111111, \"#46039f\"], [0.2222222222222222, \"#7201a8\"], [0.3333333333333333, \"#9c179e\"], [0.4444444444444444, \"#bd3786\"], [0.5555555555555556, \"#d8576b\"], [0.6666666666666666, \"#ed7953\"], [0.7777777777777778, \"#fb9f3a\"], [0.8888888888888888, \"#fdca26\"], [1.0, \"#f0f921\"]], \"sequentialminus\": [[0.0, \"#0d0887\"], [0.1111111111111111, \"#46039f\"], [0.2222222222222222, \"#7201a8\"], [0.3333333333333333, \"#9c179e\"], [0.4444444444444444, \"#bd3786\"], [0.5555555555555556, \"#d8576b\"], [0.6666666666666666, \"#ed7953\"], [0.7777777777777778, \"#fb9f3a\"], [0.8888888888888888, \"#fdca26\"], [1.0, \"#f0f921\"]]}, \"colorway\": [\"#636efa\", \"#EF553B\", \"#00cc96\", \"#ab63fa\", \"#FFA15A\", \"#19d3f3\", \"#FF6692\", \"#B6E880\", \"#FF97FF\", \"#FECB52\"], \"font\": {\"color\": \"#2a3f5f\"}, \"geo\": {\"bgcolor\": \"white\", \"lakecolor\": \"white\", \"landcolor\": \"#E5ECF6\", \"showlakes\": true, \"showland\": true, \"subunitcolor\": \"white\"}, \"hoverlabel\": {\"align\": \"left\"}, \"hovermode\": \"closest\", \"mapbox\": {\"style\": \"light\"}, \"paper_bgcolor\": \"white\", \"plot_bgcolor\": \"#E5ECF6\", \"polar\": {\"angularaxis\": {\"gridcolor\": \"white\", \"linecolor\": \"white\", \"ticks\": \"\"}, \"bgcolor\": \"#E5ECF6\", \"radialaxis\": {\"gridcolor\": \"white\", \"linecolor\": \"white\", \"ticks\": \"\"}}, \"scene\": {\"xaxis\": {\"backgroundcolor\": \"#E5ECF6\", \"gridcolor\": \"white\", \"gridwidth\": 2, \"linecolor\": \"white\", \"showbackground\": true, \"ticks\": \"\", \"zerolinecolor\": \"white\"}, \"yaxis\": {\"backgroundcolor\": \"#E5ECF6\", \"gridcolor\": \"white\", \"gridwidth\": 2, \"linecolor\": \"white\", \"showbackground\": true, \"ticks\": \"\", \"zerolinecolor\": \"white\"}, \"zaxis\": {\"backgroundcolor\": \"#E5ECF6\", \"gridcolor\": \"white\", \"gridwidth\": 2, \"linecolor\": \"white\", \"showbackground\": true, \"ticks\": \"\", \"zerolinecolor\": \"white\"}}, \"shapedefaults\": {\"line\": {\"color\": \"#2a3f5f\"}}, \"ternary\": {\"aaxis\": {\"gridcolor\": \"white\", \"linecolor\": \"white\", \"ticks\": \"\"}, \"baxis\": {\"gridcolor\": \"white\", \"linecolor\": \"white\", \"ticks\": \"\"}, \"bgcolor\": \"#E5ECF6\", \"caxis\": {\"gridcolor\": \"white\", \"linecolor\": \"white\", \"ticks\": \"\"}}, \"title\": {\"x\": 0.05}, \"xaxis\": {\"automargin\": true, \"gridcolor\": \"white\", \"linecolor\": \"white\", \"ticks\": \"\", \"title\": {\"standoff\": 15}, \"zerolinecolor\": \"white\", \"zerolinewidth\": 2}, \"yaxis\": {\"automargin\": true, \"gridcolor\": \"white\", \"linecolor\": \"white\", \"ticks\": \"\", \"title\": {\"standoff\": 15}, \"zerolinecolor\": \"white\", \"zerolinewidth\": 2}}}, \"title\": {\"text\": \"Decile score of Males\"}, \"xaxis\": {\"anchor\": \"y\", \"domain\": [0.0, 1.0], \"title\": {\"text\": \"decile_score\"}}, \"yaxis\": {\"anchor\": \"x\", \"domain\": [0.0, 1.0], \"title\": {\"text\": \"count\"}}},                        {\"responsive\": true}                    ).then(function(){\n",
       "                            \n",
       "var gd = document.getElementById('a934371d-f627-470f-9e80-b67c6be021e7');\n",
       "var x = new MutationObserver(function (mutations, observer) {{\n",
       "        var display = window.getComputedStyle(gd).display;\n",
       "        if (!display || display === 'none') {{\n",
       "            console.log([gd, 'removed!']);\n",
       "            Plotly.purge(gd);\n",
       "            observer.disconnect();\n",
       "        }}\n",
       "}});\n",
       "\n",
       "// Listen for the removal of the full notebook cells\n",
       "var notebookContainer = gd.closest('#notebook-container');\n",
       "if (notebookContainer) {{\n",
       "    x.observe(notebookContainer, {childList: true});\n",
       "}}\n",
       "\n",
       "// Listen for the clearing of the current output cell\n",
       "var outputEl = gd.closest('.output');\n",
       "if (outputEl) {{\n",
       "    x.observe(outputEl, {childList: true});\n",
       "}}\n",
       "\n",
       "                        })                };                });            </script>        </div>"
      ]
     },
     "metadata": {},
     "output_type": "display_data"
    },
    {
     "name": "stdout",
     "output_type": "stream",
     "text": [
      "mean decile score: 4.50\n"
     ]
    }
   ],
   "source": [
    "scores_stats('sex','Male')"
   ]
  },
  {
   "cell_type": "code",
   "execution_count": 21,
   "metadata": {
    "id": "4o_1YFSMjkH8"
   },
   "outputs": [
    {
     "data": {
      "text/html": [
       "<div>                            <div id=\"1fab6e5b-cfa4-4aef-abd2-c1d63053cb30\" class=\"plotly-graph-div\" style=\"height:525px; width:100%;\"></div>            <script type=\"text/javascript\">                require([\"plotly\"], function(Plotly) {                    window.PLOTLYENV=window.PLOTLYENV || {};                                    if (document.getElementById(\"1fab6e5b-cfa4-4aef-abd2-c1d63053cb30\")) {                    Plotly.newPlot(                        \"1fab6e5b-cfa4-4aef-abd2-c1d63053cb30\",                        [{\"alignmentgroup\": \"True\", \"bingroup\": \"x\", \"hovertemplate\": \"decile_score=%{x}<br>count=%{y}<extra></extra>\", \"legendgroup\": \"\", \"marker\": {\"color\": \"indianred\", \"opacity\": 0.8}, \"name\": \"\", \"offsetgroup\": \"\", \"orientation\": \"v\", \"showlegend\": false, \"type\": \"histogram\", \"x\": [1, 1, 1, 4, 5, 8, 2, 2, 1, 4, 2, 7, 1, 1, 1, 4, 2, 4, 2, 2, 4, 10, 1, 3, 9, 6, 6, 1, 10, 4, 7, 7, 4, 3, 9, 8, 9, 9, 1, 7, 6, 1, 2, 2, 5, 1, 1, 4, 2, 3, 3, 2, 6, 1, 2, 1, 7, 4, 3, 8, 6, 6, 5, 1, 4, 1, 1, 4, 1, 2, 6, 7, 1, 10, 5, 2, 10, 9, 9, 2, 1, 2, 1, 4, 1, 3, 2, 3, 1, 1, 3, 7, 5, 1, 1, 10, 5, 10, 3, 2, 4, 8, 6, 6, 3, 1, 3, 2, 9, 3, 8, 3, 10, 5, 1, 9, 5, 5, 10, 10, 8, 2, 1, 7, 5, 7, 4, 5, 2, 2, 3, 1, 3, 2, 5, 6, 3, 1, 2, 3, 5, 2, 1, 4, 1, 1, 1, 1, 2, 6, 5, 7, 4, 7, 4, 3, 1, 1, 7, 1, 5, 1, 8, 7, 6, 1, 5, 6, 1, 10, 8, 7, 5, 3, 2, 1, 1, 7, 7, 9, 1, 7, 7, 4, 5, 6, 9, 3, 5, 10, 4, 3, 5, 3, 2, 3, 8, 4, 1, 1, 2, 3, 5, 9, 2, 5, 1, 3, 6, 4, 2, 1, 2, 4, 1, 4, 10, 2, 3, 4, 8, 6, 3, 3, 1, 6, 2, 6, 7, 8, 9, 6, 1, 7, 10, 1, 6, 4, 8, 7, 2, 3, 10, 4, 1, 3, 1, 1, 4, 5, 4, 7, 2, 6, 1, 6, 7, 5, 5, 2, 2, 10, 5, 6, 6, 1, 3, 4, 5, 1, 1, 2, 1, 4, 2, 5, 2, 1, 1, 3, 1, 9, 2, 4, 7, 5, 4, 7, 1, 3, 3, 6, 4, 1, 4, 8, 1, 1, 1, 4, 2, 4, 4, 5, 1, 1, 8, 8, 2, 8, 2, 3, 4, 1, 7, 10, 1, 1, 5, 3, 5, 2, 5, 8, 2, 3, 3, 3, 4, 2, 1, 4, 8, 3, 2, 2, 1, 2, 6, 7, 3, 4, 9, 10, 5, 3, 3, 1, 3, 7, 1, 1, 6, 4, 2, 2, 3, 9, 1, 1, 1, 1, 1, 2, 8, 1, 1, 5, 8, 3, 2, 1, 1, 3, 2, 6, 3, 8, 2, 6, 9, 6, 1, 3, 3, 1, 2, 4, 3, 1, 4, 1, 1, 6, 5, 8, 5, 4, 9, 1, 6, 3, 4, 9, 3, 5, 1, 6, 5, 3, 2, 2, 2, 1, 1, 5, 2, 5, 10, 5, 2, 7, 4, 1, 5, 4, 6, 5, 2, 1, 4, 5, 4, 2, 8, 6, 6, 4, 4, 2, 4, 1, 3, 1, 2, 4, 1, 1, 3, 9, 10, 7, 9, 6, 1, 5, 1, 5, 2, 6, 2, 3, 6, 2, 1, 1, 7, 2, 5, 1, 6, 2, 5, 9, 10, 7, 5, 2, 1, 4, 6, 6, 6, 5, 4, 4, 1, 4, 1, 3, 6, 2, 3, 3, 5, 2, 4, 6, 8, 8, 5, 5, 1, 1, 4, 7, 8, 4, 7, 1, 10, 5, 6, 2, 9, 1, 4, 10, 5, 1, 9, 3, 2, 8, 2, 6, 3, 1, 9, 4, 2, 10, 2, 5, 6, 6, 6, 1, 8, 2, 4, 2, 7, 7, 3, 6, 5, 4, 1, 1, 2, 3, 5, 2, 3, 7, 1, 1, 3, 1, 3, 1, 2, 10, 6, 1, 1, 1, 6, 4, 1, 3, 3, 2, 2, 3, 1, 7, 7, 1, 5, 6, 8, 7, 2, 3, 1, 3, 1, 8, 5, 2, 6, 3, 2, 2, 5, 8, 3, 1, 5, 3, 2, 3, 1, 1, 6, 2, 5, 5, 1, 3, 1, 1, 1, 10, 1, 3, 2, 3, 6, 1, 7, 5, 2, 2, 5, 2, 3, 4, 2, 7, 2, 3, 9, 2, 10, 4, 5, 7, 2, 1, 7, 3, 4, 1, 1, 1, 1, 4, 1, 3, 5, 6, 2, 2, 4, 7, 4, 4, 4, 2, 5, 5, 1, 1, 8, 1, 5, 1, 1, 4, 6, 1, 7, 8, 4, 6, 7, 6, 7, 1, 8, 5, 6, 1, 2, 6, 2, 1, 5, 10, 4, 4, 1, 2, 2, 2, 1, 9, 3, 1, 2, 4, 9, 5, 7, 2, 5, 2, 2, 4, 6, 7, 4, 3, 3, 3, 4, 2, 3, 1, 5, 1, 2, 3, 3, 9, 5, 9, 3, 1, 2, 1, 8, 9, 2, 1, 5, 5, 7, 1, 1, 2, 8, 5, 5, 4, 3, 1, 3, 5, 1, 4, 5, 7, 10, 1, 1, 2, 10, 8, 2, 1, 2, 6, 4, 7, 2, 3, 9, 6, 2, 3, 10, 5, 4, 10, 2, 7, 3, 4, 7, 5, 6, 3, 1, 2, 9, 8, 2, 5, 1, 3, 3, 2, 1, 3, 2, 9, 1, 3, 7, 1, 1, 6, 9, 2, 10, 7, 10, 5, 2, 7, 6, 9, 5, 5, 7, 1, 3, 5, 1, 5, 1, 9, 8, 1, 1, 1, 1, 4, 3, 2, 5, 10, 1, 2, 1, 5, 5, 6, 1, 5, 1, 2, 5, 4, 5, 6, 3, 10, 6, 2, 1, 6, 1, 1, 9, 6, 3, 6, 7, 1, 10, 6, 6, 9, 4, 4, 6, 6, 3, 7, 8, 8, 6, 10, 7, 2, 5, 9, 2, 4, 2, 4, 9, 1, 5, 1, 2, 1, 3, 6, 2, 6, 1, 5, 3, 3, 6, 5, 7, 1, 9, 2, 7, 1, 4, 6, 6, 6, 2, 4, 2, 7, 1, 3, 6, 6, 2, 2, 4, 8, 1, 5, 3, 3, 4, 5, 4, 3, 1, 3, 1, 6, 9, 2, 2, 5, 4, 6, 6, 1, 1, 1, 5, 1, 1, 4, 5, 2, 2, 2, 5, 5, 3, 8, 4, 1, 7, 2, 1, 5, 1, 1, 2, 5, 2, 2, 3, 7, 4, 7, 9, 3, 6, 1, 1, 6, 1, 7, 9, 5, 10, 1, 1, 1, 5, 7, 1, 2, 2, 1, 1, 8, 1, 4, 8, 3, 1, 3, 7, 5, 1, 1, 2, 6, 6, 5, 10, 9, 4, 1, 9, 4, 3, 2, 2, 3, 7, 7, 9, 1, 1, 5, 4, 4, 5, 1, 9, 3, 2, 1, 1, 6, 1, 7, 9, 1, 3, 3, 9, 6, 2, 9, 6, 1, 1, 6, 4, 1, 6, 5, 6, 5, 1, 1, 5, 7, 5, 2, 3, 3, 2, 2, 4, 5, 4, 2, 6, 1, 3, 1, 9, 2, 10, 8, 4, 8, 8, 3, 2, 8, 2, 1, 2, 4, 1, 2, 1, 4, 6, 9, 3, 1, 1, 6, 10, 1, 6, 10, 1, 2, 4, 1, 4, 3, 7, 6, 7, 1, 1, 4, 1, 3, 8, 1, 6, 1, 3, 3, 8, 5, 2, 5, 5, 6, 1, 1, 1, 6, 7, 2, 3, 6, 7, 2, 3, 2, 3, 4, 4, 3, 7, 7, 4, 3, 4, 8, 6, 3, 8, 8, 1, 5, 4, 1, 4, 3, 7, 8, 8, 5, 1, 7, 2, 1, 6, 6, 6, 1, 7, 2, 4], \"xaxis\": \"x\", \"yaxis\": \"y\"}],                        {\"barmode\": \"relative\", \"legend\": {\"tracegroupgap\": 0}, \"shapes\": [{\"line\": {\"color\": \"LightSeaGreen\", \"dash\": \"dashdot\", \"width\": 4}, \"type\": \"line\", \"x0\": 4.0638297872340425, \"x1\": 4.0638297872340425, \"y0\": 0, \"y1\": 281}], \"template\": {\"data\": {\"bar\": [{\"error_x\": {\"color\": \"#2a3f5f\"}, \"error_y\": {\"color\": \"#2a3f5f\"}, \"marker\": {\"line\": {\"color\": \"#E5ECF6\", \"width\": 0.5}}, \"type\": \"bar\"}], \"barpolar\": [{\"marker\": {\"line\": {\"color\": \"#E5ECF6\", \"width\": 0.5}}, \"type\": \"barpolar\"}], \"carpet\": [{\"aaxis\": {\"endlinecolor\": \"#2a3f5f\", \"gridcolor\": \"white\", \"linecolor\": \"white\", \"minorgridcolor\": \"white\", \"startlinecolor\": \"#2a3f5f\"}, \"baxis\": {\"endlinecolor\": \"#2a3f5f\", \"gridcolor\": \"white\", \"linecolor\": \"white\", \"minorgridcolor\": \"white\", \"startlinecolor\": \"#2a3f5f\"}, \"type\": \"carpet\"}], \"choropleth\": [{\"colorbar\": {\"outlinewidth\": 0, \"ticks\": \"\"}, \"type\": \"choropleth\"}], \"contour\": [{\"colorbar\": {\"outlinewidth\": 0, \"ticks\": \"\"}, \"colorscale\": [[0.0, \"#0d0887\"], [0.1111111111111111, \"#46039f\"], [0.2222222222222222, \"#7201a8\"], [0.3333333333333333, \"#9c179e\"], [0.4444444444444444, \"#bd3786\"], [0.5555555555555556, \"#d8576b\"], [0.6666666666666666, \"#ed7953\"], [0.7777777777777778, \"#fb9f3a\"], [0.8888888888888888, \"#fdca26\"], [1.0, \"#f0f921\"]], \"type\": \"contour\"}], \"contourcarpet\": [{\"colorbar\": {\"outlinewidth\": 0, \"ticks\": \"\"}, \"type\": \"contourcarpet\"}], \"heatmap\": [{\"colorbar\": {\"outlinewidth\": 0, \"ticks\": \"\"}, \"colorscale\": [[0.0, \"#0d0887\"], [0.1111111111111111, \"#46039f\"], [0.2222222222222222, \"#7201a8\"], [0.3333333333333333, \"#9c179e\"], [0.4444444444444444, \"#bd3786\"], [0.5555555555555556, \"#d8576b\"], [0.6666666666666666, \"#ed7953\"], [0.7777777777777778, \"#fb9f3a\"], [0.8888888888888888, \"#fdca26\"], [1.0, \"#f0f921\"]], \"type\": \"heatmap\"}], \"heatmapgl\": [{\"colorbar\": {\"outlinewidth\": 0, \"ticks\": \"\"}, \"colorscale\": [[0.0, \"#0d0887\"], [0.1111111111111111, \"#46039f\"], [0.2222222222222222, \"#7201a8\"], [0.3333333333333333, \"#9c179e\"], [0.4444444444444444, \"#bd3786\"], [0.5555555555555556, \"#d8576b\"], [0.6666666666666666, \"#ed7953\"], [0.7777777777777778, \"#fb9f3a\"], [0.8888888888888888, \"#fdca26\"], [1.0, \"#f0f921\"]], \"type\": \"heatmapgl\"}], \"histogram\": [{\"marker\": {\"colorbar\": {\"outlinewidth\": 0, \"ticks\": \"\"}}, \"type\": \"histogram\"}], \"histogram2d\": [{\"colorbar\": {\"outlinewidth\": 0, \"ticks\": \"\"}, \"colorscale\": [[0.0, \"#0d0887\"], [0.1111111111111111, \"#46039f\"], [0.2222222222222222, \"#7201a8\"], [0.3333333333333333, \"#9c179e\"], [0.4444444444444444, \"#bd3786\"], [0.5555555555555556, \"#d8576b\"], [0.6666666666666666, \"#ed7953\"], [0.7777777777777778, \"#fb9f3a\"], [0.8888888888888888, \"#fdca26\"], [1.0, \"#f0f921\"]], \"type\": \"histogram2d\"}], \"histogram2dcontour\": [{\"colorbar\": {\"outlinewidth\": 0, \"ticks\": \"\"}, \"colorscale\": [[0.0, \"#0d0887\"], [0.1111111111111111, \"#46039f\"], [0.2222222222222222, \"#7201a8\"], [0.3333333333333333, \"#9c179e\"], [0.4444444444444444, \"#bd3786\"], [0.5555555555555556, \"#d8576b\"], [0.6666666666666666, \"#ed7953\"], [0.7777777777777778, \"#fb9f3a\"], [0.8888888888888888, \"#fdca26\"], [1.0, \"#f0f921\"]], \"type\": \"histogram2dcontour\"}], \"mesh3d\": [{\"colorbar\": {\"outlinewidth\": 0, \"ticks\": \"\"}, \"type\": \"mesh3d\"}], \"parcoords\": [{\"line\": {\"colorbar\": {\"outlinewidth\": 0, \"ticks\": \"\"}}, \"type\": \"parcoords\"}], \"pie\": [{\"automargin\": true, \"type\": \"pie\"}], \"scatter\": [{\"marker\": {\"colorbar\": {\"outlinewidth\": 0, \"ticks\": \"\"}}, \"type\": \"scatter\"}], \"scatter3d\": [{\"line\": {\"colorbar\": {\"outlinewidth\": 0, \"ticks\": \"\"}}, \"marker\": {\"colorbar\": {\"outlinewidth\": 0, \"ticks\": \"\"}}, \"type\": \"scatter3d\"}], \"scattercarpet\": [{\"marker\": {\"colorbar\": {\"outlinewidth\": 0, \"ticks\": \"\"}}, \"type\": \"scattercarpet\"}], \"scattergeo\": [{\"marker\": {\"colorbar\": {\"outlinewidth\": 0, \"ticks\": \"\"}}, \"type\": \"scattergeo\"}], \"scattergl\": [{\"marker\": {\"colorbar\": {\"outlinewidth\": 0, \"ticks\": \"\"}}, \"type\": \"scattergl\"}], \"scattermapbox\": [{\"marker\": {\"colorbar\": {\"outlinewidth\": 0, \"ticks\": \"\"}}, \"type\": \"scattermapbox\"}], \"scatterpolar\": [{\"marker\": {\"colorbar\": {\"outlinewidth\": 0, \"ticks\": \"\"}}, \"type\": \"scatterpolar\"}], \"scatterpolargl\": [{\"marker\": {\"colorbar\": {\"outlinewidth\": 0, \"ticks\": \"\"}}, \"type\": \"scatterpolargl\"}], \"scatterternary\": [{\"marker\": {\"colorbar\": {\"outlinewidth\": 0, \"ticks\": \"\"}}, \"type\": \"scatterternary\"}], \"surface\": [{\"colorbar\": {\"outlinewidth\": 0, \"ticks\": \"\"}, \"colorscale\": [[0.0, \"#0d0887\"], [0.1111111111111111, \"#46039f\"], [0.2222222222222222, \"#7201a8\"], [0.3333333333333333, \"#9c179e\"], [0.4444444444444444, \"#bd3786\"], [0.5555555555555556, \"#d8576b\"], [0.6666666666666666, \"#ed7953\"], [0.7777777777777778, \"#fb9f3a\"], [0.8888888888888888, \"#fdca26\"], [1.0, \"#f0f921\"]], \"type\": \"surface\"}], \"table\": [{\"cells\": {\"fill\": {\"color\": \"#EBF0F8\"}, \"line\": {\"color\": \"white\"}}, \"header\": {\"fill\": {\"color\": \"#C8D4E3\"}, \"line\": {\"color\": \"white\"}}, \"type\": \"table\"}]}, \"layout\": {\"annotationdefaults\": {\"arrowcolor\": \"#2a3f5f\", \"arrowhead\": 0, \"arrowwidth\": 1}, \"autotypenumbers\": \"strict\", \"coloraxis\": {\"colorbar\": {\"outlinewidth\": 0, \"ticks\": \"\"}}, \"colorscale\": {\"diverging\": [[0, \"#8e0152\"], [0.1, \"#c51b7d\"], [0.2, \"#de77ae\"], [0.3, \"#f1b6da\"], [0.4, \"#fde0ef\"], [0.5, \"#f7f7f7\"], [0.6, \"#e6f5d0\"], [0.7, \"#b8e186\"], [0.8, \"#7fbc41\"], [0.9, \"#4d9221\"], [1, \"#276419\"]], \"sequential\": [[0.0, \"#0d0887\"], [0.1111111111111111, \"#46039f\"], [0.2222222222222222, \"#7201a8\"], [0.3333333333333333, \"#9c179e\"], [0.4444444444444444, \"#bd3786\"], [0.5555555555555556, \"#d8576b\"], [0.6666666666666666, \"#ed7953\"], [0.7777777777777778, \"#fb9f3a\"], [0.8888888888888888, \"#fdca26\"], [1.0, \"#f0f921\"]], \"sequentialminus\": [[0.0, \"#0d0887\"], [0.1111111111111111, \"#46039f\"], [0.2222222222222222, \"#7201a8\"], [0.3333333333333333, \"#9c179e\"], [0.4444444444444444, \"#bd3786\"], [0.5555555555555556, \"#d8576b\"], [0.6666666666666666, \"#ed7953\"], [0.7777777777777778, \"#fb9f3a\"], [0.8888888888888888, \"#fdca26\"], [1.0, \"#f0f921\"]]}, \"colorway\": [\"#636efa\", \"#EF553B\", \"#00cc96\", \"#ab63fa\", \"#FFA15A\", \"#19d3f3\", \"#FF6692\", \"#B6E880\", \"#FF97FF\", \"#FECB52\"], \"font\": {\"color\": \"#2a3f5f\"}, \"geo\": {\"bgcolor\": \"white\", \"lakecolor\": \"white\", \"landcolor\": \"#E5ECF6\", \"showlakes\": true, \"showland\": true, \"subunitcolor\": \"white\"}, \"hoverlabel\": {\"align\": \"left\"}, \"hovermode\": \"closest\", \"mapbox\": {\"style\": \"light\"}, \"paper_bgcolor\": \"white\", \"plot_bgcolor\": \"#E5ECF6\", \"polar\": {\"angularaxis\": {\"gridcolor\": \"white\", \"linecolor\": \"white\", \"ticks\": \"\"}, \"bgcolor\": \"#E5ECF6\", \"radialaxis\": {\"gridcolor\": \"white\", \"linecolor\": \"white\", \"ticks\": \"\"}}, \"scene\": {\"xaxis\": {\"backgroundcolor\": \"#E5ECF6\", \"gridcolor\": \"white\", \"gridwidth\": 2, \"linecolor\": \"white\", \"showbackground\": true, \"ticks\": \"\", \"zerolinecolor\": \"white\"}, \"yaxis\": {\"backgroundcolor\": \"#E5ECF6\", \"gridcolor\": \"white\", \"gridwidth\": 2, \"linecolor\": \"white\", \"showbackground\": true, \"ticks\": \"\", \"zerolinecolor\": \"white\"}, \"zaxis\": {\"backgroundcolor\": \"#E5ECF6\", \"gridcolor\": \"white\", \"gridwidth\": 2, \"linecolor\": \"white\", \"showbackground\": true, \"ticks\": \"\", \"zerolinecolor\": \"white\"}}, \"shapedefaults\": {\"line\": {\"color\": \"#2a3f5f\"}}, \"ternary\": {\"aaxis\": {\"gridcolor\": \"white\", \"linecolor\": \"white\", \"ticks\": \"\"}, \"baxis\": {\"gridcolor\": \"white\", \"linecolor\": \"white\", \"ticks\": \"\"}, \"bgcolor\": \"#E5ECF6\", \"caxis\": {\"gridcolor\": \"white\", \"linecolor\": \"white\", \"ticks\": \"\"}}, \"title\": {\"x\": 0.05}, \"xaxis\": {\"automargin\": true, \"gridcolor\": \"white\", \"linecolor\": \"white\", \"ticks\": \"\", \"title\": {\"standoff\": 15}, \"zerolinecolor\": \"white\", \"zerolinewidth\": 2}, \"yaxis\": {\"automargin\": true, \"gridcolor\": \"white\", \"linecolor\": \"white\", \"ticks\": \"\", \"title\": {\"standoff\": 15}, \"zerolinecolor\": \"white\", \"zerolinewidth\": 2}}}, \"title\": {\"text\": \"Decile score of Females\"}, \"xaxis\": {\"anchor\": \"y\", \"domain\": [0.0, 1.0], \"title\": {\"text\": \"decile_score\"}}, \"yaxis\": {\"anchor\": \"x\", \"domain\": [0.0, 1.0], \"title\": {\"text\": \"count\"}}},                        {\"responsive\": true}                    ).then(function(){\n",
       "                            \n",
       "var gd = document.getElementById('1fab6e5b-cfa4-4aef-abd2-c1d63053cb30');\n",
       "var x = new MutationObserver(function (mutations, observer) {{\n",
       "        var display = window.getComputedStyle(gd).display;\n",
       "        if (!display || display === 'none') {{\n",
       "            console.log([gd, 'removed!']);\n",
       "            Plotly.purge(gd);\n",
       "            observer.disconnect();\n",
       "        }}\n",
       "}});\n",
       "\n",
       "// Listen for the removal of the full notebook cells\n",
       "var notebookContainer = gd.closest('#notebook-container');\n",
       "if (notebookContainer) {{\n",
       "    x.observe(notebookContainer, {childList: true});\n",
       "}}\n",
       "\n",
       "// Listen for the clearing of the current output cell\n",
       "var outputEl = gd.closest('.output');\n",
       "if (outputEl) {{\n",
       "    x.observe(outputEl, {childList: true});\n",
       "}}\n",
       "\n",
       "                        })                };                });            </script>        </div>"
      ]
     },
     "metadata": {},
     "output_type": "display_data"
    },
    {
     "name": "stdout",
     "output_type": "stream",
     "text": [
      "mean decile score: 4.06\n"
     ]
    }
   ],
   "source": [
    "scores_stats('sex','Female')"
   ]
  },
  {
   "cell_type": "markdown",
   "metadata": {
    "id": "Tcktxvv5sqGr"
   },
   "source": [
    "###Ground truth data - How much recidivism is there in our dataset?"
   ]
  },
  {
   "cell_type": "markdown",
   "metadata": {
    "id": "C5XPlttgjkH9"
   },
   "source": [
    "Now, we are going to look at COMPAS's distribution with regards to the number of people who were re-arrested in two years (i.e. what COMPAS aims to predict)"
   ]
  },
  {
   "cell_type": "markdown",
   "metadata": {
    "id": "FyilqZdwjkH9"
   },
   "source": [
    "#### Number of people who were re-arrested\n"
   ]
  },
  {
   "cell_type": "code",
   "execution_count": 22,
   "metadata": {
    "id": "g9eyF05yjkH9"
   },
   "outputs": [
    {
     "name": "stdout",
     "output_type": "stream",
     "text": [
      "Number of people in the dataset whom got re-arrested in the span of two years:  2809\n"
     ]
    }
   ],
   "source": [
    "#people whom got re-arrested in two years span\n",
    "print('Number of people in the dataset whom got re-arrested in the span of two years: ',\n",
    "      dataset['two_year_recid'].sum())"
   ]
  },
  {
   "cell_type": "markdown",
   "metadata": {
    "id": "aBzw2KnujkH9"
   },
   "source": [
    "#### Number of people who were rearrested, split by race and gender"
   ]
  },
  {
   "cell_type": "code",
   "execution_count": 23,
   "metadata": {
    "id": "_OwdQs2tjkH_"
   },
   "outputs": [],
   "source": [
    "two_recide_sex_race_df = pd.crosstab(dataset.race[dataset.two_year_recid == 1], dataset.sex[dataset.two_year_recid == 1])\n",
    "two_recide_sex_race_df = two_recide_sex_race_df.stack().reset_index().rename(columns={0:\"value\"})"
   ]
  },
  {
   "cell_type": "code",
   "execution_count": 24,
   "metadata": {
    "id": "pYKrXmq5jkH_"
   },
   "outputs": [
    {
     "data": {
      "text/html": [
       "<div>                            <div id=\"f4f13040-cf1d-404f-87e2-10bdf9504b11\" class=\"plotly-graph-div\" style=\"height:525px; width:100%;\"></div>            <script type=\"text/javascript\">                require([\"plotly\"], function(Plotly) {                    window.PLOTLYENV=window.PLOTLYENV || {};                                    if (document.getElementById(\"f4f13040-cf1d-404f-87e2-10bdf9504b11\")) {                    Plotly.newPlot(                        \"f4f13040-cf1d-404f-87e2-10bdf9504b11\",                        [{\"name\": \"Male\", \"type\": \"bar\", \"x\": [\"African-American\", \"Asian\", \"Caucasian\", \"Hispanic\", \"Native American\", \"Other\"], \"y\": [1458, 7, 652, 163, 3, 113]}, {\"name\": \"Female\", \"type\": \"bar\", \"x\": [\"African-American\", \"Asian\", \"Caucasian\", \"Hispanic\", \"Native American\", \"Other\"], \"y\": [203, 1, 170, 26, 2, 11]}],                        {\"barmode\": \"stack\", \"template\": {\"data\": {\"bar\": [{\"error_x\": {\"color\": \"#2a3f5f\"}, \"error_y\": {\"color\": \"#2a3f5f\"}, \"marker\": {\"line\": {\"color\": \"#E5ECF6\", \"width\": 0.5}}, \"type\": \"bar\"}], \"barpolar\": [{\"marker\": {\"line\": {\"color\": \"#E5ECF6\", \"width\": 0.5}}, \"type\": \"barpolar\"}], \"carpet\": [{\"aaxis\": {\"endlinecolor\": \"#2a3f5f\", \"gridcolor\": \"white\", \"linecolor\": \"white\", \"minorgridcolor\": \"white\", \"startlinecolor\": \"#2a3f5f\"}, \"baxis\": {\"endlinecolor\": \"#2a3f5f\", \"gridcolor\": \"white\", \"linecolor\": \"white\", \"minorgridcolor\": \"white\", \"startlinecolor\": \"#2a3f5f\"}, \"type\": \"carpet\"}], \"choropleth\": [{\"colorbar\": {\"outlinewidth\": 0, \"ticks\": \"\"}, \"type\": \"choropleth\"}], \"contour\": [{\"colorbar\": {\"outlinewidth\": 0, \"ticks\": \"\"}, \"colorscale\": [[0.0, \"#0d0887\"], [0.1111111111111111, \"#46039f\"], [0.2222222222222222, \"#7201a8\"], [0.3333333333333333, \"#9c179e\"], [0.4444444444444444, \"#bd3786\"], [0.5555555555555556, \"#d8576b\"], [0.6666666666666666, \"#ed7953\"], [0.7777777777777778, \"#fb9f3a\"], [0.8888888888888888, \"#fdca26\"], [1.0, \"#f0f921\"]], \"type\": \"contour\"}], \"contourcarpet\": [{\"colorbar\": {\"outlinewidth\": 0, \"ticks\": \"\"}, \"type\": \"contourcarpet\"}], \"heatmap\": [{\"colorbar\": {\"outlinewidth\": 0, \"ticks\": \"\"}, \"colorscale\": [[0.0, \"#0d0887\"], [0.1111111111111111, \"#46039f\"], [0.2222222222222222, \"#7201a8\"], [0.3333333333333333, \"#9c179e\"], [0.4444444444444444, \"#bd3786\"], [0.5555555555555556, \"#d8576b\"], [0.6666666666666666, \"#ed7953\"], [0.7777777777777778, \"#fb9f3a\"], [0.8888888888888888, \"#fdca26\"], [1.0, \"#f0f921\"]], \"type\": \"heatmap\"}], \"heatmapgl\": [{\"colorbar\": {\"outlinewidth\": 0, \"ticks\": \"\"}, \"colorscale\": [[0.0, \"#0d0887\"], [0.1111111111111111, \"#46039f\"], [0.2222222222222222, \"#7201a8\"], [0.3333333333333333, \"#9c179e\"], [0.4444444444444444, \"#bd3786\"], [0.5555555555555556, \"#d8576b\"], [0.6666666666666666, \"#ed7953\"], [0.7777777777777778, \"#fb9f3a\"], [0.8888888888888888, \"#fdca26\"], [1.0, \"#f0f921\"]], \"type\": \"heatmapgl\"}], \"histogram\": [{\"marker\": {\"colorbar\": {\"outlinewidth\": 0, \"ticks\": \"\"}}, \"type\": \"histogram\"}], \"histogram2d\": [{\"colorbar\": {\"outlinewidth\": 0, \"ticks\": \"\"}, \"colorscale\": [[0.0, \"#0d0887\"], [0.1111111111111111, \"#46039f\"], [0.2222222222222222, \"#7201a8\"], [0.3333333333333333, \"#9c179e\"], [0.4444444444444444, \"#bd3786\"], [0.5555555555555556, \"#d8576b\"], [0.6666666666666666, \"#ed7953\"], [0.7777777777777778, \"#fb9f3a\"], [0.8888888888888888, \"#fdca26\"], [1.0, \"#f0f921\"]], \"type\": \"histogram2d\"}], \"histogram2dcontour\": [{\"colorbar\": {\"outlinewidth\": 0, \"ticks\": \"\"}, \"colorscale\": [[0.0, \"#0d0887\"], [0.1111111111111111, \"#46039f\"], [0.2222222222222222, \"#7201a8\"], [0.3333333333333333, \"#9c179e\"], [0.4444444444444444, \"#bd3786\"], [0.5555555555555556, \"#d8576b\"], [0.6666666666666666, \"#ed7953\"], [0.7777777777777778, \"#fb9f3a\"], [0.8888888888888888, \"#fdca26\"], [1.0, \"#f0f921\"]], \"type\": \"histogram2dcontour\"}], \"mesh3d\": [{\"colorbar\": {\"outlinewidth\": 0, \"ticks\": \"\"}, \"type\": \"mesh3d\"}], \"parcoords\": [{\"line\": {\"colorbar\": {\"outlinewidth\": 0, \"ticks\": \"\"}}, \"type\": \"parcoords\"}], \"pie\": [{\"automargin\": true, \"type\": \"pie\"}], \"scatter\": [{\"marker\": {\"colorbar\": {\"outlinewidth\": 0, \"ticks\": \"\"}}, \"type\": \"scatter\"}], \"scatter3d\": [{\"line\": {\"colorbar\": {\"outlinewidth\": 0, \"ticks\": \"\"}}, \"marker\": {\"colorbar\": {\"outlinewidth\": 0, \"ticks\": \"\"}}, \"type\": \"scatter3d\"}], \"scattercarpet\": [{\"marker\": {\"colorbar\": {\"outlinewidth\": 0, \"ticks\": \"\"}}, \"type\": \"scattercarpet\"}], \"scattergeo\": [{\"marker\": {\"colorbar\": {\"outlinewidth\": 0, \"ticks\": \"\"}}, \"type\": \"scattergeo\"}], \"scattergl\": [{\"marker\": {\"colorbar\": {\"outlinewidth\": 0, \"ticks\": \"\"}}, \"type\": \"scattergl\"}], \"scattermapbox\": [{\"marker\": {\"colorbar\": {\"outlinewidth\": 0, \"ticks\": \"\"}}, \"type\": \"scattermapbox\"}], \"scatterpolar\": [{\"marker\": {\"colorbar\": {\"outlinewidth\": 0, \"ticks\": \"\"}}, \"type\": \"scatterpolar\"}], \"scatterpolargl\": [{\"marker\": {\"colorbar\": {\"outlinewidth\": 0, \"ticks\": \"\"}}, \"type\": \"scatterpolargl\"}], \"scatterternary\": [{\"marker\": {\"colorbar\": {\"outlinewidth\": 0, \"ticks\": \"\"}}, \"type\": \"scatterternary\"}], \"surface\": [{\"colorbar\": {\"outlinewidth\": 0, \"ticks\": \"\"}, \"colorscale\": [[0.0, \"#0d0887\"], [0.1111111111111111, \"#46039f\"], [0.2222222222222222, \"#7201a8\"], [0.3333333333333333, \"#9c179e\"], [0.4444444444444444, \"#bd3786\"], [0.5555555555555556, \"#d8576b\"], [0.6666666666666666, \"#ed7953\"], [0.7777777777777778, \"#fb9f3a\"], [0.8888888888888888, \"#fdca26\"], [1.0, \"#f0f921\"]], \"type\": \"surface\"}], \"table\": [{\"cells\": {\"fill\": {\"color\": \"#EBF0F8\"}, \"line\": {\"color\": \"white\"}}, \"header\": {\"fill\": {\"color\": \"#C8D4E3\"}, \"line\": {\"color\": \"white\"}}, \"type\": \"table\"}]}, \"layout\": {\"annotationdefaults\": {\"arrowcolor\": \"#2a3f5f\", \"arrowhead\": 0, \"arrowwidth\": 1}, \"autotypenumbers\": \"strict\", \"coloraxis\": {\"colorbar\": {\"outlinewidth\": 0, \"ticks\": \"\"}}, \"colorscale\": {\"diverging\": [[0, \"#8e0152\"], [0.1, \"#c51b7d\"], [0.2, \"#de77ae\"], [0.3, \"#f1b6da\"], [0.4, \"#fde0ef\"], [0.5, \"#f7f7f7\"], [0.6, \"#e6f5d0\"], [0.7, \"#b8e186\"], [0.8, \"#7fbc41\"], [0.9, \"#4d9221\"], [1, \"#276419\"]], \"sequential\": [[0.0, \"#0d0887\"], [0.1111111111111111, \"#46039f\"], [0.2222222222222222, \"#7201a8\"], [0.3333333333333333, \"#9c179e\"], [0.4444444444444444, \"#bd3786\"], [0.5555555555555556, \"#d8576b\"], [0.6666666666666666, \"#ed7953\"], [0.7777777777777778, \"#fb9f3a\"], [0.8888888888888888, \"#fdca26\"], [1.0, \"#f0f921\"]], \"sequentialminus\": [[0.0, \"#0d0887\"], [0.1111111111111111, \"#46039f\"], [0.2222222222222222, \"#7201a8\"], [0.3333333333333333, \"#9c179e\"], [0.4444444444444444, \"#bd3786\"], [0.5555555555555556, \"#d8576b\"], [0.6666666666666666, \"#ed7953\"], [0.7777777777777778, \"#fb9f3a\"], [0.8888888888888888, \"#fdca26\"], [1.0, \"#f0f921\"]]}, \"colorway\": [\"#636efa\", \"#EF553B\", \"#00cc96\", \"#ab63fa\", \"#FFA15A\", \"#19d3f3\", \"#FF6692\", \"#B6E880\", \"#FF97FF\", \"#FECB52\"], \"font\": {\"color\": \"#2a3f5f\"}, \"geo\": {\"bgcolor\": \"white\", \"lakecolor\": \"white\", \"landcolor\": \"#E5ECF6\", \"showlakes\": true, \"showland\": true, \"subunitcolor\": \"white\"}, \"hoverlabel\": {\"align\": \"left\"}, \"hovermode\": \"closest\", \"mapbox\": {\"style\": \"light\"}, \"paper_bgcolor\": \"white\", \"plot_bgcolor\": \"#E5ECF6\", \"polar\": {\"angularaxis\": {\"gridcolor\": \"white\", \"linecolor\": \"white\", \"ticks\": \"\"}, \"bgcolor\": \"#E5ECF6\", \"radialaxis\": {\"gridcolor\": \"white\", \"linecolor\": \"white\", \"ticks\": \"\"}}, \"scene\": {\"xaxis\": {\"backgroundcolor\": \"#E5ECF6\", \"gridcolor\": \"white\", \"gridwidth\": 2, \"linecolor\": \"white\", \"showbackground\": true, \"ticks\": \"\", \"zerolinecolor\": \"white\"}, \"yaxis\": {\"backgroundcolor\": \"#E5ECF6\", \"gridcolor\": \"white\", \"gridwidth\": 2, \"linecolor\": \"white\", \"showbackground\": true, \"ticks\": \"\", \"zerolinecolor\": \"white\"}, \"zaxis\": {\"backgroundcolor\": \"#E5ECF6\", \"gridcolor\": \"white\", \"gridwidth\": 2, \"linecolor\": \"white\", \"showbackground\": true, \"ticks\": \"\", \"zerolinecolor\": \"white\"}}, \"shapedefaults\": {\"line\": {\"color\": \"#2a3f5f\"}}, \"ternary\": {\"aaxis\": {\"gridcolor\": \"white\", \"linecolor\": \"white\", \"ticks\": \"\"}, \"baxis\": {\"gridcolor\": \"white\", \"linecolor\": \"white\", \"ticks\": \"\"}, \"bgcolor\": \"#E5ECF6\", \"caxis\": {\"gridcolor\": \"white\", \"linecolor\": \"white\", \"ticks\": \"\"}}, \"title\": {\"x\": 0.05}, \"xaxis\": {\"automargin\": true, \"gridcolor\": \"white\", \"linecolor\": \"white\", \"ticks\": \"\", \"title\": {\"standoff\": 15}, \"zerolinecolor\": \"white\", \"zerolinewidth\": 2}, \"yaxis\": {\"automargin\": true, \"gridcolor\": \"white\", \"linecolor\": \"white\", \"ticks\": \"\", \"title\": {\"standoff\": 15}, \"zerolinecolor\": \"white\", \"zerolinewidth\": 2}}}, \"title\": {\"text\": \"Male/Female Recidivism by Race\"}},                        {\"responsive\": true}                    ).then(function(){\n",
       "                            \n",
       "var gd = document.getElementById('f4f13040-cf1d-404f-87e2-10bdf9504b11');\n",
       "var x = new MutationObserver(function (mutations, observer) {{\n",
       "        var display = window.getComputedStyle(gd).display;\n",
       "        if (!display || display === 'none') {{\n",
       "            console.log([gd, 'removed!']);\n",
       "            Plotly.purge(gd);\n",
       "            observer.disconnect();\n",
       "        }}\n",
       "}});\n",
       "\n",
       "// Listen for the removal of the full notebook cells\n",
       "var notebookContainer = gd.closest('#notebook-container');\n",
       "if (notebookContainer) {{\n",
       "    x.observe(notebookContainer, {childList: true});\n",
       "}}\n",
       "\n",
       "// Listen for the clearing of the current output cell\n",
       "var outputEl = gd.closest('.output');\n",
       "if (outputEl) {{\n",
       "    x.observe(outputEl, {childList: true});\n",
       "}}\n",
       "\n",
       "                        })                };                });            </script>        </div>"
      ]
     },
     "metadata": {},
     "output_type": "display_data"
    }
   ],
   "source": [
    "race = dataset.race.unique()\n",
    "race = np.sort(race)\n",
    "males = two_recide_sex_race_df.value[two_recide_sex_race_df.sex == 'Male']\n",
    "females = two_recide_sex_race_df.value[two_recide_sex_race_df.sex == 'Female']\n",
    "\n",
    "fig = go.Figure(data=[\n",
    "    go.Bar(name='Male', x=race, y= males),\n",
    "    go.Bar(name='Female', x=race, y=females)\n",
    "], layout_title_text = \"Male/Female Recidivism by Race\")\n",
    "# Change the bar mode\n",
    "fig.update_layout(barmode='stack')\n",
    "fig.show()"
   ]
  },
  {
   "cell_type": "code",
   "execution_count": 25,
   "metadata": {
    "id": "FCw5cptNjkH_"
   },
   "outputs": [],
   "source": [
    "# Plot confusion matrix without passing the classifier\n",
    "from sklearn.metrics import confusion_matrix\n",
    "from itertools import cycle, product\n",
    "def plot_confusion_matrix(cm, classes, title='Confusion Matrix', cmap=plt.cm.Blues):\n",
    "    print(cm)\n",
    "    \n",
    "    plt.imshow(cm, interpolation='nearest', cmap=cmap)\n",
    "    plt.title(title)\n",
    "    plt.colorbar()\n",
    "    tick_marks = np.arange(len(classes))\n",
    "    plt.xticks(tick_marks, classes, rotation=45)\n",
    "    plt.yticks(tick_marks, classes)\n",
    "    \n",
    "    fmt = 'd'\n",
    "    thresh = cm.max() / 2\n",
    "    for i, j in product(range(cm.shape[0]), range(cm.shape[1])):\n",
    "        plt.text(j, i, format(cm[i, j], fmt),\n",
    "                horizontalalignment=\"center\",\n",
    "                color=\"white\" if cm[i, j] > thresh else \"black\")\n",
    "    plt.tight_layout()\n",
    "    plt.ylabel('True label')\n",
    "    plt.xlabel('Predicted label')\n",
    "    \n",
    "    \n",
    "def plot_conf_matrix(y_test, y_pred, class_names):\n",
    "    print(\"plotting the Confusion Matrix\")\n",
    "    cnf_matrix = confusion_matrix(y_test, y_pred)\n",
    "    np.set_printoptions(precision=2)\n",
    "    print('CCR = {}'.format(np.trace(cnf_matrix) / len(y_test)))\n",
    "    print('Precision = {}'.format(precision_macro_average(cnf_matrix)))\n",
    "    print('Recall = {}'.format(recall_macro_average(cnf_matrix)))\n",
    "    plt.figure()\n",
    "    plot_confusion_matrix(cnf_matrix, classes=class_names, title='Confusion Matrix')\n",
    "    plt.show()\n",
    "    \n",
    "def recall_macro_average(confusion_matrix):\n",
    "    rows, columns = confusion_matrix.shape\n",
    "    sum_of_recalls = 0\n",
    "    for label in range(columns):\n",
    "        sum_of_recalls += recall(label, confusion_matrix)\n",
    "    return sum_of_recalls / columns\n",
    "\n",
    "def precision_macro_average(confusion_matrix):\n",
    "    rows, columns = confusion_matrix.shape\n",
    "    sum_of_precisions = 0\n",
    "    for label in range(rows):\n",
    "        sum_of_precisions += precision(label, confusion_matrix)\n",
    "    return sum_of_precisions / rows\n",
    "\n",
    "def precision(label, confusion_matrix):\n",
    "    col = confusion_matrix[:, label]\n",
    "    return confusion_matrix[label, label] / col.sum()\n",
    "    \n",
    "def recall(label, confusion_matrix):\n",
    "    row = confusion_matrix[label, :]\n",
    "    return confusion_matrix[label, label] / row.sum()"
   ]
  },
  {
   "cell_type": "markdown",
   "metadata": {
    "id": "5ldPTjIuExHC"
   },
   "source": [
    "### **Question 1: Takeaways from the distributions**\n",
    "Now that you have looked at the way this data is distributed, what do you notice? What imbalances (if any) do you see and how might they affect the results of a model that uses this dataset? Answer these questions in the cell below:\n",
    "\n"
   ]
  },
  {
   "cell_type": "markdown",
   "metadata": {
    "id": "mTm9xL45sWcL"
   },
   "source": [
    "After looking at how all the data was distrubuted almost in every comparison african-americans decile score was significantly higher compared to any other race. These imbalances will definelty affect the result of any model that uses this dataset. It will be biased towards african-americans. "
   ]
  },
  {
   "cell_type": "markdown",
   "metadata": {
    "id": "gKIyya28jkIB"
   },
   "source": [
    "### Error Analysis of COMPAS Scores"
   ]
  },
  {
   "cell_type": "markdown",
   "metadata": {
    "id": "o8bCokgWmv1z"
   },
   "source": [
    "Below, we look at the error rates, specifically the false positive and false negative rates, for Caucasians and African Americans. In order to calculate these error rates, we need some sort of binary classification from these decile scores. To get that, we can set a *threshold* such that everything above that threshold is classified as a prediction that the person will commit a reoffense in two years. For instance, if we picked 7, we can say any decile score of 7 or higher will be a prediction that the person will reoffend. Here, we plot the false positive and false negative rates for every possible threshold based on the decile scores.\n",
    "\n"
   ]
  },
  {
   "cell_type": "code",
   "execution_count": 26,
   "metadata": {
    "id": "20UECkmOiRtu"
   },
   "outputs": [],
   "source": [
    "#get false negative and false positive rates \n",
    "compas = pd.read_csv(COMPAS_INPUT_FILE).query('days_b_screening_arrest <= 30 & days_b_screening_arrest >= -30')\n",
    "\n",
    "compas_violent = compas[compas['race'].isin(['African-American', 'Caucasian'])].groupby(['race', 'v_decile_score'], as_index=False)\n",
    "compas = compas[compas['race'].isin(['African-American', 'Caucasian'])].groupby(['race', 'decile_score'], as_index=False)\n",
    "\n",
    "compas_stats = compas['two_year_recid'].agg({'recid_count': recid_count_fn, 'non_recid_count': non_recid_count_fn, 'total_count': total_count_fn})\n",
    "compas_violent_stats = compas_violent['two_year_recid'].agg({'recid_count': recid_count_fn, 'non_recid_count': non_recid_count_fn, 'total_count': total_count_fn})\n",
    "\n",
    "#add columns to compas stats so we can find tpr, fpr, tnr, fnr\n",
    "for race in ['African-American', 'Caucasian']:\n",
    "    data = compas_stats['race'] == race\n",
    "    compas_stats.loc[data, 'TP'] = TP(compas_stats[data]) \n",
    "    compas_stats.loc[data, 'TN'] = TN(compas_stats[data]) \n",
    "    compas_stats.loc[data, 'FP'] = FP(compas_stats[data]) \n",
    "    compas_stats.loc[data, 'FN'] = FN(compas_stats[data])\n",
    "    compas_stats.fillna(0 , inplace=True)\n",
    "\n",
    "fpr = compas_stats['FP'] / (compas_stats['FP'] + compas_stats['TN']).tolist()\n",
    "fnr = compas_stats['FN'] / (compas_stats['FN'] + compas_stats['TP']).tolist()\n",
    "fpr_length = int(len(fpr)/2); fnr_length = int(len(fnr)/2)\n",
    "fpr_african_americans = fpr[:fpr_length]; fpr_caucasians = fpr[fpr_length:]\n",
    "fnr_african_americans = fnr[:fnr_length]; fnr_caucasians = fnr[fnr_length:]"
   ]
  },
  {
   "cell_type": "code",
   "execution_count": 27,
   "metadata": {
    "id": "fF-dfKF6gOEK"
   },
   "outputs": [
    {
     "data": {
      "text/html": [
       "<div>                            <div id=\"8503a3bd-c242-467f-8c75-4aa1e313e1ba\" class=\"plotly-graph-div\" style=\"height:525px; width:100%;\"></div>            <script type=\"text/javascript\">                require([\"plotly\"], function(Plotly) {                    window.PLOTLYENV=window.PLOTLYENV || {};                                    if (document.getElementById(\"8503a3bd-c242-467f-8c75-4aa1e313e1ba\")) {                    Plotly.newPlot(                        \"8503a3bd-c242-467f-8c75-4aa1e313e1ba\",                        [{\"name\": \"Caucasian\", \"type\": \"bar\", \"x\": [1, 2, 3, 4, 5, 6, 7, 8, 9, 10], \"y\": [0.0117096018735363, 0.02888368462138954, 0.047619047619047616, 0.08274785323965651, 0.13505074160811867, 0.22014051522248243, 0.3333333333333333, 0.45511319281811086, 0.6276346604215457, 1.0]}, {\"name\": \"African American\", \"type\": \"bar\", \"x\": [1, 2, 3, 4, 5, 6, 7, 8, 9, 10], \"y\": [0.02443857331571995, 0.08256274768824307, 0.13936591809775428, 0.22787318361955086, 0.3143989431968296, 0.4233817701453104, 0.5416116248348745, 0.6558784676354029, 0.8150594451783355, 1.0]}],                        {\"barmode\": \"stack\", \"template\": {\"data\": {\"bar\": [{\"error_x\": {\"color\": \"#2a3f5f\"}, \"error_y\": {\"color\": \"#2a3f5f\"}, \"marker\": {\"line\": {\"color\": \"#E5ECF6\", \"width\": 0.5}}, \"type\": \"bar\"}], \"barpolar\": [{\"marker\": {\"line\": {\"color\": \"#E5ECF6\", \"width\": 0.5}}, \"type\": \"barpolar\"}], \"carpet\": [{\"aaxis\": {\"endlinecolor\": \"#2a3f5f\", \"gridcolor\": \"white\", \"linecolor\": \"white\", \"minorgridcolor\": \"white\", \"startlinecolor\": \"#2a3f5f\"}, \"baxis\": {\"endlinecolor\": \"#2a3f5f\", \"gridcolor\": \"white\", \"linecolor\": \"white\", \"minorgridcolor\": \"white\", \"startlinecolor\": \"#2a3f5f\"}, \"type\": \"carpet\"}], \"choropleth\": [{\"colorbar\": {\"outlinewidth\": 0, \"ticks\": \"\"}, \"type\": \"choropleth\"}], \"contour\": [{\"colorbar\": {\"outlinewidth\": 0, \"ticks\": \"\"}, \"colorscale\": [[0.0, \"#0d0887\"], [0.1111111111111111, \"#46039f\"], [0.2222222222222222, \"#7201a8\"], [0.3333333333333333, \"#9c179e\"], [0.4444444444444444, \"#bd3786\"], [0.5555555555555556, \"#d8576b\"], [0.6666666666666666, \"#ed7953\"], [0.7777777777777778, \"#fb9f3a\"], [0.8888888888888888, \"#fdca26\"], [1.0, \"#f0f921\"]], \"type\": \"contour\"}], \"contourcarpet\": [{\"colorbar\": {\"outlinewidth\": 0, \"ticks\": \"\"}, \"type\": \"contourcarpet\"}], \"heatmap\": [{\"colorbar\": {\"outlinewidth\": 0, \"ticks\": \"\"}, \"colorscale\": [[0.0, \"#0d0887\"], [0.1111111111111111, \"#46039f\"], [0.2222222222222222, \"#7201a8\"], [0.3333333333333333, \"#9c179e\"], [0.4444444444444444, \"#bd3786\"], [0.5555555555555556, \"#d8576b\"], [0.6666666666666666, \"#ed7953\"], [0.7777777777777778, \"#fb9f3a\"], [0.8888888888888888, \"#fdca26\"], [1.0, \"#f0f921\"]], \"type\": \"heatmap\"}], \"heatmapgl\": [{\"colorbar\": {\"outlinewidth\": 0, \"ticks\": \"\"}, \"colorscale\": [[0.0, \"#0d0887\"], [0.1111111111111111, \"#46039f\"], [0.2222222222222222, \"#7201a8\"], [0.3333333333333333, \"#9c179e\"], [0.4444444444444444, \"#bd3786\"], [0.5555555555555556, \"#d8576b\"], [0.6666666666666666, \"#ed7953\"], [0.7777777777777778, \"#fb9f3a\"], [0.8888888888888888, \"#fdca26\"], [1.0, \"#f0f921\"]], \"type\": \"heatmapgl\"}], \"histogram\": [{\"marker\": {\"colorbar\": {\"outlinewidth\": 0, \"ticks\": \"\"}}, \"type\": \"histogram\"}], \"histogram2d\": [{\"colorbar\": {\"outlinewidth\": 0, \"ticks\": \"\"}, \"colorscale\": [[0.0, \"#0d0887\"], [0.1111111111111111, \"#46039f\"], [0.2222222222222222, \"#7201a8\"], [0.3333333333333333, \"#9c179e\"], [0.4444444444444444, \"#bd3786\"], [0.5555555555555556, \"#d8576b\"], [0.6666666666666666, \"#ed7953\"], [0.7777777777777778, \"#fb9f3a\"], [0.8888888888888888, \"#fdca26\"], [1.0, \"#f0f921\"]], \"type\": \"histogram2d\"}], \"histogram2dcontour\": [{\"colorbar\": {\"outlinewidth\": 0, \"ticks\": \"\"}, \"colorscale\": [[0.0, \"#0d0887\"], [0.1111111111111111, \"#46039f\"], [0.2222222222222222, \"#7201a8\"], [0.3333333333333333, \"#9c179e\"], [0.4444444444444444, \"#bd3786\"], [0.5555555555555556, \"#d8576b\"], [0.6666666666666666, \"#ed7953\"], [0.7777777777777778, \"#fb9f3a\"], [0.8888888888888888, \"#fdca26\"], [1.0, \"#f0f921\"]], \"type\": \"histogram2dcontour\"}], \"mesh3d\": [{\"colorbar\": {\"outlinewidth\": 0, \"ticks\": \"\"}, \"type\": \"mesh3d\"}], \"parcoords\": [{\"line\": {\"colorbar\": {\"outlinewidth\": 0, \"ticks\": \"\"}}, \"type\": \"parcoords\"}], \"pie\": [{\"automargin\": true, \"type\": \"pie\"}], \"scatter\": [{\"marker\": {\"colorbar\": {\"outlinewidth\": 0, \"ticks\": \"\"}}, \"type\": \"scatter\"}], \"scatter3d\": [{\"line\": {\"colorbar\": {\"outlinewidth\": 0, \"ticks\": \"\"}}, \"marker\": {\"colorbar\": {\"outlinewidth\": 0, \"ticks\": \"\"}}, \"type\": \"scatter3d\"}], \"scattercarpet\": [{\"marker\": {\"colorbar\": {\"outlinewidth\": 0, \"ticks\": \"\"}}, \"type\": \"scattercarpet\"}], \"scattergeo\": [{\"marker\": {\"colorbar\": {\"outlinewidth\": 0, \"ticks\": \"\"}}, \"type\": \"scattergeo\"}], \"scattergl\": [{\"marker\": {\"colorbar\": {\"outlinewidth\": 0, \"ticks\": \"\"}}, \"type\": \"scattergl\"}], \"scattermapbox\": [{\"marker\": {\"colorbar\": {\"outlinewidth\": 0, \"ticks\": \"\"}}, \"type\": \"scattermapbox\"}], \"scatterpolar\": [{\"marker\": {\"colorbar\": {\"outlinewidth\": 0, \"ticks\": \"\"}}, \"type\": \"scatterpolar\"}], \"scatterpolargl\": [{\"marker\": {\"colorbar\": {\"outlinewidth\": 0, \"ticks\": \"\"}}, \"type\": \"scatterpolargl\"}], \"scatterternary\": [{\"marker\": {\"colorbar\": {\"outlinewidth\": 0, \"ticks\": \"\"}}, \"type\": \"scatterternary\"}], \"surface\": [{\"colorbar\": {\"outlinewidth\": 0, \"ticks\": \"\"}, \"colorscale\": [[0.0, \"#0d0887\"], [0.1111111111111111, \"#46039f\"], [0.2222222222222222, \"#7201a8\"], [0.3333333333333333, \"#9c179e\"], [0.4444444444444444, \"#bd3786\"], [0.5555555555555556, \"#d8576b\"], [0.6666666666666666, \"#ed7953\"], [0.7777777777777778, \"#fb9f3a\"], [0.8888888888888888, \"#fdca26\"], [1.0, \"#f0f921\"]], \"type\": \"surface\"}], \"table\": [{\"cells\": {\"fill\": {\"color\": \"#EBF0F8\"}, \"line\": {\"color\": \"white\"}}, \"header\": {\"fill\": {\"color\": \"#C8D4E3\"}, \"line\": {\"color\": \"white\"}}, \"type\": \"table\"}]}, \"layout\": {\"annotationdefaults\": {\"arrowcolor\": \"#2a3f5f\", \"arrowhead\": 0, \"arrowwidth\": 1}, \"autotypenumbers\": \"strict\", \"coloraxis\": {\"colorbar\": {\"outlinewidth\": 0, \"ticks\": \"\"}}, \"colorscale\": {\"diverging\": [[0, \"#8e0152\"], [0.1, \"#c51b7d\"], [0.2, \"#de77ae\"], [0.3, \"#f1b6da\"], [0.4, \"#fde0ef\"], [0.5, \"#f7f7f7\"], [0.6, \"#e6f5d0\"], [0.7, \"#b8e186\"], [0.8, \"#7fbc41\"], [0.9, \"#4d9221\"], [1, \"#276419\"]], \"sequential\": [[0.0, \"#0d0887\"], [0.1111111111111111, \"#46039f\"], [0.2222222222222222, \"#7201a8\"], [0.3333333333333333, \"#9c179e\"], [0.4444444444444444, \"#bd3786\"], [0.5555555555555556, \"#d8576b\"], [0.6666666666666666, \"#ed7953\"], [0.7777777777777778, \"#fb9f3a\"], [0.8888888888888888, \"#fdca26\"], [1.0, \"#f0f921\"]], \"sequentialminus\": [[0.0, \"#0d0887\"], [0.1111111111111111, \"#46039f\"], [0.2222222222222222, \"#7201a8\"], [0.3333333333333333, \"#9c179e\"], [0.4444444444444444, \"#bd3786\"], [0.5555555555555556, \"#d8576b\"], [0.6666666666666666, \"#ed7953\"], [0.7777777777777778, \"#fb9f3a\"], [0.8888888888888888, \"#fdca26\"], [1.0, \"#f0f921\"]]}, \"colorway\": [\"#636efa\", \"#EF553B\", \"#00cc96\", \"#ab63fa\", \"#FFA15A\", \"#19d3f3\", \"#FF6692\", \"#B6E880\", \"#FF97FF\", \"#FECB52\"], \"font\": {\"color\": \"#2a3f5f\"}, \"geo\": {\"bgcolor\": \"white\", \"lakecolor\": \"white\", \"landcolor\": \"#E5ECF6\", \"showlakes\": true, \"showland\": true, \"subunitcolor\": \"white\"}, \"hoverlabel\": {\"align\": \"left\"}, \"hovermode\": \"closest\", \"mapbox\": {\"style\": \"light\"}, \"paper_bgcolor\": \"white\", \"plot_bgcolor\": \"#E5ECF6\", \"polar\": {\"angularaxis\": {\"gridcolor\": \"white\", \"linecolor\": \"white\", \"ticks\": \"\"}, \"bgcolor\": \"#E5ECF6\", \"radialaxis\": {\"gridcolor\": \"white\", \"linecolor\": \"white\", \"ticks\": \"\"}}, \"scene\": {\"xaxis\": {\"backgroundcolor\": \"#E5ECF6\", \"gridcolor\": \"white\", \"gridwidth\": 2, \"linecolor\": \"white\", \"showbackground\": true, \"ticks\": \"\", \"zerolinecolor\": \"white\"}, \"yaxis\": {\"backgroundcolor\": \"#E5ECF6\", \"gridcolor\": \"white\", \"gridwidth\": 2, \"linecolor\": \"white\", \"showbackground\": true, \"ticks\": \"\", \"zerolinecolor\": \"white\"}, \"zaxis\": {\"backgroundcolor\": \"#E5ECF6\", \"gridcolor\": \"white\", \"gridwidth\": 2, \"linecolor\": \"white\", \"showbackground\": true, \"ticks\": \"\", \"zerolinecolor\": \"white\"}}, \"shapedefaults\": {\"line\": {\"color\": \"#2a3f5f\"}}, \"ternary\": {\"aaxis\": {\"gridcolor\": \"white\", \"linecolor\": \"white\", \"ticks\": \"\"}, \"baxis\": {\"gridcolor\": \"white\", \"linecolor\": \"white\", \"ticks\": \"\"}, \"bgcolor\": \"#E5ECF6\", \"caxis\": {\"gridcolor\": \"white\", \"linecolor\": \"white\", \"ticks\": \"\"}}, \"title\": {\"x\": 0.05}, \"xaxis\": {\"automargin\": true, \"gridcolor\": \"white\", \"linecolor\": \"white\", \"ticks\": \"\", \"title\": {\"standoff\": 15}, \"zerolinecolor\": \"white\", \"zerolinewidth\": 2}, \"yaxis\": {\"automargin\": true, \"gridcolor\": \"white\", \"linecolor\": \"white\", \"ticks\": \"\", \"title\": {\"standoff\": 15}, \"zerolinecolor\": \"white\", \"zerolinewidth\": 2}}}, \"title\": {\"text\": \"False Positive Rate for Diff. Thresholds: African Americans vs. Caucasians\"}},                        {\"responsive\": true}                    ).then(function(){\n",
       "                            \n",
       "var gd = document.getElementById('8503a3bd-c242-467f-8c75-4aa1e313e1ba');\n",
       "var x = new MutationObserver(function (mutations, observer) {{\n",
       "        var display = window.getComputedStyle(gd).display;\n",
       "        if (!display || display === 'none') {{\n",
       "            console.log([gd, 'removed!']);\n",
       "            Plotly.purge(gd);\n",
       "            observer.disconnect();\n",
       "        }}\n",
       "}});\n",
       "\n",
       "// Listen for the removal of the full notebook cells\n",
       "var notebookContainer = gd.closest('#notebook-container');\n",
       "if (notebookContainer) {{\n",
       "    x.observe(notebookContainer, {childList: true});\n",
       "}}\n",
       "\n",
       "// Listen for the clearing of the current output cell\n",
       "var outputEl = gd.closest('.output');\n",
       "if (outputEl) {{\n",
       "    x.observe(outputEl, {childList: true});\n",
       "}}\n",
       "\n",
       "                        })                };                });            </script>        </div>"
      ]
     },
     "metadata": {},
     "output_type": "display_data"
    }
   ],
   "source": [
    "#visualize false positive rates\n",
    "\n",
    "decileScores = np.arange(1,11)\n",
    "\n",
    "fig = go.Figure(data=[\n",
    "    go.Bar(name='Caucasian', x=decileScores, y=fpr_caucasians[::-1]),\n",
    "    go.Bar(name='African American', x=decileScores, y=fpr_african_americans[::-1]),\n",
    "], layout_title_text = \"False Positive Rate for Diff. Thresholds: African Americans vs. Caucasians\")\n",
    "# Change the bar mode\n",
    "fig.update_layout(barmode='stack')\n",
    "fig.show()\n"
   ]
  },
  {
   "cell_type": "code",
   "execution_count": 28,
   "metadata": {
    "id": "Mb71tMGJmU3V"
   },
   "outputs": [
    {
     "data": {
      "text/html": [
       "<div>                            <div id=\"e07b9e78-058f-4393-b583-79be547fb0f4\" class=\"plotly-graph-div\" style=\"height:525px; width:100%;\"></div>            <script type=\"text/javascript\">                require([\"plotly\"], function(Plotly) {                    window.PLOTLYENV=window.PLOTLYENV || {};                                    if (document.getElementById(\"e07b9e78-058f-4393-b583-79be547fb0f4\")) {                    Plotly.newPlot(                        \"e07b9e78-058f-4393-b583-79be547fb0f4\",                        [{\"name\": \"Caucasian\", \"type\": \"bar\", \"x\": [1, 2, 3, 4, 5, 6, 7, 8, 9, 10], \"y\": [0.0, 0.15571776155717762, 0.2773722627737226, 0.3771289537712895, 0.49635036496350365, 0.6070559610705596, 0.7201946472019465, 0.8029197080291971, 0.8905109489051095, 0.9574209245742092]}, {\"name\": \"African American\", \"type\": \"bar\", \"x\": [1, 2, 3, 4, 5, 6, 7, 8, 9, 10], \"y\": [0.0, 0.051173991571342566, 0.11438892233594221, 0.1896447922937989, 0.2847682119205298, 0.3798916315472607, 0.49247441300421435, 0.6183022275737508, 0.7477423239012643, 0.8856110776640578]}],                        {\"barmode\": \"stack\", \"template\": {\"data\": {\"bar\": [{\"error_x\": {\"color\": \"#2a3f5f\"}, \"error_y\": {\"color\": \"#2a3f5f\"}, \"marker\": {\"line\": {\"color\": \"#E5ECF6\", \"width\": 0.5}}, \"type\": \"bar\"}], \"barpolar\": [{\"marker\": {\"line\": {\"color\": \"#E5ECF6\", \"width\": 0.5}}, \"type\": \"barpolar\"}], \"carpet\": [{\"aaxis\": {\"endlinecolor\": \"#2a3f5f\", \"gridcolor\": \"white\", \"linecolor\": \"white\", \"minorgridcolor\": \"white\", \"startlinecolor\": \"#2a3f5f\"}, \"baxis\": {\"endlinecolor\": \"#2a3f5f\", \"gridcolor\": \"white\", \"linecolor\": \"white\", \"minorgridcolor\": \"white\", \"startlinecolor\": \"#2a3f5f\"}, \"type\": \"carpet\"}], \"choropleth\": [{\"colorbar\": {\"outlinewidth\": 0, \"ticks\": \"\"}, \"type\": \"choropleth\"}], \"contour\": [{\"colorbar\": {\"outlinewidth\": 0, \"ticks\": \"\"}, \"colorscale\": [[0.0, \"#0d0887\"], [0.1111111111111111, \"#46039f\"], [0.2222222222222222, \"#7201a8\"], [0.3333333333333333, \"#9c179e\"], [0.4444444444444444, \"#bd3786\"], [0.5555555555555556, \"#d8576b\"], [0.6666666666666666, \"#ed7953\"], [0.7777777777777778, \"#fb9f3a\"], [0.8888888888888888, \"#fdca26\"], [1.0, \"#f0f921\"]], \"type\": \"contour\"}], \"contourcarpet\": [{\"colorbar\": {\"outlinewidth\": 0, \"ticks\": \"\"}, \"type\": \"contourcarpet\"}], \"heatmap\": [{\"colorbar\": {\"outlinewidth\": 0, \"ticks\": \"\"}, \"colorscale\": [[0.0, \"#0d0887\"], [0.1111111111111111, \"#46039f\"], [0.2222222222222222, \"#7201a8\"], [0.3333333333333333, \"#9c179e\"], [0.4444444444444444, \"#bd3786\"], [0.5555555555555556, \"#d8576b\"], [0.6666666666666666, \"#ed7953\"], [0.7777777777777778, \"#fb9f3a\"], [0.8888888888888888, \"#fdca26\"], [1.0, \"#f0f921\"]], \"type\": \"heatmap\"}], \"heatmapgl\": [{\"colorbar\": {\"outlinewidth\": 0, \"ticks\": \"\"}, \"colorscale\": [[0.0, \"#0d0887\"], [0.1111111111111111, \"#46039f\"], [0.2222222222222222, \"#7201a8\"], [0.3333333333333333, \"#9c179e\"], [0.4444444444444444, \"#bd3786\"], [0.5555555555555556, \"#d8576b\"], [0.6666666666666666, \"#ed7953\"], [0.7777777777777778, \"#fb9f3a\"], [0.8888888888888888, \"#fdca26\"], [1.0, \"#f0f921\"]], \"type\": \"heatmapgl\"}], \"histogram\": [{\"marker\": {\"colorbar\": {\"outlinewidth\": 0, \"ticks\": \"\"}}, \"type\": \"histogram\"}], \"histogram2d\": [{\"colorbar\": {\"outlinewidth\": 0, \"ticks\": \"\"}, \"colorscale\": [[0.0, \"#0d0887\"], [0.1111111111111111, \"#46039f\"], [0.2222222222222222, \"#7201a8\"], [0.3333333333333333, \"#9c179e\"], [0.4444444444444444, \"#bd3786\"], [0.5555555555555556, \"#d8576b\"], [0.6666666666666666, \"#ed7953\"], [0.7777777777777778, \"#fb9f3a\"], [0.8888888888888888, \"#fdca26\"], [1.0, \"#f0f921\"]], \"type\": \"histogram2d\"}], \"histogram2dcontour\": [{\"colorbar\": {\"outlinewidth\": 0, \"ticks\": \"\"}, \"colorscale\": [[0.0, \"#0d0887\"], [0.1111111111111111, \"#46039f\"], [0.2222222222222222, \"#7201a8\"], [0.3333333333333333, \"#9c179e\"], [0.4444444444444444, \"#bd3786\"], [0.5555555555555556, \"#d8576b\"], [0.6666666666666666, \"#ed7953\"], [0.7777777777777778, \"#fb9f3a\"], [0.8888888888888888, \"#fdca26\"], [1.0, \"#f0f921\"]], \"type\": \"histogram2dcontour\"}], \"mesh3d\": [{\"colorbar\": {\"outlinewidth\": 0, \"ticks\": \"\"}, \"type\": \"mesh3d\"}], \"parcoords\": [{\"line\": {\"colorbar\": {\"outlinewidth\": 0, \"ticks\": \"\"}}, \"type\": \"parcoords\"}], \"pie\": [{\"automargin\": true, \"type\": \"pie\"}], \"scatter\": [{\"marker\": {\"colorbar\": {\"outlinewidth\": 0, \"ticks\": \"\"}}, \"type\": \"scatter\"}], \"scatter3d\": [{\"line\": {\"colorbar\": {\"outlinewidth\": 0, \"ticks\": \"\"}}, \"marker\": {\"colorbar\": {\"outlinewidth\": 0, \"ticks\": \"\"}}, \"type\": \"scatter3d\"}], \"scattercarpet\": [{\"marker\": {\"colorbar\": {\"outlinewidth\": 0, \"ticks\": \"\"}}, \"type\": \"scattercarpet\"}], \"scattergeo\": [{\"marker\": {\"colorbar\": {\"outlinewidth\": 0, \"ticks\": \"\"}}, \"type\": \"scattergeo\"}], \"scattergl\": [{\"marker\": {\"colorbar\": {\"outlinewidth\": 0, \"ticks\": \"\"}}, \"type\": \"scattergl\"}], \"scattermapbox\": [{\"marker\": {\"colorbar\": {\"outlinewidth\": 0, \"ticks\": \"\"}}, \"type\": \"scattermapbox\"}], \"scatterpolar\": [{\"marker\": {\"colorbar\": {\"outlinewidth\": 0, \"ticks\": \"\"}}, \"type\": \"scatterpolar\"}], \"scatterpolargl\": [{\"marker\": {\"colorbar\": {\"outlinewidth\": 0, \"ticks\": \"\"}}, \"type\": \"scatterpolargl\"}], \"scatterternary\": [{\"marker\": {\"colorbar\": {\"outlinewidth\": 0, \"ticks\": \"\"}}, \"type\": \"scatterternary\"}], \"surface\": [{\"colorbar\": {\"outlinewidth\": 0, \"ticks\": \"\"}, \"colorscale\": [[0.0, \"#0d0887\"], [0.1111111111111111, \"#46039f\"], [0.2222222222222222, \"#7201a8\"], [0.3333333333333333, \"#9c179e\"], [0.4444444444444444, \"#bd3786\"], [0.5555555555555556, \"#d8576b\"], [0.6666666666666666, \"#ed7953\"], [0.7777777777777778, \"#fb9f3a\"], [0.8888888888888888, \"#fdca26\"], [1.0, \"#f0f921\"]], \"type\": \"surface\"}], \"table\": [{\"cells\": {\"fill\": {\"color\": \"#EBF0F8\"}, \"line\": {\"color\": \"white\"}}, \"header\": {\"fill\": {\"color\": \"#C8D4E3\"}, \"line\": {\"color\": \"white\"}}, \"type\": \"table\"}]}, \"layout\": {\"annotationdefaults\": {\"arrowcolor\": \"#2a3f5f\", \"arrowhead\": 0, \"arrowwidth\": 1}, \"autotypenumbers\": \"strict\", \"coloraxis\": {\"colorbar\": {\"outlinewidth\": 0, \"ticks\": \"\"}}, \"colorscale\": {\"diverging\": [[0, \"#8e0152\"], [0.1, \"#c51b7d\"], [0.2, \"#de77ae\"], [0.3, \"#f1b6da\"], [0.4, \"#fde0ef\"], [0.5, \"#f7f7f7\"], [0.6, \"#e6f5d0\"], [0.7, \"#b8e186\"], [0.8, \"#7fbc41\"], [0.9, \"#4d9221\"], [1, \"#276419\"]], \"sequential\": [[0.0, \"#0d0887\"], [0.1111111111111111, \"#46039f\"], [0.2222222222222222, \"#7201a8\"], [0.3333333333333333, \"#9c179e\"], [0.4444444444444444, \"#bd3786\"], [0.5555555555555556, \"#d8576b\"], [0.6666666666666666, \"#ed7953\"], [0.7777777777777778, \"#fb9f3a\"], [0.8888888888888888, \"#fdca26\"], [1.0, \"#f0f921\"]], \"sequentialminus\": [[0.0, \"#0d0887\"], [0.1111111111111111, \"#46039f\"], [0.2222222222222222, \"#7201a8\"], [0.3333333333333333, \"#9c179e\"], [0.4444444444444444, \"#bd3786\"], [0.5555555555555556, \"#d8576b\"], [0.6666666666666666, \"#ed7953\"], [0.7777777777777778, \"#fb9f3a\"], [0.8888888888888888, \"#fdca26\"], [1.0, \"#f0f921\"]]}, \"colorway\": [\"#636efa\", \"#EF553B\", \"#00cc96\", \"#ab63fa\", \"#FFA15A\", \"#19d3f3\", \"#FF6692\", \"#B6E880\", \"#FF97FF\", \"#FECB52\"], \"font\": {\"color\": \"#2a3f5f\"}, \"geo\": {\"bgcolor\": \"white\", \"lakecolor\": \"white\", \"landcolor\": \"#E5ECF6\", \"showlakes\": true, \"showland\": true, \"subunitcolor\": \"white\"}, \"hoverlabel\": {\"align\": \"left\"}, \"hovermode\": \"closest\", \"mapbox\": {\"style\": \"light\"}, \"paper_bgcolor\": \"white\", \"plot_bgcolor\": \"#E5ECF6\", \"polar\": {\"angularaxis\": {\"gridcolor\": \"white\", \"linecolor\": \"white\", \"ticks\": \"\"}, \"bgcolor\": \"#E5ECF6\", \"radialaxis\": {\"gridcolor\": \"white\", \"linecolor\": \"white\", \"ticks\": \"\"}}, \"scene\": {\"xaxis\": {\"backgroundcolor\": \"#E5ECF6\", \"gridcolor\": \"white\", \"gridwidth\": 2, \"linecolor\": \"white\", \"showbackground\": true, \"ticks\": \"\", \"zerolinecolor\": \"white\"}, \"yaxis\": {\"backgroundcolor\": \"#E5ECF6\", \"gridcolor\": \"white\", \"gridwidth\": 2, \"linecolor\": \"white\", \"showbackground\": true, \"ticks\": \"\", \"zerolinecolor\": \"white\"}, \"zaxis\": {\"backgroundcolor\": \"#E5ECF6\", \"gridcolor\": \"white\", \"gridwidth\": 2, \"linecolor\": \"white\", \"showbackground\": true, \"ticks\": \"\", \"zerolinecolor\": \"white\"}}, \"shapedefaults\": {\"line\": {\"color\": \"#2a3f5f\"}}, \"ternary\": {\"aaxis\": {\"gridcolor\": \"white\", \"linecolor\": \"white\", \"ticks\": \"\"}, \"baxis\": {\"gridcolor\": \"white\", \"linecolor\": \"white\", \"ticks\": \"\"}, \"bgcolor\": \"#E5ECF6\", \"caxis\": {\"gridcolor\": \"white\", \"linecolor\": \"white\", \"ticks\": \"\"}}, \"title\": {\"x\": 0.05}, \"xaxis\": {\"automargin\": true, \"gridcolor\": \"white\", \"linecolor\": \"white\", \"ticks\": \"\", \"title\": {\"standoff\": 15}, \"zerolinecolor\": \"white\", \"zerolinewidth\": 2}, \"yaxis\": {\"automargin\": true, \"gridcolor\": \"white\", \"linecolor\": \"white\", \"ticks\": \"\", \"title\": {\"standoff\": 15}, \"zerolinecolor\": \"white\", \"zerolinewidth\": 2}}}, \"title\": {\"text\": \"False Negative Rate for Diff. Thresholds: African Americans vs. Caucasians\"}},                        {\"responsive\": true}                    ).then(function(){\n",
       "                            \n",
       "var gd = document.getElementById('e07b9e78-058f-4393-b583-79be547fb0f4');\n",
       "var x = new MutationObserver(function (mutations, observer) {{\n",
       "        var display = window.getComputedStyle(gd).display;\n",
       "        if (!display || display === 'none') {{\n",
       "            console.log([gd, 'removed!']);\n",
       "            Plotly.purge(gd);\n",
       "            observer.disconnect();\n",
       "        }}\n",
       "}});\n",
       "\n",
       "// Listen for the removal of the full notebook cells\n",
       "var notebookContainer = gd.closest('#notebook-container');\n",
       "if (notebookContainer) {{\n",
       "    x.observe(notebookContainer, {childList: true});\n",
       "}}\n",
       "\n",
       "// Listen for the clearing of the current output cell\n",
       "var outputEl = gd.closest('.output');\n",
       "if (outputEl) {{\n",
       "    x.observe(outputEl, {childList: true});\n",
       "}}\n",
       "\n",
       "                        })                };                });            </script>        </div>"
      ]
     },
     "metadata": {},
     "output_type": "display_data"
    }
   ],
   "source": [
    "#visualize false negative rates\n",
    "\n",
    "decileScores = np.arange(1,11)\n",
    "\n",
    "fig = go.Figure(data=[\n",
    "    go.Bar(name='Caucasian', x=decileScores, y=fnr_caucasians),\n",
    "    go.Bar(name='African American', x=decileScores, y=fnr_african_americans),\n",
    "], layout_title_text = \"False Negative Rate for Diff. Thresholds: African Americans vs. Caucasians\")\n",
    "# Change the bar mode\n",
    "fig.update_layout(barmode='stack')\n",
    "fig.show()"
   ]
  },
  {
   "cell_type": "markdown",
   "metadata": {
    "id": "CktV3nVGqe-b"
   },
   "source": [
    "###**Question 2: What do you notice about these error rates? Do you see any biases? What could potentially happen as a result of these biases?**\n",
    "Answer this question in the cell below"
   ]
  },
  {
   "cell_type": "markdown",
   "metadata": {
    "id": "BFA7_9t6oz_G"
   },
   "source": [
    "Yes, once again this dataset is clearly bias towards african-americans.\n",
    "Due to these biases the result of these biases can potentially conclude that a african-american is a criminal when its not and can label a caucasian that is a criminal not a criminal."
   ]
  },
  {
   "cell_type": "markdown",
   "metadata": {
    "hide_input": true,
    "id": "orRbC45ojkIC"
   },
   "source": [
    "## Part 2.2 - Standard classifiers"
   ]
  },
  {
   "cell_type": "markdown",
   "metadata": {
    "id": "T_u4IUHNjkID"
   },
   "source": [
    "In this section, we are going to train a simple SVM classifier on the \"two_years_recid\" ground truth data and plot confusion matrices in order to investigate the bias in the classifiers towards different attributes. "
   ]
  },
  {
   "cell_type": "code",
   "execution_count": 29,
   "metadata": {
    "id": "U8jMAte8jkIA",
    "scrolled": true
   },
   "outputs": [
    {
     "name": "stdout",
     "output_type": "stream",
     "text": [
      "decile score ranges in score text\n",
      "low: 1 4\n",
      "medium: 5 7\n",
      "high 8 10\n"
     ]
    }
   ],
   "source": [
    "#mapping of low medium high to decile score\n",
    "print('decile score ranges in score text')\n",
    "scores = dataset[['decile_score','score_text']]\n",
    "low_range = scores[scores['score_text'] == 'Low']['decile_score']\n",
    "print('low:',low_range.min(),low_range.max())\n",
    "medium_range = scores[scores['score_text'] == 'Medium']['decile_score']\n",
    "print('medium:',medium_range.min(),medium_range.max())\n",
    "High_range = scores[scores['score_text'] == 'High']['decile_score']\n",
    "print('high',High_range.min(),High_range.max())"
   ]
  },
  {
   "cell_type": "markdown",
   "metadata": {
    "id": "3xhoeZufjkIA"
   },
   "source": [
    "To be able to compare compas scores in range [1,10], to the ground truth binary 0/1, the COMPAS scores are grouped into two groups to transfer them into binary labels\n",
    "- *recidivate* means *high* = label *1*\n",
    "- *will not recidivate* means *low/medium* = label *0*\n",
    "\n",
    "Thus, here, our threshold is .8"
   ]
  },
  {
   "cell_type": "code",
   "execution_count": 30,
   "metadata": {
    "id": "emlLK4-djkIA"
   },
   "outputs": [],
   "source": [
    "# split scores to new classes, high to 1 and medium/ low to zero\n",
    "new_scores = dataset.copy()\n",
    "new_scores['decile_score'].replace(to_replace=range(1,8),value=0,inplace=True)\n",
    "new_scores['decile_score'].replace(to_replace=range(8,11),value=1,inplace=True)\n"
   ]
  },
  {
   "cell_type": "markdown",
   "metadata": {
    "id": "3VNQ0CwTjkID"
   },
   "source": [
    "- Preparing for the next part, we start using IBM aif360 package, a collection of fairness algorithms and performance metrics  "
   ]
  },
  {
   "cell_type": "markdown",
   "metadata": {
    "id": "-vyz6nxTjkID"
   },
   "source": [
    "- We use the following set of features out of the 137 questions collected by northepoint, we notice that we are including the charge degree(Felony/murder), the priors count(number of crimes commited before), and age category."
   ]
  },
  {
   "cell_type": "code",
   "execution_count": 31,
   "metadata": {
    "id": "vIUB1Pt_jkID"
   },
   "outputs": [
    {
     "name": "stdout",
     "output_type": "stream",
     "text": [
      "set of features to be used out of the dataset\n",
      "['sex',\n",
      " 'race',\n",
      " 'age_cat=25 to 45',\n",
      " 'age_cat=Greater than 45',\n",
      " 'age_cat=Less than 25',\n",
      " 'priors_count=0',\n",
      " 'priors_count=1 to 3',\n",
      " 'priors_count=More than 3',\n",
      " 'c_charge_degree=F',\n",
      " 'c_charge_degree=M']\n"
     ]
    }
   ],
   "source": [
    "#note: to run this line, you may need to put the compas-scores-two-years.csv file in the following directory:\n",
    "#/usr/local/lib/python3.6/dist-packages/aif360/data/raw/compas\n",
    "\n",
    "dataset_conditioned = load_preproc_data_compas()\n",
    "print(\"set of features to be used out of the dataset\")\n",
    "pprint(dataset_conditioned.feature_names)    "
   ]
  },
  {
   "cell_type": "markdown",
   "metadata": {
    "id": "q2lcWAVxjkID"
   },
   "source": [
    "- As a normalization step, all of the data values are turned into binary values, in order to equalize the effect of features with respect to the classifier.\n",
    "\n",
    "- The race has more than one value, but since we want to look at the bias between African American and Caucasians, we drop the other races from the dataset. This does not introduce a problem, since the size of the dataset drops from 6127 entries to 5278 entries."
   ]
  },
  {
   "cell_type": "code",
   "execution_count": null,
   "metadata": {},
   "outputs": [],
   "source": []
  },
  {
   "cell_type": "code",
   "execution_count": 32,
   "metadata": {
    "id": "g-iEfCldjkID"
   },
   "outputs": [
    {
     "name": "stdout",
     "output_type": "stream",
     "text": [
      "Example samples from the dataset\n"
     ]
    },
    {
     "data": {
      "text/html": [
       "<div>\n",
       "<style scoped>\n",
       "    .dataframe tbody tr th:only-of-type {\n",
       "        vertical-align: middle;\n",
       "    }\n",
       "\n",
       "    .dataframe tbody tr th {\n",
       "        vertical-align: top;\n",
       "    }\n",
       "\n",
       "    .dataframe thead th {\n",
       "        text-align: right;\n",
       "    }\n",
       "</style>\n",
       "<table border=\"1\" class=\"dataframe\">\n",
       "  <thead>\n",
       "    <tr style=\"text-align: right;\">\n",
       "      <th></th>\n",
       "      <th>sex</th>\n",
       "      <th>race</th>\n",
       "      <th>age_cat=25 to 45</th>\n",
       "      <th>age_cat=Greater than 45</th>\n",
       "      <th>age_cat=Less than 25</th>\n",
       "      <th>priors_count=0</th>\n",
       "      <th>priors_count=1 to 3</th>\n",
       "      <th>priors_count=More than 3</th>\n",
       "      <th>c_charge_degree=F</th>\n",
       "      <th>c_charge_degree=M</th>\n",
       "      <th>two_year_recid</th>\n",
       "    </tr>\n",
       "  </thead>\n",
       "  <tbody>\n",
       "    <tr>\n",
       "      <th>3</th>\n",
       "      <td>0.0</td>\n",
       "      <td>0.0</td>\n",
       "      <td>1.0</td>\n",
       "      <td>0.0</td>\n",
       "      <td>0.0</td>\n",
       "      <td>1.0</td>\n",
       "      <td>0.0</td>\n",
       "      <td>0.0</td>\n",
       "      <td>1.0</td>\n",
       "      <td>0.0</td>\n",
       "      <td>1.0</td>\n",
       "    </tr>\n",
       "    <tr>\n",
       "      <th>4</th>\n",
       "      <td>0.0</td>\n",
       "      <td>0.0</td>\n",
       "      <td>0.0</td>\n",
       "      <td>0.0</td>\n",
       "      <td>1.0</td>\n",
       "      <td>0.0</td>\n",
       "      <td>0.0</td>\n",
       "      <td>1.0</td>\n",
       "      <td>1.0</td>\n",
       "      <td>0.0</td>\n",
       "      <td>1.0</td>\n",
       "    </tr>\n",
       "    <tr>\n",
       "      <th>8</th>\n",
       "      <td>0.0</td>\n",
       "      <td>1.0</td>\n",
       "      <td>1.0</td>\n",
       "      <td>0.0</td>\n",
       "      <td>0.0</td>\n",
       "      <td>0.0</td>\n",
       "      <td>0.0</td>\n",
       "      <td>1.0</td>\n",
       "      <td>1.0</td>\n",
       "      <td>0.0</td>\n",
       "      <td>1.0</td>\n",
       "    </tr>\n",
       "    <tr>\n",
       "      <th>10</th>\n",
       "      <td>1.0</td>\n",
       "      <td>1.0</td>\n",
       "      <td>1.0</td>\n",
       "      <td>0.0</td>\n",
       "      <td>0.0</td>\n",
       "      <td>1.0</td>\n",
       "      <td>0.0</td>\n",
       "      <td>0.0</td>\n",
       "      <td>0.0</td>\n",
       "      <td>1.0</td>\n",
       "      <td>0.0</td>\n",
       "    </tr>\n",
       "    <tr>\n",
       "      <th>14</th>\n",
       "      <td>0.0</td>\n",
       "      <td>1.0</td>\n",
       "      <td>1.0</td>\n",
       "      <td>0.0</td>\n",
       "      <td>0.0</td>\n",
       "      <td>1.0</td>\n",
       "      <td>0.0</td>\n",
       "      <td>0.0</td>\n",
       "      <td>1.0</td>\n",
       "      <td>0.0</td>\n",
       "      <td>0.0</td>\n",
       "    </tr>\n",
       "  </tbody>\n",
       "</table>\n",
       "</div>"
      ],
      "text/plain": [
       "    sex  race  age_cat=25 to 45  age_cat=Greater than 45  \\\n",
       "3   0.0   0.0               1.0                      0.0   \n",
       "4   0.0   0.0               0.0                      0.0   \n",
       "8   0.0   1.0               1.0                      0.0   \n",
       "10  1.0   1.0               1.0                      0.0   \n",
       "14  0.0   1.0               1.0                      0.0   \n",
       "\n",
       "    age_cat=Less than 25  priors_count=0  priors_count=1 to 3  \\\n",
       "3                    0.0             1.0                  0.0   \n",
       "4                    1.0             0.0                  0.0   \n",
       "8                    0.0             0.0                  0.0   \n",
       "10                   0.0             1.0                  0.0   \n",
       "14                   0.0             1.0                  0.0   \n",
       "\n",
       "    priors_count=More than 3  c_charge_degree=F  c_charge_degree=M  \\\n",
       "3                        0.0                1.0                0.0   \n",
       "4                        1.0                1.0                0.0   \n",
       "8                        1.0                1.0                0.0   \n",
       "10                       0.0                0.0                1.0   \n",
       "14                       0.0                1.0                0.0   \n",
       "\n",
       "    two_year_recid  \n",
       "3              1.0  \n",
       "4              1.0  \n",
       "8              1.0  \n",
       "10             0.0  \n",
       "14             0.0  "
      ]
     },
     "execution_count": 32,
     "metadata": {},
     "output_type": "execute_result"
    }
   ],
   "source": [
    "dataset_as_df,_ = dataset_conditioned.convert_to_dataframe()\n",
    "print(\"Example samples from the dataset\")\n",
    "dataset_as_df.head(5)"
   ]
  },
  {
   "cell_type": "markdown",
   "metadata": {
    "id": "kV6r9UdqjkIE"
   },
   "source": [
    "### Train-validate-test split"
   ]
  },
  {
   "cell_type": "markdown",
   "metadata": {
    "id": "iIHuG6PyjkIE"
   },
   "source": [
    "- We divide our dataset into 3 folds to train/test different classifers"
   ]
  },
  {
   "cell_type": "code",
   "execution_count": 33,
   "metadata": {
    "id": "VVEnZK_HjkIE"
   },
   "outputs": [],
   "source": [
    "dataset_conditioned_train, dataset_conditioned_validate_test = dataset_conditioned.split([0.7], shuffle=True)"
   ]
  },
  {
   "cell_type": "code",
   "execution_count": 34,
   "metadata": {
    "id": "ktN8IwHZjkIE"
   },
   "outputs": [
    {
     "name": "stdout",
     "output_type": "stream",
     "text": [
      "size of traning and testing samples\n"
     ]
    },
    {
     "data": {
      "text/plain": [
       "((3694, 11), (1584, 11))"
      ]
     },
     "execution_count": 34,
     "metadata": {},
     "output_type": "execute_result"
    }
   ],
   "source": [
    "print('size of traning and testing samples')\n",
    "dataset_conditioned_train.convert_to_dataframe()[0].shape,dataset_conditioned_validate_test.convert_to_dataframe()[0].shape"
   ]
  },
  {
   "cell_type": "code",
   "execution_count": 35,
   "metadata": {
    "id": "rCwi-cudzITz"
   },
   "outputs": [],
   "source": [
    "test_df = dataset_conditioned_validate_test.convert_to_dataframe()[0]"
   ]
  },
  {
   "cell_type": "markdown",
   "metadata": {
    "id": "ZyBnF_GdjkIE"
   },
   "source": [
    "### Splitting based on gender "
   ]
  },
  {
   "cell_type": "code",
   "execution_count": 36,
   "metadata": {
    "id": "OPiLmCq7jkIE"
   },
   "outputs": [
    {
     "name": "stdout",
     "output_type": "stream",
     "text": [
      "Number of female samples in test set: (333, 10), number of male samples in test set: (1251, 10)\n"
     ]
    }
   ],
   "source": [
    "# get male samples from the dataset\n",
    "male_samples = test_df[test_df['sex'] == 0.0]\n",
    "male_samples_label = male_samples.filter(['two_year_recid'])\n",
    "male_samples.drop(columns=['two_year_recid'],inplace=True)\n",
    "\n",
    "# get female samples from the dataset\n",
    "female_samples = test_df[test_df['sex'] == 1.0]\n",
    "female_samples_label = female_samples.filter(['two_year_recid'])\n",
    "female_samples.drop(columns=['two_year_recid'],inplace=True)\n",
    "print('Number of female samples in test set: {0}, number of male samples in test set: {1}'.format(female_samples.shape,\n",
    "                                                                                      male_samples.shape))"
   ]
  },
  {
   "cell_type": "markdown",
   "metadata": {
    "id": "eHYYcwzSjkIE"
   },
   "source": [
    "### Splitting based on race - African American and Caucasian"
   ]
  },
  {
   "cell_type": "code",
   "execution_count": 37,
   "metadata": {
    "id": "yP-1vKqWjkIF"
   },
   "outputs": [
    {
     "name": "stdout",
     "output_type": "stream",
     "text": [
      "Number of African American samples in test set: (955, 10), number of Caucasian samples in test set: (629, 10)\n"
     ]
    }
   ],
   "source": [
    "\n",
    "#get caucasians samples from the dataset\n",
    "caucasian_samples = test_df[test_df['race'] == 1.0]\n",
    "caucasian_samples_label = caucasian_samples.filter(['two_year_recid'])\n",
    "caucasian_samples.drop(columns=['two_year_recid'],inplace=True)\n",
    "\n",
    "#get african american samples from the dataset\n",
    "african_american_samples = test_df[test_df['race'] == 0.0]\n",
    "african_american_samples_label = african_american_samples.filter(['two_year_recid'])\n",
    "african_american_samples.drop(columns=['two_year_recid'],inplace=True)\n",
    "print('Number of African American samples in test set: {0}, number of Caucasian samples in test set: {1}'.format(african_american_samples.shape,\n",
    "                                                                                      caucasian_samples.shape))"
   ]
  },
  {
   "cell_type": "markdown",
   "metadata": {
    "id": "4woIPw9njkIF"
   },
   "source": [
    "### Accuracy of COMPAS Scores"
   ]
  },
  {
   "cell_type": "markdown",
   "metadata": {
    "id": "3r0skLaZjkIF"
   },
   "source": [
    "Before delving into the performance of our SVM classifier, let's look at the confusion matrices with respect to race and gender for our sample and chosen threshold in order to inspect the true positive rate and false positive rates."
   ]
  },
  {
   "cell_type": "code",
   "execution_count": 38,
   "metadata": {
    "id": "5QqtCzqrjkIB"
   },
   "outputs": [
    {
     "name": "stdout",
     "output_type": "stream",
     "text": [
      "COMPAS overall performance against the true labels: 63.399222%\n"
     ]
    }
   ],
   "source": [
    "overal_accuracy = performance.accuracy_score(new_scores['two_year_recid'],\n",
    "                                             new_scores['decile_score'],normalize=True)\n",
    "\n",
    "print('COMPAS overall performance against the true labels: {0:3f}%'.format(overal_accuracy *100))"
   ]
  },
  {
   "cell_type": "markdown",
   "metadata": {
    "id": "n6v_TU8CjkIF"
   },
   "source": [
    "#### Confusion Matrix - African American\n"
   ]
  },
  {
   "cell_type": "code",
   "execution_count": 39,
   "metadata": {
    "id": "cTIQ5Q46jkIF"
   },
   "outputs": [
    {
     "name": "stdout",
     "output_type": "stream",
     "text": [
      "plotting the Confusion Matrix\n",
      "CCR = 0.6100787401574803\n",
      "Precision = 0.6547616628996622\n",
      "Recall = 0.6211659271642475\n",
      "[[1303  211]\n",
      " [1027  634]]\n"
     ]
    },
    {
     "data": {
      "image/png": "[encoded data removed]",
      "text/plain": [
       "<Figure size 432x288 with 2 Axes>"
      ]
     },
     "metadata": {
      "needs_background": "light"
     },
     "output_type": "display_data"
    }
   ],
   "source": [
    "new_scores_african_american = new_scores[new_scores['race'] == 'African-American']\n",
    "performance.accuracy_score(new_scores_african_american['two_year_recid'],new_scores_african_american['decile_score'],normalize=True)\n",
    "\n",
    "# performance.confusion_matrix(new_scores_african_american['two_year_recid'],new_scores_african_american['decile_score'])\n",
    "plot_conf_matrix(new_scores_african_american['two_year_recid'], new_scores_african_american['decile_score'], class_names=['Not Recedivate', 'Recedivate'] )"
   ]
  },
  {
   "cell_type": "markdown",
   "metadata": {
    "id": "xSjWa9wzi8AG"
   },
   "source": [
    "####Confusion Matrix - Caucasian"
   ]
  },
  {
   "cell_type": "code",
   "execution_count": 40,
   "metadata": {
    "id": "9fD3KjYYi5-U"
   },
   "outputs": [
    {
     "name": "stdout",
     "output_type": "stream",
     "text": [
      "plotting the Confusion Matrix\n",
      "CCR = 0.6571564431764146\n",
      "Precision = 0.6876967846579525\n",
      "Recall = 0.5747306221758777\n",
      "[[1220   61]\n",
      " [ 660  162]]\n"
     ]
    },
    {
     "data": {
      "image/png": "[encoded data removed]",
      "text/plain": [
       "<Figure size 432x288 with 2 Axes>"
      ]
     },
     "metadata": {
      "needs_background": "light"
     },
     "output_type": "display_data"
    }
   ],
   "source": [
    "new_scores_Caucasian = new_scores[new_scores['race'] == 'Caucasian']\n",
    "# performance.accuracy_score(new_scores_Caucasian['two_year_recid'],new_scores_Caucasian['decile_score'],normalize=True)\n",
    "plot_conf_matrix(new_scores_Caucasian.two_year_recid, new_scores_Caucasian.decile_score, class_names=['Not Recedivate', 'Recedivate'])"
   ]
  },
  {
   "cell_type": "markdown",
   "metadata": {
    "id": "sLjABvThjkIF"
   },
   "source": [
    "#### Confusion Matrix - Female"
   ]
  },
  {
   "cell_type": "code",
   "execution_count": 41,
   "metadata": {
    "id": "nK_6aGkijkIF"
   },
   "outputs": [
    {
     "name": "stdout",
     "output_type": "stream",
     "text": [
      "plotting the Confusion Matrix\n",
      "CCR = 0.6868085106382978\n",
      "Precision = 0.6706947175082781\n",
      "Recall = 0.5838671649094711\n",
      "[[709  53]\n",
      " [315  98]]\n"
     ]
    },
    {
     "data": {
      "image/png": "[encoded data removed]",
      "text/plain": [
       "<Figure size 432x288 with 2 Axes>"
      ]
     },
     "metadata": {
      "needs_background": "light"
     },
     "output_type": "display_data"
    }
   ],
   "source": [
    "new_scores_female = new_scores[new_scores['sex'] == 'Female']\n",
    "plot_conf_matrix(new_scores_female.two_year_recid, new_scores_female.decile_score, class_names=['Not Recedivate', 'Recedivate'])"
   ]
  },
  {
   "cell_type": "markdown",
   "metadata": {
    "id": "diiv5IQzppNF"
   },
   "source": [
    "####Confusion Matrix - Male"
   ]
  },
  {
   "cell_type": "code",
   "execution_count": 42,
   "metadata": {
    "id": "RMZZI4ACp0sX"
   },
   "outputs": [
    {
     "name": "stdout",
     "output_type": "stream",
     "text": [
      "plotting the Confusion Matrix\n",
      "CCR = 0.6215729437662597\n",
      "Precision = 0.6714706491896825\n",
      "Recall = 0.6093971337593926\n",
      "[[2357  244]\n",
      " [1647  749]]\n"
     ]
    },
    {
     "data": {
      "image/png": "[encoded data removed]",
      "text/plain": [
       "<Figure size 432x288 with 2 Axes>"
      ]
     },
     "metadata": {
      "needs_background": "light"
     },
     "output_type": "display_data"
    }
   ],
   "source": [
    "new_scores_male = new_scores[new_scores['sex'] == 'Male']\n",
    "plot_conf_matrix(new_scores_male.two_year_recid, new_scores_male.decile_score, class_names=['Not Recedivate', 'Recedivate'])"
   ]
  },
  {
   "cell_type": "markdown",
   "metadata": {
    "id": "U-T0AKG-qCrQ"
   },
   "source": [
    "Next, we examine the results of running three simple classifiers on the COMPAS data"
   ]
  },
  {
   "cell_type": "markdown",
   "metadata": {
    "id": "vgIqgQvQjkIG"
   },
   "source": [
    "### SVM\n"
   ]
  },
  {
   "cell_type": "code",
   "execution_count": 43,
   "metadata": {
    "id": "aFG5NarwjkIG"
   },
   "outputs": [
    {
     "name": "stdout",
     "output_type": "stream",
     "text": [
      "Accuracy of the SVM on testing set 64.46% \n"
     ]
    }
   ],
   "source": [
    "from sklearn.svm import SVC\n",
    "svm_classifier = SVC(gamma=0.001, C=100.)\n",
    "svm_classifier.fit(dataset_conditioned_train.features, dataset_conditioned_train.labels.ravel())\n",
    "\n",
    "pred = svm_classifier.predict(dataset_conditioned_validate_test.features)\n",
    "\n",
    "print('Accuracy of the SVM on testing set {0:.2f}% '\n",
    "      .format(performance.accuracy_score(dataset_conditioned_validate_test.labels, pred, normalize=True)*100))\n"
   ]
  },
  {
   "cell_type": "markdown",
   "metadata": {
    "id": "a3YuSu4ujkIG"
   },
   "source": [
    "#### Confusion Matrix for African Americans"
   ]
  },
  {
   "cell_type": "code",
   "execution_count": 44,
   "metadata": {
    "id": "WbPuVcIVjkIG"
   },
   "outputs": [
    {
     "name": "stdout",
     "output_type": "stream",
     "text": [
      "plotting the Confusion Matrix\n",
      "CCR = 0.6492146596858639\n",
      "Precision = 0.652818721112203\n",
      "Recall = 0.6473876340406115\n",
      "[[260 208]\n",
      " [127 360]]\n"
     ]
    },
    {
     "data": {
      "image/png": "[encoded data removed]",
      "text/plain": [
       "<Figure size 432x288 with 2 Axes>"
      ]
     },
     "metadata": {
      "needs_background": "light"
     },
     "output_type": "display_data"
    }
   ],
   "source": [
    "african_american_prediction = svm_classifier.predict(african_american_samples)\n",
    "plot_conf_matrix(african_american_samples_label.to_numpy().ravel(), african_american_prediction, class_names=['Not Recidivate', 'Recidivate'] )\n"
   ]
  },
  {
   "cell_type": "markdown",
   "metadata": {
    "id": "mcy34QV4jkIG"
   },
   "source": [
    "#### Confusion Matrix for Caucasians"
   ]
  },
  {
   "cell_type": "code",
   "execution_count": 45,
   "metadata": {
    "id": "yIYPw9WKjkIG"
   },
   "outputs": [
    {
     "name": "stdout",
     "output_type": "stream",
     "text": [
      "plotting the Confusion Matrix\n",
      "CCR = 0.6375198728139905\n",
      "Precision = 0.6256913746342923\n",
      "Recall = 0.6221616853466169\n",
      "[[262 103]\n",
      " [125 139]]\n"
     ]
    },
    {
     "data": {
      "image/png": "[encoded data removed]",
      "text/plain": [
       "<Figure size 432x288 with 2 Axes>"
      ]
     },
     "metadata": {
      "needs_background": "light"
     },
     "output_type": "display_data"
    }
   ],
   "source": [
    "caucasian_prediction = svm_classifier.predict(caucasian_samples)\n",
    "plot_conf_matrix(caucasian_samples_label.to_numpy().ravel(), caucasian_prediction, class_names=['Not Recidivate', 'Recidivate'])\n"
   ]
  },
  {
   "cell_type": "markdown",
   "metadata": {
    "id": "nABuudxc0Gpf"
   },
   "source": [
    "####Confusion Matrix for Females"
   ]
  },
  {
   "cell_type": "code",
   "execution_count": 46,
   "metadata": {
    "id": "r_m68drL0Ppg"
   },
   "outputs": [
    {
     "name": "stdout",
     "output_type": "stream",
     "text": [
      "plotting the Confusion Matrix\n",
      "CCR = 0.6306306306306306\n",
      "Precision = 0.6056083220262325\n",
      "Recall = 0.6100290583523129\n",
      "[[146  68]\n",
      " [ 55  64]]\n"
     ]
    },
    {
     "data": {
      "image/png": "[encoded data removed]",
      "text/plain": [
       "<Figure size 432x288 with 2 Axes>"
      ]
     },
     "metadata": {
      "needs_background": "light"
     },
     "output_type": "display_data"
    }
   ],
   "source": [
    "female_prediction = svm_classifier.predict(female_samples)\n",
    "plot_conf_matrix(female_samples_label.to_numpy().ravel(), female_prediction, class_names=['Not Recidivate', 'Recidivate'])"
   ]
  },
  {
   "cell_type": "markdown",
   "metadata": {
    "id": "TH4CbSF20K7j"
   },
   "source": [
    "####Confusion Matrix for Males"
   ]
  },
  {
   "cell_type": "code",
   "execution_count": 47,
   "metadata": {
    "id": "MuaM3Mve0WPG"
   },
   "outputs": [
    {
     "name": "stdout",
     "output_type": "stream",
     "text": [
      "plotting the Confusion Matrix\n",
      "CCR = 0.64828137490008\n",
      "Precision = 0.6488941914160836\n",
      "Recall = 0.6478612400564405\n",
      "[[376 243]\n",
      " [197 435]]\n"
     ]
    },
    {
     "data": {
      "image/png": "[encoded data removed]",
      "text/plain": [
       "<Figure size 432x288 with 2 Axes>"
      ]
     },
     "metadata": {
      "needs_background": "light"
     },
     "output_type": "display_data"
    }
   ],
   "source": [
    "male_prediction = svm_classifier.predict(male_samples)\n",
    "plot_conf_matrix(male_samples_label.to_numpy().ravel(), male_prediction, class_names=['Not Recidivate', 'Recidivate'])"
   ]
  },
  {
   "cell_type": "markdown",
   "metadata": {
    "id": "iFc1QZGtjkIK"
   },
   "source": [
    "### **Question 3: What biases did the classifier show?**\n",
    "After training and testing this SVM classifier, what did you notice about the results above? How did the confusion matrices from the output of the classifiers compare to those from the COMPAS data? What kinds of biases did both show? Answer these questions in the cell below"
   ]
  },
  {
   "cell_type": "markdown",
   "metadata": {
    "id": "GtQA1g3kjkIK"
   },
   "source": [
    "The conclusion of the data from both SVM and COMPAS shows a strong bias towards african-americans. \n",
    "When it came to Recidivate in both SVM and COMPAS it was significantly higher for african-americans \n",
    "especially men. One thing I did notice is that for the SVM the perdiction scores were much lower compared\n",
    "to the COMPAS scores. \n"
   ]
  },
  {
   "cell_type": "markdown",
   "metadata": {
    "id": "nryVxMw_jkIL"
   },
   "source": [
    "## Building fairer classifiers"
   ]
  },
  {
   "cell_type": "markdown",
   "metadata": {
    "id": "HLQPqbB8jkIL"
   },
   "source": [
    "### **Question 4: How can these classifiers be improved?**\n",
    "What modifications can be made on the above classifiers that would result in fairer outcomes? Write some potential modifications in the cell below"
   ]
  },
  {
   "cell_type": "markdown",
   "metadata": {
    "id": "SNW-kYdYKCI8"
   },
   "source": [
    "Instead of using COMPAS and SVM, to produce a more fairer outcome after looking through aif360 library a more suitable classifier that will suit this data set will be the Meta classifier. This is because the classifier handles these fairness metrics Statistical Rate, False Positive Rate, True Positive Rate, False Negative Rate, True Negative Rate, Accuracy Rate, False Discovery Rate, False Omission Rate, Positive Predictive Rate, Negative Predictive Rate. "
   ]
  },
  {
   "cell_type": "markdown",
   "metadata": {
    "id": "P15azilhjkIQ"
   },
   "source": [
    "###**Question 5 - Implement a Fairer classifier**\n",
    "Using your suggested modifications above, modify one of the simple classifiers in order to produce a fairer model. Implement this model and plot the resulting confusion matrices below"
   ]
  },
  {
   "cell_type": "code",
   "execution_count": 57,
   "metadata": {
    "id": "ocjxkuy-Kxd1"
   },
   "outputs": [
    {
     "name": "stdout",
     "output_type": "stream",
     "text": [
      "               instance weights            features                        \\\n",
      "                                protected attribute                         \n",
      "                                                sex race age_cat=25 to 45   \n",
      "instance names                                                              \n",
      "5681                        1.0                 0.0  0.0              1.0   \n",
      "3830                        1.0                 1.0  0.0              1.0   \n",
      "3863                        1.0                 0.0  1.0              1.0   \n",
      "7312                        1.0                 0.0  1.0              1.0   \n",
      "4186                        1.0                 0.0  1.0              0.0   \n",
      "...                         ...                 ...  ...              ...   \n",
      "1402                        1.0                 0.0  0.0              0.0   \n",
      "6815                        1.0                 0.0  0.0              0.0   \n",
      "2797                        1.0                 0.0  0.0              1.0   \n",
      "1550                        1.0                 0.0  1.0              0.0   \n",
      "5985                        1.0                 0.0  1.0              0.0   \n",
      "\n",
      "                                                                            \\\n",
      "                                                                             \n",
      "               age_cat=Greater than 45 age_cat=Less than 25 priors_count=0   \n",
      "instance names                                                               \n",
      "5681                               0.0                  0.0            0.0   \n",
      "3830                               0.0                  0.0            1.0   \n",
      "3863                               0.0                  0.0            1.0   \n",
      "7312                               0.0                  0.0            0.0   \n",
      "4186                               1.0                  0.0            1.0   \n",
      "...                                ...                  ...            ...   \n",
      "1402                               1.0                  0.0            1.0   \n",
      "6815                               0.0                  1.0            0.0   \n",
      "2797                               0.0                  0.0            1.0   \n",
      "1550                               1.0                  0.0            0.0   \n",
      "5985                               1.0                  0.0            1.0   \n",
      "\n",
      "                                                                               \\\n",
      "                                                                                \n",
      "               priors_count=1 to 3 priors_count=More than 3 c_charge_degree=F   \n",
      "instance names                                                                  \n",
      "5681                           0.0                      1.0               1.0   \n",
      "3830                           0.0                      0.0               0.0   \n",
      "3863                           0.0                      0.0               0.0   \n",
      "7312                           0.0                      1.0               1.0   \n",
      "4186                           0.0                      0.0               1.0   \n",
      "...                            ...                      ...               ...   \n",
      "1402                           0.0                      0.0               0.0   \n",
      "6815                           1.0                      0.0               1.0   \n",
      "2797                           0.0                      0.0               0.0   \n",
      "1550                           1.0                      0.0               1.0   \n",
      "5985                           0.0                      0.0               0.0   \n",
      "\n",
      "                                 labels  \n",
      "                                         \n",
      "               c_charge_degree=M         \n",
      "instance names                           \n",
      "5681                         0.0    0.0  \n",
      "3830                         1.0    1.0  \n",
      "3863                         1.0    1.0  \n",
      "7312                         0.0    0.0  \n",
      "4186                         0.0    1.0  \n",
      "...                          ...    ...  \n",
      "1402                         1.0    1.0  \n",
      "6815                         0.0    0.0  \n",
      "2797                         1.0    1.0  \n",
      "1550                         0.0    1.0  \n",
      "5985                         1.0    1.0  \n",
      "\n",
      "[1584 rows x 12 columns]\n"
     ]
    }
   ],
   "source": [
    "from aif360.algorithms.inprocessing import MetaFairClassifier\n",
    "\n",
    "dataset_conditioned = load_preproc_data_compas()\n",
    "\n",
    "\n",
    "\n",
    "debiased_model= MetaFairClassifier(tau=0, sensitive_attr=\"race\", type=\"fdr\").fit(dataset_conditioned_train)\n",
    "dataset_debiasing_test = debiased_model.predict(dataset_conditioned_validate_test)\n",
    "\n",
    "\n",
    "print(dataset_debiasing_test)\n",
    "\n"
   ]
  },
  {
   "cell_type": "markdown",
   "metadata": {
    "id": "KtdSHHFrXhn3"
   },
   "source": [
    "###**Extra Credit: Implement a deep learning based model**\n",
    "For extra credit, implement a fair deep learning based model in the cell below and measure its performance using confusion matrices (you can add extra cells if needed). How did its results compare to those of the fair SVM classifier? Write a one-sentence analysis of the results\n"
   ]
  },
  {
   "cell_type": "code",
   "execution_count": null,
   "metadata": {
    "id": "5wSCclGVX9u9"
   },
   "outputs": [],
   "source": []
  },
  {
   "cell_type": "markdown",
   "metadata": {
    "id": "U3k15hGGFwea"
   },
   "source": []
  }
 ],
 "metadata": {
  "colab": {
   "name": "Homework 1.ipynb",
   "provenance": [],
   "toc_visible": true
  },
  "kernelspec": {
   "display_name": "Python 3",
   "language": "python",
   "name": "python3"
  },
  "language_info": {
   "codemirror_mode": {
    "name": "ipython",
    "version": 3
   },
   "file_extension": ".py",
   "mimetype": "text/x-python",
   "name": "python",
   "nbconvert_exporter": "python",
   "pygments_lexer": "ipython3",
   "version": "3.8.3"
  },
  "latex_envs": {
   "LaTeX_envs_menu_present": true,
   "autoclose": false,
   "autocomplete": true,
   "bibliofile": "biblio.bib",
   "cite_by": "apalike",
   "current_citInitial": 1,
   "eqLabelWithNumbers": true,
   "eqNumInitial": 1,
   "hotkeys": {
    "equation": "Ctrl-E",
    "itemize": "Ctrl-I"
   },
   "labels_anchors": false,
   "latex_user_defs": false,
   "report_style_numbering": false,
   "user_envs_cfg": false
  },
  "toc": {
   "base_numbering": 1,
   "nav_menu": {},
   "number_sections": true,
   "sideBar": true,
   "skip_h1_title": false,
   "title_cell": "Table of Contents",
   "title_sidebar": "Contents",
   "toc_cell": false,
   "toc_position": {
    "height": "calc(100% - 180px)",
    "left": "10px",
    "top": "150px",
    "width": "427px"
   },
   "toc_section_display": true,
   "toc_window_display": true
  }
 },
 "nbformat": 4,
 "nbformat_minor": 1
}
